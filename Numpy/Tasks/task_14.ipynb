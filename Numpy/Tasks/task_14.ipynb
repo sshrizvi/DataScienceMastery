{
  "cells": [
    {
      "cell_type": "markdown",
      "metadata": {},
      "source": [
        "# **Task 14 - (Article 86 to 91)** [![Static Badge](https://img.shields.io/badge/Open%20in%20Colab%20-%20orange?style=plastic&logo=googlecolab&labelColor=grey)](https://colab.research.google.com/github/sshrizvi/DS-Python/blob/main/Numpy/Tasks/task_14.ipynb)\n",
        "\n",
        "|🔴 **WARNING** 🔴|\n",
        "|:-----------:|\n",
        "|If you have not studied article 86 to 91. Do checkout the articles before attempting the task.|\n",
        "| Here is [Article 86 - NumPy V/S Lists](../Articles/86_numpy_vs_lists.md) |"
      ]
    },
    {
      "cell_type": "markdown",
      "metadata": {},
      "source": [
        "### 📦 **Importing NumPy Library**"
      ]
    },
    {
      "cell_type": "code",
      "execution_count": 2,
      "metadata": {},
      "outputs": [],
      "source": [
        "import numpy as np"
      ]
    },
    {
      "cell_type": "markdown",
      "metadata": {},
      "source": [
        "### 📦 **Importing Matplotlib Library**"
      ]
    },
    {
      "cell_type": "code",
      "execution_count": 20,
      "metadata": {},
      "outputs": [],
      "source": [
        "import matplotlib.pyplot as plt"
      ]
    },
    {
      "cell_type": "markdown",
      "metadata": {
        "id": "1uamk9vAix0o"
      },
      "source": [
        "### 🎯 **Q1: Find the Nearest Element in an Array to a Given Integer**\n",
        "\n",
        "1. **Problem Statement**:  \n",
        "   Write a program to find the element in an array that is nearest to a given integer.  \n",
        "\n",
        "2. **Inputs**:\n",
        "   - An **integer value** (e.g., `a = 23`).\n",
        "   - A **1D array** of numbers (e.g., `array = [10, 17, 24, 31, 38, 45, 52, 59]`).\n",
        "\n",
        "3. **Task**:\n",
        "   - Determine the element from the array that is closest to the given integer.\n",
        "   - The nearest element is the one with the smallest absolute difference from the given integer.\n",
        "\n",
        "4. **Output Format**:\n",
        "   - Output the element from the array that is closest to the given integer.\n",
        "\n",
        "5. **Example**:\n",
        "\n",
        "   - **Example 1**:  \n",
        "     - Input:  \n",
        "       ```python\n",
        "       a = 23  \n",
        "       array = [10, 17, 24, 31, 38, 45, 52, 59]\n",
        "       ```\n",
        "     - Output:  \n",
        "       `Nearest element is 24`\n",
        "\n",
        "   - **Example 2**:  \n",
        "     - Input:  \n",
        "       ```bash\n",
        "       a = 20  \n",
        "       array = [1, 5, 15, 25, 30, 40]\n",
        "       ```\n",
        "     - Output:  \n",
        "       `Nearest element is 15`\n",
        "\n",
        "6. **Additional Notes**:\n",
        "   - If two elements are equidistant to the given integer, return any one of them (or specify how to handle such cases).  \n",
        "   - Utilize built-in NumPy functions to find the solution efficiently. (HINT : `argmin()` function)"
      ]
    },
    {
      "cell_type": "code",
      "execution_count": 8,
      "metadata": {
        "id": "ddkpbpR6iySZ"
      },
      "outputs": [
        {
          "name": "stdout",
          "output_type": "stream",
          "text": [
            "Nearest element is 15\n"
          ]
        }
      ],
      "source": [
        "# Solution - Question 01\n",
        "\n",
        "def nearest_element(array, num):\n",
        "    abs_diff = np.abs(array - num)\n",
        "    return array[np.argmin(abs_diff)]\n",
        "\n",
        "a = 20\n",
        "array = np.array([1, 5, 15, 25, 30, 40])\n",
        "print(f'Nearest element is {nearest_element(array, a)}')"
      ]
    },
    {
      "cell_type": "markdown",
      "metadata": {
        "id": "Y1QkHyPpizyp"
      },
      "source": [
        "### 🎯 **Q2: Replace Multiples of 3 or 5 with 0 in a Given Array**\n",
        "\n",
        "1. **Problem Statement**:  \n",
        "   Write a program to replace all elements in a given array that are multiples of 3 or 5 with the value `0`.\n",
        "\n",
        "2. **Inputs**:  \n",
        "   - A **1D array** of integers (e.g., `arr = [1, 2, 3, 4, 5, 6, 7, 9]`).\n",
        "\n",
        "3. **Task**:\n",
        "   - Identify all elements in the array that are divisible by either 3 or 5.\n",
        "   - Replace these identified elements with the value `0`.\n",
        "\n",
        "4. **Output Format**:  \n",
        "   - Output a new array where all multiples of 3 or 5 are replaced with `0`.\n",
        "\n",
        "5. **Example**:\n",
        "\n",
        "   - **Example 1**:  \n",
        "     - Input:  \n",
        "       ```bash\n",
        "       arr = [1, 2, 3, 4, 5, 6, 7, 9]\n",
        "       ```\n",
        "     - Output:  \n",
        "       `[1, 2, 0, 4, 0, 0, 7, 0]`\n",
        "\n",
        "   - **Example 2**:  \n",
        "     - Input:  \n",
        "       ```bash\n",
        "       arr = [10, 12, 15, 22, 25, 30]\n",
        "       ```\n",
        "     - Output:  \n",
        "       `[0, 0, 0, 22, 0, 0]`\n",
        "\n",
        "6. **Additional Notes**:\n",
        "   - Use vectorized operations in NumPy to handle the replacement efficiently.  \n",
        "   - Ensure the solution works for arrays with both positive and negative integers."
      ]
    },
    {
      "cell_type": "code",
      "execution_count": 30,
      "metadata": {
        "id": "JjtxMlhWi25l"
      },
      "outputs": [
        {
          "data": {
            "text/plain": [
              "array([1, 2, 0, 4, 0, 0, 7, 0])"
            ]
          },
          "execution_count": 30,
          "metadata": {},
          "output_type": "execute_result"
        }
      ],
      "source": [
        "# Solution - Question 02\n",
        "\n",
        "def replace_multiples(arr):\n",
        "    mask = (arr % 3 == 0) | (arr % 5 == 0)\n",
        "    arr[mask] = 0\n",
        "    return arr\n",
        "\n",
        "\n",
        "arr = np.array([1, 2, 3, 4, 5, 6, 7, 9])\n",
        "replace_multiples(arr)"
      ]
    },
    {
      "cell_type": "markdown",
      "metadata": {
        "id": "Pi_dZSwTi4OI"
      },
      "source": [
        "### 🎯 **Q3: Use Fancy Indexing in NumPy**\n",
        "\n",
        "- *Part 1: Double the Array Elements at Given Indexes*  \n",
        "\n",
        "   1. **Problem Statement**:  \n",
        "      Write a program to double the values of an array at specific indexes using fancy indexing.\n",
        "\n",
        "   2. **Inputs**:  \n",
        "      - A **1D array** (e.g., `arr = np.arange(10)`).  \n",
        "      - A list of **indexes** where the values should be doubled (e.g., `indexes = [0, 3, 4, 9]`).\n",
        "\n",
        "   3. **Output**:  \n",
        "      - A new array with the values at the specified indexes doubled.\n",
        "\n",
        "   4. **Example**:\n",
        "      - Input:  \n",
        "        ```python\n",
        "        arr = np.arange(10)\n",
        "        indexes = [0, 3, 4, 9]\n",
        "        ```\n",
        "      - Output:  \n",
        "        `[ 0,  1,  2,  6,  8,  5,  6,  7,  8, 18]`\n",
        "\n",
        "-  *Part 2: Create a Repeated Pattern Array*  \n",
        "\n",
        "    1. **Problem Statement**:  \n",
        "       Write a program to create a new array by repeating each element in a given array a number of times equal to the length of the array.\n",
        "\n",
        "    2. **Inputs**:  \n",
        "       - A **1D array** of integers (e.g., `array = [1, 2, 3]`).\n",
        "\n",
        "    3. **Output**:  \n",
        "       - A new array where each element of the original array is repeated internally, as many times as the length of the array.\n",
        "\n",
        "    4. **Example**:\n",
        "       - Input:  \n",
        "         ```bash\n",
        "         array = [1, 2, 3]\n",
        "         ```\n",
        "       - Output:  \n",
        "         `[1, 1, 1, 2, 2, 2, 3, 3, 3]`\n",
        "\n",
        "**Additional Notes**:\n",
        "- Utilize **fancy indexing** to efficiently achieve the results in both parts.  \n",
        "- Ensure that the solution works for arrays of any size.  \n",
        "- Hint: NumPy provides powerful tools like indexing with arrays and broadcasting to manipulate arrays efficiently."
      ]
    },
    {
      "cell_type": "code",
      "execution_count": 42,
      "metadata": {
        "id": "SHYuyuovi66N"
      },
      "outputs": [
        {
          "data": {
            "text/plain": [
              "array([1, 1, 1, 2, 2, 2, 3, 3, 3])"
            ]
          },
          "execution_count": 42,
          "metadata": {},
          "output_type": "execute_result"
        }
      ],
      "source": [
        "# Solution - Question 03\n",
        "\n",
        "def double_elements(arr, indexes):\n",
        "    arr[indexes] *= 2\n",
        "\n",
        "def repeat_elements(arr):\n",
        "    l = arr.size\n",
        "    indexes = [i for i in range(l)] * l\n",
        "    list.sort(indexes)\n",
        "    return arr[indexes]    \n",
        "    \n",
        "arr1 = np.arange(10)\n",
        "indexes = [0, 3, 4, 9]\n",
        "double_elements(arr1, indexes)\n",
        "arr2 = np.array([1, 2, 3])\n",
        "repeat_elements(arr2)"
      ]
    },
    {
      "cell_type": "markdown",
      "metadata": {
        "id": "UDehG0tFi89i"
      },
      "source": [
        "### 🎯 **Q4: Fill NaN Values with the Most Common Element**\n",
        "\n",
        "1. **Problem Statement**:  \n",
        "    You are given a 2D NumPy array that contains some `NaN` (Not a Number) values. Your task is to replace all the `NaN` values in the array with the most common element (mode) of the array.\n",
        "\n",
        "2. **Inputs**:  \n",
        "   - A **2D NumPy array** containing both numeric values and `NaN` values.  \n",
        "     Example:  \n",
        "     ```python\n",
        "     arr = np.array([[1, 2, np.nan], \n",
        "                     [4, 2, 6], \n",
        "                     [np.nan, np.nan, 5]])\n",
        "     ```\n",
        "\n",
        "3. **Output**:  \n",
        "   - A **modified 2D NumPy array**, where all `NaN` values are replaced by the most common element in the original array.  \n",
        "     Example Output for the given input:  \n",
        "     ```python\n",
        "     [[1, 2, 2],\n",
        "      [4, 2, 6],\n",
        "      [2, 2, 5]]\n",
        "     ```\n",
        "\n",
        "4. **Requirements**:  \n",
        "   1. **Handle NaN values**: Identify and replace all occurrences of `NaN` in the array.  \n",
        "   2. **Find the mode**: Determine the most common element in the array (ignoring `NaN` values).  \n",
        "   3. **Replace efficiently**: Use NumPy functions to perform the replacement efficiently without looping manually over elements.\n",
        "\n",
        "5. **Constraints**:  \n",
        "   - If there are multiple elements with the same frequency (multiple modes), choose the smallest value among them.  \n",
        "   - Assume that the array will always contain at least one non-NaN value.  \n",
        "\n",
        "6. **Hint**:  \n",
        "   - NumPy provides tools to identify `NaN` values (`np.isnan`) and to calculate statistical properties like the mode.  \n",
        "   - Use boolean indexing to handle NaN replacements efficiently."
      ]
    },
    {
      "cell_type": "code",
      "execution_count": 62,
      "metadata": {
        "id": "YH13A6w9jEyu"
      },
      "outputs": [
        {
          "data": {
            "text/plain": [
              "array([[1., 2., 2.],\n",
              "       [4., 2., 6.],\n",
              "       [2., 2., 5.]])"
            ]
          },
          "execution_count": 62,
          "metadata": {},
          "output_type": "execute_result"
        }
      ],
      "source": [
        "# Solution - Question 04\n",
        "\n",
        "from scipy import stats\n",
        "\n",
        "def fillnan(arr):\n",
        "    mode_result = stats.mode(arr)\n",
        "    mode_array = mode_result.mode\n",
        "    count_array = mode_result.count\n",
        "    max_index = np.argmax(count_array)\n",
        "    mode = mode_array[max_index]\n",
        "    \n",
        "    arr[np.isnan(arr)] = mode\n",
        "    \n",
        "    return arr\n",
        "    \n",
        "arr = np.array([[1, 2, np.nan], \n",
        "                [4, 2, 6], \n",
        "                [np.nan, np.nan, 5]])\n",
        "fillnan(arr)"
      ]
    },
    {
      "cell_type": "markdown",
      "metadata": {
        "id": "Tk2JnioUjJ_t"
      },
      "source": [
        "### 🎯 **Q5: Identify and Replace Missing Data in an Array**\n",
        "\n",
        "1. **Problem Statement**:  \n",
        "   You are given a 2D NumPy array containing some `NaN` (Not a Number) values. Perform the following tasks:  \n",
        "   1. Identify the missing data (`NaN`) and return a **boolean matrix** where `True` indicates the presence of `NaN`.  \n",
        "   2. Replace all the missing values (`NaN`) in the array with `0`.\n",
        "\n",
        "2. **Inputs**:  \n",
        "   - A **2D NumPy array** containing numeric values and `NaN` values.  \n",
        "     Example:  \n",
        "     ```python\n",
        "     arr = np.array([[3, 2, np.nan, 1], \n",
        "                     [10, 12, 10, 9], \n",
        "                     [5, np.nan, 1, np.nan]])\n",
        "     ```\n",
        "\n",
        "3. **Outputs**:  \n",
        "   1. A **boolean matrix** showing where the `NaN` values are located.  \n",
        "      Example Output for the given input:  \n",
        "      ```python\n",
        "      [[False False  True False]\n",
        "       [False False False False]\n",
        "       [False  True False  True]]\n",
        "      ```\n",
        "\n",
        "   2. A **modified 2D array** where all `NaN` values are replaced with `0`.  \n",
        "      Example Output for the given input:  \n",
        "      ```python\n",
        "      [[ 3.  2.  0.  1.]\n",
        "       [10. 12. 10.  9.]\n",
        "       [ 5.  0.  1.  0.]]\n",
        "      ```\n",
        "\n",
        "4. **Requirements**:  \n",
        "   1. **Identify missing data**: Use NumPy functions to check for `NaN` values in the array and return a boolean matrix.  \n",
        "   2. **Replace missing data**: Replace all occurrences of `NaN` in the array with `0` efficiently.  \n",
        "   3. **Utilize built-in methods**: You can use NumPy's `np.nan_to_num()` function for replacing `NaN` values.\n",
        "\n",
        "5. **Constraints**:  \n",
        "   - Assume the array contains a mix of numeric values and `NaN`.  \n",
        "   - The shape of the array can vary but will always be 2D.  \n",
        "\n",
        "6. **Hint**:  \n",
        "   - Use `np.isnan()` to detect `NaN` values and create the boolean matrix.  \n",
        "   - Use `np.nan_to_num()` to fill `NaN` values with zero efficiently.  "
      ]
    },
    {
      "cell_type": "code",
      "execution_count": 67,
      "metadata": {
        "id": "nPEBTQJ_jJZe"
      },
      "outputs": [
        {
          "name": "stdout",
          "output_type": "stream",
          "text": [
            "[[False False  True False]\n",
            " [False False False False]\n",
            " [False  True False  True]]\n",
            "[[ 3.  2.  0.  1.]\n",
            " [10. 12. 10.  9.]\n",
            " [ 5.  0.  1.  0.]]\n"
          ]
        }
      ],
      "source": [
        "# Solution - Question 05\n",
        "\n",
        "def check_nans(arr):\n",
        "    mask = np.isnan(arr)\n",
        "    return mask\n",
        "\n",
        "def replace_nans(arr):\n",
        "    return np.nan_to_num(x=arr, nan=0.0)\n",
        "\n",
        "arr = np.array([[3, 2, np.nan, 1], \n",
        "                [10, 12, 10, 9], \n",
        "                [5, np.nan, 1, np.nan]])\n",
        "\n",
        "print(check_nans(arr))\n",
        "print(replace_nans(arr))"
      ]
    },
    {
      "cell_type": "markdown",
      "metadata": {
        "id": "FFUnZtG7jNBH"
      },
      "source": [
        "### 🎯 **Q6: Construct the Cauchy Matrix from Two Arrays**\n",
        "\n",
        "1. **Problem Statement**:  \n",
        "  You are given two 1D NumPy arrays, **X** and **Y**. Construct a **Cauchy matrix** $ C $ using the formula:  \n",
        "\n",
        "  $$\n",
        "  C_{ij} = \\frac{1}{x_i - y_j}\n",
        "  $$\n",
        "\n",
        "2. **Inputs**:  \n",
        "   - Two 1D NumPy arrays **X** and **Y**:  \n",
        "     Example:  \n",
        "     ```python\n",
        "     x = np.array([1, 2, 3, 4]).reshape((-1, 1))  \n",
        "     y = np.array([5, 6, 7])\n",
        "     ```\n",
        "\n",
        "3. **Outputs**:  \n",
        "   - A **Cauchy matrix** $ C $ of shape $ (len(X), len(Y)) $, where each element is calculated as per the formula.  \n",
        "     Example Output:  \n",
        "     ```python\n",
        "     [[-0.25  -0.2   -0.16666667]\n",
        "      [-0.33333333 -0.25 -0.2]\n",
        "      [-0.5  -0.33333333 -0.25]\n",
        "      [-1.   -0.5  -0.33333333]]\n",
        "     ```\n",
        "\n",
        "4. **Requirements**:  \n",
        "   1. Compute the matrix $ C $ where each element $ C_{ij} $ is calculated using the formula $ \\frac{1}{x_i - y_j} $.  \n",
        "   2. Use **NumPy broadcasting** to perform efficient computations.  \n",
        "   3. Ensure that the shape of the resulting matrix $ C $ is $ (len(X), len(Y)) $.  \n",
        "\n",
        "5. **Constraints**:  \n",
        "   - $ x_i \\neq y_j $ to avoid division by zero.  \n",
        "   - Input arrays $ X $ and $ Y $ can have different lengths but must be valid 1D arrays.  \n",
        "\n",
        "6. **Hint**:  \n",
        "   - Use **NumPy operations** to subtract one array from another while maintaining the dimensions required for broadcasting.  "
      ]
    },
    {
      "cell_type": "code",
      "execution_count": 6,
      "metadata": {
        "id": "pQXHa38TjVEh"
      },
      "outputs": [
        {
          "data": {
            "text/plain": [
              "array([[-0.25      , -0.2       , -0.16666667],\n",
              "       [-0.33333333, -0.25      , -0.2       ],\n",
              "       [-0.5       , -0.33333333, -0.25      ],\n",
              "       [-1.        , -0.5       , -0.33333333]])"
            ]
          },
          "execution_count": 6,
          "metadata": {},
          "output_type": "execute_result"
        }
      ],
      "source": [
        "# Solution - Question 06\n",
        "\n",
        "def cauchy_matrix(x, y):\n",
        "    return 1 / (x - y)\n",
        "\n",
        "x = np.array([1, 2, 3, 4]).reshape((-1, 1))\n",
        "y = np.array([5, 6, 7])\n",
        "cauchy_matrix(x, y)"
      ]
    },
    {
      "cell_type": "markdown",
      "metadata": {
        "id": "EbkHZCF1jWNc"
      },
      "source": [
        "### 🎯 **Q7: Plot the Tanh Activation Function**\n",
        "\n",
        "1. **Problem Statement**:  \n",
        "   Plot the graph of the equation:  \n",
        "   $$\n",
        "   y = \\frac{e^x - e^{-x}}{e^x + e^{-x}}\n",
        "   $$  \n",
        "   This equation represents the **tanh activation function**, which is commonly used in deep learning. Explore and note differences between this function and the sigmoid function.\n",
        "\n",
        "2. **Inputs**:  \n",
        "   - A **range of $ x $** values for which the tanh function will be computed and plotted (e.g., $ x $ from -10 to 10).\n",
        "\n",
        "3. **Task**:  \n",
        "   - Compute the tanh values for the specified range of $ x $ values.  \n",
        "   - Plot these values using a graphing library like Matplotlib.  \n",
        "\n",
        "4. **Output Format**:  \n",
        "   - A **graph** of the tanh function showcasing its behavior over the input range.  \n",
        "   - Observations comparing the tanh function with the sigmoid function, including similarities and differences.\n",
        "\n",
        "5. **Example**:  \n",
        "   - **Input**:  \n",
        "     ```bash\n",
        "     x = np.linspace(-10, 10, 100)\n",
        "     ```  \n",
        "   - **Output**:  \n",
        "     A plot where:  \n",
        "     - The x-axis represents the input values.  \n",
        "     - The y-axis represents the tanh function values.  \n",
        "\n",
        "6. **Additional Notes**:  \n",
        "   - Ensure the plot has proper labels, a title, and a legend.  \n",
        "   - Include observations about how the tanh function differs from the sigmoid function (e.g., its range, symmetry, and behavior at large positive and negative inputs).  "
      ]
    },
    {
      "cell_type": "code",
      "execution_count": 22,
      "metadata": {
        "id": "n6OcN--FjbLC"
      },
      "outputs": [
        {
          "data": {
            "image/png": "[encoded data removed]",
            "text/plain": [
              "<Figure size 640x480 with 1 Axes>"
            ]
          },
          "metadata": {},
          "output_type": "display_data"
        }
      ],
      "source": [
        "# Solution - Question 07\n",
        "\n",
        "x = np.linspace(-10, 10, 100)\n",
        "y = (np.exp(x) - np.exp(-x)) / (np.exp(x) + np.exp(-x))\n",
        "\n",
        "plt.plot(x, y, label=r'$y = \\frac{e^x - e^{-x}}{e^x + e^{-x}}$')\n",
        "plt.title(label='Plot of Hyperbolic Tangent Function')\n",
        "plt.xlabel(xlabel='X')\n",
        "plt.ylabel(ylabel='Y')\n",
        "plt.legend()\n",
        "plt.grid()\n",
        "plt.show()"
      ]
    },
    {
      "cell_type": "markdown",
      "metadata": {
        "id": "xujS-pu4jciH"
      },
      "source": [
        "### 🎯 **Q8: Plot the Given Equation**  \n",
        "\n",
        "1. **Problem Statement**:  \n",
        "   Plot the graph of the equation:  \n",
        "   $$\n",
        "   y = \\sqrt{36 - (x - 4)^2} + 2\n",
        "   $$  \n",
        "   for $x \\in [-2, 10]$.\n",
        "\n",
        "2. **Inputs**:  \n",
        "   - A **range of $x$** values between -2 and 10.  \n",
        "\n",
        "3. **Task**:  \n",
        "   - Evaluate the equation for the given range of $x$ values.  \n",
        "   - Plot the function using a suitable graphing library, such as Matplotlib.  \n",
        "\n",
        "4. **Output Format**:  \n",
        "   - A **graph** of the given equation where:  \n",
        "     - The x-axis represents the input $x$ values.  \n",
        "     - The y-axis represents the computed $y$ values.  \n",
        "\n",
        "5. **Example**:  \n",
        "   - **Input**:  \n",
        "     ```bash\n",
        "     x = np.linspace(-2, 10, 100)\n",
        "     ```  \n",
        "   - **Output**:  \n",
        "     A plot showing the curve defined by the equation over the specified range of $x$.  \n",
        "\n",
        "6. **Additional Notes**:  \n",
        "   - Handle potential mathematical restrictions (e.g., ensure $36 - (x - 4)^2 \\geq 0$).  \n",
        "   - The plot should include appropriate labels, a title, and grid lines for clarity.  \n",
        "   - Highlight the key characteristics of the curve, such as symmetry or limits.  "
      ]
    },
    {
      "cell_type": "code",
      "execution_count": 30,
      "metadata": {
        "id": "7CagwKP_jhIQ"
      },
      "outputs": [
        {
          "data": {
            "image/png": "[encoded data removed]",
            "text/plain": [
              "<Figure size 640x480 with 1 Axes>"
            ]
          },
          "metadata": {},
          "output_type": "display_data"
        }
      ],
      "source": [
        "# Solution - Question 08\n",
        "\n",
        "x = np.linspace(-2, 10, 100)\n",
        "y = np.sqrt(36 - (x - 4)**2) + 2\n",
        "\n",
        "plt.plot(x, y, label=r'$y = \\sqrt{36 - (x - 4)^2} + 2$', color='green')\n",
        "plt.title(r'Plot of $y = \\sqrt{36 - (x - 4)^2} + 2$')\n",
        "plt.xlabel('X')\n",
        "plt.ylabel('Y')\n",
        "plt.grid()\n",
        "plt.legend()\n",
        "plt.show()"
      ]
    },
    {
      "cell_type": "markdown",
      "metadata": {
        "id": "Jf14pxCfjiX1"
      },
      "source": [
        "### 🎯 **Q9: Implement Broadcasting Rule to Check Compatibility of Two Arrays**  \n",
        "\n",
        "1. **Problem Statement**:  \n",
        "   Write a program to determine if two arrays can be added together based on NumPy's broadcasting rules.  \n",
        "\n",
        "2. **Inputs**:  \n",
        "   - **Shape of array `a`**: Tuple representing the dimensions of the first array (e.g., `(3, 2, 2)`).  \n",
        "   - **Shape of array `b`**: Tuple representing the dimensions of the second array (e.g., `(2, 2)`).  \n",
        "\n",
        "3. **Task**:  \n",
        "   - Check whether the two given shapes are compatible for broadcasting.  \n",
        "   - Return `True` if broadcasting is possible; otherwise, return `False`.  \n",
        "\n",
        "4. **Output Format**:  \n",
        "   - A **Boolean value**:  \n",
        "     - `True` if the arrays can be broadcasted.  \n",
        "     - `False` if the arrays cannot be broadcasted.  \n",
        "\n",
        "5. **Example**:  \n",
        "\n",
        "   - **Example 1**:  \n",
        "     - Input:  \n",
        "       ```bash\n",
        "       shape of a = (3, 2, 2)\n",
        "       shape of b = (2, 2)\n",
        "       ```  \n",
        "     - Output:  \n",
        "       `True`  \n",
        "\n",
        "   - **Example 2**:  \n",
        "     - Input:  \n",
        "       ```bash\n",
        "       shape of a = (3, 2, 2)\n",
        "       shape of b = (2, 3)\n",
        "       ```  \n",
        "     - Output:  \n",
        "       `False`  \n",
        "\n",
        "6. **Additional Notes**:  \n",
        "   - Broadcasting rules allow two arrays to be compatible if their shapes are aligned from the rightmost dimension, and:  \n",
        "     - Dimensions are either equal, or  \n",
        "     - One of the dimensions is `1`.  \n",
        "   - The program should work for shapes with varying lengths. Fill shorter shapes with leading `1`s for comparison.  "
      ]
    },
    {
      "cell_type": "code",
      "execution_count": 36,
      "metadata": {
        "id": "qSKGG0Yajlc8"
      },
      "outputs": [
        {
          "data": {
            "text/plain": [
              "False"
            ]
          },
          "execution_count": 36,
          "metadata": {},
          "output_type": "execute_result"
        }
      ],
      "source": [
        "# Solution - Question 09\n",
        "\n",
        "def check_broadcast(a, b):\n",
        "    length_a = len(a)\n",
        "    length_b = len(b)\n",
        "    i = -1\n",
        "    while(i >= (-(min(length_a, length_b)))):\n",
        "        if a[i] != b[i]:\n",
        "            if a[i] != 1 and b[i] != 1:\n",
        "                return False\n",
        "        i -= 1\n",
        "    return True\n",
        "\n",
        "a = (3, 2, 2)\n",
        "b = (2, 3)\n",
        "check_broadcast(a, b)"
      ]
    }
  ],
  "metadata": {
    "colab": {
      "provenance": []
    },
    "kernelspec": {
      "display_name": "Python 3",
      "name": "python3"
    },
    "language_info": {
      "codemirror_mode": {
        "name": "ipython",
        "version": 3
      },
      "file_extension": ".py",
      "mimetype": "text/x-python",
      "name": "python",
      "nbconvert_exporter": "python",
      "pygments_lexer": "ipython3",
      "version": "3.12.5"
    }
  },
  "nbformat": 4,
  "nbformat_minor": 0
}
