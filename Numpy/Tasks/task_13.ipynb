{
  "cells": [
    {
      "cell_type": "markdown",
      "metadata": {},
      "source": [
        "# **Task 13 - (Article 80 to 85)** [![Static Badge](https://img.shields.io/badge/Open%20in%20Colab%20-%20orange?style=plastic&logo=googlecolab&labelColor=grey)](https://colab.research.google.com/github/sshrizvi/DS-Python/blob/main/Numpy/Tasks/task_13.ipynb)\n",
        "\n",
        "|🔴 **WARNING** 🔴|\n",
        "|:-----------:|\n",
        "|If you have not studied article 80 to 85. Do checkout the articles before attempting the task.|\n",
        "| Here is [Article 80 - NumPy - An Introduction](../Articles/80_numpy.md) |"
      ]
    },
    {
      "cell_type": "markdown",
      "metadata": {
        "id": "6WdKdPGx-tnY"
      },
      "source": [
        "**Note** : In Data Science googling is a very important skill. If you find some difficulties to solve the problem, google it and try to find some clues to solve."
      ]
    },
    {
      "cell_type": "markdown",
      "metadata": {},
      "source": [
        "### 📦 **Importing NumPy Library**"
      ]
    },
    {
      "cell_type": "code",
      "execution_count": 2,
      "metadata": {
        "id": "-J4F1ysN4mLk"
      },
      "outputs": [],
      "source": [
        "import numpy as np"
      ]
    },
    {
      "cell_type": "markdown",
      "metadata": {
        "id": "a_K8IH-C6HDK"
      },
      "source": [
        "### 🎯 **Q1: Create a Null Vector with a Specific Value at the Fifth Position**\n",
        "\n",
        "1. **Problem Statement**:  \n",
        "   You are tasked with creating a NumPy array (vector) of size 10, where all elements are initialized to zero, except for the fifth element which should be set to 1.\n",
        "\n",
        "2. **Input Format**:\n",
        "   - No specific input is required from the user. You need to initialize the vector directly.\n",
        "\n",
        "3. **Output Format**:\n",
        "   - The output should be a NumPy array of size 10, where:\n",
        "     - The first 4 elements are `0`.\n",
        "     - The fifth element is `1`.\n",
        "     - The remaining elements (6th to 10th) are `0`.\n",
        "\n",
        "4. **Example**:\n",
        "\n",
        "   - **Example 1**:\n",
        "     Output:\n",
        "     ```bash\n",
        "     [0. 0. 0. 0. 1. 0. 0. 0. 0. 0.]\n",
        "     ```\n",
        "\n",
        "   - In this case, the array contains 10 elements, with the fifth element being `1`, and the rest are zeros."
      ]
    },
    {
      "cell_type": "code",
      "execution_count": 2,
      "metadata": {
        "id": "sTF03KsZ6QUI"
      },
      "outputs": [
        {
          "name": "stdout",
          "output_type": "stream",
          "text": [
            "[0. 0. 0. 0. 1. 0. 0. 0. 0. 0.]\n"
          ]
        }
      ],
      "source": [
        "# Solution - Question 01\n",
        "\n",
        "null_vector = np.zeros(10)\n",
        "null_vector[4] = 1\n",
        "\n",
        "print(null_vector)"
      ]
    },
    {
      "cell_type": "markdown",
      "metadata": {
        "id": "TEiG25rS6S1i"
      },
      "source": [
        "### 🎯 **Q2: Generate a Random Array and Compute Its Average**\n",
        "\n",
        "1. **Problem Statement**:  \n",
        "   Write a program that:\n",
        "   - Asks the user to input two integers `a` and `b`.\n",
        "   - Generates a random NumPy array of shape `(a, b)`, where `a` is the number of rows and `b` is the number of columns.\n",
        "   - Prints the generated array.\n",
        "   - Computes and prints the average of all the elements in the array.\n",
        "\n",
        "2. **Input Format**:\n",
        "   - The program should ask the user to input two integers, `a` (number of rows) and `b` (number of columns).\n",
        "\n",
        "3. **Output Format**:\n",
        "   - The output should display:\n",
        "     - The generated random array of shape `(a, b)`.\n",
        "     - The average of all the elements in the array.\n",
        "\n",
        "4. **Example**:\n",
        "\n",
        "   - **Example 1**:\n",
        "     - Input:\n",
        "       ```bash\n",
        "       a = 3\n",
        "       b = 4\n",
        "       ```\n",
        "     - Output:\n",
        "       ```bash\n",
        "       Array:\n",
        "       [[0.22741378 0.6091361  0.9464184  0.3823055 ]\n",
        "        [0.72340594 0.37607643 0.34828162 0.14423899]\n",
        "        [0.10271749 0.25435264 0.28998455 0.05816926]]\n",
        "\n",
        "       Average: 0.3821461494171348\n",
        "       ```\n",
        "\n",
        "   - In this case, the program generates a 3x4 array with random values, and then computes and prints the average of all elements in the array."
      ]
    },
    {
      "cell_type": "code",
      "execution_count": 5,
      "metadata": {
        "id": "ihwn4oOH6Vh7"
      },
      "outputs": [
        {
          "name": "stdout",
          "output_type": "stream",
          "text": [
            "[[0.09233823 0.18293797 0.10792227]\n",
            " [0.30645031 0.55564392 0.92525521]\n",
            " [0.97200382 0.31608908 0.1896433 ]\n",
            " [0.82446563 0.08633677 0.5511754 ]\n",
            " [0.70842485 0.88685931 0.79185046]]\n",
            "Average of Array is 0.4998264357818635\n"
          ]
        }
      ],
      "source": [
        "# Solution - Question 02\n",
        "\n",
        "a = int(input('Enter value of a : '))\n",
        "b = int(input('Enter value of b : '))\n",
        "\n",
        "array = np.random.random((a,b))\n",
        "average_of_array = np.mean(array)\n",
        "\n",
        "print(array)\n",
        "print(f'Average of Array is {average_of_array}')"
      ]
    },
    {
      "cell_type": "markdown",
      "metadata": {
        "id": "2iEeybS06ZSq"
      },
      "source": [
        "### 🎯 **Q3: Create a 2D Matrix with Border of 1's and Inner Elements as 0's**\n",
        "\n",
        "1. **Problem Statement**:  \n",
        "   Write a function that:\n",
        "   - Accepts two integers `a` and `b` as parameters, which represent the number of rows (`a`) and columns (`b`) for a 2D matrix.\n",
        "   - The function should generate a 2D array (matrix) where the border elements are `1` and all the inner elements are `0`. The matrix should have the shape `(a, b)`.\n",
        "\n",
        "2. **Input Format**:\n",
        "   - The function takes two integers `a` and `b` as input, where `a` is the number of rows and `b` is the number of columns.\n",
        "\n",
        "3. **Output Format**:\n",
        "   - The function should return a 2D NumPy array (matrix) where:\n",
        "     - The border elements are `1`.\n",
        "     - The inner elements are `0`.\n",
        "\n",
        "4. **Example**:\n",
        "\n",
        "   - **Example 1**:\n",
        "     - Input:  \n",
        "       ```python\n",
        "       a = 4\n",
        "       b = 4\n",
        "       ```\n",
        "     - Output:\n",
        "       ```python\n",
        "       [[1 1 1 1]\n",
        "        [1 0 0 1]\n",
        "        [1 0 0 1]\n",
        "        [1 1 1 1]]\n",
        "       ```\n",
        "\n",
        "   - **Example 2**:\n",
        "     - Input:  \n",
        "       ```python\n",
        "       a = 5\n",
        "       b = 6\n",
        "       ```\n",
        "     - Output:\n",
        "       ```python\n",
        "       [[1 1 1 1 1 1]\n",
        "        [1 0 0 0 0 1]\n",
        "        [1 0 0 0 0 1]\n",
        "        [1 0 0 0 0 1]\n",
        "        [1 1 1 1 1 1]]\n",
        "       ```"
      ]
    },
    {
      "cell_type": "code",
      "execution_count": 9,
      "metadata": {
        "id": "gEKndkDU6ZSs"
      },
      "outputs": [
        {
          "name": "stdout",
          "output_type": "stream",
          "text": [
            "[[1 1 1 1]\n",
            " [1 0 0 1]\n",
            " [1 0 0 1]\n",
            " [1 1 1 1]]\n"
          ]
        }
      ],
      "source": [
        "# Solution - Question 03\n",
        "\n",
        "def create_matrix(a, b):\n",
        "    array = np.zeros((a, b), dtype=int)\n",
        "    for i in range(a):\n",
        "        for j in range(b):\n",
        "            if i == 0 or i == (a-1) or j == 0 or j == (b-1):\n",
        "                array[i][j] = 1\n",
        "    return array\n",
        "\n",
        "\n",
        "a = int(input('Enter value of a : '))\n",
        "b = int(input('Enter value of b : '))\n",
        "print(create_matrix(a, b))"
      ]
    },
    {
      "cell_type": "markdown",
      "metadata": {
        "id": "QRJicQ8j6ZlE"
      },
      "source": [
        "### 🎯 **Q4: Create a Vector of Size 10 with Values Ranging from 0 to 1, Both Excluded**\n",
        "\n",
        "1. **Problem Statement**:  \n",
        "   Write a program that:\n",
        "   - Creates a vector of size 10.\n",
        "   - The values in the vector should range from 0 to 1, **excluding** both 0 and 1.\n",
        "\n",
        "2. **Input Format**:\n",
        "   - There is no specific input required from the user, as the vector size is predefined (size 10) and the range of values is between 0 and 1.\n",
        "\n",
        "3. **Output Format**:\n",
        "   - The output should be a NumPy array (vector) of size 10 where the values are randomly generated between 0 and 1, excluding both.\n",
        "\n",
        "4. **Example**:\n",
        "\n",
        "   - **Example 1**:\n",
        "     - Output:  \n",
        "       ```python\n",
        "       [0.09090909 0.18181818 0.27272727 0.36363636 0.45454545 0.54545455\n",
        "        0.63636364 0.72727273 0.81818182 0.90909091]\n",
        "       ```"
      ]
    },
    {
      "cell_type": "code",
      "execution_count": 12,
      "metadata": {
        "id": "eC4XLhDq6ZlF"
      },
      "outputs": [
        {
          "name": "stdout",
          "output_type": "stream",
          "text": [
            "[0.09090909 0.18181818 0.27272727 0.36363636 0.45454545 0.54545455\n",
            " 0.63636364 0.72727273 0.81818182 0.90909091]\n"
          ]
        }
      ],
      "source": [
        "# Solution - Question 04\n",
        "\n",
        "size = 10\n",
        "vector = np.linspace(0, 1, 12, endpoint=True)[1:-1]\n",
        "print(vector)"
      ]
    },
    {
      "cell_type": "markdown",
      "metadata": {
        "id": "vb4jK4yQ6Zs2"
      },
      "source": [
        "### 🎯 **Q5: Can You Create an Identity Matrix of Shape (3,4)? If Yes, Write Code for It**\n",
        "\n",
        "1. **Problem Statement**:  \n",
        "   Write a program to create an identity matrix. The identity matrix is a square matrix with ones on the main diagonal and zeros elsewhere. However, the matrix shape provided is **(3, 4)**, which is not square.\n",
        "\n",
        "2. **Task**:  \n",
        "   - You need to create a matrix of shape **(3, 4)**, but the matrix cannot be a true identity matrix as the shape is not square.\n",
        "   - The main diagonal should have ones, but there will be no diagonal element for the fourth column as it is not possible to have a square identity matrix with 3 rows and 4 columns.\n",
        "\n",
        "3. **Output Format**:\n",
        "   - The output should be a NumPy matrix with shape **(3, 4)**, with ones on the diagonal and zeros elsewhere.\n",
        "\n",
        "4. **Example**:\n",
        "\n",
        "   - **Example 1**:\n",
        "     - Input:  \n",
        "       `shape = (3, 4)`\n",
        "     - Output:  \n",
        "       ```python\n",
        "       [[1. 0. 0. 0.]\n",
        "        [0. 1. 0. 0.]\n",
        "        [0. 0. 1. 0.]]\n",
        "       ```"
      ]
    },
    {
      "cell_type": "code",
      "execution_count": 17,
      "metadata": {
        "id": "DTV_AbMS6Zs4"
      },
      "outputs": [
        {
          "name": "stdout",
          "output_type": "stream",
          "text": [
            "[[1. 0. 0. 0.]\n",
            " [0. 1. 0. 0.]\n",
            " [0. 0. 1. 0.]]\n"
          ]
        }
      ],
      "source": [
        "# Solution - Question 05\n",
        "\n",
        "identity_matrix = np.eye(3)\n",
        "identity_matrix_extended = np.hstack((identity_matrix, np.zeros((3, 1))))\n",
        "print(identity_matrix_extended)"
      ]
    },
    {
      "cell_type": "markdown",
      "metadata": {
        "id": "QtjAFm5PEntK"
      },
      "source": [
        "### 🎯 **Q6: Create a 5x5 Matrix with Row Values Ranging from 0 to 4**\n",
        "\n",
        "1. **Problem Statement**:  \n",
        "   Write a program to create a 5x5 matrix where each row contains values ranging from **0 to 4**.\n",
        "\n",
        "2. **Task**:  \n",
        "   - The matrix should have **5 rows** and **5 columns**.\n",
        "   - Each row should contain the values starting from **0** to **4**, i.e., each row will have a sequence of numbers from 0 to 4.\n",
        "   - The matrix should be populated with these values across all rows.\n",
        "\n",
        "3. **Output Format**:\n",
        "   - The output should be a 5x5 NumPy array where each row contains values from 0 to 4.\n",
        "\n",
        "4. **Example**:\n",
        "\n",
        "   - **Example 1**:\n",
        "     - Input:  \n",
        "       `shape = (5, 5)`\n",
        "     - Output:  \n",
        "       ```python\n",
        "       [[0 1 2 3 4]\n",
        "        [0 1 2 3 4]\n",
        "        [0 1 2 3 4]\n",
        "        [0 1 2 3 4]\n",
        "        [0 1 2 3 4]]\n",
        "       ```"
      ]
    },
    {
      "cell_type": "code",
      "execution_count": 111,
      "metadata": {
        "id": "z2WGxRjvEuRS"
      },
      "outputs": [
        {
          "name": "stdout",
          "output_type": "stream",
          "text": [
            "[[0 1 2 3 4]\n",
            " [0 1 2 3 4]\n",
            " [0 1 2 3 4]\n",
            " [0 1 2 3 4]\n",
            " [0 1 2 3 4]]\n"
          ]
        }
      ],
      "source": [
        "# Solution - Question 06\n",
        "\n",
        "row = np.arange(0,5,1)\n",
        "matrix = np.array(np.tile(row, 5).reshape(5,5))\n",
        "print(matrix)"
      ]
    },
    {
      "cell_type": "markdown",
      "metadata": {
        "id": "KPpvxKjVHnyx"
      },
      "source": [
        "### 🎯 **Q7: Calculate Distances from a Given Point**\n",
        "\n",
        "1. **Problem Statement**:  \n",
        "   - Create a random integer vector with shape `(10, 2)`, where each row represents a coordinate in a 2D space. The integers should range from 1 to 100.  \n",
        "   - A specific 2D coordinate point is given as:  \n",
        "     ```python\n",
        "     point = np.array([2, 3])\n",
        "     ```\n",
        "   - Calculate the distance of each coordinate in the random vector from the given point. The distances should be stored in an array of integer type.  \n",
        "\n",
        "2. **Input**:  \n",
        "   - A random vector of shape `(10, 2)` with integer values between 1 and 100.  \n",
        "   - A specific point as `np.array([2, 3])`.  \n",
        "\n",
        "3. **Output**:  \n",
        "   - An integer array containing the distance of each coordinate in the random vector from the given point.  \n",
        "\n",
        "4. **Example** (Illustrative):  \n",
        "   - **Random Vector**:  \n",
        "     ```\n",
        "     [[5, 10], [2, 2], [15, 25], ..., [8, 9]]\n",
        "     ```  \n",
        "   - **Given Point**:  \n",
        "     ```\n",
        "     [2, 3]\n",
        "     ```  \n",
        "   - **Distance Array**:  \n",
        "     ```\n",
        "     [7, 1, 28, ..., 10]\n",
        "     ```  "
      ]
    },
    {
      "cell_type": "code",
      "execution_count": 38,
      "metadata": {
        "id": "X7KGnWLNIM6f"
      },
      "outputs": [
        {
          "name": "stdout",
          "output_type": "stream",
          "text": [
            "[ 82  74  50  88  79  41  96 109  71  81]\n"
          ]
        }
      ],
      "source": [
        "# Solution - Question 07\n",
        "\n",
        "def calculate_distance(point_vector, point):\n",
        "    for i in point_vector:\n",
        "        yield ((i[0] - point[0])**2 + (i[1] - point[1])**2)**0.5\n",
        "\n",
        "point = np.array([2, 3])\n",
        "point_vector = (np.random.random((10,2))*100).astype(int)\n",
        "distance_generator = calculate_distance(point_vector, point)\n",
        "distance_vector = np.zeros((10,))\n",
        "index = 0\n",
        "for i in distance_generator:\n",
        "    distance_vector[index] = i\n",
        "    index = index + 1\n",
        "\n",
        "print(distance_vector.astype(int)) # Values may vary as points are randomly generated"
      ]
    },
    {
      "cell_type": "markdown",
      "metadata": {
        "id": "tajOFJlCDwTr"
      },
      "source": [
        "### 🎯 **Q8: Determine the Index of a Specific Element in a Multidimensional Array**\n",
        "\n",
        "1. **Problem Statement**:  \n",
        "   - You are given a multidimensional array with the shape `(6, 7, 8)` representing three dimensions:  \n",
        "     - `x` with a size of 6,  \n",
        "     - `y` with a size of 7,  \n",
        "     - `z` with a size of 8.  \n",
        "   - Determine the **index (x, y, z)** of the 100th element in this array, assuming **zero-based indexing**.  \n",
        "\n",
        "2. **Relevant Information**:  \n",
        "   - The array elements are stored in a **row-major order** (C-style indexing).  \n",
        "   - The counting starts at the **first element of the array** (index `(0, 0, 0)`).  \n",
        "\n",
        "3. **Input**:  \n",
        "   - Array shape: `(6, 7, 8)`  \n",
        "   - Element position to find: `100` (zero-based indexing applies).  \n",
        "\n",
        "4. **Output**:  \n",
        "   - The index `(x, y, z)` corresponding to the 100th element of the array.  "
      ]
    },
    {
      "cell_type": "code",
      "execution_count": 4,
      "metadata": {
        "id": "qH4oxvs0D3Ra"
      },
      "outputs": [
        {
          "name": "stdout",
          "output_type": "stream",
          "text": [
            "(1,5,3)\n"
          ]
        }
      ],
      "source": [
        "# Solution - Question 08\n",
        "\n",
        "count = 1\n",
        "for i in range(6):\n",
        "    for j in range(7):\n",
        "        for k in range(8):\n",
        "            if count == 100:\n",
        "                print(f'({i},{j},{k})')\n",
        "                count = count + 1\n",
        "                break\n",
        "            count = count + 1"
      ]
    },
    {
      "cell_type": "markdown",
      "metadata": {
        "id": "9LxBAbT2Pw33"
      },
      "source": [
        "### 🎯 **Q9: Reverse a NumPy Array with Float Type**\n",
        "\n",
        "1. **Problem Statement**:  \n",
        "   - You are given a single line of input containing a space-separated list of numbers.  \n",
        "   - Your task is to reverse the sequence of numbers and output the result as a NumPy array with the data type `float`.  \n",
        "\n",
        "2. **Relevant Information**:  \n",
        "   - Convert the input numbers into a NumPy array.  \n",
        "   - The resulting array must have elements in reverse order compared to the input.  \n",
        "   - The data type of the elements in the array should be `float`.  \n",
        "\n",
        "3. **Input Format**:  \n",
        "   - A single line of input containing space-separated numbers.  \n",
        "\n",
        "4. **Output Format**:  \n",
        "   - A single line containing the reversed NumPy array with `float` data type.  \n",
        "\n",
        "5. **Example**:  \n",
        "\n",
        "   **Input**:  \n",
        "   ```bash\n",
        "   1 2 3 4 -8 -10\n",
        "   ```  \n",
        "\n",
        "   **Output**:  \n",
        "   ```bash\n",
        "   [-10.  -8.   4.   3.   2.   1.]\n",
        "   ```"
      ]
    },
    {
      "cell_type": "code",
      "execution_count": 7,
      "metadata": {
        "id": "7iQyg6ChNl3j"
      },
      "outputs": [
        {
          "name": "stdout",
          "output_type": "stream",
          "text": [
            "[-10.  -8.   4.   3.   2.   1.]\n"
          ]
        }
      ],
      "source": [
        "# Solution - Question 09\n",
        "\n",
        "data = input('Enter space-separated numbers : ')\n",
        "l = data.split()\n",
        "array = np.array(l[::-1], dtype=float)\n",
        "print(array)"
      ]
    },
    {
      "cell_type": "markdown",
      "metadata": {
        "id": "TPxD7jM8Sjz9"
      },
      "source": [
        "### 🎯 **Q10: Count the Number of Elements in a NumPy Array**\n",
        "\n",
        "1. **Problem Statement**:  \n",
        "   - You are given a NumPy array.  \n",
        "   - Your task is to count the total number of elements in the array and display the result.\n",
        "\n",
        "2. **Relevant Information**:  \n",
        "   - The NumPy array can be empty or non-empty.  \n",
        "   - The output should indicate the total number of elements present in the array.\n",
        "\n",
        "3. **Input Format**:  \n",
        "   - A single NumPy array.  \n",
        "\n",
        "4. **Output Format**:  \n",
        "   - A single line of output displaying the total count of elements in the array with the format:  \n",
        "     `elements_count : <count>`  \n",
        "\n",
        "5. **Examples**:  \n",
        "\n",
        "   **Example 1**:  \n",
        "   **Input**:  \n",
        "   ```bash\n",
        "   np.array([])\n",
        "   ```  \n",
        "   **Output**:  \n",
        "   ```bash\n",
        "   elements_count :  0\n",
        "   ```  \n",
        "\n",
        "   **Example 2**:  \n",
        "   **Input**:  \n",
        "   ```bash\n",
        "   np.array([1, 2])\n",
        "   ```  \n",
        "   **Output**:  \n",
        "   ```bash\n",
        "   elements_count :  2\n",
        "   ```  "
      ]
    },
    {
      "cell_type": "code",
      "execution_count": 10,
      "metadata": {
        "id": "RG0H2I-TNeGN"
      },
      "outputs": [
        {
          "name": "stdout",
          "output_type": "stream",
          "text": [
            "elements_count : 2\n"
          ]
        }
      ],
      "source": [
        "# Solution - Question 10\n",
        "\n",
        "array = np.array([1, 2])\n",
        "print('elements_count :', array.size)"
      ]
    },
    {
      "cell_type": "markdown",
      "metadata": {
        "id": "pwgPz-3l5ic5"
      },
      "source": [
        "### 🎯 **Q11: Implement the Softmax Function**\n",
        "\n",
        "1. **Problem Statement**:  \n",
        "   - Write a Python function to calculate the **Softmax** of a given 1D NumPy array.  \n",
        "   - The function must validate the input to ensure it is a NumPy 1D array.  \n",
        "   - If the input is not a valid 1D NumPy array, raise an appropriate error.\n",
        "\n",
        "2. **Formula**:  \n",
        "   The Softmax function is defined as:  \n",
        "   $$\\Large \\sigma(\\vec z)_i = \\frac{e^{z_i}}{\\sum_{j=i}^{K}{e^{z_j}}}$$  \n",
        "   Here, \\(z\\) is the input array, and the output is the normalized exponential distribution.\n",
        "\n",
        "3. **Input Format**:  \n",
        "   - A NumPy 1D array.\n",
        "\n",
        "4. **Output Format**:  \n",
        "   - A NumPy 1D array containing the Softmax values for each element of the input array.\n",
        "\n",
        "5. **Error Handling**:  \n",
        "   - Raise an error if the input is not a NumPy 1D array.\n",
        "\n",
        "6. **Examples**:  \n",
        "\n",
        "   **Example 1**:  \n",
        "   **Input**:  \n",
        "   ```bash\n",
        "   [86.03331084, 37.7285648, 48.64908087, 87.16563062, 38.40852563, 37.20006318]\n",
        "   ```  \n",
        "   **Output**:  \n",
        "   ```bash\n",
        "   [2.43733249e-01, 2.56112115e-22, 1.41628284e-17, 7.56266751e-01,\n",
        "          5.05514197e-22, 1.50974911e-22]\n",
        "   ```  \n",
        "\n",
        "   **Example 2**:  \n",
        "   **Input**:  \n",
        "   ```bash\n",
        "   [33.17344305, 45.61961654, 82.05405781, 80.9647098, 68.82830233, 91.52064278]\n",
        "   ```  \n",
        "   **Output**:  \n",
        "   ```bash\n",
        "   [4.57181035e-26, 1.16249923e-20, 7.73872596e-05, 2.60358426e-05,\n",
        "          1.39571531e-10, 9.99896577e-01]\n",
        "   ```"
      ]
    },
    {
      "cell_type": "code",
      "execution_count": 11,
      "metadata": {
        "id": "VNzj05lkNaNi"
      },
      "outputs": [
        {
          "name": "stdout",
          "output_type": "stream",
          "text": [
            "[2.43733248e-01 2.56112114e-22 1.41628283e-17 7.56266752e-01\n",
            " 5.05514197e-22 1.50974911e-22]\n"
          ]
        }
      ],
      "source": [
        "# Solution - Question 11\n",
        "\n",
        "def softmax(array):\n",
        "    if array.ndim != 1:\n",
        "        raise ValueError('Array provided is not one-dimensional :(')\n",
        "    exponential_array = np.exp(array)\n",
        "    softmax_array = exponential_array / np.sum(exponential_array)\n",
        "    return softmax_array\n",
        "\n",
        "array = np.array([86.03331084, 37.7285648, 48.64908087, 87.16563062, 38.40852563, 37.20006318])\n",
        "print(softmax(array))"
      ]
    },
    {
      "cell_type": "markdown",
      "metadata": {
        "id": "k4JWSwWu_HXg"
      },
      "source": [
        "### 🎯 **Q12: Vertical Stack Function**\n",
        "\n",
        "1. **Problem Statement**:  \n",
        "   - Write a Python function that accepts an **infinite number of NumPy arrays** as input arguments and performs a **vertical stack** operation on them.  \n",
        "   - The function must validate that all inputs are NumPy arrays.  \n",
        "   - If any input is not a valid NumPy array, raise an appropriate error.  \n",
        "\n",
        "2. **Requirements**:  \n",
        "   - The resulting array should contain all the input arrays stacked vertically.  \n",
        "   - Ensure the function handles arrays of compatible shapes for stacking.  \n",
        "\n",
        "3. **Input Format**:  \n",
        "   - Any number of NumPy arrays as input arguments.  \n",
        "\n",
        "4. **Output Format**:  \n",
        "   - A single NumPy array representing the vertical stack of all input arrays.  \n",
        "\n",
        "5. **Error Handling**:  \n",
        "   - Raise an error if any input is not a valid NumPy array.  \n",
        "\n",
        "6. **Examples**:  \n",
        "\n",
        "   **Example 1**:  \n",
        "   **Input**:  \n",
        "   ```bash\n",
        "   a = [[0, 1, 2, 3, 4],\n",
        "        [5, 6, 7, 8, 9]]\n",
        "   \n",
        "   b = [[1, 1, 1, 1, 1],\n",
        "        [1, 1, 1, 1, 1]]\n",
        "   ```  \n",
        "   **Output**:  \n",
        "   ```bash\n",
        "   [[0, 1, 2, 3, 4],\n",
        "    [5, 6, 7, 8, 9],\n",
        "    [1, 1, 1, 1, 1],\n",
        "    [1, 1, 1, 1, 1]]\n",
        "   ```  \n",
        "\n",
        "   **Example 2**:  \n",
        "   **Input**:  \n",
        "   ```bash\n",
        "   a = [[0, 1, 2, 3, 4],\n",
        "        [5, 6, 7, 8, 9]]\n",
        "   \n",
        "   b = [[1, 1, 1, 1, 1],\n",
        "        [1, 1, 1, 1, 1]]\n",
        "   \n",
        "   c = [[0.10117373, 0.1677244, 0.73764059, 0.83166097, 0.48985695],\n",
        "        [0.44581567, 0.13502419, 0.55692335, 0.16479622, 0.61193593]]\n",
        "   ```  \n",
        "   **Output**:  \n",
        "   ```bash\n",
        "   [[0.         1.         2.         3.         4.        ],\n",
        "    [5.         6.         7.         8.         9.        ],\n",
        "    [1.         1.         1.         1.         1.        ],\n",
        "    [1.         1.         1.         1.         1.        ],\n",
        "    [0.10117373 0.1677244  0.73764059 0.83166097 0.48985695],\n",
        "    [0.44581567 0.13502419 0.55692335 0.16479622 0.61193593]]\n",
        "   ```"
      ]
    },
    {
      "cell_type": "code",
      "execution_count": 13,
      "metadata": {
        "id": "dhtnbSj6NP8z"
      },
      "outputs": [
        {
          "name": "stdout",
          "output_type": "stream",
          "text": [
            "[[0.         1.         2.         3.         4.        ]\n",
            " [5.         6.         7.         8.         9.        ]\n",
            " [1.         1.         1.         1.         1.        ]\n",
            " [1.         1.         1.         1.         1.        ]\n",
            " [0.10117373 0.1677244  0.73764059 0.83166097 0.48985695]\n",
            " [0.44581567 0.13502419 0.55692335 0.16479622 0.61193593]]\n"
          ]
        }
      ],
      "source": [
        "# Solution - Question 12\n",
        "\n",
        "def vertical_stacker(*args):\n",
        "    for array in args:\n",
        "        if isinstance(array, np.ndarray):\n",
        "            pass\n",
        "        else:\n",
        "            raise TypeError('Array provided is not an ndarray :(')\n",
        "    return np.vstack(args)\n",
        "         \n",
        "\n",
        "a = np.array([[0, 1, 2, 3, 4],\n",
        "              [5, 6, 7, 8, 9]])\n",
        "   \n",
        "b = np.array([[1, 1, 1, 1, 1],\n",
        "              [1, 1, 1, 1, 1]])\n",
        "\n",
        "c = np.array([[0.10117373, 0.1677244, 0.73764059, 0.83166097, 0.48985695],\n",
        "              [0.44581567, 0.13502419, 0.55692335, 0.16479622, 0.61193593]])\n",
        "\n",
        "print(vertical_stacker(a, b, c))"
      ]
    },
    {
      "cell_type": "markdown",
      "metadata": {
        "id": "3mk8T6CuC2DP"
      },
      "source": [
        "### 🎯 **Q13: Dates**\n",
        "\n",
        "1. **Problem Statement**:  \n",
        "   Write a Python function named **`date_array`** that generates a NumPy array of dates between two specified dates, **inclusive of the start and end dates**.  \n",
        "\n",
        "2. **Function Requirements**:  \n",
        "   - The function should accept **exactly two arguments**, both of which must be strings representing the dates.  \n",
        "   - The date format must strictly follow **YYYY-MM-DD** (e.g., `2022-12-06`).  \n",
        "   - If the input is not in the required format or if more or fewer arguments are provided, the function should raise an appropriate error.  \n",
        "   - The range of dates must be from the **same year**.  \n",
        "\n",
        "3. **Input Format**:  \n",
        "   - **Start Date**: A string in the format `YYYY-MM-DD`.  \n",
        "   - **End Date**: A string in the format `YYYY-MM-DD`.  \n",
        "\n",
        "4. **Output Format**:  \n",
        "   - A NumPy array containing all dates, starting from the **start date** to the **end date**, inclusive.  \n",
        "\n",
        "5. **Error Handling**:  \n",
        "   - Raise an error if the input is not in the required format or if the year of the two dates is different.  \n",
        "\n",
        "6. **Examples**:  \n",
        "\n",
        "   **Example 1**:  \n",
        "   **Input**:  \n",
        "   ```bash\n",
        "   date_array(start='2020-09-15', end='2020-09-25')\n",
        "   ```  \n",
        "   **Output**:  \n",
        "   ```bash\n",
        "   ['2020-09-15', '2020-09-16', '2020-09-17', '2020-09-18',\n",
        "    '2020-09-19', '2020-09-20', '2020-09-21', '2020-09-22',\n",
        "    '2020-09-23', '2020-09-24', '2020-09-25']\n",
        "   ```  \n",
        "\n",
        "   **Example 2**:  \n",
        "   **Input**:  \n",
        "   ```bash\n",
        "   date_array(start='2022-12-01', end='2022-12-06')\n",
        "   ```  \n",
        "   **Output**:  \n",
        "   ```bash\n",
        "   ['2022-12-01', '2022-12-02', '2022-12-03', '2022-12-04', \n",
        "    '2022-12-05', '2022-12-06']\n",
        "   ```  \n",
        "\n",
        "   **Example 3**:  \n",
        "   **Input**:  \n",
        "   ```bash\n",
        "   date_array(start='2020-11-25', end='2020-11-30')\n",
        "   ```  \n",
        "   **Output**:  \n",
        "   ```bash\n",
        "   ['2020-11-25', '2020-11-26', '2020-11-27', '2020-11-28', \n",
        "    '2020-11-29', '2020-11-30']\n",
        "   ```"
      ]
    },
    {
      "cell_type": "code",
      "execution_count": 41,
      "metadata": {
        "id": "Yj5PBfQQNTnL"
      },
      "outputs": [
        {
          "name": "stdout",
          "output_type": "stream",
          "text": [
            "['2020-09-15' '2020-09-16' '2020-09-17' '2020-09-18' '2020-09-19'\n",
            " '2020-09-20' '2020-09-21' '2020-09-22' '2020-09-23' '2020-09-24'\n",
            " '2020-09-25']\n"
          ]
        }
      ],
      "source": [
        "# Solution - Question 13\n",
        "\n",
        "from datetime import *\n",
        "\n",
        "def date_array(start:str, end:str) -> np.ndarray:\n",
        "    try:\n",
        "        start_date = datetime.strptime(start, \"%Y-%m-%d\")\n",
        "        end_date = datetime.strptime(end, \"%Y-%m-%d\")\n",
        "        dates = []\n",
        "        while start_date <= end_date:\n",
        "            dates.append(str(datetime.date(start_date)))\n",
        "            start_date = start_date + timedelta(days = 1)\n",
        "        \n",
        "        return np.array(dates)\n",
        "    \n",
        "    except ValueError as e:\n",
        "        print('\\033[1;37;41m ValueError \\033[0;37;m', e.args[0].title())\n",
        "\n",
        "start = '2020-09-15'\n",
        "end = '2020-09-25'\n",
        "print(date_array(start, end))"
      ]
    },
    {
      "cell_type": "markdown",
      "metadata": {
        "id": "bcEp0wTWQijK"
      },
      "source": [
        "### 🎯 **Q14: Subtract Row Mean from a Matrix**\n",
        "\n",
        "1. **Problem Statement**:  \n",
        "   Write a program or function that **subtracts the mean of each row** from the respective row in a given matrix. The result should be a matrix of the same dimensions, where each element of a row has been adjusted by subtracting the row's mean.\n",
        "\n",
        "2. **Input Format**:  \n",
        "   - A 2D matrix represented as a NumPy array.\n",
        "\n",
        "3. **Output Format**:  \n",
        "   - A 2D matrix (NumPy array) where each row has had its mean subtracted.\n",
        "\n",
        "4. **Constraints**:  \n",
        "   - The input matrix must be a valid NumPy array with numerical elements.\n",
        "   - If the matrix is empty, handle appropriately by returning an empty matrix.\n",
        "\n",
        "5. **Example 1**:  \n",
        "\n",
        "   **Input**:  \n",
        "   ```bash\n",
        "   [[1, 2, 3],\n",
        "    [4, 5, 6],\n",
        "    [7, 8, 9]]\n",
        "   ```  \n",
        "\n",
        "   **Output**:  \n",
        "   ```bash\n",
        "   [[-1.  0.  1.]\n",
        "    [-1.  0.  1.]\n",
        "    [-1.  0.  1.]]\n",
        "   ```  \n",
        "\n",
        "6. **Example 2**:  \n",
        "\n",
        "   **Input**:  \n",
        "   ```bash\n",
        "   [[10, 20, 30],\n",
        "    [15, 15, 15],\n",
        "    [1, 5, 10]]\n",
        "   ```  \n",
        "\n",
        "   **Output**:  \n",
        "   ```bash\n",
        "   [[-10.   0.  10.]\n",
        "    [  0.   0.   0.]\n",
        "    [ -4.   0.   5.]]\n",
        "   ```"
      ]
    },
    {
      "cell_type": "code",
      "execution_count": 48,
      "metadata": {
        "id": "rpILVGcgQzMo"
      },
      "outputs": [
        {
          "name": "stdout",
          "output_type": "stream",
          "text": [
            "[[-1.  0.  1.]\n",
            " [-1.  0.  1.]\n",
            " [-1.  0.  1.]]\n"
          ]
        }
      ],
      "source": [
        "# Solution - Question 14\n",
        "\n",
        "def row_mean_difference_matrix(matrix):\n",
        "    output_matrix = np.zeros(matrix.shape)\n",
        "    row_mean_matrix = np.mean(matrix, axis=1)\n",
        "    row_index = 0\n",
        "    while row_index < matrix.shape[0]:\n",
        "        output_matrix[row_index] = matrix[row_index] - row_mean_matrix[row_index]\n",
        "        row_index += 1\n",
        "    return output_matrix\n",
        "\n",
        "matrix = np.array([[1, 2, 3],\n",
        "                   [4, 5, 6],\n",
        "                   [7, 8, 9]])\n",
        "print(row_mean_difference_matrix(matrix))"
      ]
    },
    {
      "cell_type": "markdown",
      "metadata": {
        "id": "A-dMVlPPSBTT"
      },
      "source": [
        "### 🎯 **Q15: Swap Columns in a Matrix**\n",
        "\n",
        "1. **Problem Statement**:  \n",
        "   Write a program or function to **swap the first column** (column-1) of a 2D matrix with the **second column** (column-2). The resulting matrix should retain its original dimensions with the specified columns exchanged.\n",
        "\n",
        "2. **Input Format**:  \n",
        "   - A 2D matrix represented as a NumPy array.  \n",
        "   - The matrix must have at least two columns.\n",
        "\n",
        "3. **Output Format**:  \n",
        "   - A 2D matrix (NumPy array) where column-1 and column-2 have been swapped.\n",
        "\n",
        "4. **Constraints**:  \n",
        "   - The input matrix must be a valid NumPy array.  \n",
        "   - The matrix must have at least two columns; otherwise, raise an error or handle appropriately.\n",
        "\n",
        "5. **Example 1**:  \n",
        "\n",
        "   **Input**:  \n",
        "   ```bash\n",
        "   [[1, 2, 3],\n",
        "    [4, 5, 6],\n",
        "    [7, 8, 9]]\n",
        "   ```  \n",
        "\n",
        "   **Output**:  \n",
        "   ```bash\n",
        "   [[2, 1, 3],\n",
        "    [5, 4, 6],\n",
        "    [8, 7, 9]]\n",
        "   ```  \n",
        "\n",
        "6. **Example 2**:  \n",
        "\n",
        "   **Input**:  \n",
        "   ```bash\n",
        "   [[10, 20],\n",
        "    [30, 40],\n",
        "    [50, 60]]\n",
        "   ```  \n",
        "\n",
        "   **Output**:  \n",
        "   ```bash\n",
        "   [[20, 10],\n",
        "    [40, 30],\n",
        "    [60, 50]]\n",
        "   ```  "
      ]
    },
    {
      "cell_type": "code",
      "execution_count": 51,
      "metadata": {
        "id": "3RtngM9-Q6S7"
      },
      "outputs": [
        {
          "name": "stdout",
          "output_type": "stream",
          "text": [
            "[[2 1 3]\n",
            " [5 4 6]\n",
            " [8 7 9]]\n"
          ]
        }
      ],
      "source": [
        "# Solution - Question 15\n",
        "\n",
        "def swap_columns(matrix):\n",
        "    if matrix.ndim != 2:\n",
        "        raise TypeError('Given NumPy Array is not 2D :(')\n",
        "    if matrix.shape[1] < 2:\n",
        "        raise TypeError('Given NumPy Array does not have enough columns to swap :(')\n",
        "    for i in matrix:\n",
        "        i[0], i[1] = i[1], i[0]\n",
        "\n",
        "matrix = np.array([[1, 2, 3],\n",
        "                   [4, 5, 6],\n",
        "                   [7, 8, 9]])\n",
        "swap_columns(matrix)\n",
        "print(matrix)"
      ]
    },
    {
      "cell_type": "markdown",
      "metadata": {
        "id": "cB4VMexvS6Zi"
      },
      "source": [
        "### 🎯 **Q16: Replace Odd Elements in an Array**\n",
        "\n",
        "1. **Problem Statement**:  \n",
        "   Write a program or function to **replace all odd elements** in a given NumPy array with the value `-1`. The rest of the elements should remain unchanged.\n",
        "\n",
        "2. **Input Format**:  \n",
        "   - A 1D or 2D NumPy array containing integers.  \n",
        "\n",
        "3. **Output Format**:  \n",
        "   - A NumPy array of the same dimensions as the input, where all odd elements are replaced with `-1`.\n",
        "\n",
        "4. **Constraints**:  \n",
        "   - The input must be a valid NumPy array.  \n",
        "   - The array can have any number of dimensions (1D, 2D, or higher).  \n",
        "\n",
        "5. **Example 1**:  \n",
        "\n",
        "   **Input**:  \n",
        "   ```bash\n",
        "   [1, 2, 3, 4, 5]\n",
        "   ```  \n",
        "\n",
        "   **Output**:  \n",
        "   ```bash\n",
        "   [-1, 2, -1, 4, -1]\n",
        "   ```  \n",
        "\n",
        "6. **Example 2**:  \n",
        "\n",
        "   **Input**:  \n",
        "   ```bash\n",
        "   [[1, 6, 3],\n",
        "    [4, 9, 8]]\n",
        "   ```  \n",
        "\n",
        "   **Output**:  \n",
        "   ```bash\n",
        "   [[-1, 6, -1],\n",
        "    [4, -1, 8]]\n",
        "   ```  \n",
        "\n",
        "7. **Example 3**:  \n",
        "\n",
        "   **Input**:  \n",
        "   ```bash\n",
        "   [[2, 4],\n",
        "    [6, 8]]\n",
        "   ```  \n",
        "\n",
        "   **Output**:  \n",
        "   ```bash\n",
        "   [[2, 4],\n",
        "    [6, 8]]\n",
        "   ```"
      ]
    },
    {
      "cell_type": "code",
      "execution_count": 56,
      "metadata": {
        "id": "Bt83nXEVS5O4"
      },
      "outputs": [
        {
          "name": "stdout",
          "output_type": "stream",
          "text": [
            "[[-1  6 -1]\n",
            " [ 4 -1  8]]\n"
          ]
        }
      ],
      "source": [
        "# Solution - Question 16\n",
        "\n",
        "def replace_odds(a):\n",
        "    shape = a.shape\n",
        "    flatten_array = np.ravel(a)\n",
        "    idx = 0\n",
        "    while idx < flatten_array.size:\n",
        "        if flatten_array[idx] % 2 != 0:\n",
        "            flatten_array[idx] = -1\n",
        "        idx += 1\n",
        "    return flatten_array.reshape(shape)\n",
        "        \n",
        "\n",
        "a = np.array([[1, 6, 3],\n",
        "              [4, 9, 8]])\n",
        "print(replace_odds(a))"
      ]
    },
    {
      "cell_type": "markdown",
      "metadata": {
        "id": "kf_qvmBxWIT_"
      },
      "source": [
        "### 🎯 **Q17: Create an Array of Element-Wise Maximum from Two Arrays**\n",
        "\n",
        "1. **Problem Statement**:  \n",
        "   Given two NumPy arrays of the same shape, create a new array where each element is the maximum value from the corresponding positions of the two input arrays.\n",
        "\n",
        "2. **Input Format**:  \n",
        "   - Two 1D NumPy arrays of the same length.\n",
        "\n",
        "3. **Output Format**:  \n",
        "   - A NumPy array of the same shape, where each element is the maximum of the corresponding elements from the two input arrays.\n",
        "\n",
        "4. **Constraints**:  \n",
        "   - Both arrays must have the same shape and be valid NumPy arrays.  \n",
        "   - The values can be integers or floats.\n",
        "\n",
        "5. **Example 1**:  \n",
        "\n",
        "   **Input**:  \n",
        "   ```bash\n",
        "   a = [6, 3, 1, 5, 8]\n",
        "   b = [3, 2, 1, 7, 2]\n",
        "   ```\n",
        "\n",
        "   **Output**:  \n",
        "   ```bash\n",
        "   [6, 3, 1, 7, 8]\n",
        "   ```\n",
        "\n",
        "6. **Example 2**:  \n",
        "\n",
        "   **Input**:  \n",
        "   ```bash\n",
        "   a = [1.5, 3.2, 7.8]\n",
        "   b = [2.1, 2.9, 7.8]\n",
        "   ```\n",
        "\n",
        "   **Output**:  \n",
        "   ```bash\n",
        "   [2.1, 3.2, 7.8]\n",
        "   ```\n",
        "\n",
        "7. **Example 3**:  \n",
        "\n",
        "   **Input**:  \n",
        "   ```bash\n",
        "   a = [9, 0, -1]\n",
        "   b = [2, 8, 0]\n",
        "   ```\n",
        "\n",
        "   **Output**:  \n",
        "   ```bash\n",
        "   [9, 8, 0]\n",
        "   ```"
      ]
    },
    {
      "cell_type": "code",
      "execution_count": 60,
      "metadata": {
        "id": "TB9ZvF-EZSfu"
      },
      "outputs": [
        {
          "name": "stdout",
          "output_type": "stream",
          "text": [
            "[6 3 1 7 8 5]\n"
          ]
        }
      ],
      "source": [
        "# Solution - Question 17\n",
        "\n",
        "def max_array(a , b):\n",
        "    array = np.array([a, b])\n",
        "    return np.max(array, axis = 0)\n",
        "\n",
        "a = np.array([6, 3, 1, 5, 8, 2])\n",
        "b = np.array([3, 2, 1, 7, 2, 5])\n",
        "print(max_array(a, b))"
      ]
    },
    {
      "cell_type": "markdown",
      "metadata": {
        "id": "iOQLUIeGc3zA"
      },
      "source": [
        "### 🎯 **Q18: Operations on a Given Array**\n",
        "\n",
        "1. **Problem Statement**:  \n",
        "   Perform the following operations on a randomly generated 2D NumPy array:\n",
        "\n",
        "   - Fetch every alternate column of the array.  \n",
        "   - Normalize the array using the given normalization formula:  \n",
        "     $$\\large X_{normalized} = \\frac{X - X_{min}}{X_{max} - X_{min}}$$  \n",
        "\n",
        "2. **Input Format**:  \n",
        "   - A 2D NumPy array with dimensions (8, 5), where elements are random integers in the range [1, 10000].  \n",
        "\n",
        "   ```python\n",
        "   arr1 = np.random.randint(low=1, high=10000, size=40).reshape(8, 5)\n",
        "   ```\n",
        "\n",
        "3. **Output Format**:  \n",
        "   - A 2D array containing every alternate column of the original array.  \n",
        "   - A 2D normalized array with all values scaled between 0 and 1, based on the given formula.\n",
        "\n",
        "4. **Example Input**:  \n",
        "\n",
        "   ```bash\n",
        "   arr1 =\n",
        "   [[ 1234  5678  9101  2345  6789]\n",
        "    [ 1235  5679  9102  2346  6790]\n",
        "    [ 1236  5680  9103  2347  6791]\n",
        "    [ 1237  5681  9104  2348  6792]\n",
        "    [ 1238  5682  9105  2349  6793]\n",
        "    [ 1239  5683  9106  2350  6794]\n",
        "    [ 1240  5684  9107  2351  6795]\n",
        "    [ 1241  5685  9108  2352  6796]]\n",
        "   ```\n",
        "\n",
        "5. **Example Outputs**:  \n",
        "\n",
        "   - **For Operation 1** (Every Alternate Column):  \n",
        "\n",
        "     ```bash\n",
        "     [[1234 9101 6789]\n",
        "      [1235 9102 6790]\n",
        "      [1236 9103 6791]\n",
        "      [1237 9104 6792]\n",
        "      [1238 9105 6793]\n",
        "      [1239 9106 6794]\n",
        "      [1240 9107 6795]\n",
        "      [1241 9108 6796]]\n",
        "     ```\n",
        "\n",
        "   - **For Operation 2** (Normalized Array):  \n",
        "\n",
        "     ```bash\n",
        "     [[0.00000000e+00 5.64389129e-01 9.99110998e-01 1.41097282e-01 7.05486411e-01]\n",
        "      [1.27000254e-04 5.64516129e-01 9.99237998e-01 1.41224282e-01 7.05613411e-01]\n",
        "      [2.54000508e-04 5.64643129e-01 9.99364999e-01 1.41351283e-01 7.05740411e-01]\n",
        "      [3.81000762e-04 5.64770130e-01 9.99491999e-01 1.41478283e-01 7.05867412e-01]\n",
        "      [5.08001016e-04 5.64897130e-01 9.99618999e-01 1.41605283e-01 7.05994412e-01]\n",
        "      [6.35001270e-04 5.65024130e-01 9.99745999e-01 1.41732283e-01 7.06121412e-01]\n",
        "      [7.62001524e-04 5.65151130e-01 9.99873000e-01 1.41859284e-01 7.06248412e-01]\n",
        "      [8.89001778e-04 5.65278131e-01 1.00000000e+00 1.41986284e-01 7.06375413e-01]]\n",
        "     ```  \n",
        "\n"
      ]
    },
    {
      "cell_type": "code",
      "execution_count": 97,
      "metadata": {
        "id": "d7u8DB47eBfQ"
      },
      "outputs": [
        {
          "name": "stdout",
          "output_type": "stream",
          "text": [
            "------------------------- Alternate Columns --------------------------\n",
            "[[1234 9101 6789]\n",
            " [1235 9102 6790]\n",
            " [1236 9103 6791]\n",
            " [1237 9104 6792]\n",
            " [1238 9105 6793]\n",
            " [1239 9106 6794]\n",
            " [1240 9107 6795]\n",
            " [1241 9108 6796]]\n",
            "-------------------------- Normalized Array --------------------------\n",
            "[[0.00000000e+00 5.64389129e-01 9.99110998e-01 1.41097282e-01\n",
            "  7.05486411e-01]\n",
            " [1.27000254e-04 5.64516129e-01 9.99237998e-01 1.41224282e-01\n",
            "  7.05613411e-01]\n",
            " [2.54000508e-04 5.64643129e-01 9.99364999e-01 1.41351283e-01\n",
            "  7.05740411e-01]\n",
            " [3.81000762e-04 5.64770130e-01 9.99491999e-01 1.41478283e-01\n",
            "  7.05867412e-01]\n",
            " [5.08001016e-04 5.64897130e-01 9.99618999e-01 1.41605283e-01\n",
            "  7.05994412e-01]\n",
            " [6.35001270e-04 5.65024130e-01 9.99745999e-01 1.41732283e-01\n",
            "  7.06121412e-01]\n",
            " [7.62001524e-04 5.65151130e-01 9.99873000e-01 1.41859284e-01\n",
            "  7.06248412e-01]\n",
            " [8.89001778e-04 5.65278131e-01 1.00000000e+00 1.41986284e-01\n",
            "  7.06375413e-01]]\n"
          ]
        }
      ],
      "source": [
        "# Solution - Question 18\n",
        "\n",
        "def operation_1(array):\n",
        "   return array[:,::2]\n",
        "\n",
        "def normalization(array):\n",
        "   min_value = array.min()\n",
        "   max_value = array.max()\n",
        "   new_array = (array - min_value) / (max_value - min_value)\n",
        "   return new_array\n",
        "\n",
        "arr1 = np.array(\n",
        "   [[ 1234,  5678,  9101,  2345,  6789],\n",
        "    [ 1235,  5679,  9102,  2346,  6790],\n",
        "    [ 1236,  5680,  9103,  2347,  6791],\n",
        "    [ 1237,  5681,  9104,  2348,  6792],\n",
        "    [ 1238,  5682,  9105,  2349,  6793],\n",
        "    [ 1239,  5683,  9106,  2350,  6794],\n",
        "    [ 1240,  5684,  9107,  2351,  6795],\n",
        "    [ 1241,  5685,  9108,  2352,  6796]])\n",
        "print(' Alternate Columns '.center(70, '-'), operation_1(arr1), sep='\\n')\n",
        "print(' Normalized Array '.center(70, '-'), normalization(arr1), sep='\\n')\n"
      ]
    },
    {
      "cell_type": "markdown",
      "metadata": {
        "id": "jCzsVEKLgGNo"
      },
      "source": [
        "### 🎯 **Q19: Find the nth Largest Element in a 1D Array**\n",
        "\n",
        "1. **Problem Statement**:  \n",
        "   Write a function that accepts two arguments:\n",
        "   - **First**: A 1D NumPy array `arr`.\n",
        "   - **Second**: An integer `n`, where `n <= len(arr)`.\n",
        "\n",
        "   The function should return the **nth largest** element in the array.\n",
        "\n",
        "2. **Input Format**:\n",
        "   - A 1D NumPy array `arr` with integer values.\n",
        "   - An integer `n` where `n` is less than or equal to the length of the array `arr`.\n",
        "\n",
        "3. **Output Format**:\n",
        "   - The output should be the `nth` largest item in the array `arr`.\n",
        "\n",
        "4. **Examples**:\n",
        "\n",
        "   - **Example 1**:  \n",
        "     Input:\n",
        "     ```python\n",
        "     arr = np.array([12, 34, 40, 7, 1, 0])\n",
        "     n = 3\n",
        "     ```\n",
        "     Output:\n",
        "     ```bash\n",
        "     12\n",
        "     ```\n",
        "\n",
        "   - **Example 2**:  \n",
        "     Input:\n",
        "     ```python\n",
        "     arr = np.array([12, 34, 40, 7, 1, 0])\n",
        "     n = 1\n",
        "     ```\n",
        "     Output:\n",
        "     ```bash\n",
        "     40\n",
        "     ```  "
      ]
    },
    {
      "cell_type": "code",
      "execution_count": 100,
      "metadata": {
        "id": "J4AzkDk7gXSG"
      },
      "outputs": [
        {
          "name": "stdout",
          "output_type": "stream",
          "text": [
            "12\n"
          ]
        }
      ],
      "source": [
        "# Solution - Question 19\n",
        "\n",
        "def nth_largest(arr, n):\n",
        "    sorted_array = np.sort(arr, kind='mergesort')\n",
        "    return sorted_array[-n]\n",
        "\n",
        "arr = np.array([12, 34, 40, 7, 1, 0])\n",
        "n = 3\n",
        "print(nth_largest(arr, n))"
      ]
    },
    {
      "cell_type": "markdown",
      "metadata": {
        "id": "ja0xPCgjhBsg"
      },
      "source": [
        "### 🎯 **Q20: Create a Pattern from a 1D Array**\n",
        "\n",
        "1. **Problem Statement**:  \n",
        "   Given a 1D NumPy array `a`, create a pattern as shown below, without hardcoding. Use only NumPy functions to generate the pattern.\n",
        "\n",
        "2. **Input Format**:\n",
        "   - A 1D NumPy array `a` containing integer values.\n",
        "   \n",
        "3. **Output Format**:\n",
        "   - The output should be a NumPy array following the given pattern rules.\n",
        "   \n",
        "4. **Pattern Explanation**:\n",
        "   The pattern is formed by repeating each element of the array `a` a number of times equal to its value, and then cycling through the elements of the array in a specific order.\n",
        "\n",
        "5. **Example**:\n",
        "\n",
        "   - **Example 1**:  \n",
        "     Input:\n",
        "     ```python\n",
        "     a = np.array([1, 2, 3])\n",
        "     ```\n",
        "     Output:\n",
        "     ```bash\n",
        "     [1, 1, 1, 2, 2, 2, 3, 3, 3, 1, 2, 3, 1, 2, 3, 1, 2, 3]\n",
        "     ```\n",
        "\n",
        "   In this case:\n",
        "   - The element `1` appears 3 times initially.\n",
        "   - The element `2` appears 3 times next.\n",
        "   - The element `3` appears 3 times.\n",
        "   - Then the array repeats the cycle `[1, 2, 3]` multiple times."
      ]
    },
    {
      "cell_type": "code",
      "execution_count": 103,
      "metadata": {
        "id": "CndS8TTNhG0F"
      },
      "outputs": [
        {
          "name": "stdout",
          "output_type": "stream",
          "text": [
            "[1 1 1 2 2 2 3 3 3 1 2 3 1 2 3 1 2 3]\n"
          ]
        }
      ],
      "source": [
        "# Solution - Question 20\n",
        "\n",
        "def create_pattern(array):\n",
        "    return np.ravel(np.array([np.repeat(array, array.size), np.tile(array, array.size)]))\n",
        "\n",
        "a = np.array([1, 2, 3])\n",
        "print(create_pattern(a))"
      ]
    }
  ],
  "metadata": {
    "colab": {
      "provenance": []
    },
    "kernelspec": {
      "display_name": "Python 3",
      "name": "python3"
    },
    "language_info": {
      "codemirror_mode": {
        "name": "ipython",
        "version": 3
      },
      "file_extension": ".py",
      "mimetype": "text/x-python",
      "name": "python",
      "nbconvert_exporter": "python",
      "pygments_lexer": "ipython3",
      "version": "3.12.5"
    }
  },
  "nbformat": 4,
  "nbformat_minor": 0
}
