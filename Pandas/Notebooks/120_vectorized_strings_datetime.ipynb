{
 "cells": [
  {
   "cell_type": "markdown",
   "id": "da2e69b2",
   "metadata": {},
   "source": [
    "# **Article 120 : Vectorized Strings Opertions & DateTime in Pandas** [![Static Badge](https://img.shields.io/badge/Open%20in%20Colab%20-%20orange?style=plastic&logo=googlecolab&labelColor=grey)](https://colab.research.google.com/github/sshrizvi/DS-Python/blob/main/Pandas/Notebooks/120_vectorized_strings_datetime.ipynb)\n",
    "\n",
    "|🔴 **NOTE** 🔴|\n",
    "|:-----------:|\n",
    "|This notebook contains the practical implementations of the concepts discussed in the following article.|\n",
    "| Here is Article 120 - [Vectorized Strings Opertions & DateTime in Pandas](../Articles/120_vectorized_strings_datetime.md) |"
   ]
  },
  {
   "cell_type": "markdown",
   "id": "a4e22d69",
   "metadata": {},
   "source": [
    "### 📦 **Importing Relevant Libraries**"
   ]
  },
  {
   "cell_type": "code",
   "execution_count": 193,
   "id": "e554151b",
   "metadata": {},
   "outputs": [],
   "source": [
    "import numpy as np\n",
    "import pandas as pd\n",
    "import seaborn as sns\n",
    "import matplotlib.pyplot as plt\n",
    "import datetime as dt"
   ]
  },
  {
   "cell_type": "markdown",
   "id": "209bedc2",
   "metadata": {},
   "source": [
    "### ⚠️ **Data Warning**\n",
    "For the code ahead we will be using the `tips` data of a restaurant from `seaborn` library and `expense_data.csv` which is in [Resources](../Resources/Data/) folder."
   ]
  },
  {
   "cell_type": "markdown",
   "id": "53d6957e",
   "metadata": {},
   "source": [
    "#### **Reading Data into DataFrame**"
   ]
  },
  {
   "cell_type": "code",
   "execution_count": 3,
   "id": "e8a57b07",
   "metadata": {},
   "outputs": [],
   "source": [
    "tips_df = sns.load_dataset('tips')"
   ]
  },
  {
   "cell_type": "code",
   "execution_count": 29,
   "id": "668b3c2e",
   "metadata": {},
   "outputs": [],
   "source": [
    "expense_df = pd.read_csv(\n",
    "    filepath_or_buffer = '../Resources/Data/expense_data.csv'\n",
    ")"
   ]
  },
  {
   "cell_type": "markdown",
   "id": "6d80ecf8",
   "metadata": {},
   "source": [
    "### 🚀 **Pivot Table**"
   ]
  },
  {
   "cell_type": "markdown",
   "id": "8851c849",
   "metadata": {},
   "source": [
    "#### **1. Tips Data from Seaborn**"
   ]
  },
  {
   "cell_type": "markdown",
   "id": "97210c26",
   "metadata": {},
   "source": [
    "Trying to find out the Average Bill Value Based on Sex and Smoker"
   ]
  },
  {
   "cell_type": "code",
   "execution_count": null,
   "id": "a74da9bc",
   "metadata": {},
   "outputs": [],
   "source": [
    "sex_smoker_pt = tips_df.pivot_table(\n",
    "    values = 'total_bill',\n",
    "    index = 'sex',\n",
    "    columns = 'smoker',\n",
    "    observed = False\n",
    ")"
   ]
  },
  {
   "cell_type": "code",
   "execution_count": 16,
   "id": "9f2c2319",
   "metadata": {},
   "outputs": [
    {
     "data": {
      "text/plain": [
       "'Average Bill Value of Female Smoker = 17.98'"
      ]
     },
     "execution_count": 16,
     "metadata": {},
     "output_type": "execute_result"
    }
   ],
   "source": [
    "'Average Bill Value of Female Smoker = ' + str(\n",
    "        sex_smoker_pt.loc['Female', 'Yes'].round(decimals = 2)\n",
    ")"
   ]
  },
  {
   "cell_type": "code",
   "execution_count": 20,
   "id": "baf49c54",
   "metadata": {},
   "outputs": [
    {
     "data": {
      "text/plain": [
       "'Average Bill Value of Female Non-Smoker = 18.11'"
      ]
     },
     "execution_count": 20,
     "metadata": {},
     "output_type": "execute_result"
    }
   ],
   "source": [
    "'Average Bill Value of Female Non-Smoker = ' + str(\n",
    "        sex_smoker_pt.loc['Female', 'No'].round(decimals = 2)\n",
    ")"
   ]
  },
  {
   "cell_type": "code",
   "execution_count": 19,
   "id": "9b8edbd1",
   "metadata": {},
   "outputs": [
    {
     "data": {
      "text/plain": [
       "'Average Bill Value of Male Smoker = 22.28'"
      ]
     },
     "execution_count": 19,
     "metadata": {},
     "output_type": "execute_result"
    }
   ],
   "source": [
    "'Average Bill Value of Male Smoker = ' + str(\n",
    "        sex_smoker_pt.loc['Male', 'Yes'].round(decimals = 2)\n",
    ")"
   ]
  },
  {
   "cell_type": "code",
   "execution_count": 21,
   "id": "18962fec",
   "metadata": {},
   "outputs": [
    {
     "data": {
      "text/plain": [
       "'Average Bill Value of Male Non-Smoker = 19.79'"
      ]
     },
     "execution_count": 21,
     "metadata": {},
     "output_type": "execute_result"
    }
   ],
   "source": [
    "'Average Bill Value of Male Non-Smoker = ' + str(\n",
    "        sex_smoker_pt.loc['Male', 'No'].round(decimals = 2)\n",
    ")"
   ]
  },
  {
   "cell_type": "markdown",
   "id": "e6378b78",
   "metadata": {},
   "source": [
    "Let's Try to Find out Average Bill Value, Tip, and Size Based on Sex and Smoker"
   ]
  },
  {
   "cell_type": "code",
   "execution_count": 23,
   "id": "60915ad1",
   "metadata": {},
   "outputs": [],
   "source": [
    "all_sex_smoker_pt = tips_df.pivot_table(\n",
    "    values = ['total_bill', 'tip', 'size'],\n",
    "    index = 'sex',\n",
    "    columns = 'smoker',\n",
    "    observed = False\n",
    ")"
   ]
  },
  {
   "cell_type": "code",
   "execution_count": 24,
   "id": "6852b675",
   "metadata": {},
   "outputs": [
    {
     "data": {
      "text/html": [
       "<div>\n",
       "<style scoped>\n",
       "    .dataframe tbody tr th:only-of-type {\n",
       "        vertical-align: middle;\n",
       "    }\n",
       "\n",
       "    .dataframe tbody tr th {\n",
       "        vertical-align: top;\n",
       "    }\n",
       "\n",
       "    .dataframe thead tr th {\n",
       "        text-align: left;\n",
       "    }\n",
       "\n",
       "    .dataframe thead tr:last-of-type th {\n",
       "        text-align: right;\n",
       "    }\n",
       "</style>\n",
       "<table border=\"1\" class=\"dataframe\">\n",
       "  <thead>\n",
       "    <tr>\n",
       "      <th></th>\n",
       "      <th colspan=\"2\" halign=\"left\">size</th>\n",
       "      <th colspan=\"2\" halign=\"left\">tip</th>\n",
       "      <th colspan=\"2\" halign=\"left\">total_bill</th>\n",
       "    </tr>\n",
       "    <tr>\n",
       "      <th>smoker</th>\n",
       "      <th>Yes</th>\n",
       "      <th>No</th>\n",
       "      <th>Yes</th>\n",
       "      <th>No</th>\n",
       "      <th>Yes</th>\n",
       "      <th>No</th>\n",
       "    </tr>\n",
       "    <tr>\n",
       "      <th>sex</th>\n",
       "      <th></th>\n",
       "      <th></th>\n",
       "      <th></th>\n",
       "      <th></th>\n",
       "      <th></th>\n",
       "      <th></th>\n",
       "    </tr>\n",
       "  </thead>\n",
       "  <tbody>\n",
       "    <tr>\n",
       "      <th>Male</th>\n",
       "      <td>2.500000</td>\n",
       "      <td>2.711340</td>\n",
       "      <td>3.051167</td>\n",
       "      <td>3.113402</td>\n",
       "      <td>22.284500</td>\n",
       "      <td>19.791237</td>\n",
       "    </tr>\n",
       "    <tr>\n",
       "      <th>Female</th>\n",
       "      <td>2.242424</td>\n",
       "      <td>2.592593</td>\n",
       "      <td>2.931515</td>\n",
       "      <td>2.773519</td>\n",
       "      <td>17.977879</td>\n",
       "      <td>18.105185</td>\n",
       "    </tr>\n",
       "  </tbody>\n",
       "</table>\n",
       "</div>"
      ],
      "text/plain": [
       "            size                 tip           total_bill           \n",
       "smoker       Yes        No       Yes        No        Yes         No\n",
       "sex                                                                 \n",
       "Male    2.500000  2.711340  3.051167  3.113402  22.284500  19.791237\n",
       "Female  2.242424  2.592593  2.931515  2.773519  17.977879  18.105185"
      ]
     },
     "execution_count": 24,
     "metadata": {},
     "output_type": "execute_result"
    }
   ],
   "source": [
    "all_sex_smoker_pt"
   ]
  },
  {
   "cell_type": "markdown",
   "id": "fc57e0f8",
   "metadata": {},
   "source": [
    "Now let's take an example that allows us to analyze values on our own choice of function."
   ]
  },
  {
   "cell_type": "code",
   "execution_count": 26,
   "id": "480f8370",
   "metadata": {},
   "outputs": [
    {
     "data": {
      "text/html": [
       "<div>\n",
       "<style scoped>\n",
       "    .dataframe tbody tr th:only-of-type {\n",
       "        vertical-align: middle;\n",
       "    }\n",
       "\n",
       "    .dataframe tbody tr th {\n",
       "        vertical-align: top;\n",
       "    }\n",
       "\n",
       "    .dataframe thead tr th {\n",
       "        text-align: left;\n",
       "    }\n",
       "\n",
       "    .dataframe thead tr:last-of-type th {\n",
       "        text-align: right;\n",
       "    }\n",
       "</style>\n",
       "<table border=\"1\" class=\"dataframe\">\n",
       "  <thead>\n",
       "    <tr>\n",
       "      <th></th>\n",
       "      <th colspan=\"4\" halign=\"left\">size</th>\n",
       "      <th colspan=\"2\" halign=\"left\">tip</th>\n",
       "      <th colspan=\"2\" halign=\"left\">total_bill</th>\n",
       "    </tr>\n",
       "    <tr>\n",
       "      <th></th>\n",
       "      <th colspan=\"2\" halign=\"left\">max</th>\n",
       "      <th colspan=\"2\" halign=\"left\">min</th>\n",
       "      <th colspan=\"2\" halign=\"left\">max</th>\n",
       "      <th colspan=\"2\" halign=\"left\">sum</th>\n",
       "    </tr>\n",
       "    <tr>\n",
       "      <th>smoker</th>\n",
       "      <th>Yes</th>\n",
       "      <th>No</th>\n",
       "      <th>Yes</th>\n",
       "      <th>No</th>\n",
       "      <th>Yes</th>\n",
       "      <th>No</th>\n",
       "      <th>Yes</th>\n",
       "      <th>No</th>\n",
       "    </tr>\n",
       "    <tr>\n",
       "      <th>sex</th>\n",
       "      <th></th>\n",
       "      <th></th>\n",
       "      <th></th>\n",
       "      <th></th>\n",
       "      <th></th>\n",
       "      <th></th>\n",
       "      <th></th>\n",
       "      <th></th>\n",
       "    </tr>\n",
       "  </thead>\n",
       "  <tbody>\n",
       "    <tr>\n",
       "      <th>Male</th>\n",
       "      <td>5</td>\n",
       "      <td>6</td>\n",
       "      <td>1</td>\n",
       "      <td>2</td>\n",
       "      <td>10.0</td>\n",
       "      <td>9.0</td>\n",
       "      <td>1337.07</td>\n",
       "      <td>1919.75</td>\n",
       "    </tr>\n",
       "    <tr>\n",
       "      <th>Female</th>\n",
       "      <td>4</td>\n",
       "      <td>6</td>\n",
       "      <td>1</td>\n",
       "      <td>1</td>\n",
       "      <td>6.5</td>\n",
       "      <td>5.2</td>\n",
       "      <td>593.27</td>\n",
       "      <td>977.68</td>\n",
       "    </tr>\n",
       "  </tbody>\n",
       "</table>\n",
       "</div>"
      ],
      "text/plain": [
       "       size             tip      total_bill         \n",
       "        max    min      max             sum         \n",
       "smoker  Yes No Yes No   Yes   No        Yes       No\n",
       "sex                                                 \n",
       "Male      5  6   1  2  10.0  9.0    1337.07  1919.75\n",
       "Female    4  6   1  1   6.5  5.2     593.27   977.68"
      ]
     },
     "execution_count": 26,
     "metadata": {},
     "output_type": "execute_result"
    }
   ],
   "source": [
    "tips_df.pivot_table(\n",
    "    values = [\n",
    "        'total_bill',\n",
    "        'tip',\n",
    "        'size'\n",
    "    ],\n",
    "    index = 'sex',\n",
    "    columns = 'smoker',\n",
    "    aggfunc = {\n",
    "        'total_bill' : 'sum',\n",
    "        'tip' : 'max',\n",
    "        'size': ['min', 'max']\n",
    "    },\n",
    "    observed = False\n",
    ")"
   ]
  },
  {
   "cell_type": "code",
   "execution_count": 28,
   "id": "54475811",
   "metadata": {},
   "outputs": [
    {
     "data": {
      "text/html": [
       "<div>\n",
       "<style scoped>\n",
       "    .dataframe tbody tr th:only-of-type {\n",
       "        vertical-align: middle;\n",
       "    }\n",
       "\n",
       "    .dataframe tbody tr th {\n",
       "        vertical-align: top;\n",
       "    }\n",
       "\n",
       "    .dataframe thead tr th {\n",
       "        text-align: left;\n",
       "    }\n",
       "\n",
       "    .dataframe thead tr:last-of-type th {\n",
       "        text-align: right;\n",
       "    }\n",
       "</style>\n",
       "<table border=\"1\" class=\"dataframe\">\n",
       "  <thead>\n",
       "    <tr>\n",
       "      <th></th>\n",
       "      <th></th>\n",
       "      <th colspan=\"4\" halign=\"left\">size</th>\n",
       "      <th colspan=\"2\" halign=\"left\">tip</th>\n",
       "      <th colspan=\"2\" halign=\"left\">total_bill</th>\n",
       "    </tr>\n",
       "    <tr>\n",
       "      <th></th>\n",
       "      <th></th>\n",
       "      <th colspan=\"2\" halign=\"left\">max</th>\n",
       "      <th colspan=\"2\" halign=\"left\">min</th>\n",
       "      <th colspan=\"2\" halign=\"left\">max</th>\n",
       "      <th colspan=\"2\" halign=\"left\">sum</th>\n",
       "    </tr>\n",
       "    <tr>\n",
       "      <th></th>\n",
       "      <th>smoker</th>\n",
       "      <th>Yes</th>\n",
       "      <th>No</th>\n",
       "      <th>Yes</th>\n",
       "      <th>No</th>\n",
       "      <th>Yes</th>\n",
       "      <th>No</th>\n",
       "      <th>Yes</th>\n",
       "      <th>No</th>\n",
       "    </tr>\n",
       "    <tr>\n",
       "      <th>sex</th>\n",
       "      <th>day</th>\n",
       "      <th></th>\n",
       "      <th></th>\n",
       "      <th></th>\n",
       "      <th></th>\n",
       "      <th></th>\n",
       "      <th></th>\n",
       "      <th></th>\n",
       "      <th></th>\n",
       "    </tr>\n",
       "  </thead>\n",
       "  <tbody>\n",
       "    <tr>\n",
       "      <th rowspan=\"4\" valign=\"top\">Male</th>\n",
       "      <th>Thur</th>\n",
       "      <td>4</td>\n",
       "      <td>6</td>\n",
       "      <td>2</td>\n",
       "      <td>2</td>\n",
       "      <td>5.00</td>\n",
       "      <td>6.70</td>\n",
       "      <td>191.71</td>\n",
       "      <td>369.73</td>\n",
       "    </tr>\n",
       "    <tr>\n",
       "      <th>Fri</th>\n",
       "      <td>4</td>\n",
       "      <td>2</td>\n",
       "      <td>1</td>\n",
       "      <td>2</td>\n",
       "      <td>4.73</td>\n",
       "      <td>3.50</td>\n",
       "      <td>163.62</td>\n",
       "      <td>34.95</td>\n",
       "    </tr>\n",
       "    <tr>\n",
       "      <th>Sat</th>\n",
       "      <td>5</td>\n",
       "      <td>4</td>\n",
       "      <td>2</td>\n",
       "      <td>2</td>\n",
       "      <td>10.00</td>\n",
       "      <td>9.00</td>\n",
       "      <td>589.62</td>\n",
       "      <td>637.73</td>\n",
       "    </tr>\n",
       "    <tr>\n",
       "      <th>Sun</th>\n",
       "      <td>5</td>\n",
       "      <td>6</td>\n",
       "      <td>2</td>\n",
       "      <td>2</td>\n",
       "      <td>6.50</td>\n",
       "      <td>6.00</td>\n",
       "      <td>392.12</td>\n",
       "      <td>877.34</td>\n",
       "    </tr>\n",
       "    <tr>\n",
       "      <th rowspan=\"4\" valign=\"top\">Female</th>\n",
       "      <th>Thur</th>\n",
       "      <td>4</td>\n",
       "      <td>6</td>\n",
       "      <td>2</td>\n",
       "      <td>1</td>\n",
       "      <td>5.00</td>\n",
       "      <td>5.17</td>\n",
       "      <td>134.53</td>\n",
       "      <td>400.36</td>\n",
       "    </tr>\n",
       "    <tr>\n",
       "      <th>Fri</th>\n",
       "      <td>2</td>\n",
       "      <td>3</td>\n",
       "      <td>2</td>\n",
       "      <td>2</td>\n",
       "      <td>4.30</td>\n",
       "      <td>3.25</td>\n",
       "      <td>88.58</td>\n",
       "      <td>38.73</td>\n",
       "    </tr>\n",
       "    <tr>\n",
       "      <th>Sat</th>\n",
       "      <td>4</td>\n",
       "      <td>4</td>\n",
       "      <td>1</td>\n",
       "      <td>1</td>\n",
       "      <td>6.50</td>\n",
       "      <td>4.67</td>\n",
       "      <td>304.00</td>\n",
       "      <td>247.05</td>\n",
       "    </tr>\n",
       "    <tr>\n",
       "      <th>Sun</th>\n",
       "      <td>3</td>\n",
       "      <td>5</td>\n",
       "      <td>2</td>\n",
       "      <td>2</td>\n",
       "      <td>4.00</td>\n",
       "      <td>5.20</td>\n",
       "      <td>66.16</td>\n",
       "      <td>291.54</td>\n",
       "    </tr>\n",
       "  </tbody>\n",
       "</table>\n",
       "</div>"
      ],
      "text/plain": [
       "            size              tip       total_bill        \n",
       "             max    min       max              sum        \n",
       "smoker       Yes No Yes No    Yes    No        Yes      No\n",
       "sex    day                                                \n",
       "Male   Thur    4  6   2  2   5.00  6.70     191.71  369.73\n",
       "       Fri     4  2   1  2   4.73  3.50     163.62   34.95\n",
       "       Sat     5  4   2  2  10.00  9.00     589.62  637.73\n",
       "       Sun     5  6   2  2   6.50  6.00     392.12  877.34\n",
       "Female Thur    4  6   2  1   5.00  5.17     134.53  400.36\n",
       "       Fri     2  3   2  2   4.30  3.25      88.58   38.73\n",
       "       Sat     4  4   1  1   6.50  4.67     304.00  247.05\n",
       "       Sun     3  5   2  2   4.00  5.20      66.16  291.54"
      ]
     },
     "execution_count": 28,
     "metadata": {},
     "output_type": "execute_result"
    }
   ],
   "source": [
    "tips_df.pivot_table(\n",
    "    values = [\n",
    "        'total_bill',\n",
    "        'tip',\n",
    "        'size'\n",
    "    ],\n",
    "    index = [\n",
    "      'sex',\n",
    "      'day'  \n",
    "    ],\n",
    "    columns = 'smoker',\n",
    "    aggfunc = {\n",
    "        'total_bill' : 'sum',\n",
    "        'tip' : 'max',\n",
    "        'size': ['min', 'max']\n",
    "    },\n",
    "    observed = False\n",
    ")"
   ]
  },
  {
   "cell_type": "markdown",
   "id": "75961ea3",
   "metadata": {},
   "source": [
    "Now, we have Average Bill Value Based on Sex and Smoker (including categories and for All values)"
   ]
  },
  {
   "cell_type": "code",
   "execution_count": 35,
   "id": "001d16b9",
   "metadata": {},
   "outputs": [
    {
     "data": {
      "text/html": [
       "<div>\n",
       "<style scoped>\n",
       "    .dataframe tbody tr th:only-of-type {\n",
       "        vertical-align: middle;\n",
       "    }\n",
       "\n",
       "    .dataframe tbody tr th {\n",
       "        vertical-align: top;\n",
       "    }\n",
       "\n",
       "    .dataframe thead th {\n",
       "        text-align: right;\n",
       "    }\n",
       "</style>\n",
       "<table border=\"1\" class=\"dataframe\">\n",
       "  <thead>\n",
       "    <tr style=\"text-align: right;\">\n",
       "      <th>smoker</th>\n",
       "      <th>Yes</th>\n",
       "      <th>No</th>\n",
       "      <th>All</th>\n",
       "    </tr>\n",
       "    <tr>\n",
       "      <th>sex</th>\n",
       "      <th></th>\n",
       "      <th></th>\n",
       "      <th></th>\n",
       "    </tr>\n",
       "  </thead>\n",
       "  <tbody>\n",
       "    <tr>\n",
       "      <th>Male</th>\n",
       "      <td>22.284500</td>\n",
       "      <td>19.791237</td>\n",
       "      <td>20.744076</td>\n",
       "    </tr>\n",
       "    <tr>\n",
       "      <th>Female</th>\n",
       "      <td>17.977879</td>\n",
       "      <td>18.105185</td>\n",
       "      <td>18.056897</td>\n",
       "    </tr>\n",
       "    <tr>\n",
       "      <th>All</th>\n",
       "      <td>20.756344</td>\n",
       "      <td>19.188278</td>\n",
       "      <td>19.785943</td>\n",
       "    </tr>\n",
       "  </tbody>\n",
       "</table>\n",
       "</div>"
      ],
      "text/plain": [
       "smoker        Yes         No        All\n",
       "sex                                    \n",
       "Male    22.284500  19.791237  20.744076\n",
       "Female  17.977879  18.105185  18.056897\n",
       "All     20.756344  19.188278  19.785943"
      ]
     },
     "execution_count": 35,
     "metadata": {},
     "output_type": "execute_result"
    }
   ],
   "source": [
    "tips_df.pivot_table(\n",
    "    values = 'total_bill',\n",
    "    index = 'sex',\n",
    "    columns = 'smoker',\n",
    "    margins = True,\n",
    "    observed = False\n",
    ")"
   ]
  },
  {
   "cell_type": "markdown",
   "id": "92bbf1a8",
   "metadata": {},
   "source": [
    "#### **2. Expense Data**"
   ]
  },
  {
   "cell_type": "code",
   "execution_count": 46,
   "id": "8a94ca2b",
   "metadata": {},
   "outputs": [
    {
     "data": {
      "text/html": [
       "<div>\n",
       "<style scoped>\n",
       "    .dataframe tbody tr th:only-of-type {\n",
       "        vertical-align: middle;\n",
       "    }\n",
       "\n",
       "    .dataframe tbody tr th {\n",
       "        vertical-align: top;\n",
       "    }\n",
       "\n",
       "    .dataframe thead th {\n",
       "        text-align: right;\n",
       "    }\n",
       "</style>\n",
       "<table border=\"1\" class=\"dataframe\">\n",
       "  <thead>\n",
       "    <tr style=\"text-align: right;\">\n",
       "      <th></th>\n",
       "      <th>Date</th>\n",
       "      <th>Account</th>\n",
       "      <th>Category</th>\n",
       "      <th>Subcategory</th>\n",
       "      <th>Note</th>\n",
       "      <th>INR</th>\n",
       "      <th>Income/Expense</th>\n",
       "      <th>Note.1</th>\n",
       "      <th>Amount</th>\n",
       "      <th>Currency</th>\n",
       "      <th>Account.1</th>\n",
       "    </tr>\n",
       "  </thead>\n",
       "  <tbody>\n",
       "    <tr>\n",
       "      <th>0</th>\n",
       "      <td>3/2/2022 10:11</td>\n",
       "      <td>CUB - online payment</td>\n",
       "      <td>Food</td>\n",
       "      <td>NaN</td>\n",
       "      <td>Brownie</td>\n",
       "      <td>50.0</td>\n",
       "      <td>Expense</td>\n",
       "      <td>NaN</td>\n",
       "      <td>50.0</td>\n",
       "      <td>INR</td>\n",
       "      <td>50.0</td>\n",
       "    </tr>\n",
       "    <tr>\n",
       "      <th>1</th>\n",
       "      <td>3/2/2022 10:11</td>\n",
       "      <td>CUB - online payment</td>\n",
       "      <td>Other</td>\n",
       "      <td>NaN</td>\n",
       "      <td>To lended people</td>\n",
       "      <td>300.0</td>\n",
       "      <td>Expense</td>\n",
       "      <td>NaN</td>\n",
       "      <td>300.0</td>\n",
       "      <td>INR</td>\n",
       "      <td>300.0</td>\n",
       "    </tr>\n",
       "    <tr>\n",
       "      <th>2</th>\n",
       "      <td>3/1/2022 19:50</td>\n",
       "      <td>CUB - online payment</td>\n",
       "      <td>Food</td>\n",
       "      <td>NaN</td>\n",
       "      <td>Dinner</td>\n",
       "      <td>78.0</td>\n",
       "      <td>Expense</td>\n",
       "      <td>NaN</td>\n",
       "      <td>78.0</td>\n",
       "      <td>INR</td>\n",
       "      <td>78.0</td>\n",
       "    </tr>\n",
       "    <tr>\n",
       "      <th>3</th>\n",
       "      <td>3/1/2022 18:56</td>\n",
       "      <td>CUB - online payment</td>\n",
       "      <td>Transportation</td>\n",
       "      <td>NaN</td>\n",
       "      <td>Metro</td>\n",
       "      <td>30.0</td>\n",
       "      <td>Expense</td>\n",
       "      <td>NaN</td>\n",
       "      <td>30.0</td>\n",
       "      <td>INR</td>\n",
       "      <td>30.0</td>\n",
       "    </tr>\n",
       "    <tr>\n",
       "      <th>4</th>\n",
       "      <td>3/1/2022 18:22</td>\n",
       "      <td>CUB - online payment</td>\n",
       "      <td>Food</td>\n",
       "      <td>NaN</td>\n",
       "      <td>Snacks</td>\n",
       "      <td>67.0</td>\n",
       "      <td>Expense</td>\n",
       "      <td>NaN</td>\n",
       "      <td>67.0</td>\n",
       "      <td>INR</td>\n",
       "      <td>67.0</td>\n",
       "    </tr>\n",
       "    <tr>\n",
       "      <th>...</th>\n",
       "      <td>...</td>\n",
       "      <td>...</td>\n",
       "      <td>...</td>\n",
       "      <td>...</td>\n",
       "      <td>...</td>\n",
       "      <td>...</td>\n",
       "      <td>...</td>\n",
       "      <td>...</td>\n",
       "      <td>...</td>\n",
       "      <td>...</td>\n",
       "      <td>...</td>\n",
       "    </tr>\n",
       "    <tr>\n",
       "      <th>272</th>\n",
       "      <td>11/22/2021 14:16</td>\n",
       "      <td>CUB - online payment</td>\n",
       "      <td>Food</td>\n",
       "      <td>NaN</td>\n",
       "      <td>Dinner</td>\n",
       "      <td>90.0</td>\n",
       "      <td>Expense</td>\n",
       "      <td>NaN</td>\n",
       "      <td>90.0</td>\n",
       "      <td>INR</td>\n",
       "      <td>90.0</td>\n",
       "    </tr>\n",
       "    <tr>\n",
       "      <th>273</th>\n",
       "      <td>11/22/2021 14:16</td>\n",
       "      <td>CUB - online payment</td>\n",
       "      <td>Food</td>\n",
       "      <td>NaN</td>\n",
       "      <td>Lunch with company</td>\n",
       "      <td>97.0</td>\n",
       "      <td>Expense</td>\n",
       "      <td>NaN</td>\n",
       "      <td>97.0</td>\n",
       "      <td>INR</td>\n",
       "      <td>97.0</td>\n",
       "    </tr>\n",
       "    <tr>\n",
       "      <th>274</th>\n",
       "      <td>11/21/2021 17:07</td>\n",
       "      <td>CUB - online payment</td>\n",
       "      <td>Transportation</td>\n",
       "      <td>NaN</td>\n",
       "      <td>Rapido</td>\n",
       "      <td>130.0</td>\n",
       "      <td>Expense</td>\n",
       "      <td>NaN</td>\n",
       "      <td>130.0</td>\n",
       "      <td>INR</td>\n",
       "      <td>130.0</td>\n",
       "    </tr>\n",
       "    <tr>\n",
       "      <th>275</th>\n",
       "      <td>11/21/2021 15:50</td>\n",
       "      <td>CUB - online payment</td>\n",
       "      <td>Food</td>\n",
       "      <td>NaN</td>\n",
       "      <td>Lunch</td>\n",
       "      <td>875.0</td>\n",
       "      <td>Expense</td>\n",
       "      <td>NaN</td>\n",
       "      <td>875.0</td>\n",
       "      <td>INR</td>\n",
       "      <td>875.0</td>\n",
       "    </tr>\n",
       "    <tr>\n",
       "      <th>276</th>\n",
       "      <td>11/21/2021 13:30</td>\n",
       "      <td>CUB - online payment</td>\n",
       "      <td>Other</td>\n",
       "      <td>NaN</td>\n",
       "      <td>Got from gobi</td>\n",
       "      <td>2000.0</td>\n",
       "      <td>Income</td>\n",
       "      <td>NaN</td>\n",
       "      <td>2000.0</td>\n",
       "      <td>INR</td>\n",
       "      <td>2000.0</td>\n",
       "    </tr>\n",
       "  </tbody>\n",
       "</table>\n",
       "<p>277 rows × 11 columns</p>\n",
       "</div>"
      ],
      "text/plain": [
       "                 Date               Account        Category  Subcategory  \\\n",
       "0      3/2/2022 10:11  CUB - online payment            Food          NaN   \n",
       "1      3/2/2022 10:11  CUB - online payment           Other          NaN   \n",
       "2      3/1/2022 19:50  CUB - online payment            Food          NaN   \n",
       "3      3/1/2022 18:56  CUB - online payment  Transportation          NaN   \n",
       "4      3/1/2022 18:22  CUB - online payment            Food          NaN   \n",
       "..                ...                   ...             ...          ...   \n",
       "272  11/22/2021 14:16  CUB - online payment            Food          NaN   \n",
       "273  11/22/2021 14:16  CUB - online payment            Food          NaN   \n",
       "274  11/21/2021 17:07  CUB - online payment  Transportation          NaN   \n",
       "275  11/21/2021 15:50  CUB - online payment            Food          NaN   \n",
       "276  11/21/2021 13:30  CUB - online payment           Other          NaN   \n",
       "\n",
       "                   Note     INR Income/Expense  Note.1  Amount Currency  \\\n",
       "0               Brownie    50.0        Expense     NaN    50.0      INR   \n",
       "1      To lended people   300.0        Expense     NaN   300.0      INR   \n",
       "2                Dinner    78.0        Expense     NaN    78.0      INR   \n",
       "3                 Metro    30.0        Expense     NaN    30.0      INR   \n",
       "4                Snacks    67.0        Expense     NaN    67.0      INR   \n",
       "..                  ...     ...            ...     ...     ...      ...   \n",
       "272              Dinner    90.0        Expense     NaN    90.0      INR   \n",
       "273  Lunch with company    97.0        Expense     NaN    97.0      INR   \n",
       "274              Rapido   130.0        Expense     NaN   130.0      INR   \n",
       "275               Lunch   875.0        Expense     NaN   875.0      INR   \n",
       "276       Got from gobi  2000.0         Income     NaN  2000.0      INR   \n",
       "\n",
       "     Account.1  \n",
       "0         50.0  \n",
       "1        300.0  \n",
       "2         78.0  \n",
       "3         30.0  \n",
       "4         67.0  \n",
       "..         ...  \n",
       "272       90.0  \n",
       "273       97.0  \n",
       "274      130.0  \n",
       "275      875.0  \n",
       "276     2000.0  \n",
       "\n",
       "[277 rows x 11 columns]"
      ]
     },
     "execution_count": 46,
     "metadata": {},
     "output_type": "execute_result"
    }
   ],
   "source": [
    "expense_df"
   ]
  },
  {
   "cell_type": "markdown",
   "id": "9e059d2e",
   "metadata": {},
   "source": [
    "Let's drop some unuseful and redundant columns from the `expense_df`."
   ]
  },
  {
   "cell_type": "code",
   "execution_count": 52,
   "id": "5d0e52d6",
   "metadata": {},
   "outputs": [],
   "source": [
    "expense_df.drop(\n",
    "    columns = [\n",
    "        'Account.1',\n",
    "        'Note.1',\n",
    "        'Subcategory'\n",
    "    ],\n",
    "    inplace = True\n",
    ")"
   ]
  },
  {
   "cell_type": "markdown",
   "id": "a9af3119",
   "metadata": {},
   "source": [
    "Checking if the drop worked properly."
   ]
  },
  {
   "cell_type": "code",
   "execution_count": 53,
   "id": "7d46ec95",
   "metadata": {},
   "outputs": [
    {
     "data": {
      "text/html": [
       "<div>\n",
       "<style scoped>\n",
       "    .dataframe tbody tr th:only-of-type {\n",
       "        vertical-align: middle;\n",
       "    }\n",
       "\n",
       "    .dataframe tbody tr th {\n",
       "        vertical-align: top;\n",
       "    }\n",
       "\n",
       "    .dataframe thead th {\n",
       "        text-align: right;\n",
       "    }\n",
       "</style>\n",
       "<table border=\"1\" class=\"dataframe\">\n",
       "  <thead>\n",
       "    <tr style=\"text-align: right;\">\n",
       "      <th></th>\n",
       "      <th>Date</th>\n",
       "      <th>Account</th>\n",
       "      <th>Category</th>\n",
       "      <th>Note</th>\n",
       "      <th>INR</th>\n",
       "      <th>Income/Expense</th>\n",
       "      <th>Amount</th>\n",
       "      <th>Currency</th>\n",
       "    </tr>\n",
       "  </thead>\n",
       "  <tbody>\n",
       "    <tr>\n",
       "      <th>0</th>\n",
       "      <td>3/2/2022 10:11</td>\n",
       "      <td>CUB - online payment</td>\n",
       "      <td>Food</td>\n",
       "      <td>Brownie</td>\n",
       "      <td>50.0</td>\n",
       "      <td>Expense</td>\n",
       "      <td>50.0</td>\n",
       "      <td>INR</td>\n",
       "    </tr>\n",
       "    <tr>\n",
       "      <th>1</th>\n",
       "      <td>3/2/2022 10:11</td>\n",
       "      <td>CUB - online payment</td>\n",
       "      <td>Other</td>\n",
       "      <td>To lended people</td>\n",
       "      <td>300.0</td>\n",
       "      <td>Expense</td>\n",
       "      <td>300.0</td>\n",
       "      <td>INR</td>\n",
       "    </tr>\n",
       "    <tr>\n",
       "      <th>2</th>\n",
       "      <td>3/1/2022 19:50</td>\n",
       "      <td>CUB - online payment</td>\n",
       "      <td>Food</td>\n",
       "      <td>Dinner</td>\n",
       "      <td>78.0</td>\n",
       "      <td>Expense</td>\n",
       "      <td>78.0</td>\n",
       "      <td>INR</td>\n",
       "    </tr>\n",
       "    <tr>\n",
       "      <th>3</th>\n",
       "      <td>3/1/2022 18:56</td>\n",
       "      <td>CUB - online payment</td>\n",
       "      <td>Transportation</td>\n",
       "      <td>Metro</td>\n",
       "      <td>30.0</td>\n",
       "      <td>Expense</td>\n",
       "      <td>30.0</td>\n",
       "      <td>INR</td>\n",
       "    </tr>\n",
       "    <tr>\n",
       "      <th>4</th>\n",
       "      <td>3/1/2022 18:22</td>\n",
       "      <td>CUB - online payment</td>\n",
       "      <td>Food</td>\n",
       "      <td>Snacks</td>\n",
       "      <td>67.0</td>\n",
       "      <td>Expense</td>\n",
       "      <td>67.0</td>\n",
       "      <td>INR</td>\n",
       "    </tr>\n",
       "    <tr>\n",
       "      <th>...</th>\n",
       "      <td>...</td>\n",
       "      <td>...</td>\n",
       "      <td>...</td>\n",
       "      <td>...</td>\n",
       "      <td>...</td>\n",
       "      <td>...</td>\n",
       "      <td>...</td>\n",
       "      <td>...</td>\n",
       "    </tr>\n",
       "    <tr>\n",
       "      <th>272</th>\n",
       "      <td>11/22/2021 14:16</td>\n",
       "      <td>CUB - online payment</td>\n",
       "      <td>Food</td>\n",
       "      <td>Dinner</td>\n",
       "      <td>90.0</td>\n",
       "      <td>Expense</td>\n",
       "      <td>90.0</td>\n",
       "      <td>INR</td>\n",
       "    </tr>\n",
       "    <tr>\n",
       "      <th>273</th>\n",
       "      <td>11/22/2021 14:16</td>\n",
       "      <td>CUB - online payment</td>\n",
       "      <td>Food</td>\n",
       "      <td>Lunch with company</td>\n",
       "      <td>97.0</td>\n",
       "      <td>Expense</td>\n",
       "      <td>97.0</td>\n",
       "      <td>INR</td>\n",
       "    </tr>\n",
       "    <tr>\n",
       "      <th>274</th>\n",
       "      <td>11/21/2021 17:07</td>\n",
       "      <td>CUB - online payment</td>\n",
       "      <td>Transportation</td>\n",
       "      <td>Rapido</td>\n",
       "      <td>130.0</td>\n",
       "      <td>Expense</td>\n",
       "      <td>130.0</td>\n",
       "      <td>INR</td>\n",
       "    </tr>\n",
       "    <tr>\n",
       "      <th>275</th>\n",
       "      <td>11/21/2021 15:50</td>\n",
       "      <td>CUB - online payment</td>\n",
       "      <td>Food</td>\n",
       "      <td>Lunch</td>\n",
       "      <td>875.0</td>\n",
       "      <td>Expense</td>\n",
       "      <td>875.0</td>\n",
       "      <td>INR</td>\n",
       "    </tr>\n",
       "    <tr>\n",
       "      <th>276</th>\n",
       "      <td>11/21/2021 13:30</td>\n",
       "      <td>CUB - online payment</td>\n",
       "      <td>Other</td>\n",
       "      <td>Got from gobi</td>\n",
       "      <td>2000.0</td>\n",
       "      <td>Income</td>\n",
       "      <td>2000.0</td>\n",
       "      <td>INR</td>\n",
       "    </tr>\n",
       "  </tbody>\n",
       "</table>\n",
       "<p>277 rows × 8 columns</p>\n",
       "</div>"
      ],
      "text/plain": [
       "                 Date               Account        Category  \\\n",
       "0      3/2/2022 10:11  CUB - online payment            Food   \n",
       "1      3/2/2022 10:11  CUB - online payment           Other   \n",
       "2      3/1/2022 19:50  CUB - online payment            Food   \n",
       "3      3/1/2022 18:56  CUB - online payment  Transportation   \n",
       "4      3/1/2022 18:22  CUB - online payment            Food   \n",
       "..                ...                   ...             ...   \n",
       "272  11/22/2021 14:16  CUB - online payment            Food   \n",
       "273  11/22/2021 14:16  CUB - online payment            Food   \n",
       "274  11/21/2021 17:07  CUB - online payment  Transportation   \n",
       "275  11/21/2021 15:50  CUB - online payment            Food   \n",
       "276  11/21/2021 13:30  CUB - online payment           Other   \n",
       "\n",
       "                   Note     INR Income/Expense  Amount Currency  \n",
       "0               Brownie    50.0        Expense    50.0      INR  \n",
       "1      To lended people   300.0        Expense   300.0      INR  \n",
       "2                Dinner    78.0        Expense    78.0      INR  \n",
       "3                 Metro    30.0        Expense    30.0      INR  \n",
       "4                Snacks    67.0        Expense    67.0      INR  \n",
       "..                  ...     ...            ...     ...      ...  \n",
       "272              Dinner    90.0        Expense    90.0      INR  \n",
       "273  Lunch with company    97.0        Expense    97.0      INR  \n",
       "274              Rapido   130.0        Expense   130.0      INR  \n",
       "275               Lunch   875.0        Expense   875.0      INR  \n",
       "276       Got from gobi  2000.0         Income  2000.0      INR  \n",
       "\n",
       "[277 rows x 8 columns]"
      ]
     },
     "execution_count": 53,
     "metadata": {},
     "output_type": "execute_result"
    }
   ],
   "source": [
    "expense_df"
   ]
  },
  {
   "cell_type": "markdown",
   "id": "2cf96141",
   "metadata": {},
   "source": [
    "Converting the `Date` column into `DateTime` dtype."
   ]
  },
  {
   "cell_type": "code",
   "execution_count": 54,
   "id": "54296702",
   "metadata": {},
   "outputs": [],
   "source": [
    "expense_df['Date'] = pd.to_datetime(\n",
    "    expense_df['Date']\n",
    ")"
   ]
  },
  {
   "cell_type": "markdown",
   "id": "440d479a",
   "metadata": {},
   "source": [
    "Checking"
   ]
  },
  {
   "cell_type": "code",
   "execution_count": 55,
   "id": "03d677f2",
   "metadata": {},
   "outputs": [
    {
     "data": {
      "text/plain": [
       "dtype('<M8[ns]')"
      ]
     },
     "execution_count": 55,
     "metadata": {},
     "output_type": "execute_result"
    }
   ],
   "source": [
    "expense_df.Date.dtype"
   ]
  },
  {
   "cell_type": "markdown",
   "id": "af8f66f9",
   "metadata": {},
   "source": [
    "Let's create some more columns using `Date` column so the analysis gets better."
   ]
  },
  {
   "cell_type": "code",
   "execution_count": 81,
   "id": "ee45ea49",
   "metadata": {},
   "outputs": [],
   "source": [
    "expense_df['Month'] = expense_df['Date'].dt.month_name()\n",
    "expense_df['Year'] = expense_df['Date'].dt.year"
   ]
  },
  {
   "cell_type": "markdown",
   "id": "a00b6191",
   "metadata": {},
   "source": [
    "Now, let's perform some Analysis on it using `pivot_table()` function."
   ]
  },
  {
   "cell_type": "markdown",
   "id": "65ad6fb6",
   "metadata": {},
   "source": [
    "Here, the below code gets us a summary of person's expense pattern based on Category and Month."
   ]
  },
  {
   "cell_type": "code",
   "execution_count": 78,
   "id": "67fea8d7",
   "metadata": {},
   "outputs": [
    {
     "data": {
      "text/html": [
       "<div>\n",
       "<style scoped>\n",
       "    .dataframe tbody tr th:only-of-type {\n",
       "        vertical-align: middle;\n",
       "    }\n",
       "\n",
       "    .dataframe tbody tr th {\n",
       "        vertical-align: top;\n",
       "    }\n",
       "\n",
       "    .dataframe thead th {\n",
       "        text-align: right;\n",
       "    }\n",
       "</style>\n",
       "<table border=\"1\" class=\"dataframe\">\n",
       "  <thead>\n",
       "    <tr style=\"text-align: right;\">\n",
       "      <th>Category</th>\n",
       "      <th>Allowance</th>\n",
       "      <th>Apparel</th>\n",
       "      <th>Beauty</th>\n",
       "      <th>Education</th>\n",
       "      <th>Food</th>\n",
       "      <th>Gift</th>\n",
       "      <th>Household</th>\n",
       "      <th>Other</th>\n",
       "      <th>Petty cash</th>\n",
       "      <th>Salary</th>\n",
       "      <th>Self-development</th>\n",
       "      <th>Social Life</th>\n",
       "      <th>Transportation</th>\n",
       "    </tr>\n",
       "    <tr>\n",
       "      <th>Month</th>\n",
       "      <th></th>\n",
       "      <th></th>\n",
       "      <th></th>\n",
       "      <th></th>\n",
       "      <th></th>\n",
       "      <th></th>\n",
       "      <th></th>\n",
       "      <th></th>\n",
       "      <th></th>\n",
       "      <th></th>\n",
       "      <th></th>\n",
       "      <th></th>\n",
       "      <th></th>\n",
       "    </tr>\n",
       "  </thead>\n",
       "  <tbody>\n",
       "    <tr>\n",
       "      <th>December</th>\n",
       "      <td>11000.0</td>\n",
       "      <td>2590.0</td>\n",
       "      <td>196.0</td>\n",
       "      <td>0.0</td>\n",
       "      <td>6440.72</td>\n",
       "      <td>0.0</td>\n",
       "      <td>4800.0</td>\n",
       "      <td>1790.0</td>\n",
       "      <td>0.0</td>\n",
       "      <td>0.0</td>\n",
       "      <td>400.0</td>\n",
       "      <td>513.72</td>\n",
       "      <td>914.0</td>\n",
       "    </tr>\n",
       "    <tr>\n",
       "      <th>February</th>\n",
       "      <td>0.0</td>\n",
       "      <td>798.0</td>\n",
       "      <td>0.0</td>\n",
       "      <td>0.0</td>\n",
       "      <td>5579.85</td>\n",
       "      <td>0.0</td>\n",
       "      <td>2808.0</td>\n",
       "      <td>20000.0</td>\n",
       "      <td>0.0</td>\n",
       "      <td>0.0</td>\n",
       "      <td>0.0</td>\n",
       "      <td>1800.00</td>\n",
       "      <td>5078.8</td>\n",
       "    </tr>\n",
       "    <tr>\n",
       "      <th>January</th>\n",
       "      <td>1000.0</td>\n",
       "      <td>0.0</td>\n",
       "      <td>0.0</td>\n",
       "      <td>1400.0</td>\n",
       "      <td>9112.51</td>\n",
       "      <td>0.0</td>\n",
       "      <td>4580.0</td>\n",
       "      <td>13178.0</td>\n",
       "      <td>0.0</td>\n",
       "      <td>8000.0</td>\n",
       "      <td>0.0</td>\n",
       "      <td>200.00</td>\n",
       "      <td>2850.0</td>\n",
       "    </tr>\n",
       "    <tr>\n",
       "      <th>March</th>\n",
       "      <td>0.0</td>\n",
       "      <td>0.0</td>\n",
       "      <td>0.0</td>\n",
       "      <td>0.0</td>\n",
       "      <td>195.00</td>\n",
       "      <td>0.0</td>\n",
       "      <td>0.0</td>\n",
       "      <td>900.0</td>\n",
       "      <td>0.0</td>\n",
       "      <td>0.0</td>\n",
       "      <td>0.0</td>\n",
       "      <td>0.00</td>\n",
       "      <td>30.0</td>\n",
       "    </tr>\n",
       "    <tr>\n",
       "      <th>November</th>\n",
       "      <td>2000.0</td>\n",
       "      <td>0.0</td>\n",
       "      <td>0.0</td>\n",
       "      <td>0.0</td>\n",
       "      <td>3174.40</td>\n",
       "      <td>115.0</td>\n",
       "      <td>0.0</td>\n",
       "      <td>2000.0</td>\n",
       "      <td>3.0</td>\n",
       "      <td>0.0</td>\n",
       "      <td>0.0</td>\n",
       "      <td>0.00</td>\n",
       "      <td>331.0</td>\n",
       "    </tr>\n",
       "  </tbody>\n",
       "</table>\n",
       "</div>"
      ],
      "text/plain": [
       "Category  Allowance  Apparel  Beauty  Education     Food   Gift  Household  \\\n",
       "Month                                                                        \n",
       "December    11000.0   2590.0   196.0        0.0  6440.72    0.0     4800.0   \n",
       "February        0.0    798.0     0.0        0.0  5579.85    0.0     2808.0   \n",
       "January      1000.0      0.0     0.0     1400.0  9112.51    0.0     4580.0   \n",
       "March           0.0      0.0     0.0        0.0   195.00    0.0        0.0   \n",
       "November     2000.0      0.0     0.0        0.0  3174.40  115.0        0.0   \n",
       "\n",
       "Category    Other  Petty cash  Salary  Self-development  Social Life  \\\n",
       "Month                                                                  \n",
       "December   1790.0         0.0     0.0             400.0       513.72   \n",
       "February  20000.0         0.0     0.0               0.0      1800.00   \n",
       "January   13178.0         0.0  8000.0               0.0       200.00   \n",
       "March       900.0         0.0     0.0               0.0         0.00   \n",
       "November   2000.0         3.0     0.0               0.0         0.00   \n",
       "\n",
       "Category  Transportation  \n",
       "Month                     \n",
       "December           914.0  \n",
       "February          5078.8  \n",
       "January           2850.0  \n",
       "March               30.0  \n",
       "November           331.0  "
      ]
     },
     "execution_count": 78,
     "metadata": {},
     "output_type": "execute_result"
    }
   ],
   "source": [
    "month_cat_exp_summary = expense_df.pivot_table(\n",
    "    values = 'INR',\n",
    "    index = 'Month',\n",
    "    columns = 'Category',\n",
    "    observed = False,\n",
    "    aggfunc = 'sum',\n",
    "    fill_value = 0.0\n",
    ")\n",
    "month_cat_exp_summary"
   ]
  },
  {
   "cell_type": "code",
   "execution_count": null,
   "id": "922db648",
   "metadata": {},
   "outputs": [
    {
     "data": {
      "image/png": "[encoded data removed]",
      "text/plain": [
       "<Figure size 640x480 with 1 Axes>"
      ]
     },
     "metadata": {},
     "output_type": "display_data"
    }
   ],
   "source": [
    "month_cat_exp_summary.plot(\n",
    "    kind = 'line'\n",
    ")\n",
    "plt.title('Category-Month-Wise Expense')\n",
    "plt.show()"
   ]
  },
  {
   "cell_type": "code",
   "execution_count": 86,
   "id": "70db6072",
   "metadata": {},
   "outputs": [
    {
     "data": {
      "text/html": [
       "<div>\n",
       "<style scoped>\n",
       "    .dataframe tbody tr th:only-of-type {\n",
       "        vertical-align: middle;\n",
       "    }\n",
       "\n",
       "    .dataframe tbody tr th {\n",
       "        vertical-align: top;\n",
       "    }\n",
       "\n",
       "    .dataframe thead th {\n",
       "        text-align: right;\n",
       "    }\n",
       "</style>\n",
       "<table border=\"1\" class=\"dataframe\">\n",
       "  <thead>\n",
       "    <tr style=\"text-align: right;\">\n",
       "      <th>Category</th>\n",
       "      <th>Allowance</th>\n",
       "      <th>Apparel</th>\n",
       "      <th>Beauty</th>\n",
       "      <th>Education</th>\n",
       "      <th>Food</th>\n",
       "      <th>Gift</th>\n",
       "      <th>Household</th>\n",
       "      <th>Other</th>\n",
       "      <th>Petty cash</th>\n",
       "      <th>Salary</th>\n",
       "      <th>Self-development</th>\n",
       "      <th>Social Life</th>\n",
       "      <th>Transportation</th>\n",
       "    </tr>\n",
       "    <tr>\n",
       "      <th>Year</th>\n",
       "      <th></th>\n",
       "      <th></th>\n",
       "      <th></th>\n",
       "      <th></th>\n",
       "      <th></th>\n",
       "      <th></th>\n",
       "      <th></th>\n",
       "      <th></th>\n",
       "      <th></th>\n",
       "      <th></th>\n",
       "      <th></th>\n",
       "      <th></th>\n",
       "      <th></th>\n",
       "    </tr>\n",
       "  </thead>\n",
       "  <tbody>\n",
       "    <tr>\n",
       "      <th>2021</th>\n",
       "      <td>13000.0</td>\n",
       "      <td>2590.0</td>\n",
       "      <td>196.0</td>\n",
       "      <td>0.0</td>\n",
       "      <td>9615.12</td>\n",
       "      <td>115.0</td>\n",
       "      <td>4800.0</td>\n",
       "      <td>3790.0</td>\n",
       "      <td>3.0</td>\n",
       "      <td>0.0</td>\n",
       "      <td>400.0</td>\n",
       "      <td>513.72</td>\n",
       "      <td>1245.0</td>\n",
       "    </tr>\n",
       "    <tr>\n",
       "      <th>2022</th>\n",
       "      <td>1000.0</td>\n",
       "      <td>798.0</td>\n",
       "      <td>0.0</td>\n",
       "      <td>1400.0</td>\n",
       "      <td>14887.36</td>\n",
       "      <td>0.0</td>\n",
       "      <td>7388.0</td>\n",
       "      <td>34078.0</td>\n",
       "      <td>0.0</td>\n",
       "      <td>8000.0</td>\n",
       "      <td>0.0</td>\n",
       "      <td>2000.00</td>\n",
       "      <td>7958.8</td>\n",
       "    </tr>\n",
       "  </tbody>\n",
       "</table>\n",
       "</div>"
      ],
      "text/plain": [
       "Category  Allowance  Apparel  Beauty  Education      Food   Gift  Household  \\\n",
       "Year                                                                          \n",
       "2021        13000.0   2590.0   196.0        0.0   9615.12  115.0     4800.0   \n",
       "2022         1000.0    798.0     0.0     1400.0  14887.36    0.0     7388.0   \n",
       "\n",
       "Category    Other  Petty cash  Salary  Self-development  Social Life  \\\n",
       "Year                                                                   \n",
       "2021       3790.0         3.0     0.0             400.0       513.72   \n",
       "2022      34078.0         0.0  8000.0               0.0      2000.00   \n",
       "\n",
       "Category  Transportation  \n",
       "Year                      \n",
       "2021              1245.0  \n",
       "2022              7958.8  "
      ]
     },
     "execution_count": 86,
     "metadata": {},
     "output_type": "execute_result"
    }
   ],
   "source": [
    "year_cat_exp_summary = expense_df.pivot_table(\n",
    "    values = 'INR',\n",
    "    index = 'Year',\n",
    "    columns = 'Category',\n",
    "    observed = False,\n",
    "    aggfunc = 'sum',\n",
    "    fill_value = 0.0\n",
    ")\n",
    "year_cat_exp_summary"
   ]
  },
  {
   "cell_type": "code",
   "execution_count": 87,
   "id": "f2498c37",
   "metadata": {},
   "outputs": [
    {
     "data": {
      "image/png": "[encoded data removed]",
      "text/plain": [
       "<Figure size 640x480 with 1 Axes>"
      ]
     },
     "metadata": {},
     "output_type": "display_data"
    }
   ],
   "source": [
    "year_cat_exp_summary.plot(\n",
    "    kind = 'line'\n",
    ")\n",
    "plt.title('Category-Year-Wise Expense')\n",
    "plt.show()"
   ]
  },
  {
   "cell_type": "code",
   "execution_count": 90,
   "id": "3e57f5bd",
   "metadata": {},
   "outputs": [
    {
     "data": {
      "text/html": [
       "<div>\n",
       "<style scoped>\n",
       "    .dataframe tbody tr th:only-of-type {\n",
       "        vertical-align: middle;\n",
       "    }\n",
       "\n",
       "    .dataframe tbody tr th {\n",
       "        vertical-align: top;\n",
       "    }\n",
       "\n",
       "    .dataframe thead th {\n",
       "        text-align: right;\n",
       "    }\n",
       "</style>\n",
       "<table border=\"1\" class=\"dataframe\">\n",
       "  <thead>\n",
       "    <tr style=\"text-align: right;\">\n",
       "      <th>Income/Expense</th>\n",
       "      <th>Expense</th>\n",
       "      <th>Income</th>\n",
       "    </tr>\n",
       "    <tr>\n",
       "      <th>Month</th>\n",
       "      <th></th>\n",
       "      <th></th>\n",
       "    </tr>\n",
       "  </thead>\n",
       "  <tbody>\n",
       "    <tr>\n",
       "      <th>December</th>\n",
       "      <td>212.135584</td>\n",
       "      <td>1025.833333</td>\n",
       "    </tr>\n",
       "    <tr>\n",
       "      <th>February</th>\n",
       "      <td>372.180208</td>\n",
       "      <td>3033.333333</td>\n",
       "    </tr>\n",
       "    <tr>\n",
       "      <th>January</th>\n",
       "      <td>299.703043</td>\n",
       "      <td>853.956522</td>\n",
       "    </tr>\n",
       "    <tr>\n",
       "      <th>March</th>\n",
       "      <td>105.000000</td>\n",
       "      <td>300.000000</td>\n",
       "    </tr>\n",
       "    <tr>\n",
       "      <th>November</th>\n",
       "      <td>113.137500</td>\n",
       "      <td>1334.333333</td>\n",
       "    </tr>\n",
       "  </tbody>\n",
       "</table>\n",
       "</div>"
      ],
      "text/plain": [
       "Income/Expense     Expense       Income\n",
       "Month                                  \n",
       "December        212.135584  1025.833333\n",
       "February        372.180208  3033.333333\n",
       "January         299.703043   853.956522\n",
       "March           105.000000   300.000000\n",
       "November        113.137500  1334.333333"
      ]
     },
     "execution_count": 90,
     "metadata": {},
     "output_type": "execute_result"
    }
   ],
   "source": [
    "exp_inc_summary_df = expense_df.pivot_table(\n",
    "    values = 'INR',\n",
    "    index = 'Month',\n",
    "    columns = 'Income/Expense',\n",
    "    observed = False\n",
    ")\n",
    "exp_inc_summary_df"
   ]
  },
  {
   "cell_type": "code",
   "execution_count": 92,
   "id": "bc4c41aa",
   "metadata": {},
   "outputs": [
    {
     "data": {
      "image/png": "[encoded data removed]",
      "text/plain": [
       "<Figure size 640x480 with 1 Axes>"
      ]
     },
     "metadata": {},
     "output_type": "display_data"
    }
   ],
   "source": [
    "exp_inc_summary_df.plot(\n",
    "    kind = 'line'\n",
    ")\n",
    "plt.title('Monthly Income V/S Expense')\n",
    "plt.show()"
   ]
  },
  {
   "cell_type": "markdown",
   "id": "92dc625d",
   "metadata": {},
   "source": [
    "### **📦 Vectorized Operations**"
   ]
  },
  {
   "cell_type": "code",
   "execution_count": 96,
   "id": "06c5db12",
   "metadata": {},
   "outputs": [
    {
     "data": {
      "text/plain": [
       "0    55000.0\n",
       "1    66000.0\n",
       "2    77000.0\n",
       "dtype: float64"
      ]
     },
     "execution_count": 96,
     "metadata": {},
     "output_type": "execute_result"
    }
   ],
   "source": [
    "salaries = pd.Series(\n",
    "    data = [50000, 60000, 70000]\n",
    ")\n",
    "increased = salaries * 1.1\n",
    "increased"
   ]
  },
  {
   "cell_type": "code",
   "execution_count": 97,
   "id": "7cf0e899",
   "metadata": {},
   "outputs": [
    {
     "data": {
      "text/plain": [
       "array([55, 65, 75, 85, 95])"
      ]
     },
     "execution_count": 97,
     "metadata": {},
     "output_type": "execute_result"
    }
   ],
   "source": [
    "marks = np.array([50, 60, 70, 80, 90])\n",
    "grace_marks =  5\n",
    "new_marks = marks + grace_marks\n",
    "new_marks"
   ]
  },
  {
   "cell_type": "markdown",
   "id": "92a23cc1",
   "metadata": {},
   "source": [
    "#### ⚠️ **Problems with Vectorized Operations in Vanilla Python**"
   ]
  },
  {
   "cell_type": "markdown",
   "id": "21216051",
   "metadata": {},
   "source": [
    "##### **Vanilla Python does not support Vectorized Operations**"
   ]
  },
  {
   "cell_type": "markdown",
   "id": "8bc3386a",
   "metadata": {},
   "source": [
    "👎 **WRONG WAY**  \n",
    "  \n",
    "Throws a TypeError during execution."
   ]
  },
  {
   "cell_type": "code",
   "execution_count": 108,
   "id": "e6ba301f",
   "metadata": {},
   "outputs": [
    {
     "name": "stdout",
     "output_type": "stream",
     "text": [
      "can't multiply sequence by non-int of type 'float'\n"
     ]
    }
   ],
   "source": [
    "salaries1 = [50000, 60000, 70000]\n",
    "try :\n",
    "    increased1 = salaries1 * 1.1\n",
    "    print(increased1)\n",
    "except Exception as e:\n",
    "    print(e)"
   ]
  },
  {
   "cell_type": "markdown",
   "id": "0f8be8fe",
   "metadata": {},
   "source": [
    "👍 **RIGHT WAY**  \n",
    "  \n",
    "Though it tries to mimic vectorized operations, it is not as fast and efficient as vectorized operations."
   ]
  },
  {
   "cell_type": "code",
   "execution_count": 103,
   "id": "02eb6696",
   "metadata": {},
   "outputs": [
    {
     "data": {
      "text/plain": [
       "[55000.0, 66000.0, 77000.0]"
      ]
     },
     "execution_count": 103,
     "metadata": {},
     "output_type": "execute_result"
    }
   ],
   "source": [
    "salaries = [50000, 60000, 70000]\n",
    "increased = [round(s * 1.1, ndigits = 2) for s in salaries]\n",
    "increased"
   ]
  },
  {
   "cell_type": "markdown",
   "id": "d850fa64",
   "metadata": {},
   "source": [
    "#### 💡 **The Solution - Pandas Data Structures**\n",
    "\n",
    "Pandas is built on NumPy, which offers:\n",
    "\n",
    "- Typed arrays\n",
    "- Efficient memory layout\n",
    "- Compiled C backend"
   ]
  },
  {
   "cell_type": "code",
   "execution_count": 109,
   "id": "2b8e9e7e",
   "metadata": {},
   "outputs": [
    {
     "data": {
      "text/plain": [
       "0    5\n",
       "1    7\n",
       "2    9\n",
       "dtype: int64"
      ]
     },
     "execution_count": 109,
     "metadata": {},
     "output_type": "execute_result"
    }
   ],
   "source": [
    "a = pd.Series([1, 2, 3])\n",
    "b = pd.Series([4, 5, 6])\n",
    "result = a + b\n",
    "result"
   ]
  },
  {
   "cell_type": "markdown",
   "id": "6ab7e11f",
   "metadata": {},
   "source": [
    "### ⚠️ **Data Warning**\n",
    "For the code ahead we will be using the `titanic.csv` which is in [Resources](../Resources/Data/) folder."
   ]
  },
  {
   "cell_type": "markdown",
   "id": "f498d76e",
   "metadata": {},
   "source": [
    "#### **Reading Data into DataFrame**"
   ]
  },
  {
   "cell_type": "code",
   "execution_count": 110,
   "id": "6cd14197",
   "metadata": {},
   "outputs": [],
   "source": [
    "titanic_df = pd.read_csv(\n",
    "    filepath_or_buffer = '../Resources/Data/titanic.csv'\n",
    ")"
   ]
  },
  {
   "cell_type": "markdown",
   "id": "778068a0",
   "metadata": {},
   "source": [
    "### 🚀 **Vectorized String Operations**"
   ]
  },
  {
   "cell_type": "markdown",
   "id": "c3b9c217",
   "metadata": {},
   "source": [
    "#### 📦 **str Accessor**"
   ]
  },
  {
   "cell_type": "code",
   "execution_count": null,
   "id": "89c47ce8",
   "metadata": {},
   "outputs": [],
   "source": [
    "a_mask = titanic_df['Name'].str.startswith('A')\n",
    "titanic_df['Name'][a_mask].size"
   ]
  },
  {
   "cell_type": "markdown",
   "id": "07f2d20c",
   "metadata": {},
   "source": [
    "#### 📦 **lower() method**"
   ]
  },
  {
   "cell_type": "code",
   "execution_count": 122,
   "id": "a3f69eb4",
   "metadata": {},
   "outputs": [
    {
     "data": {
      "text/plain": [
       "0                                braund, mr. owen harris\n",
       "1      cumings, mrs. john bradley (florence briggs th...\n",
       "2                                 heikkinen, miss. laina\n",
       "3           futrelle, mrs. jacques heath (lily may peel)\n",
       "4                               allen, mr. william henry\n",
       "                             ...                        \n",
       "886                                montvila, rev. juozas\n",
       "887                         graham, miss. margaret edith\n",
       "888             johnston, miss. catherine helen \"carrie\"\n",
       "889                                behr, mr. karl howell\n",
       "890                                  dooley, mr. patrick\n",
       "Name: Name, Length: 891, dtype: object"
      ]
     },
     "execution_count": 122,
     "metadata": {},
     "output_type": "execute_result"
    }
   ],
   "source": [
    "titanic_df['Name'].str.lower()"
   ]
  },
  {
   "cell_type": "markdown",
   "id": "469b244b",
   "metadata": {},
   "source": [
    "#### 📦 **upper() method**"
   ]
  },
  {
   "cell_type": "code",
   "execution_count": 124,
   "id": "0007df3c",
   "metadata": {},
   "outputs": [
    {
     "data": {
      "text/plain": [
       "0                                BRAUND, MR. OWEN HARRIS\n",
       "1      CUMINGS, MRS. JOHN BRADLEY (FLORENCE BRIGGS TH...\n",
       "2                                 HEIKKINEN, MISS. LAINA\n",
       "3           FUTRELLE, MRS. JACQUES HEATH (LILY MAY PEEL)\n",
       "4                               ALLEN, MR. WILLIAM HENRY\n",
       "                             ...                        \n",
       "886                                MONTVILA, REV. JUOZAS\n",
       "887                         GRAHAM, MISS. MARGARET EDITH\n",
       "888             JOHNSTON, MISS. CATHERINE HELEN \"CARRIE\"\n",
       "889                                BEHR, MR. KARL HOWELL\n",
       "890                                  DOOLEY, MR. PATRICK\n",
       "Name: Name, Length: 891, dtype: object"
      ]
     },
     "execution_count": 124,
     "metadata": {},
     "output_type": "execute_result"
    }
   ],
   "source": [
    "titanic_df['Name'].str.upper()"
   ]
  },
  {
   "cell_type": "markdown",
   "id": "af2e6a0d",
   "metadata": {},
   "source": [
    "#### 📦 **capitalize() method**"
   ]
  },
  {
   "cell_type": "code",
   "execution_count": 125,
   "id": "12823c94",
   "metadata": {},
   "outputs": [
    {
     "data": {
      "text/plain": [
       "0                                Braund, mr. owen harris\n",
       "1      Cumings, mrs. john bradley (florence briggs th...\n",
       "2                                 Heikkinen, miss. laina\n",
       "3           Futrelle, mrs. jacques heath (lily may peel)\n",
       "4                               Allen, mr. william henry\n",
       "                             ...                        \n",
       "886                                Montvila, rev. juozas\n",
       "887                         Graham, miss. margaret edith\n",
       "888             Johnston, miss. catherine helen \"carrie\"\n",
       "889                                Behr, mr. karl howell\n",
       "890                                  Dooley, mr. patrick\n",
       "Name: Name, Length: 891, dtype: object"
      ]
     },
     "execution_count": 125,
     "metadata": {},
     "output_type": "execute_result"
    }
   ],
   "source": [
    "titanic_df['Name'].str.capitalize()"
   ]
  },
  {
   "cell_type": "markdown",
   "id": "9a001e31",
   "metadata": {},
   "source": [
    "#### 📦 **title() method**"
   ]
  },
  {
   "cell_type": "code",
   "execution_count": 126,
   "id": "50733eef",
   "metadata": {},
   "outputs": [
    {
     "data": {
      "text/plain": [
       "0                                Braund, Mr. Owen Harris\n",
       "1      Cumings, Mrs. John Bradley (Florence Briggs Th...\n",
       "2                                 Heikkinen, Miss. Laina\n",
       "3           Futrelle, Mrs. Jacques Heath (Lily May Peel)\n",
       "4                               Allen, Mr. William Henry\n",
       "                             ...                        \n",
       "886                                Montvila, Rev. Juozas\n",
       "887                         Graham, Miss. Margaret Edith\n",
       "888             Johnston, Miss. Catherine Helen \"Carrie\"\n",
       "889                                Behr, Mr. Karl Howell\n",
       "890                                  Dooley, Mr. Patrick\n",
       "Name: Name, Length: 891, dtype: object"
      ]
     },
     "execution_count": 126,
     "metadata": {},
     "output_type": "execute_result"
    }
   ],
   "source": [
    "titanic_df['Name'].str.title()"
   ]
  },
  {
   "cell_type": "markdown",
   "id": "f844171d",
   "metadata": {},
   "source": [
    "#### 📦 **len() method**"
   ]
  },
  {
   "cell_type": "code",
   "execution_count": 134,
   "id": "ced2f918",
   "metadata": {},
   "outputs": [
    {
     "data": {
      "text/html": [
       "<div>\n",
       "<style scoped>\n",
       "    .dataframe tbody tr th:only-of-type {\n",
       "        vertical-align: middle;\n",
       "    }\n",
       "\n",
       "    .dataframe tbody tr th {\n",
       "        vertical-align: top;\n",
       "    }\n",
       "\n",
       "    .dataframe thead th {\n",
       "        text-align: right;\n",
       "    }\n",
       "</style>\n",
       "<table border=\"1\" class=\"dataframe\">\n",
       "  <thead>\n",
       "    <tr style=\"text-align: right;\">\n",
       "      <th></th>\n",
       "      <th>PassengerId</th>\n",
       "      <th>Survived</th>\n",
       "      <th>Pclass</th>\n",
       "      <th>Name</th>\n",
       "      <th>Sex</th>\n",
       "      <th>Age</th>\n",
       "      <th>SibSp</th>\n",
       "      <th>Parch</th>\n",
       "      <th>Ticket</th>\n",
       "      <th>Fare</th>\n",
       "      <th>Cabin</th>\n",
       "      <th>Embarked</th>\n",
       "    </tr>\n",
       "  </thead>\n",
       "  <tbody>\n",
       "    <tr>\n",
       "      <th>307</th>\n",
       "      <td>308</td>\n",
       "      <td>1</td>\n",
       "      <td>1</td>\n",
       "      <td>Penasco y Castellana, Mrs. Victor de Satode (M...</td>\n",
       "      <td>female</td>\n",
       "      <td>17.0</td>\n",
       "      <td>1</td>\n",
       "      <td>0</td>\n",
       "      <td>PC 17758</td>\n",
       "      <td>108.9</td>\n",
       "      <td>C65</td>\n",
       "      <td>C</td>\n",
       "    </tr>\n",
       "  </tbody>\n",
       "</table>\n",
       "</div>"
      ],
      "text/plain": [
       "     PassengerId  Survived  Pclass  \\\n",
       "307          308         1       1   \n",
       "\n",
       "                                                  Name     Sex   Age  SibSp  \\\n",
       "307  Penasco y Castellana, Mrs. Victor de Satode (M...  female  17.0      1   \n",
       "\n",
       "     Parch    Ticket   Fare Cabin Embarked  \n",
       "307      0  PC 17758  108.9   C65        C  "
      ]
     },
     "execution_count": 134,
     "metadata": {},
     "output_type": "execute_result"
    }
   ],
   "source": [
    "titanic_df[titanic_df['Name'].str.len() == titanic_df['Name'].str.len().max()]"
   ]
  },
  {
   "cell_type": "markdown",
   "id": "284ac77f",
   "metadata": {},
   "source": [
    "#### 📦 **strip() method**"
   ]
  },
  {
   "cell_type": "code",
   "execution_count": 135,
   "id": "ceab6d4a",
   "metadata": {},
   "outputs": [
    {
     "data": {
      "text/plain": [
       "'Abbas'"
      ]
     },
     "execution_count": 135,
     "metadata": {},
     "output_type": "execute_result"
    }
   ],
   "source": [
    "name = '           Abbas             '\n",
    "name.strip()"
   ]
  },
  {
   "cell_type": "code",
   "execution_count": 136,
   "id": "8b7b0982",
   "metadata": {},
   "outputs": [
    {
     "data": {
      "text/plain": [
       "0                                Braund, Mr. Owen Harris\n",
       "1      Cumings, Mrs. John Bradley (Florence Briggs Th...\n",
       "2                                 Heikkinen, Miss. Laina\n",
       "3           Futrelle, Mrs. Jacques Heath (Lily May Peel)\n",
       "4                               Allen, Mr. William Henry\n",
       "                             ...                        \n",
       "886                                Montvila, Rev. Juozas\n",
       "887                         Graham, Miss. Margaret Edith\n",
       "888             Johnston, Miss. Catherine Helen \"Carrie\"\n",
       "889                                Behr, Mr. Karl Howell\n",
       "890                                  Dooley, Mr. Patrick\n",
       "Name: Name, Length: 891, dtype: object"
      ]
     },
     "execution_count": 136,
     "metadata": {},
     "output_type": "execute_result"
    }
   ],
   "source": [
    "titanic_df['Name'].str.strip()"
   ]
  },
  {
   "cell_type": "markdown",
   "id": "d8e871ab",
   "metadata": {},
   "source": [
    "#### 📦 **split() method**"
   ]
  },
  {
   "cell_type": "code",
   "execution_count": 139,
   "id": "a005e473",
   "metadata": {},
   "outputs": [
    {
     "data": {
      "text/plain": [
       "0         Braund\n",
       "1        Cumings\n",
       "2      Heikkinen\n",
       "3       Futrelle\n",
       "4          Allen\n",
       "         ...    \n",
       "886     Montvila\n",
       "887       Graham\n",
       "888     Johnston\n",
       "889         Behr\n",
       "890       Dooley\n",
       "Name: Name, Length: 891, dtype: object"
      ]
     },
     "execution_count": 139,
     "metadata": {},
     "output_type": "execute_result"
    }
   ],
   "source": [
    "titanic_df['Name'].str.split(\n",
    "    pat = ','\n",
    ").str.get(0)"
   ]
  },
  {
   "cell_type": "code",
   "execution_count": 149,
   "id": "b26634f3",
   "metadata": {},
   "outputs": [
    {
     "data": {
      "text/plain": [
       "Name\n",
       "Mr.          517\n",
       "Miss.        182\n",
       "Mrs.         125\n",
       "Master.       40\n",
       "Dr.            7\n",
       "Rev.           6\n",
       "Mlle.          2\n",
       "Major.         2\n",
       "Col.           2\n",
       "the            1\n",
       "Capt.          1\n",
       "Ms.            1\n",
       "Sir.           1\n",
       "Lady.          1\n",
       "Mme.           1\n",
       "Don.           1\n",
       "Jonkheer.      1\n",
       "Name: count, dtype: int64"
      ]
     },
     "execution_count": 149,
     "metadata": {},
     "output_type": "execute_result"
    }
   ],
   "source": [
    "salutations = titanic_df['Name'].str.split(\n",
    "    pat = ','\n",
    ").str.get(1).str.strip().str.split(\n",
    "    pat = ' ',\n",
    "    n = 1\n",
    ").str.get(0)\n",
    "\n",
    "salutations.value_counts()"
   ]
  },
  {
   "cell_type": "markdown",
   "id": "fb4efdd6",
   "metadata": {},
   "source": [
    "#### 📦 **replace() method**"
   ]
  },
  {
   "cell_type": "code",
   "execution_count": 152,
   "id": "f5a1a2e0",
   "metadata": {},
   "outputs": [
    {
     "data": {
      "text/plain": [
       "Name\n",
       "Mr.          517\n",
       "Miss.        183\n",
       "Mrs.         125\n",
       "Master.       40\n",
       "Dr.            7\n",
       "Rev.           6\n",
       "Major.         2\n",
       "Mlle.          2\n",
       "Col.           2\n",
       "Don.           1\n",
       "Mme.           1\n",
       "Lady.          1\n",
       "Sir.           1\n",
       "Capt.          1\n",
       "the            1\n",
       "Jonkheer.      1\n",
       "Name: count, dtype: int64"
      ]
     },
     "execution_count": 152,
     "metadata": {},
     "output_type": "execute_result"
    }
   ],
   "source": [
    "salutations = salutations.str.replace(\n",
    "    pat = 'Ms.',\n",
    "    repl = 'Miss.'\n",
    ")\n",
    "\n",
    "salutations.value_counts()"
   ]
  },
  {
   "cell_type": "markdown",
   "id": "191529c4",
   "metadata": {},
   "source": [
    "#### 📦 **startswith() method**"
   ]
  },
  {
   "cell_type": "code",
   "execution_count": 154,
   "id": "40cb4804",
   "metadata": {},
   "outputs": [
    {
     "data": {
      "text/html": [
       "<div>\n",
       "<style scoped>\n",
       "    .dataframe tbody tr th:only-of-type {\n",
       "        vertical-align: middle;\n",
       "    }\n",
       "\n",
       "    .dataframe tbody tr th {\n",
       "        vertical-align: top;\n",
       "    }\n",
       "\n",
       "    .dataframe thead th {\n",
       "        text-align: right;\n",
       "    }\n",
       "</style>\n",
       "<table border=\"1\" class=\"dataframe\">\n",
       "  <thead>\n",
       "    <tr style=\"text-align: right;\">\n",
       "      <th></th>\n",
       "      <th>PassengerId</th>\n",
       "      <th>Survived</th>\n",
       "      <th>Pclass</th>\n",
       "      <th>Name</th>\n",
       "      <th>Sex</th>\n",
       "      <th>Age</th>\n",
       "      <th>SibSp</th>\n",
       "      <th>Parch</th>\n",
       "      <th>Ticket</th>\n",
       "      <th>Fare</th>\n",
       "      <th>Cabin</th>\n",
       "      <th>Embarked</th>\n",
       "    </tr>\n",
       "  </thead>\n",
       "  <tbody>\n",
       "    <tr>\n",
       "      <th>8</th>\n",
       "      <td>9</td>\n",
       "      <td>1</td>\n",
       "      <td>3</td>\n",
       "      <td>Johnson, Mrs. Oscar W (Elisabeth Vilhelmina Berg)</td>\n",
       "      <td>female</td>\n",
       "      <td>27.0</td>\n",
       "      <td>0</td>\n",
       "      <td>2</td>\n",
       "      <td>347742</td>\n",
       "      <td>11.1333</td>\n",
       "      <td>NaN</td>\n",
       "      <td>S</td>\n",
       "    </tr>\n",
       "    <tr>\n",
       "      <th>172</th>\n",
       "      <td>173</td>\n",
       "      <td>1</td>\n",
       "      <td>3</td>\n",
       "      <td>Johnson, Miss. Eleanor Ileen</td>\n",
       "      <td>female</td>\n",
       "      <td>1.0</td>\n",
       "      <td>1</td>\n",
       "      <td>1</td>\n",
       "      <td>347742</td>\n",
       "      <td>11.1333</td>\n",
       "      <td>NaN</td>\n",
       "      <td>S</td>\n",
       "    </tr>\n",
       "    <tr>\n",
       "      <th>302</th>\n",
       "      <td>303</td>\n",
       "      <td>0</td>\n",
       "      <td>3</td>\n",
       "      <td>Johnson, Mr. William Cahoone Jr</td>\n",
       "      <td>male</td>\n",
       "      <td>19.0</td>\n",
       "      <td>0</td>\n",
       "      <td>0</td>\n",
       "      <td>LINE</td>\n",
       "      <td>0.0000</td>\n",
       "      <td>NaN</td>\n",
       "      <td>S</td>\n",
       "    </tr>\n",
       "    <tr>\n",
       "      <th>597</th>\n",
       "      <td>598</td>\n",
       "      <td>0</td>\n",
       "      <td>3</td>\n",
       "      <td>Johnson, Mr. Alfred</td>\n",
       "      <td>male</td>\n",
       "      <td>49.0</td>\n",
       "      <td>0</td>\n",
       "      <td>0</td>\n",
       "      <td>LINE</td>\n",
       "      <td>0.0000</td>\n",
       "      <td>NaN</td>\n",
       "      <td>S</td>\n",
       "    </tr>\n",
       "    <tr>\n",
       "      <th>719</th>\n",
       "      <td>720</td>\n",
       "      <td>0</td>\n",
       "      <td>3</td>\n",
       "      <td>Johnson, Mr. Malkolm Joackim</td>\n",
       "      <td>male</td>\n",
       "      <td>33.0</td>\n",
       "      <td>0</td>\n",
       "      <td>0</td>\n",
       "      <td>347062</td>\n",
       "      <td>7.7750</td>\n",
       "      <td>NaN</td>\n",
       "      <td>S</td>\n",
       "    </tr>\n",
       "    <tr>\n",
       "      <th>783</th>\n",
       "      <td>784</td>\n",
       "      <td>0</td>\n",
       "      <td>3</td>\n",
       "      <td>Johnston, Mr. Andrew G</td>\n",
       "      <td>male</td>\n",
       "      <td>NaN</td>\n",
       "      <td>1</td>\n",
       "      <td>2</td>\n",
       "      <td>W./C. 6607</td>\n",
       "      <td>23.4500</td>\n",
       "      <td>NaN</td>\n",
       "      <td>S</td>\n",
       "    </tr>\n",
       "    <tr>\n",
       "      <th>869</th>\n",
       "      <td>870</td>\n",
       "      <td>1</td>\n",
       "      <td>3</td>\n",
       "      <td>Johnson, Master. Harold Theodor</td>\n",
       "      <td>male</td>\n",
       "      <td>4.0</td>\n",
       "      <td>1</td>\n",
       "      <td>1</td>\n",
       "      <td>347742</td>\n",
       "      <td>11.1333</td>\n",
       "      <td>NaN</td>\n",
       "      <td>S</td>\n",
       "    </tr>\n",
       "    <tr>\n",
       "      <th>888</th>\n",
       "      <td>889</td>\n",
       "      <td>0</td>\n",
       "      <td>3</td>\n",
       "      <td>Johnston, Miss. Catherine Helen \"Carrie\"</td>\n",
       "      <td>female</td>\n",
       "      <td>NaN</td>\n",
       "      <td>1</td>\n",
       "      <td>2</td>\n",
       "      <td>W./C. 6607</td>\n",
       "      <td>23.4500</td>\n",
       "      <td>NaN</td>\n",
       "      <td>S</td>\n",
       "    </tr>\n",
       "  </tbody>\n",
       "</table>\n",
       "</div>"
      ],
      "text/plain": [
       "     PassengerId  Survived  Pclass  \\\n",
       "8              9         1       3   \n",
       "172          173         1       3   \n",
       "302          303         0       3   \n",
       "597          598         0       3   \n",
       "719          720         0       3   \n",
       "783          784         0       3   \n",
       "869          870         1       3   \n",
       "888          889         0       3   \n",
       "\n",
       "                                                  Name     Sex   Age  SibSp  \\\n",
       "8    Johnson, Mrs. Oscar W (Elisabeth Vilhelmina Berg)  female  27.0      0   \n",
       "172                       Johnson, Miss. Eleanor Ileen  female   1.0      1   \n",
       "302                    Johnson, Mr. William Cahoone Jr    male  19.0      0   \n",
       "597                                Johnson, Mr. Alfred    male  49.0      0   \n",
       "719                       Johnson, Mr. Malkolm Joackim    male  33.0      0   \n",
       "783                             Johnston, Mr. Andrew G    male   NaN      1   \n",
       "869                    Johnson, Master. Harold Theodor    male   4.0      1   \n",
       "888           Johnston, Miss. Catherine Helen \"Carrie\"  female   NaN      1   \n",
       "\n",
       "     Parch      Ticket     Fare Cabin Embarked  \n",
       "8        2      347742  11.1333   NaN        S  \n",
       "172      1      347742  11.1333   NaN        S  \n",
       "302      0        LINE   0.0000   NaN        S  \n",
       "597      0        LINE   0.0000   NaN        S  \n",
       "719      0      347062   7.7750   NaN        S  \n",
       "783      2  W./C. 6607  23.4500   NaN        S  \n",
       "869      1      347742  11.1333   NaN        S  \n",
       "888      2  W./C. 6607  23.4500   NaN        S  "
      ]
     },
     "execution_count": 154,
     "metadata": {},
     "output_type": "execute_result"
    }
   ],
   "source": [
    "titanic_df[titanic_df['Name'].str.startswith('John')]"
   ]
  },
  {
   "cell_type": "markdown",
   "id": "2f358025",
   "metadata": {},
   "source": [
    "#### 📦 **endswith() method**"
   ]
  },
  {
   "cell_type": "code",
   "execution_count": 155,
   "id": "83d3ce7b",
   "metadata": {},
   "outputs": [
    {
     "data": {
      "text/html": [
       "<div>\n",
       "<style scoped>\n",
       "    .dataframe tbody tr th:only-of-type {\n",
       "        vertical-align: middle;\n",
       "    }\n",
       "\n",
       "    .dataframe tbody tr th {\n",
       "        vertical-align: top;\n",
       "    }\n",
       "\n",
       "    .dataframe thead th {\n",
       "        text-align: right;\n",
       "    }\n",
       "</style>\n",
       "<table border=\"1\" class=\"dataframe\">\n",
       "  <thead>\n",
       "    <tr style=\"text-align: right;\">\n",
       "      <th></th>\n",
       "      <th>PassengerId</th>\n",
       "      <th>Survived</th>\n",
       "      <th>Pclass</th>\n",
       "      <th>Name</th>\n",
       "      <th>Sex</th>\n",
       "      <th>Age</th>\n",
       "      <th>SibSp</th>\n",
       "      <th>Parch</th>\n",
       "      <th>Ticket</th>\n",
       "      <th>Fare</th>\n",
       "      <th>Cabin</th>\n",
       "      <th>Embarked</th>\n",
       "    </tr>\n",
       "  </thead>\n",
       "  <tbody>\n",
       "    <tr>\n",
       "      <th>45</th>\n",
       "      <td>46</td>\n",
       "      <td>0</td>\n",
       "      <td>3</td>\n",
       "      <td>Rogers, Mr. William John</td>\n",
       "      <td>male</td>\n",
       "      <td>NaN</td>\n",
       "      <td>0</td>\n",
       "      <td>0</td>\n",
       "      <td>S.C./A.4. 23567</td>\n",
       "      <td>8.0500</td>\n",
       "      <td>NaN</td>\n",
       "      <td>S</td>\n",
       "    </tr>\n",
       "    <tr>\n",
       "      <th>112</th>\n",
       "      <td>113</td>\n",
       "      <td>0</td>\n",
       "      <td>3</td>\n",
       "      <td>Barton, Mr. David John</td>\n",
       "      <td>male</td>\n",
       "      <td>22.0</td>\n",
       "      <td>0</td>\n",
       "      <td>0</td>\n",
       "      <td>324669</td>\n",
       "      <td>8.0500</td>\n",
       "      <td>NaN</td>\n",
       "      <td>S</td>\n",
       "    </tr>\n",
       "    <tr>\n",
       "      <th>188</th>\n",
       "      <td>189</td>\n",
       "      <td>0</td>\n",
       "      <td>3</td>\n",
       "      <td>Bourke, Mr. John</td>\n",
       "      <td>male</td>\n",
       "      <td>40.0</td>\n",
       "      <td>1</td>\n",
       "      <td>1</td>\n",
       "      <td>364849</td>\n",
       "      <td>15.5000</td>\n",
       "      <td>NaN</td>\n",
       "      <td>Q</td>\n",
       "    </tr>\n",
       "    <tr>\n",
       "      <th>226</th>\n",
       "      <td>227</td>\n",
       "      <td>1</td>\n",
       "      <td>2</td>\n",
       "      <td>Mellors, Mr. William John</td>\n",
       "      <td>male</td>\n",
       "      <td>19.0</td>\n",
       "      <td>0</td>\n",
       "      <td>0</td>\n",
       "      <td>SW/PP 751</td>\n",
       "      <td>10.5000</td>\n",
       "      <td>NaN</td>\n",
       "      <td>S</td>\n",
       "    </tr>\n",
       "    <tr>\n",
       "      <th>401</th>\n",
       "      <td>402</td>\n",
       "      <td>0</td>\n",
       "      <td>3</td>\n",
       "      <td>Adams, Mr. John</td>\n",
       "      <td>male</td>\n",
       "      <td>26.0</td>\n",
       "      <td>0</td>\n",
       "      <td>0</td>\n",
       "      <td>341826</td>\n",
       "      <td>8.0500</td>\n",
       "      <td>NaN</td>\n",
       "      <td>S</td>\n",
       "    </tr>\n",
       "    <tr>\n",
       "      <th>418</th>\n",
       "      <td>419</td>\n",
       "      <td>0</td>\n",
       "      <td>2</td>\n",
       "      <td>Matthews, Mr. William John</td>\n",
       "      <td>male</td>\n",
       "      <td>30.0</td>\n",
       "      <td>0</td>\n",
       "      <td>0</td>\n",
       "      <td>28228</td>\n",
       "      <td>13.0000</td>\n",
       "      <td>NaN</td>\n",
       "      <td>S</td>\n",
       "    </tr>\n",
       "    <tr>\n",
       "      <th>527</th>\n",
       "      <td>528</td>\n",
       "      <td>0</td>\n",
       "      <td>1</td>\n",
       "      <td>Farthing, Mr. John</td>\n",
       "      <td>male</td>\n",
       "      <td>NaN</td>\n",
       "      <td>0</td>\n",
       "      <td>0</td>\n",
       "      <td>PC 17483</td>\n",
       "      <td>221.7792</td>\n",
       "      <td>C95</td>\n",
       "      <td>S</td>\n",
       "    </tr>\n",
       "    <tr>\n",
       "      <th>548</th>\n",
       "      <td>549</td>\n",
       "      <td>0</td>\n",
       "      <td>3</td>\n",
       "      <td>Goldsmith, Mr. Frank John</td>\n",
       "      <td>male</td>\n",
       "      <td>33.0</td>\n",
       "      <td>1</td>\n",
       "      <td>1</td>\n",
       "      <td>363291</td>\n",
       "      <td>20.5250</td>\n",
       "      <td>NaN</td>\n",
       "      <td>S</td>\n",
       "    </tr>\n",
       "    <tr>\n",
       "      <th>563</th>\n",
       "      <td>564</td>\n",
       "      <td>0</td>\n",
       "      <td>3</td>\n",
       "      <td>Simmons, Mr. John</td>\n",
       "      <td>male</td>\n",
       "      <td>NaN</td>\n",
       "      <td>0</td>\n",
       "      <td>0</td>\n",
       "      <td>SOTON/OQ 392082</td>\n",
       "      <td>8.0500</td>\n",
       "      <td>NaN</td>\n",
       "      <td>S</td>\n",
       "    </tr>\n",
       "    <tr>\n",
       "      <th>574</th>\n",
       "      <td>575</td>\n",
       "      <td>0</td>\n",
       "      <td>3</td>\n",
       "      <td>Rush, Mr. Alfred George John</td>\n",
       "      <td>male</td>\n",
       "      <td>16.0</td>\n",
       "      <td>0</td>\n",
       "      <td>0</td>\n",
       "      <td>A/4. 20589</td>\n",
       "      <td>8.0500</td>\n",
       "      <td>NaN</td>\n",
       "      <td>S</td>\n",
       "    </tr>\n",
       "    <tr>\n",
       "      <th>613</th>\n",
       "      <td>614</td>\n",
       "      <td>0</td>\n",
       "      <td>3</td>\n",
       "      <td>Horgan, Mr. John</td>\n",
       "      <td>male</td>\n",
       "      <td>NaN</td>\n",
       "      <td>0</td>\n",
       "      <td>0</td>\n",
       "      <td>370377</td>\n",
       "      <td>7.7500</td>\n",
       "      <td>NaN</td>\n",
       "      <td>Q</td>\n",
       "    </tr>\n",
       "    <tr>\n",
       "      <th>694</th>\n",
       "      <td>695</td>\n",
       "      <td>0</td>\n",
       "      <td>1</td>\n",
       "      <td>Weir, Col. John</td>\n",
       "      <td>male</td>\n",
       "      <td>60.0</td>\n",
       "      <td>0</td>\n",
       "      <td>0</td>\n",
       "      <td>113800</td>\n",
       "      <td>26.5500</td>\n",
       "      <td>NaN</td>\n",
       "      <td>S</td>\n",
       "    </tr>\n",
       "    <tr>\n",
       "      <th>733</th>\n",
       "      <td>734</td>\n",
       "      <td>0</td>\n",
       "      <td>2</td>\n",
       "      <td>Berriman, Mr. William John</td>\n",
       "      <td>male</td>\n",
       "      <td>23.0</td>\n",
       "      <td>0</td>\n",
       "      <td>0</td>\n",
       "      <td>28425</td>\n",
       "      <td>13.0000</td>\n",
       "      <td>NaN</td>\n",
       "      <td>S</td>\n",
       "    </tr>\n",
       "    <tr>\n",
       "      <th>760</th>\n",
       "      <td>761</td>\n",
       "      <td>0</td>\n",
       "      <td>3</td>\n",
       "      <td>Garfirth, Mr. John</td>\n",
       "      <td>male</td>\n",
       "      <td>NaN</td>\n",
       "      <td>0</td>\n",
       "      <td>0</td>\n",
       "      <td>358585</td>\n",
       "      <td>14.5000</td>\n",
       "      <td>NaN</td>\n",
       "      <td>S</td>\n",
       "    </tr>\n",
       "    <tr>\n",
       "      <th>825</th>\n",
       "      <td>826</td>\n",
       "      <td>0</td>\n",
       "      <td>3</td>\n",
       "      <td>Flynn, Mr. John</td>\n",
       "      <td>male</td>\n",
       "      <td>NaN</td>\n",
       "      <td>0</td>\n",
       "      <td>0</td>\n",
       "      <td>368323</td>\n",
       "      <td>6.9500</td>\n",
       "      <td>NaN</td>\n",
       "      <td>Q</td>\n",
       "    </tr>\n",
       "    <tr>\n",
       "      <th>848</th>\n",
       "      <td>849</td>\n",
       "      <td>0</td>\n",
       "      <td>2</td>\n",
       "      <td>Harper, Rev. John</td>\n",
       "      <td>male</td>\n",
       "      <td>28.0</td>\n",
       "      <td>0</td>\n",
       "      <td>1</td>\n",
       "      <td>248727</td>\n",
       "      <td>33.0000</td>\n",
       "      <td>NaN</td>\n",
       "      <td>S</td>\n",
       "    </tr>\n",
       "  </tbody>\n",
       "</table>\n",
       "</div>"
      ],
      "text/plain": [
       "     PassengerId  Survived  Pclass                          Name   Sex   Age  \\\n",
       "45            46         0       3      Rogers, Mr. William John  male   NaN   \n",
       "112          113         0       3        Barton, Mr. David John  male  22.0   \n",
       "188          189         0       3              Bourke, Mr. John  male  40.0   \n",
       "226          227         1       2     Mellors, Mr. William John  male  19.0   \n",
       "401          402         0       3               Adams, Mr. John  male  26.0   \n",
       "418          419         0       2    Matthews, Mr. William John  male  30.0   \n",
       "527          528         0       1            Farthing, Mr. John  male   NaN   \n",
       "548          549         0       3     Goldsmith, Mr. Frank John  male  33.0   \n",
       "563          564         0       3             Simmons, Mr. John  male   NaN   \n",
       "574          575         0       3  Rush, Mr. Alfred George John  male  16.0   \n",
       "613          614         0       3              Horgan, Mr. John  male   NaN   \n",
       "694          695         0       1               Weir, Col. John  male  60.0   \n",
       "733          734         0       2    Berriman, Mr. William John  male  23.0   \n",
       "760          761         0       3            Garfirth, Mr. John  male   NaN   \n",
       "825          826         0       3               Flynn, Mr. John  male   NaN   \n",
       "848          849         0       2             Harper, Rev. John  male  28.0   \n",
       "\n",
       "     SibSp  Parch           Ticket      Fare Cabin Embarked  \n",
       "45       0      0  S.C./A.4. 23567    8.0500   NaN        S  \n",
       "112      0      0           324669    8.0500   NaN        S  \n",
       "188      1      1           364849   15.5000   NaN        Q  \n",
       "226      0      0        SW/PP 751   10.5000   NaN        S  \n",
       "401      0      0           341826    8.0500   NaN        S  \n",
       "418      0      0            28228   13.0000   NaN        S  \n",
       "527      0      0         PC 17483  221.7792   C95        S  \n",
       "548      1      1           363291   20.5250   NaN        S  \n",
       "563      0      0  SOTON/OQ 392082    8.0500   NaN        S  \n",
       "574      0      0       A/4. 20589    8.0500   NaN        S  \n",
       "613      0      0           370377    7.7500   NaN        Q  \n",
       "694      0      0           113800   26.5500   NaN        S  \n",
       "733      0      0            28425   13.0000   NaN        S  \n",
       "760      0      0           358585   14.5000   NaN        S  \n",
       "825      0      0           368323    6.9500   NaN        Q  \n",
       "848      0      1           248727   33.0000   NaN        S  "
      ]
     },
     "execution_count": 155,
     "metadata": {},
     "output_type": "execute_result"
    }
   ],
   "source": [
    "titanic_df[titanic_df['Name'].str.endswith('John')]"
   ]
  },
  {
   "cell_type": "markdown",
   "id": "fbb5c8bb",
   "metadata": {},
   "source": [
    "#### 📦 **isdigit() method**"
   ]
  },
  {
   "cell_type": "code",
   "execution_count": 158,
   "id": "565356b2",
   "metadata": {},
   "outputs": [
    {
     "data": {
      "text/plain": [
       "0"
      ]
     },
     "execution_count": 158,
     "metadata": {},
     "output_type": "execute_result"
    }
   ],
   "source": [
    "titanic_df['Name'].str.isdigit().sum()"
   ]
  },
  {
   "cell_type": "markdown",
   "id": "ca98303a",
   "metadata": {},
   "source": [
    "#### 📦 **isalpha() method**"
   ]
  },
  {
   "cell_type": "code",
   "execution_count": 160,
   "id": "915a37ec",
   "metadata": {},
   "outputs": [
    {
     "data": {
      "text/plain": [
       "0"
      ]
     },
     "execution_count": 160,
     "metadata": {},
     "output_type": "execute_result"
    }
   ],
   "source": [
    "titanic_df['Name'].str.isalpha().sum()"
   ]
  },
  {
   "cell_type": "markdown",
   "id": "dd9d662c",
   "metadata": {},
   "source": [
    "#### 📦 **pandas.contains() method**"
   ]
  },
  {
   "cell_type": "code",
   "execution_count": 163,
   "id": "02fb5ee2",
   "metadata": {},
   "outputs": [
    {
     "data": {
      "text/html": [
       "<div>\n",
       "<style scoped>\n",
       "    .dataframe tbody tr th:only-of-type {\n",
       "        vertical-align: middle;\n",
       "    }\n",
       "\n",
       "    .dataframe tbody tr th {\n",
       "        vertical-align: top;\n",
       "    }\n",
       "\n",
       "    .dataframe thead th {\n",
       "        text-align: right;\n",
       "    }\n",
       "</style>\n",
       "<table border=\"1\" class=\"dataframe\">\n",
       "  <thead>\n",
       "    <tr style=\"text-align: right;\">\n",
       "      <th></th>\n",
       "      <th>PassengerId</th>\n",
       "      <th>Survived</th>\n",
       "      <th>Pclass</th>\n",
       "      <th>Name</th>\n",
       "      <th>Sex</th>\n",
       "      <th>Age</th>\n",
       "      <th>SibSp</th>\n",
       "      <th>Parch</th>\n",
       "      <th>Ticket</th>\n",
       "      <th>Fare</th>\n",
       "      <th>Cabin</th>\n",
       "      <th>Embarked</th>\n",
       "    </tr>\n",
       "  </thead>\n",
       "  <tbody>\n",
       "    <tr>\n",
       "      <th>30</th>\n",
       "      <td>31</td>\n",
       "      <td>0</td>\n",
       "      <td>1</td>\n",
       "      <td>Uruchurtu, Don. Manuel E</td>\n",
       "      <td>male</td>\n",
       "      <td>40.0</td>\n",
       "      <td>0</td>\n",
       "      <td>0</td>\n",
       "      <td>PC 17601</td>\n",
       "      <td>27.7208</td>\n",
       "      <td>NaN</td>\n",
       "      <td>C</td>\n",
       "    </tr>\n",
       "    <tr>\n",
       "      <th>61</th>\n",
       "      <td>62</td>\n",
       "      <td>1</td>\n",
       "      <td>1</td>\n",
       "      <td>Icard, Miss. Amelie</td>\n",
       "      <td>female</td>\n",
       "      <td>38.0</td>\n",
       "      <td>0</td>\n",
       "      <td>0</td>\n",
       "      <td>113572</td>\n",
       "      <td>80.0000</td>\n",
       "      <td>B28</td>\n",
       "      <td>NaN</td>\n",
       "    </tr>\n",
       "    <tr>\n",
       "      <th>68</th>\n",
       "      <td>69</td>\n",
       "      <td>1</td>\n",
       "      <td>3</td>\n",
       "      <td>Andersson, Miss. Erna Alexandra</td>\n",
       "      <td>female</td>\n",
       "      <td>17.0</td>\n",
       "      <td>4</td>\n",
       "      <td>2</td>\n",
       "      <td>3101281</td>\n",
       "      <td>7.9250</td>\n",
       "      <td>NaN</td>\n",
       "      <td>S</td>\n",
       "    </tr>\n",
       "    <tr>\n",
       "      <th>84</th>\n",
       "      <td>85</td>\n",
       "      <td>1</td>\n",
       "      <td>2</td>\n",
       "      <td>Ilett, Miss. Bertha</td>\n",
       "      <td>female</td>\n",
       "      <td>17.0</td>\n",
       "      <td>0</td>\n",
       "      <td>0</td>\n",
       "      <td>SO/C 14885</td>\n",
       "      <td>10.5000</td>\n",
       "      <td>NaN</td>\n",
       "      <td>S</td>\n",
       "    </tr>\n",
       "    <tr>\n",
       "      <th>114</th>\n",
       "      <td>115</td>\n",
       "      <td>0</td>\n",
       "      <td>3</td>\n",
       "      <td>Attalah, Miss. Malake</td>\n",
       "      <td>female</td>\n",
       "      <td>17.0</td>\n",
       "      <td>0</td>\n",
       "      <td>0</td>\n",
       "      <td>2627</td>\n",
       "      <td>14.4583</td>\n",
       "      <td>NaN</td>\n",
       "      <td>C</td>\n",
       "    </tr>\n",
       "    <tr>\n",
       "      <th>119</th>\n",
       "      <td>120</td>\n",
       "      <td>0</td>\n",
       "      <td>3</td>\n",
       "      <td>Andersson, Miss. Ellis Anna Maria</td>\n",
       "      <td>female</td>\n",
       "      <td>2.0</td>\n",
       "      <td>4</td>\n",
       "      <td>2</td>\n",
       "      <td>347082</td>\n",
       "      <td>31.2750</td>\n",
       "      <td>NaN</td>\n",
       "      <td>S</td>\n",
       "    </tr>\n",
       "    <tr>\n",
       "      <th>182</th>\n",
       "      <td>183</td>\n",
       "      <td>0</td>\n",
       "      <td>3</td>\n",
       "      <td>Asplund, Master. Clarence Gustaf Hugo</td>\n",
       "      <td>male</td>\n",
       "      <td>9.0</td>\n",
       "      <td>4</td>\n",
       "      <td>2</td>\n",
       "      <td>347077</td>\n",
       "      <td>31.3875</td>\n",
       "      <td>NaN</td>\n",
       "      <td>S</td>\n",
       "    </tr>\n",
       "    <tr>\n",
       "      <th>192</th>\n",
       "      <td>193</td>\n",
       "      <td>1</td>\n",
       "      <td>3</td>\n",
       "      <td>Andersen-Jensen, Miss. Carla Christine Nielsine</td>\n",
       "      <td>female</td>\n",
       "      <td>19.0</td>\n",
       "      <td>1</td>\n",
       "      <td>0</td>\n",
       "      <td>350046</td>\n",
       "      <td>7.8542</td>\n",
       "      <td>NaN</td>\n",
       "      <td>S</td>\n",
       "    </tr>\n",
       "    <tr>\n",
       "      <th>275</th>\n",
       "      <td>276</td>\n",
       "      <td>1</td>\n",
       "      <td>1</td>\n",
       "      <td>Andrews, Miss. Kornelia Theodosia</td>\n",
       "      <td>female</td>\n",
       "      <td>63.0</td>\n",
       "      <td>1</td>\n",
       "      <td>0</td>\n",
       "      <td>13502</td>\n",
       "      <td>77.9583</td>\n",
       "      <td>D7</td>\n",
       "      <td>S</td>\n",
       "    </tr>\n",
       "    <tr>\n",
       "      <th>297</th>\n",
       "      <td>298</td>\n",
       "      <td>0</td>\n",
       "      <td>1</td>\n",
       "      <td>Allison, Miss. Helen Loraine</td>\n",
       "      <td>female</td>\n",
       "      <td>2.0</td>\n",
       "      <td>1</td>\n",
       "      <td>2</td>\n",
       "      <td>113781</td>\n",
       "      <td>151.5500</td>\n",
       "      <td>C22 C26</td>\n",
       "      <td>S</td>\n",
       "    </tr>\n",
       "    <tr>\n",
       "      <th>363</th>\n",
       "      <td>364</td>\n",
       "      <td>0</td>\n",
       "      <td>3</td>\n",
       "      <td>Asim, Mr. Adola</td>\n",
       "      <td>male</td>\n",
       "      <td>35.0</td>\n",
       "      <td>0</td>\n",
       "      <td>0</td>\n",
       "      <td>SOTON/O.Q. 3101310</td>\n",
       "      <td>7.0500</td>\n",
       "      <td>NaN</td>\n",
       "      <td>S</td>\n",
       "    </tr>\n",
       "    <tr>\n",
       "      <th>369</th>\n",
       "      <td>370</td>\n",
       "      <td>1</td>\n",
       "      <td>1</td>\n",
       "      <td>Aubart, Mme. Leontine Pauline</td>\n",
       "      <td>female</td>\n",
       "      <td>24.0</td>\n",
       "      <td>0</td>\n",
       "      <td>0</td>\n",
       "      <td>PC 17477</td>\n",
       "      <td>69.3000</td>\n",
       "      <td>B35</td>\n",
       "      <td>C</td>\n",
       "    </tr>\n",
       "    <tr>\n",
       "      <th>396</th>\n",
       "      <td>397</td>\n",
       "      <td>0</td>\n",
       "      <td>3</td>\n",
       "      <td>Olsson, Miss. Elina</td>\n",
       "      <td>female</td>\n",
       "      <td>31.0</td>\n",
       "      <td>0</td>\n",
       "      <td>0</td>\n",
       "      <td>350407</td>\n",
       "      <td>7.8542</td>\n",
       "      <td>NaN</td>\n",
       "      <td>S</td>\n",
       "    </tr>\n",
       "    <tr>\n",
       "      <th>404</th>\n",
       "      <td>405</td>\n",
       "      <td>0</td>\n",
       "      <td>3</td>\n",
       "      <td>Oreskovic, Miss. Marija</td>\n",
       "      <td>female</td>\n",
       "      <td>20.0</td>\n",
       "      <td>0</td>\n",
       "      <td>0</td>\n",
       "      <td>315096</td>\n",
       "      <td>8.6625</td>\n",
       "      <td>NaN</td>\n",
       "      <td>S</td>\n",
       "    </tr>\n",
       "    <tr>\n",
       "      <th>459</th>\n",
       "      <td>460</td>\n",
       "      <td>0</td>\n",
       "      <td>3</td>\n",
       "      <td>O'Connor, Mr. Maurice</td>\n",
       "      <td>male</td>\n",
       "      <td>NaN</td>\n",
       "      <td>0</td>\n",
       "      <td>0</td>\n",
       "      <td>371060</td>\n",
       "      <td>7.7500</td>\n",
       "      <td>NaN</td>\n",
       "      <td>Q</td>\n",
       "    </tr>\n",
       "    <tr>\n",
       "      <th>508</th>\n",
       "      <td>509</td>\n",
       "      <td>0</td>\n",
       "      <td>3</td>\n",
       "      <td>Olsen, Mr. Henry Margido</td>\n",
       "      <td>male</td>\n",
       "      <td>28.0</td>\n",
       "      <td>0</td>\n",
       "      <td>0</td>\n",
       "      <td>C 4001</td>\n",
       "      <td>22.5250</td>\n",
       "      <td>NaN</td>\n",
       "      <td>S</td>\n",
       "    </tr>\n",
       "    <tr>\n",
       "      <th>541</th>\n",
       "      <td>542</td>\n",
       "      <td>0</td>\n",
       "      <td>3</td>\n",
       "      <td>Andersson, Miss. Ingeborg Constanzia</td>\n",
       "      <td>female</td>\n",
       "      <td>9.0</td>\n",
       "      <td>4</td>\n",
       "      <td>2</td>\n",
       "      <td>347082</td>\n",
       "      <td>31.2750</td>\n",
       "      <td>NaN</td>\n",
       "      <td>S</td>\n",
       "    </tr>\n",
       "    <tr>\n",
       "      <th>716</th>\n",
       "      <td>717</td>\n",
       "      <td>1</td>\n",
       "      <td>1</td>\n",
       "      <td>Endres, Miss. Caroline Louise</td>\n",
       "      <td>female</td>\n",
       "      <td>38.0</td>\n",
       "      <td>0</td>\n",
       "      <td>0</td>\n",
       "      <td>PC 17757</td>\n",
       "      <td>227.5250</td>\n",
       "      <td>C45</td>\n",
       "      <td>C</td>\n",
       "    </tr>\n",
       "    <tr>\n",
       "      <th>725</th>\n",
       "      <td>726</td>\n",
       "      <td>0</td>\n",
       "      <td>3</td>\n",
       "      <td>Oreskovic, Mr. Luka</td>\n",
       "      <td>male</td>\n",
       "      <td>20.0</td>\n",
       "      <td>0</td>\n",
       "      <td>0</td>\n",
       "      <td>315094</td>\n",
       "      <td>8.6625</td>\n",
       "      <td>NaN</td>\n",
       "      <td>S</td>\n",
       "    </tr>\n",
       "    <tr>\n",
       "      <th>729</th>\n",
       "      <td>730</td>\n",
       "      <td>0</td>\n",
       "      <td>3</td>\n",
       "      <td>Ilmakangas, Miss. Pieta Sofia</td>\n",
       "      <td>female</td>\n",
       "      <td>25.0</td>\n",
       "      <td>1</td>\n",
       "      <td>0</td>\n",
       "      <td>STON/O2. 3101271</td>\n",
       "      <td>7.9250</td>\n",
       "      <td>NaN</td>\n",
       "      <td>S</td>\n",
       "    </tr>\n",
       "    <tr>\n",
       "      <th>738</th>\n",
       "      <td>739</td>\n",
       "      <td>0</td>\n",
       "      <td>3</td>\n",
       "      <td>Ivanoff, Mr. Kanio</td>\n",
       "      <td>male</td>\n",
       "      <td>NaN</td>\n",
       "      <td>0</td>\n",
       "      <td>0</td>\n",
       "      <td>349201</td>\n",
       "      <td>7.8958</td>\n",
       "      <td>NaN</td>\n",
       "      <td>S</td>\n",
       "    </tr>\n",
       "    <tr>\n",
       "      <th>773</th>\n",
       "      <td>774</td>\n",
       "      <td>0</td>\n",
       "      <td>3</td>\n",
       "      <td>Elias, Mr. Dibo</td>\n",
       "      <td>male</td>\n",
       "      <td>NaN</td>\n",
       "      <td>0</td>\n",
       "      <td>0</td>\n",
       "      <td>2674</td>\n",
       "      <td>7.2250</td>\n",
       "      <td>NaN</td>\n",
       "      <td>C</td>\n",
       "    </tr>\n",
       "    <tr>\n",
       "      <th>780</th>\n",
       "      <td>781</td>\n",
       "      <td>1</td>\n",
       "      <td>3</td>\n",
       "      <td>Ayoub, Miss. Banoura</td>\n",
       "      <td>female</td>\n",
       "      <td>13.0</td>\n",
       "      <td>0</td>\n",
       "      <td>0</td>\n",
       "      <td>2687</td>\n",
       "      <td>7.2292</td>\n",
       "      <td>NaN</td>\n",
       "      <td>C</td>\n",
       "    </tr>\n",
       "    <tr>\n",
       "      <th>797</th>\n",
       "      <td>798</td>\n",
       "      <td>1</td>\n",
       "      <td>3</td>\n",
       "      <td>Osman, Mrs. Mara</td>\n",
       "      <td>female</td>\n",
       "      <td>31.0</td>\n",
       "      <td>0</td>\n",
       "      <td>0</td>\n",
       "      <td>349244</td>\n",
       "      <td>8.6833</td>\n",
       "      <td>NaN</td>\n",
       "      <td>S</td>\n",
       "    </tr>\n",
       "    <tr>\n",
       "      <th>813</th>\n",
       "      <td>814</td>\n",
       "      <td>0</td>\n",
       "      <td>3</td>\n",
       "      <td>Andersson, Miss. Ebba Iris Alfrida</td>\n",
       "      <td>female</td>\n",
       "      <td>6.0</td>\n",
       "      <td>4</td>\n",
       "      <td>2</td>\n",
       "      <td>347082</td>\n",
       "      <td>31.2750</td>\n",
       "      <td>NaN</td>\n",
       "      <td>S</td>\n",
       "    </tr>\n",
       "    <tr>\n",
       "      <th>834</th>\n",
       "      <td>835</td>\n",
       "      <td>0</td>\n",
       "      <td>3</td>\n",
       "      <td>Allum, Mr. Owen George</td>\n",
       "      <td>male</td>\n",
       "      <td>18.0</td>\n",
       "      <td>0</td>\n",
       "      <td>0</td>\n",
       "      <td>2223</td>\n",
       "      <td>8.3000</td>\n",
       "      <td>NaN</td>\n",
       "      <td>S</td>\n",
       "    </tr>\n",
       "  </tbody>\n",
       "</table>\n",
       "</div>"
      ],
      "text/plain": [
       "     PassengerId  Survived  Pclass  \\\n",
       "30            31         0       1   \n",
       "61            62         1       1   \n",
       "68            69         1       3   \n",
       "84            85         1       2   \n",
       "114          115         0       3   \n",
       "119          120         0       3   \n",
       "182          183         0       3   \n",
       "192          193         1       3   \n",
       "275          276         1       1   \n",
       "297          298         0       1   \n",
       "363          364         0       3   \n",
       "369          370         1       1   \n",
       "396          397         0       3   \n",
       "404          405         0       3   \n",
       "459          460         0       3   \n",
       "508          509         0       3   \n",
       "541          542         0       3   \n",
       "716          717         1       1   \n",
       "725          726         0       3   \n",
       "729          730         0       3   \n",
       "738          739         0       3   \n",
       "773          774         0       3   \n",
       "780          781         1       3   \n",
       "797          798         1       3   \n",
       "813          814         0       3   \n",
       "834          835         0       3   \n",
       "\n",
       "                                                Name     Sex   Age  SibSp  \\\n",
       "30                          Uruchurtu, Don. Manuel E    male  40.0      0   \n",
       "61                               Icard, Miss. Amelie  female  38.0      0   \n",
       "68                   Andersson, Miss. Erna Alexandra  female  17.0      4   \n",
       "84                               Ilett, Miss. Bertha  female  17.0      0   \n",
       "114                            Attalah, Miss. Malake  female  17.0      0   \n",
       "119                Andersson, Miss. Ellis Anna Maria  female   2.0      4   \n",
       "182            Asplund, Master. Clarence Gustaf Hugo    male   9.0      4   \n",
       "192  Andersen-Jensen, Miss. Carla Christine Nielsine  female  19.0      1   \n",
       "275                Andrews, Miss. Kornelia Theodosia  female  63.0      1   \n",
       "297                     Allison, Miss. Helen Loraine  female   2.0      1   \n",
       "363                                  Asim, Mr. Adola    male  35.0      0   \n",
       "369                    Aubart, Mme. Leontine Pauline  female  24.0      0   \n",
       "396                              Olsson, Miss. Elina  female  31.0      0   \n",
       "404                          Oreskovic, Miss. Marija  female  20.0      0   \n",
       "459                            O'Connor, Mr. Maurice    male   NaN      0   \n",
       "508                         Olsen, Mr. Henry Margido    male  28.0      0   \n",
       "541             Andersson, Miss. Ingeborg Constanzia  female   9.0      4   \n",
       "716                    Endres, Miss. Caroline Louise  female  38.0      0   \n",
       "725                              Oreskovic, Mr. Luka    male  20.0      0   \n",
       "729                    Ilmakangas, Miss. Pieta Sofia  female  25.0      1   \n",
       "738                               Ivanoff, Mr. Kanio    male   NaN      0   \n",
       "773                                  Elias, Mr. Dibo    male   NaN      0   \n",
       "780                             Ayoub, Miss. Banoura  female  13.0      0   \n",
       "797                                 Osman, Mrs. Mara  female  31.0      0   \n",
       "813               Andersson, Miss. Ebba Iris Alfrida  female   6.0      4   \n",
       "834                           Allum, Mr. Owen George    male  18.0      0   \n",
       "\n",
       "     Parch              Ticket      Fare    Cabin Embarked  \n",
       "30       0            PC 17601   27.7208      NaN        C  \n",
       "61       0              113572   80.0000      B28      NaN  \n",
       "68       2             3101281    7.9250      NaN        S  \n",
       "84       0          SO/C 14885   10.5000      NaN        S  \n",
       "114      0                2627   14.4583      NaN        C  \n",
       "119      2              347082   31.2750      NaN        S  \n",
       "182      2              347077   31.3875      NaN        S  \n",
       "192      0              350046    7.8542      NaN        S  \n",
       "275      0               13502   77.9583       D7        S  \n",
       "297      2              113781  151.5500  C22 C26        S  \n",
       "363      0  SOTON/O.Q. 3101310    7.0500      NaN        S  \n",
       "369      0            PC 17477   69.3000      B35        C  \n",
       "396      0              350407    7.8542      NaN        S  \n",
       "404      0              315096    8.6625      NaN        S  \n",
       "459      0              371060    7.7500      NaN        Q  \n",
       "508      0              C 4001   22.5250      NaN        S  \n",
       "541      2              347082   31.2750      NaN        S  \n",
       "716      0            PC 17757  227.5250      C45        C  \n",
       "725      0              315094    8.6625      NaN        S  \n",
       "729      0    STON/O2. 3101271    7.9250      NaN        S  \n",
       "738      0              349201    7.8958      NaN        S  \n",
       "773      0                2674    7.2250      NaN        C  \n",
       "780      0                2687    7.2292      NaN        C  \n",
       "797      0              349244    8.6833      NaN        S  \n",
       "813      2              347082   31.2750      NaN        S  \n",
       "834      0                2223    8.3000      NaN        S  "
      ]
     },
     "execution_count": 163,
     "metadata": {},
     "output_type": "execute_result"
    }
   ],
   "source": [
    "titanic_df[titanic_df['Name'].str.contains('^[aeiouAEIOU].+[aeiouAEIOU]$')]"
   ]
  },
  {
   "cell_type": "code",
   "execution_count": 164,
   "id": "986822cd",
   "metadata": {},
   "outputs": [
    {
     "data": {
      "text/html": [
       "<div>\n",
       "<style scoped>\n",
       "    .dataframe tbody tr th:only-of-type {\n",
       "        vertical-align: middle;\n",
       "    }\n",
       "\n",
       "    .dataframe tbody tr th {\n",
       "        vertical-align: top;\n",
       "    }\n",
       "\n",
       "    .dataframe thead th {\n",
       "        text-align: right;\n",
       "    }\n",
       "</style>\n",
       "<table border=\"1\" class=\"dataframe\">\n",
       "  <thead>\n",
       "    <tr style=\"text-align: right;\">\n",
       "      <th></th>\n",
       "      <th>PassengerId</th>\n",
       "      <th>Survived</th>\n",
       "      <th>Pclass</th>\n",
       "      <th>Name</th>\n",
       "      <th>Sex</th>\n",
       "      <th>Age</th>\n",
       "      <th>SibSp</th>\n",
       "      <th>Parch</th>\n",
       "      <th>Ticket</th>\n",
       "      <th>Fare</th>\n",
       "      <th>Cabin</th>\n",
       "      <th>Embarked</th>\n",
       "    </tr>\n",
       "  </thead>\n",
       "  <tbody>\n",
       "    <tr>\n",
       "      <th>0</th>\n",
       "      <td>1</td>\n",
       "      <td>0</td>\n",
       "      <td>3</td>\n",
       "      <td>Braund, Mr. Owen Harris</td>\n",
       "      <td>male</td>\n",
       "      <td>22.0</td>\n",
       "      <td>1</td>\n",
       "      <td>0</td>\n",
       "      <td>A/5 21171</td>\n",
       "      <td>7.2500</td>\n",
       "      <td>NaN</td>\n",
       "      <td>S</td>\n",
       "    </tr>\n",
       "    <tr>\n",
       "      <th>1</th>\n",
       "      <td>2</td>\n",
       "      <td>1</td>\n",
       "      <td>1</td>\n",
       "      <td>Cumings, Mrs. John Bradley (Florence Briggs Th...</td>\n",
       "      <td>female</td>\n",
       "      <td>38.0</td>\n",
       "      <td>1</td>\n",
       "      <td>0</td>\n",
       "      <td>PC 17599</td>\n",
       "      <td>71.2833</td>\n",
       "      <td>C85</td>\n",
       "      <td>C</td>\n",
       "    </tr>\n",
       "    <tr>\n",
       "      <th>3</th>\n",
       "      <td>4</td>\n",
       "      <td>1</td>\n",
       "      <td>1</td>\n",
       "      <td>Futrelle, Mrs. Jacques Heath (Lily May Peel)</td>\n",
       "      <td>female</td>\n",
       "      <td>35.0</td>\n",
       "      <td>1</td>\n",
       "      <td>0</td>\n",
       "      <td>113803</td>\n",
       "      <td>53.1000</td>\n",
       "      <td>C123</td>\n",
       "      <td>S</td>\n",
       "    </tr>\n",
       "    <tr>\n",
       "      <th>5</th>\n",
       "      <td>6</td>\n",
       "      <td>0</td>\n",
       "      <td>3</td>\n",
       "      <td>Moran, Mr. James</td>\n",
       "      <td>male</td>\n",
       "      <td>NaN</td>\n",
       "      <td>0</td>\n",
       "      <td>0</td>\n",
       "      <td>330877</td>\n",
       "      <td>8.4583</td>\n",
       "      <td>NaN</td>\n",
       "      <td>Q</td>\n",
       "    </tr>\n",
       "    <tr>\n",
       "      <th>6</th>\n",
       "      <td>7</td>\n",
       "      <td>0</td>\n",
       "      <td>1</td>\n",
       "      <td>McCarthy, Mr. Timothy J</td>\n",
       "      <td>male</td>\n",
       "      <td>54.0</td>\n",
       "      <td>0</td>\n",
       "      <td>0</td>\n",
       "      <td>17463</td>\n",
       "      <td>51.8625</td>\n",
       "      <td>E46</td>\n",
       "      <td>S</td>\n",
       "    </tr>\n",
       "    <tr>\n",
       "      <th>...</th>\n",
       "      <td>...</td>\n",
       "      <td>...</td>\n",
       "      <td>...</td>\n",
       "      <td>...</td>\n",
       "      <td>...</td>\n",
       "      <td>...</td>\n",
       "      <td>...</td>\n",
       "      <td>...</td>\n",
       "      <td>...</td>\n",
       "      <td>...</td>\n",
       "      <td>...</td>\n",
       "      <td>...</td>\n",
       "    </tr>\n",
       "    <tr>\n",
       "      <th>886</th>\n",
       "      <td>887</td>\n",
       "      <td>0</td>\n",
       "      <td>2</td>\n",
       "      <td>Montvila, Rev. Juozas</td>\n",
       "      <td>male</td>\n",
       "      <td>27.0</td>\n",
       "      <td>0</td>\n",
       "      <td>0</td>\n",
       "      <td>211536</td>\n",
       "      <td>13.0000</td>\n",
       "      <td>NaN</td>\n",
       "      <td>S</td>\n",
       "    </tr>\n",
       "    <tr>\n",
       "      <th>887</th>\n",
       "      <td>888</td>\n",
       "      <td>1</td>\n",
       "      <td>1</td>\n",
       "      <td>Graham, Miss. Margaret Edith</td>\n",
       "      <td>female</td>\n",
       "      <td>19.0</td>\n",
       "      <td>0</td>\n",
       "      <td>0</td>\n",
       "      <td>112053</td>\n",
       "      <td>30.0000</td>\n",
       "      <td>B42</td>\n",
       "      <td>S</td>\n",
       "    </tr>\n",
       "    <tr>\n",
       "      <th>888</th>\n",
       "      <td>889</td>\n",
       "      <td>0</td>\n",
       "      <td>3</td>\n",
       "      <td>Johnston, Miss. Catherine Helen \"Carrie\"</td>\n",
       "      <td>female</td>\n",
       "      <td>NaN</td>\n",
       "      <td>1</td>\n",
       "      <td>2</td>\n",
       "      <td>W./C. 6607</td>\n",
       "      <td>23.4500</td>\n",
       "      <td>NaN</td>\n",
       "      <td>S</td>\n",
       "    </tr>\n",
       "    <tr>\n",
       "      <th>889</th>\n",
       "      <td>890</td>\n",
       "      <td>1</td>\n",
       "      <td>1</td>\n",
       "      <td>Behr, Mr. Karl Howell</td>\n",
       "      <td>male</td>\n",
       "      <td>26.0</td>\n",
       "      <td>0</td>\n",
       "      <td>0</td>\n",
       "      <td>111369</td>\n",
       "      <td>30.0000</td>\n",
       "      <td>C148</td>\n",
       "      <td>C</td>\n",
       "    </tr>\n",
       "    <tr>\n",
       "      <th>890</th>\n",
       "      <td>891</td>\n",
       "      <td>0</td>\n",
       "      <td>3</td>\n",
       "      <td>Dooley, Mr. Patrick</td>\n",
       "      <td>male</td>\n",
       "      <td>32.0</td>\n",
       "      <td>0</td>\n",
       "      <td>0</td>\n",
       "      <td>370376</td>\n",
       "      <td>7.7500</td>\n",
       "      <td>NaN</td>\n",
       "      <td>Q</td>\n",
       "    </tr>\n",
       "  </tbody>\n",
       "</table>\n",
       "<p>621 rows × 12 columns</p>\n",
       "</div>"
      ],
      "text/plain": [
       "     PassengerId  Survived  Pclass  \\\n",
       "0              1         0       3   \n",
       "1              2         1       1   \n",
       "3              4         1       1   \n",
       "5              6         0       3   \n",
       "6              7         0       1   \n",
       "..           ...       ...     ...   \n",
       "886          887         0       2   \n",
       "887          888         1       1   \n",
       "888          889         0       3   \n",
       "889          890         1       1   \n",
       "890          891         0       3   \n",
       "\n",
       "                                                  Name     Sex   Age  SibSp  \\\n",
       "0                              Braund, Mr. Owen Harris    male  22.0      1   \n",
       "1    Cumings, Mrs. John Bradley (Florence Briggs Th...  female  38.0      1   \n",
       "3         Futrelle, Mrs. Jacques Heath (Lily May Peel)  female  35.0      1   \n",
       "5                                     Moran, Mr. James    male   NaN      0   \n",
       "6                              McCarthy, Mr. Timothy J    male  54.0      0   \n",
       "..                                                 ...     ...   ...    ...   \n",
       "886                              Montvila, Rev. Juozas    male  27.0      0   \n",
       "887                       Graham, Miss. Margaret Edith  female  19.0      0   \n",
       "888           Johnston, Miss. Catherine Helen \"Carrie\"  female   NaN      1   \n",
       "889                              Behr, Mr. Karl Howell    male  26.0      0   \n",
       "890                                Dooley, Mr. Patrick    male  32.0      0   \n",
       "\n",
       "     Parch      Ticket     Fare Cabin Embarked  \n",
       "0        0   A/5 21171   7.2500   NaN        S  \n",
       "1        0    PC 17599  71.2833   C85        C  \n",
       "3        0      113803  53.1000  C123        S  \n",
       "5        0      330877   8.4583   NaN        Q  \n",
       "6        0       17463  51.8625   E46        S  \n",
       "..     ...         ...      ...   ...      ...  \n",
       "886      0      211536  13.0000   NaN        S  \n",
       "887      0      112053  30.0000   B42        S  \n",
       "888      2  W./C. 6607  23.4500   NaN        S  \n",
       "889      0      111369  30.0000  C148        C  \n",
       "890      0      370376   7.7500   NaN        Q  \n",
       "\n",
       "[621 rows x 12 columns]"
      ]
     },
     "execution_count": 164,
     "metadata": {},
     "output_type": "execute_result"
    }
   ],
   "source": [
    "titanic_df[titanic_df['Name'].str.contains('^[^aeiouAEIOU].+[^aeiouAEIOU]$')]"
   ]
  },
  {
   "cell_type": "markdown",
   "id": "9081e6d6",
   "metadata": {},
   "source": [
    "### 🚀 **Timestamp Object in Pandas**"
   ]
  },
  {
   "cell_type": "markdown",
   "id": "35437da9",
   "metadata": {},
   "source": [
    "#### 📦 **Timestamp Creation (Date)**"
   ]
  },
  {
   "cell_type": "code",
   "execution_count": 172,
   "id": "83812858",
   "metadata": {},
   "outputs": [
    {
     "data": {
      "text/plain": [
       "Timestamp('2025-06-04 00:00:00')"
      ]
     },
     "execution_count": 172,
     "metadata": {},
     "output_type": "execute_result"
    }
   ],
   "source": [
    "pd.Timestamp(\n",
    "    ts_input = '2025-06-04'\n",
    ")"
   ]
  },
  {
   "cell_type": "code",
   "execution_count": 173,
   "id": "5aad2d16",
   "metadata": {},
   "outputs": [
    {
     "data": {
      "text/plain": [
       "Timestamp('2025-06-04 00:00:00')"
      ]
     },
     "execution_count": 173,
     "metadata": {},
     "output_type": "execute_result"
    }
   ],
   "source": [
    "pd.Timestamp(\n",
    "    ts_input = '2025/06/04'\n",
    ")"
   ]
  },
  {
   "cell_type": "code",
   "execution_count": 174,
   "id": "f3f4d197",
   "metadata": {},
   "outputs": [
    {
     "data": {
      "text/plain": [
       "Timestamp('2025-06-04 00:00:00')"
      ]
     },
     "execution_count": 174,
     "metadata": {},
     "output_type": "execute_result"
    }
   ],
   "source": [
    "pd.Timestamp(\n",
    "    ts_input = '2025, 06, 04'\n",
    ")"
   ]
  },
  {
   "cell_type": "code",
   "execution_count": 175,
   "id": "8f7a927c",
   "metadata": {},
   "outputs": [
    {
     "data": {
      "text/plain": [
       "Timestamp('2025-06-04 00:00:00')"
      ]
     },
     "execution_count": 175,
     "metadata": {},
     "output_type": "execute_result"
    }
   ],
   "source": [
    "pd.Timestamp(\n",
    "    ts_input = '4th June 2025'\n",
    ")"
   ]
  },
  {
   "cell_type": "code",
   "execution_count": 178,
   "id": "644b68d5",
   "metadata": {},
   "outputs": [
    {
     "data": {
      "text/plain": [
       "Timestamp('2025-06-04 00:00:00')"
      ]
     },
     "execution_count": 178,
     "metadata": {},
     "output_type": "execute_result"
    }
   ],
   "source": [
    "pd.Timestamp(\n",
    "    ts_input = '4th June, 2025'\n",
    ")"
   ]
  },
  {
   "cell_type": "code",
   "execution_count": 176,
   "id": "d3bb27b2",
   "metadata": {},
   "outputs": [
    {
     "data": {
      "text/plain": [
       "Timestamp('2025-06-04 00:00:00')"
      ]
     },
     "execution_count": 176,
     "metadata": {},
     "output_type": "execute_result"
    }
   ],
   "source": [
    "pd.Timestamp(\n",
    "    ts_input = 'June 04 2025'\n",
    ")"
   ]
  },
  {
   "cell_type": "code",
   "execution_count": 177,
   "id": "9ddf69ee",
   "metadata": {},
   "outputs": [
    {
     "data": {
      "text/plain": [
       "Timestamp('2025-06-04 00:00:00')"
      ]
     },
     "execution_count": 177,
     "metadata": {},
     "output_type": "execute_result"
    }
   ],
   "source": [
    "pd.Timestamp(\n",
    "    ts_input = 'June 04, 2025'\n",
    ")"
   ]
  },
  {
   "cell_type": "code",
   "execution_count": 191,
   "id": "6f3e7ac8",
   "metadata": {},
   "outputs": [
    {
     "data": {
      "text/plain": [
       "Timestamp('2025-01-01 00:00:00')"
      ]
     },
     "execution_count": 191,
     "metadata": {},
     "output_type": "execute_result"
    }
   ],
   "source": [
    "pd.Timestamp(\n",
    "    ts_input = '2025'\n",
    ")"
   ]
  },
  {
   "cell_type": "code",
   "execution_count": 192,
   "id": "101ae3cd",
   "metadata": {},
   "outputs": [
    {
     "data": {
      "text/plain": [
       "Timestamp('2025-06-01 00:00:00')"
      ]
     },
     "execution_count": 192,
     "metadata": {},
     "output_type": "execute_result"
    }
   ],
   "source": [
    "pd.Timestamp(\n",
    "    ts_input = '2025-06'\n",
    ")"
   ]
  },
  {
   "cell_type": "code",
   "execution_count": 197,
   "id": "f29ba7a6",
   "metadata": {},
   "outputs": [
    {
     "data": {
      "text/plain": [
       "Timestamp('2025-06-04 00:00:00')"
      ]
     },
     "execution_count": 197,
     "metadata": {},
     "output_type": "execute_result"
    }
   ],
   "source": [
    "pd.Timestamp(\n",
    "    ts_input = dt.datetime(\n",
    "        year = 2025,\n",
    "        month = 6,\n",
    "        day = 4\n",
    "    )\n",
    ")"
   ]
  },
  {
   "cell_type": "code",
   "execution_count": 200,
   "id": "5d528cb8",
   "metadata": {},
   "outputs": [
    {
     "data": {
      "text/plain": [
       "Timestamp('2025-06-04 00:00:00')"
      ]
     },
     "execution_count": 200,
     "metadata": {},
     "output_type": "execute_result"
    }
   ],
   "source": [
    "pd.Timestamp(\n",
    "    ts_input = 1748995200,\n",
    "    unit = 's'\n",
    ")"
   ]
  },
  {
   "cell_type": "code",
   "execution_count": 203,
   "id": "a43f3b46",
   "metadata": {},
   "outputs": [
    {
     "data": {
      "text/plain": [
       "Timestamp('2025-06-04 00:00:00')"
      ]
     },
     "execution_count": 203,
     "metadata": {},
     "output_type": "execute_result"
    }
   ],
   "source": [
    "pd.Timestamp(\n",
    "    ts_input = 1748995200000,\n",
    "    unit = 'ms'\n",
    ")"
   ]
  },
  {
   "cell_type": "code",
   "execution_count": 190,
   "id": "01d4af49",
   "metadata": {},
   "outputs": [
    {
     "data": {
      "text/plain": [
       "Timestamp('2025-06-04 00:00:00')"
      ]
     },
     "execution_count": 190,
     "metadata": {},
     "output_type": "execute_result"
    }
   ],
   "source": [
    "pd.Timestamp(\n",
    "    year = 2025,\n",
    "    month = 6,\n",
    "    day = 4\n",
    ")"
   ]
  },
  {
   "cell_type": "markdown",
   "id": "d9096663",
   "metadata": {},
   "source": [
    "#### 📦 **Timestamp Creation (Date + Time)**"
   ]
  },
  {
   "cell_type": "code",
   "execution_count": 186,
   "id": "3c1af3a6",
   "metadata": {},
   "outputs": [
    {
     "data": {
      "text/plain": [
       "Timestamp('2025-06-04 21:45:00')"
      ]
     },
     "execution_count": 186,
     "metadata": {},
     "output_type": "execute_result"
    }
   ],
   "source": [
    "pd.Timestamp(\n",
    "    ts_input = '2025-06-04T2145'\n",
    ")"
   ]
  },
  {
   "cell_type": "code",
   "execution_count": 187,
   "id": "7d87fb2c",
   "metadata": {},
   "outputs": [
    {
     "data": {
      "text/plain": [
       "Timestamp('2025-06-04 21:45:00')"
      ]
     },
     "execution_count": 187,
     "metadata": {},
     "output_type": "execute_result"
    }
   ],
   "source": [
    "pd.Timestamp(\n",
    "    ts_input = '2025-06-04 21:45'\n",
    ")"
   ]
  },
  {
   "cell_type": "code",
   "execution_count": 188,
   "id": "ae67a6b2",
   "metadata": {},
   "outputs": [
    {
     "data": {
      "text/plain": [
       "Timestamp('2025-06-04 21:45:00')"
      ]
     },
     "execution_count": 188,
     "metadata": {},
     "output_type": "execute_result"
    }
   ],
   "source": [
    "pd.Timestamp(\n",
    "    ts_input = '2025/06/04 21:45'\n",
    ")"
   ]
  },
  {
   "cell_type": "code",
   "execution_count": 189,
   "id": "9fe133e4",
   "metadata": {},
   "outputs": [
    {
     "data": {
      "text/plain": [
       "Timestamp('2025-06-04 21:45:00')"
      ]
     },
     "execution_count": 189,
     "metadata": {},
     "output_type": "execute_result"
    }
   ],
   "source": [
    "pd.Timestamp(\n",
    "    ts_input = '2025/06/04 9:45PM'\n",
    ")"
   ]
  },
  {
   "cell_type": "code",
   "execution_count": 205,
   "id": "3c382090",
   "metadata": {},
   "outputs": [
    {
     "data": {
      "text/plain": [
       "Timestamp('2025-06-04 21:45:00')"
      ]
     },
     "execution_count": 205,
     "metadata": {},
     "output_type": "execute_result"
    }
   ],
   "source": [
    "pd.Timestamp(\n",
    "    ts_input = '2025, 06, 04, 21:45'\n",
    ")"
   ]
  },
  {
   "cell_type": "code",
   "execution_count": 206,
   "id": "d523003d",
   "metadata": {},
   "outputs": [
    {
     "data": {
      "text/plain": [
       "Timestamp('2025-06-04 21:45:00')"
      ]
     },
     "execution_count": 206,
     "metadata": {},
     "output_type": "execute_result"
    }
   ],
   "source": [
    "pd.Timestamp(\n",
    "    ts_input = '2025, 06, 04T21:45'\n",
    ")"
   ]
  },
  {
   "cell_type": "code",
   "execution_count": 212,
   "id": "8c5f040c",
   "metadata": {},
   "outputs": [
    {
     "data": {
      "text/plain": [
       "Timestamp('2025-06-04 17:09:11')"
      ]
     },
     "execution_count": 212,
     "metadata": {},
     "output_type": "execute_result"
    }
   ],
   "source": [
    "pd.Timestamp(\n",
    "    ts_input = 1749056951,\n",
    "    unit = 's'\n",
    ")"
   ]
  },
  {
   "cell_type": "code",
   "execution_count": 214,
   "id": "3a244c76",
   "metadata": {},
   "outputs": [
    {
     "data": {
      "text/plain": [
       "Timestamp('2025-06-04 21:45:00')"
      ]
     },
     "execution_count": 214,
     "metadata": {},
     "output_type": "execute_result"
    }
   ],
   "source": [
    "pd.Timestamp(\n",
    "    year = 2025,\n",
    "    month = 6,\n",
    "    day = 4,\n",
    "    hour = 21,\n",
    "    minute = 45\n",
    ")"
   ]
  },
  {
   "cell_type": "markdown",
   "id": "8884a9b2",
   "metadata": {},
   "source": [
    "#### 📦 **Vectorized Timestamp Operations**"
   ]
  },
  {
   "cell_type": "code",
   "execution_count": 220,
   "id": "f8869416",
   "metadata": {},
   "outputs": [
    {
     "data": {
      "text/plain": [
       "array(['2025-06-01', '2025-06-02', '2025-06-03', '2025-06-04',\n",
       "       '2025-06-05', '2025-06-06', '2025-06-07', '2025-06-08',\n",
       "       '2025-06-09', '2025-06-10', '2025-06-11', '2025-06-12',\n",
       "       '2025-06-13', '2025-06-14', '2025-06-15', '2025-06-16',\n",
       "       '2025-06-17', '2025-06-18', '2025-06-19', '2025-06-20',\n",
       "       '2025-06-21', '2025-06-22', '2025-06-23', '2025-06-24',\n",
       "       '2025-06-25', '2025-06-26', '2025-06-27', '2025-06-28',\n",
       "       '2025-06-29', '2025-06-30'], dtype='datetime64[D]')"
      ]
     },
     "execution_count": 220,
     "metadata": {},
     "output_type": "execute_result"
    }
   ],
   "source": [
    "month_start = np.array('2025-06-01', dtype = np.datetime64)\n",
    "days = np.arange(30)\n",
    "month_dates =  month_start + days\n",
    "month_dates"
   ]
  },
  {
   "cell_type": "markdown",
   "id": "1d7b92ac",
   "metadata": {},
   "source": [
    "### 🚀 **DatetimeIndex Object in Pandas**"
   ]
  },
  {
   "cell_type": "markdown",
   "id": "ee125a74",
   "metadata": {},
   "source": [
    "#### 📦 **From Strings**"
   ]
  },
  {
   "cell_type": "code",
   "execution_count": 227,
   "id": "82625ac1",
   "metadata": {},
   "outputs": [],
   "source": [
    "month_dates_dt_index = pd.DatetimeIndex(\n",
    "    data = [\n",
    "        '2025-06-01', '2025-06-02', '2025-06-03', '2025-06-04',\n",
    "        '2025-06-05', '2025-06-06', '2025-06-07', '2025-06-08',\n",
    "        '2025-06-09', '2025-06-10', '2025-06-11', '2025-06-12',\n",
    "        '2025-06-13', '2025-06-14', '2025-06-15', '2025-06-16',\n",
    "        '2025-06-17', '2025-06-18', '2025-06-19', '2025-06-20',\n",
    "        '2025-06-21', '2025-06-22', '2025-06-23', '2025-06-24',\n",
    "        '2025-06-25', '2025-06-26', '2025-06-27', '2025-06-28',\n",
    "        '2025-06-29', '2025-06-30'\n",
    "    ]\n",
    ")"
   ]
  },
  {
   "cell_type": "markdown",
   "id": "8e067a90",
   "metadata": {},
   "source": [
    "#### 📦 **From Timestamps**"
   ]
  },
  {
   "cell_type": "code",
   "execution_count": 224,
   "id": "a1b56643",
   "metadata": {},
   "outputs": [
    {
     "data": {
      "text/plain": [
       "DatetimeIndex(['2025-06-01', '2025-06-02', '2025-06-03', '2025-06-04'], dtype='datetime64[ns]', freq=None)"
      ]
     },
     "execution_count": 224,
     "metadata": {},
     "output_type": "execute_result"
    }
   ],
   "source": [
    "pd.DatetimeIndex(\n",
    "    data = [\n",
    "        pd.Timestamp('2025-06-01'),\n",
    "        pd.Timestamp('2025-06-02'),\n",
    "        pd.Timestamp('2025-06-03'),\n",
    "        pd.Timestamp('2025-06-04')\n",
    "    ]\n",
    ")"
   ]
  },
  {
   "cell_type": "markdown",
   "id": "98b92f34",
   "metadata": {},
   "source": [
    "#### 📦 **Using DatetimeIndex as Series Index**"
   ]
  },
  {
   "cell_type": "code",
   "execution_count": 230,
   "id": "67343342",
   "metadata": {},
   "outputs": [
    {
     "data": {
      "text/plain": [
       "2025-06-01    6\n",
       "2025-06-02    0\n",
       "2025-06-03    1\n",
       "2025-06-04    2\n",
       "2025-06-05    3\n",
       "2025-06-06    4\n",
       "2025-06-07    5\n",
       "2025-06-08    6\n",
       "2025-06-09    0\n",
       "2025-06-10    1\n",
       "2025-06-11    2\n",
       "2025-06-12    3\n",
       "2025-06-13    4\n",
       "2025-06-14    5\n",
       "2025-06-15    6\n",
       "2025-06-16    0\n",
       "2025-06-17    1\n",
       "2025-06-18    2\n",
       "2025-06-19    3\n",
       "2025-06-20    4\n",
       "2025-06-21    5\n",
       "2025-06-22    6\n",
       "2025-06-23    0\n",
       "2025-06-24    1\n",
       "2025-06-25    2\n",
       "2025-06-26    3\n",
       "2025-06-27    4\n",
       "2025-06-28    5\n",
       "2025-06-29    6\n",
       "2025-06-30    0\n",
       "Name: WeekDay, dtype: int32"
      ]
     },
     "execution_count": 230,
     "metadata": {},
     "output_type": "execute_result"
    }
   ],
   "source": [
    "pd.Series(\n",
    "    data = month_dates_dt_index.day_of_week,\n",
    "    index = month_dates_dt_index,\n",
    "    name = 'WeekDay'\n",
    ")"
   ]
  },
  {
   "cell_type": "markdown",
   "id": "9b9bc52f",
   "metadata": {},
   "source": [
    "#### 📦 **Using DatetimeIndex as DataFrame Index**"
   ]
  },
  {
   "cell_type": "code",
   "execution_count": 232,
   "id": "dfeab9c5",
   "metadata": {},
   "outputs": [
    {
     "data": {
      "text/html": [
       "<div>\n",
       "<style scoped>\n",
       "    .dataframe tbody tr th:only-of-type {\n",
       "        vertical-align: middle;\n",
       "    }\n",
       "\n",
       "    .dataframe tbody tr th {\n",
       "        vertical-align: top;\n",
       "    }\n",
       "\n",
       "    .dataframe thead th {\n",
       "        text-align: right;\n",
       "    }\n",
       "</style>\n",
       "<table border=\"1\" class=\"dataframe\">\n",
       "  <thead>\n",
       "    <tr style=\"text-align: right;\">\n",
       "      <th></th>\n",
       "      <th>Year</th>\n",
       "      <th>Month</th>\n",
       "      <th>Day</th>\n",
       "      <th>Day Name</th>\n",
       "    </tr>\n",
       "  </thead>\n",
       "  <tbody>\n",
       "    <tr>\n",
       "      <th>2025-06-01</th>\n",
       "      <td>2025</td>\n",
       "      <td>June</td>\n",
       "      <td>1</td>\n",
       "      <td>Sunday</td>\n",
       "    </tr>\n",
       "    <tr>\n",
       "      <th>2025-06-02</th>\n",
       "      <td>2025</td>\n",
       "      <td>June</td>\n",
       "      <td>2</td>\n",
       "      <td>Monday</td>\n",
       "    </tr>\n",
       "    <tr>\n",
       "      <th>2025-06-03</th>\n",
       "      <td>2025</td>\n",
       "      <td>June</td>\n",
       "      <td>3</td>\n",
       "      <td>Tuesday</td>\n",
       "    </tr>\n",
       "    <tr>\n",
       "      <th>2025-06-04</th>\n",
       "      <td>2025</td>\n",
       "      <td>June</td>\n",
       "      <td>4</td>\n",
       "      <td>Wednesday</td>\n",
       "    </tr>\n",
       "    <tr>\n",
       "      <th>2025-06-05</th>\n",
       "      <td>2025</td>\n",
       "      <td>June</td>\n",
       "      <td>5</td>\n",
       "      <td>Thursday</td>\n",
       "    </tr>\n",
       "    <tr>\n",
       "      <th>2025-06-06</th>\n",
       "      <td>2025</td>\n",
       "      <td>June</td>\n",
       "      <td>6</td>\n",
       "      <td>Friday</td>\n",
       "    </tr>\n",
       "    <tr>\n",
       "      <th>2025-06-07</th>\n",
       "      <td>2025</td>\n",
       "      <td>June</td>\n",
       "      <td>7</td>\n",
       "      <td>Saturday</td>\n",
       "    </tr>\n",
       "    <tr>\n",
       "      <th>2025-06-08</th>\n",
       "      <td>2025</td>\n",
       "      <td>June</td>\n",
       "      <td>8</td>\n",
       "      <td>Sunday</td>\n",
       "    </tr>\n",
       "    <tr>\n",
       "      <th>2025-06-09</th>\n",
       "      <td>2025</td>\n",
       "      <td>June</td>\n",
       "      <td>9</td>\n",
       "      <td>Monday</td>\n",
       "    </tr>\n",
       "    <tr>\n",
       "      <th>2025-06-10</th>\n",
       "      <td>2025</td>\n",
       "      <td>June</td>\n",
       "      <td>10</td>\n",
       "      <td>Tuesday</td>\n",
       "    </tr>\n",
       "    <tr>\n",
       "      <th>2025-06-11</th>\n",
       "      <td>2025</td>\n",
       "      <td>June</td>\n",
       "      <td>11</td>\n",
       "      <td>Wednesday</td>\n",
       "    </tr>\n",
       "    <tr>\n",
       "      <th>2025-06-12</th>\n",
       "      <td>2025</td>\n",
       "      <td>June</td>\n",
       "      <td>12</td>\n",
       "      <td>Thursday</td>\n",
       "    </tr>\n",
       "    <tr>\n",
       "      <th>2025-06-13</th>\n",
       "      <td>2025</td>\n",
       "      <td>June</td>\n",
       "      <td>13</td>\n",
       "      <td>Friday</td>\n",
       "    </tr>\n",
       "    <tr>\n",
       "      <th>2025-06-14</th>\n",
       "      <td>2025</td>\n",
       "      <td>June</td>\n",
       "      <td>14</td>\n",
       "      <td>Saturday</td>\n",
       "    </tr>\n",
       "    <tr>\n",
       "      <th>2025-06-15</th>\n",
       "      <td>2025</td>\n",
       "      <td>June</td>\n",
       "      <td>15</td>\n",
       "      <td>Sunday</td>\n",
       "    </tr>\n",
       "    <tr>\n",
       "      <th>2025-06-16</th>\n",
       "      <td>2025</td>\n",
       "      <td>June</td>\n",
       "      <td>16</td>\n",
       "      <td>Monday</td>\n",
       "    </tr>\n",
       "    <tr>\n",
       "      <th>2025-06-17</th>\n",
       "      <td>2025</td>\n",
       "      <td>June</td>\n",
       "      <td>17</td>\n",
       "      <td>Tuesday</td>\n",
       "    </tr>\n",
       "    <tr>\n",
       "      <th>2025-06-18</th>\n",
       "      <td>2025</td>\n",
       "      <td>June</td>\n",
       "      <td>18</td>\n",
       "      <td>Wednesday</td>\n",
       "    </tr>\n",
       "    <tr>\n",
       "      <th>2025-06-19</th>\n",
       "      <td>2025</td>\n",
       "      <td>June</td>\n",
       "      <td>19</td>\n",
       "      <td>Thursday</td>\n",
       "    </tr>\n",
       "    <tr>\n",
       "      <th>2025-06-20</th>\n",
       "      <td>2025</td>\n",
       "      <td>June</td>\n",
       "      <td>20</td>\n",
       "      <td>Friday</td>\n",
       "    </tr>\n",
       "    <tr>\n",
       "      <th>2025-06-21</th>\n",
       "      <td>2025</td>\n",
       "      <td>June</td>\n",
       "      <td>21</td>\n",
       "      <td>Saturday</td>\n",
       "    </tr>\n",
       "    <tr>\n",
       "      <th>2025-06-22</th>\n",
       "      <td>2025</td>\n",
       "      <td>June</td>\n",
       "      <td>22</td>\n",
       "      <td>Sunday</td>\n",
       "    </tr>\n",
       "    <tr>\n",
       "      <th>2025-06-23</th>\n",
       "      <td>2025</td>\n",
       "      <td>June</td>\n",
       "      <td>23</td>\n",
       "      <td>Monday</td>\n",
       "    </tr>\n",
       "    <tr>\n",
       "      <th>2025-06-24</th>\n",
       "      <td>2025</td>\n",
       "      <td>June</td>\n",
       "      <td>24</td>\n",
       "      <td>Tuesday</td>\n",
       "    </tr>\n",
       "    <tr>\n",
       "      <th>2025-06-25</th>\n",
       "      <td>2025</td>\n",
       "      <td>June</td>\n",
       "      <td>25</td>\n",
       "      <td>Wednesday</td>\n",
       "    </tr>\n",
       "    <tr>\n",
       "      <th>2025-06-26</th>\n",
       "      <td>2025</td>\n",
       "      <td>June</td>\n",
       "      <td>26</td>\n",
       "      <td>Thursday</td>\n",
       "    </tr>\n",
       "    <tr>\n",
       "      <th>2025-06-27</th>\n",
       "      <td>2025</td>\n",
       "      <td>June</td>\n",
       "      <td>27</td>\n",
       "      <td>Friday</td>\n",
       "    </tr>\n",
       "    <tr>\n",
       "      <th>2025-06-28</th>\n",
       "      <td>2025</td>\n",
       "      <td>June</td>\n",
       "      <td>28</td>\n",
       "      <td>Saturday</td>\n",
       "    </tr>\n",
       "    <tr>\n",
       "      <th>2025-06-29</th>\n",
       "      <td>2025</td>\n",
       "      <td>June</td>\n",
       "      <td>29</td>\n",
       "      <td>Sunday</td>\n",
       "    </tr>\n",
       "    <tr>\n",
       "      <th>2025-06-30</th>\n",
       "      <td>2025</td>\n",
       "      <td>June</td>\n",
       "      <td>30</td>\n",
       "      <td>Monday</td>\n",
       "    </tr>\n",
       "  </tbody>\n",
       "</table>\n",
       "</div>"
      ],
      "text/plain": [
       "            Year Month  Day   Day Name\n",
       "2025-06-01  2025  June    1     Sunday\n",
       "2025-06-02  2025  June    2     Monday\n",
       "2025-06-03  2025  June    3    Tuesday\n",
       "2025-06-04  2025  June    4  Wednesday\n",
       "2025-06-05  2025  June    5   Thursday\n",
       "2025-06-06  2025  June    6     Friday\n",
       "2025-06-07  2025  June    7   Saturday\n",
       "2025-06-08  2025  June    8     Sunday\n",
       "2025-06-09  2025  June    9     Monday\n",
       "2025-06-10  2025  June   10    Tuesday\n",
       "2025-06-11  2025  June   11  Wednesday\n",
       "2025-06-12  2025  June   12   Thursday\n",
       "2025-06-13  2025  June   13     Friday\n",
       "2025-06-14  2025  June   14   Saturday\n",
       "2025-06-15  2025  June   15     Sunday\n",
       "2025-06-16  2025  June   16     Monday\n",
       "2025-06-17  2025  June   17    Tuesday\n",
       "2025-06-18  2025  June   18  Wednesday\n",
       "2025-06-19  2025  June   19   Thursday\n",
       "2025-06-20  2025  June   20     Friday\n",
       "2025-06-21  2025  June   21   Saturday\n",
       "2025-06-22  2025  June   22     Sunday\n",
       "2025-06-23  2025  June   23     Monday\n",
       "2025-06-24  2025  June   24    Tuesday\n",
       "2025-06-25  2025  June   25  Wednesday\n",
       "2025-06-26  2025  June   26   Thursday\n",
       "2025-06-27  2025  June   27     Friday\n",
       "2025-06-28  2025  June   28   Saturday\n",
       "2025-06-29  2025  June   29     Sunday\n",
       "2025-06-30  2025  June   30     Monday"
      ]
     },
     "execution_count": 232,
     "metadata": {},
     "output_type": "execute_result"
    }
   ],
   "source": [
    "pd.DataFrame(\n",
    "    data = {\n",
    "        'Year' : month_dates_dt_index.year,\n",
    "        'Month' : month_dates_dt_index.month_name(),\n",
    "        'Day' : month_dates_dt_index.day,\n",
    "        'Day Name' : month_dates_dt_index.day_name()\n",
    "    },\n",
    "    index = month_dates_dt_index,\n",
    "    \n",
    ")"
   ]
  },
  {
   "cell_type": "markdown",
   "id": "f374815a",
   "metadata": {},
   "source": [
    "### 🚀 **pandas.date_range() function**"
   ]
  },
  {
   "cell_type": "markdown",
   "id": "71188a2a",
   "metadata": {},
   "source": [
    "#### 📦 **Generate Dates between Two Dates**"
   ]
  },
  {
   "cell_type": "code",
   "execution_count": 233,
   "id": "e3db9504",
   "metadata": {},
   "outputs": [
    {
     "data": {
      "text/plain": [
       "DatetimeIndex(['2025-06-01', '2025-06-02', '2025-06-03', '2025-06-04',\n",
       "               '2025-06-05', '2025-06-06', '2025-06-07', '2025-06-08',\n",
       "               '2025-06-09', '2025-06-10', '2025-06-11', '2025-06-12',\n",
       "               '2025-06-13', '2025-06-14', '2025-06-15', '2025-06-16',\n",
       "               '2025-06-17', '2025-06-18', '2025-06-19', '2025-06-20',\n",
       "               '2025-06-21', '2025-06-22', '2025-06-23', '2025-06-24',\n",
       "               '2025-06-25', '2025-06-26', '2025-06-27', '2025-06-28',\n",
       "               '2025-06-29', '2025-06-30'],\n",
       "              dtype='datetime64[ns]', freq='D')"
      ]
     },
     "execution_count": 233,
     "metadata": {},
     "output_type": "execute_result"
    }
   ],
   "source": [
    "pd.date_range(\n",
    "    start = '2025-06-01',\n",
    "    end = '2025-06-30'\n",
    ")"
   ]
  },
  {
   "cell_type": "markdown",
   "id": "0f196026",
   "metadata": {},
   "source": [
    "#### 📦 **Parameter : freq**  \n",
    "See the Offset Aliases List for allowed values of *freq* parameter. [Offset Aliases List](https://pandas.pydata.org/docs/user_guide/timeseries.html#offset-aliases)"
   ]
  },
  {
   "cell_type": "code",
   "execution_count": 235,
   "id": "d0bb23ff",
   "metadata": {},
   "outputs": [
    {
     "data": {
      "text/plain": [
       "DatetimeIndex(['2025-06-01', '2025-06-03', '2025-06-05', '2025-06-07',\n",
       "               '2025-06-09', '2025-06-11', '2025-06-13', '2025-06-15',\n",
       "               '2025-06-17', '2025-06-19', '2025-06-21', '2025-06-23',\n",
       "               '2025-06-25', '2025-06-27', '2025-06-29'],\n",
       "              dtype='datetime64[ns]', name='Alternate Dates', freq='2D')"
      ]
     },
     "execution_count": 235,
     "metadata": {},
     "output_type": "execute_result"
    }
   ],
   "source": [
    "pd.date_range(\n",
    "    start = '2025-06-01',\n",
    "    end = '2025-06-30',\n",
    "    freq = '2D',\n",
    "    name = 'Alternate Dates'\n",
    ")"
   ]
  },
  {
   "cell_type": "code",
   "execution_count": 240,
   "id": "e9c44322",
   "metadata": {},
   "outputs": [
    {
     "data": {
      "text/plain": [
       "DatetimeIndex(['2025-06-02', '2025-06-03', '2025-06-04', '2025-06-05',\n",
       "               '2025-06-06', '2025-06-09', '2025-06-10', '2025-06-11',\n",
       "               '2025-06-12', '2025-06-13', '2025-06-16', '2025-06-17',\n",
       "               '2025-06-18', '2025-06-19', '2025-06-20', '2025-06-23',\n",
       "               '2025-06-24', '2025-06-25', '2025-06-26', '2025-06-27',\n",
       "               '2025-06-30'],\n",
       "              dtype='datetime64[ns]', name='Business Dates', freq='B')"
      ]
     },
     "execution_count": 240,
     "metadata": {},
     "output_type": "execute_result"
    }
   ],
   "source": [
    "pd.date_range(\n",
    "    start = '2025-06-01',\n",
    "    end = '2025-06-30',\n",
    "    freq = 'B',\n",
    "    name = 'Business Dates'\n",
    ")"
   ]
  },
  {
   "cell_type": "code",
   "execution_count": 242,
   "id": "21e7dedd",
   "metadata": {},
   "outputs": [
    {
     "data": {
      "text/plain": [
       "DatetimeIndex(['2025-06-01', '2025-06-08', '2025-06-15', '2025-06-22',\n",
       "               '2025-06-29'],\n",
       "              dtype='datetime64[ns]', name='Weekly Sunday Dates', freq='W-SUN')"
      ]
     },
     "execution_count": 242,
     "metadata": {},
     "output_type": "execute_result"
    }
   ],
   "source": [
    "pd.date_range(\n",
    "    start = '2025-06-01',\n",
    "    end = '2025-06-30',\n",
    "    freq = 'W',\n",
    "    name = 'Weekly Sunday Dates'\n",
    ")"
   ]
  },
  {
   "cell_type": "code",
   "execution_count": 243,
   "id": "fbd55d14",
   "metadata": {},
   "outputs": [
    {
     "data": {
      "text/plain": [
       "DatetimeIndex(['2025-06-06', '2025-06-13', '2025-06-20', '2025-06-27'], dtype='datetime64[ns]', name='Weekly Friday Dates', freq='W-FRI')"
      ]
     },
     "execution_count": 243,
     "metadata": {},
     "output_type": "execute_result"
    }
   ],
   "source": [
    "pd.date_range(\n",
    "    start = '2025-06-01',\n",
    "    end = '2025-06-30',\n",
    "    freq = 'W-FRI',\n",
    "    name = 'Weekly Friday Dates'\n",
    ")"
   ]
  },
  {
   "cell_type": "code",
   "execution_count": 248,
   "id": "be447b73",
   "metadata": {},
   "outputs": [
    {
     "data": {
      "text/plain": [
       "DatetimeIndex(['2025-06-01 00:00:00', '2025-06-01 01:00:00',\n",
       "               '2025-06-01 02:00:00', '2025-06-01 03:00:00',\n",
       "               '2025-06-01 04:00:00', '2025-06-01 05:00:00',\n",
       "               '2025-06-01 06:00:00', '2025-06-01 07:00:00',\n",
       "               '2025-06-01 08:00:00', '2025-06-01 09:00:00',\n",
       "               ...\n",
       "               '2025-06-29 15:00:00', '2025-06-29 16:00:00',\n",
       "               '2025-06-29 17:00:00', '2025-06-29 18:00:00',\n",
       "               '2025-06-29 19:00:00', '2025-06-29 20:00:00',\n",
       "               '2025-06-29 21:00:00', '2025-06-29 22:00:00',\n",
       "               '2025-06-29 23:00:00', '2025-06-30 00:00:00'],\n",
       "              dtype='datetime64[ns]', name='Hourly Dates', length=697, freq='h')"
      ]
     },
     "execution_count": 248,
     "metadata": {},
     "output_type": "execute_result"
    }
   ],
   "source": [
    "pd.date_range(\n",
    "    start = '2025-06-01',\n",
    "    end = '2025-06-30',\n",
    "    freq = 'h',\n",
    "    name = 'Hourly Dates'\n",
    ")"
   ]
  },
  {
   "cell_type": "code",
   "execution_count": 250,
   "id": "73b559d7",
   "metadata": {},
   "outputs": [
    {
     "data": {
      "text/plain": [
       "DatetimeIndex(['2025-06-30'], dtype='datetime64[ns]', name='Month End Dates', freq='ME')"
      ]
     },
     "execution_count": 250,
     "metadata": {},
     "output_type": "execute_result"
    }
   ],
   "source": [
    "pd.date_range(\n",
    "    start = '2025-06-01',\n",
    "    end = '2025-06-30',\n",
    "    freq = 'ME',\n",
    "    name = 'Month End Dates'\n",
    ")"
   ]
  },
  {
   "cell_type": "code",
   "execution_count": 251,
   "id": "eda1f91f",
   "metadata": {},
   "outputs": [
    {
     "data": {
      "text/plain": [
       "DatetimeIndex(['2025-06-01'], dtype='datetime64[ns]', name='Month Start Dates', freq='MS')"
      ]
     },
     "execution_count": 251,
     "metadata": {},
     "output_type": "execute_result"
    }
   ],
   "source": [
    "pd.date_range(\n",
    "    start = '2025-06-01',\n",
    "    end = '2025-06-30',\n",
    "    freq = 'MS',\n",
    "    name = 'Month Start Dates'\n",
    ")"
   ]
  },
  {
   "cell_type": "code",
   "execution_count": null,
   "id": "345061b2",
   "metadata": {},
   "outputs": [
    {
     "data": {
      "text/plain": [
       "DatetimeIndex(['2025-12-31', '2026-12-31', '2027-12-31', '2028-12-31',\n",
       "               '2029-12-31'],\n",
       "              dtype='datetime64[ns]', name='Year End Dates', freq='YE-DEC')"
      ]
     },
     "execution_count": 253,
     "metadata": {},
     "output_type": "execute_result"
    }
   ],
   "source": [
    "pd.date_range(\n",
    "    start = '2025-06-01',\n",
    "    end = '2030-06-30',\n",
    "    freq = 'YE',\n",
    "    name = 'Year End December Dates'\n",
    ")"
   ]
  },
  {
   "cell_type": "code",
   "execution_count": 255,
   "id": "5b268049",
   "metadata": {},
   "outputs": [
    {
     "data": {
      "text/plain": [
       "DatetimeIndex(['2025-06-30', '2026-06-30', '2027-06-30', '2028-06-30',\n",
       "               '2029-06-30', '2030-06-30'],\n",
       "              dtype='datetime64[ns]', name='Year End June Dates', freq='YE-JUN')"
      ]
     },
     "execution_count": 255,
     "metadata": {},
     "output_type": "execute_result"
    }
   ],
   "source": [
    "pd.date_range(\n",
    "    start = '2025-06-01',\n",
    "    end = '2030-06-30',\n",
    "    freq = 'YE-JUN',\n",
    "    name = 'Year End June Dates'\n",
    ")"
   ]
  },
  {
   "cell_type": "code",
   "execution_count": 256,
   "id": "dd717051",
   "metadata": {},
   "outputs": [
    {
     "data": {
      "text/plain": [
       "DatetimeIndex(['2025-06-01', '2026-06-01', '2027-06-01', '2028-06-01',\n",
       "               '2029-06-01', '2030-06-01'],\n",
       "              dtype='datetime64[ns]', name='Year Start June Dates', freq='YS-JUN')"
      ]
     },
     "execution_count": 256,
     "metadata": {},
     "output_type": "execute_result"
    }
   ],
   "source": [
    "pd.date_range(\n",
    "    start = '2025-06-01',\n",
    "    end = '2030-06-30',\n",
    "    freq = 'YS-JUN',\n",
    "    name = 'Year Start June Dates'\n",
    ")"
   ]
  },
  {
   "cell_type": "markdown",
   "id": "9a60aeba",
   "metadata": {},
   "source": [
    "#### 📦 **Parameter : periods**"
   ]
  },
  {
   "cell_type": "markdown",
   "id": "8deac3b6",
   "metadata": {},
   "source": [
    "### 🚀 **pandas.date_range() function**"
   ]
  },
  {
   "cell_type": "code",
   "execution_count": 257,
   "id": "b94da618",
   "metadata": {},
   "outputs": [
    {
     "data": {
      "text/plain": [
       "DatetimeIndex(['2025-06-01', '2025-06-02', '2025-06-03', '2025-06-04',\n",
       "               '2025-06-05', '2025-06-06', '2025-06-07', '2025-06-08',\n",
       "               '2025-06-09', '2025-06-10', '2025-06-11', '2025-06-12',\n",
       "               '2025-06-13', '2025-06-14', '2025-06-15', '2025-06-16',\n",
       "               '2025-06-17', '2025-06-18', '2025-06-19', '2025-06-20',\n",
       "               '2025-06-21', '2025-06-22', '2025-06-23', '2025-06-24',\n",
       "               '2025-06-25', '2025-06-26', '2025-06-27', '2025-06-28',\n",
       "               '2025-06-29', '2025-06-30'],\n",
       "              dtype='datetime64[ns]', freq='D')"
      ]
     },
     "execution_count": 257,
     "metadata": {},
     "output_type": "execute_result"
    }
   ],
   "source": [
    "pd.date_range(\n",
    "    start = '2025-06-01',\n",
    "    periods = 30\n",
    ")"
   ]
  },
  {
   "cell_type": "code",
   "execution_count": 260,
   "id": "dc8eb791",
   "metadata": {},
   "outputs": [
    {
     "data": {
      "text/plain": [
       "DatetimeIndex(['2025-06-30', '2025-07-31', '2025-08-31', '2025-09-30',\n",
       "               '2025-10-31', '2025-11-30', '2025-12-31', '2026-01-31',\n",
       "               '2026-02-28', '2026-03-31', '2026-04-30', '2026-05-31'],\n",
       "              dtype='datetime64[ns]', freq='ME')"
      ]
     },
     "execution_count": 260,
     "metadata": {},
     "output_type": "execute_result"
    }
   ],
   "source": [
    "pd.date_range(\n",
    "    start = '2025-06-01',\n",
    "    periods = 12,\n",
    "    freq = 'ME'\n",
    ")"
   ]
  },
  {
   "cell_type": "markdown",
   "id": "66031426",
   "metadata": {},
   "source": [
    "### ⚠️ **Data Warning**\n",
    "For the code ahead we will be using the `expense_data.csv` which is in [Resources](../Resources/Data/) folder."
   ]
  },
  {
   "cell_type": "markdown",
   "id": "c2d100f8",
   "metadata": {},
   "source": [
    "#### **Reading data into DataFrame**"
   ]
  },
  {
   "cell_type": "code",
   "execution_count": 261,
   "id": "d120de5d",
   "metadata": {},
   "outputs": [],
   "source": [
    "expense_df = pd.read_csv(\n",
    "    filepath_or_buffer = '../Resources/Data/expense_data.csv'\n",
    ")"
   ]
  },
  {
   "cell_type": "markdown",
   "id": "9fc77651",
   "metadata": {},
   "source": [
    "### 🚀 **pandas.to_datetime() function**"
   ]
  },
  {
   "cell_type": "markdown",
   "id": "ed7259c2",
   "metadata": {},
   "source": [
    "#### 📦 **Scalar Series to Timestamp Series**"
   ]
  },
  {
   "cell_type": "code",
   "execution_count": 262,
   "id": "381108f4",
   "metadata": {},
   "outputs": [
    {
     "data": {
      "text/plain": [
       "0     2022-03-02 10:11:00\n",
       "1     2022-03-02 10:11:00\n",
       "2     2022-03-01 19:50:00\n",
       "3     2022-03-01 18:56:00\n",
       "4     2022-03-01 18:22:00\n",
       "              ...        \n",
       "272   2021-11-22 14:16:00\n",
       "273   2021-11-22 14:16:00\n",
       "274   2021-11-21 17:07:00\n",
       "275   2021-11-21 15:50:00\n",
       "276   2021-11-21 13:30:00\n",
       "Name: Date, Length: 277, dtype: datetime64[ns]"
      ]
     },
     "execution_count": 262,
     "metadata": {},
     "output_type": "execute_result"
    }
   ],
   "source": [
    "pd.to_datetime(\n",
    "    arg = expense_df.Date\n",
    ")"
   ]
  }
 ],
 "metadata": {
  "kernelspec": {
   "display_name": "learningenv",
   "language": "python",
   "name": "python3"
  },
  "language_info": {
   "codemirror_mode": {
    "name": "ipython",
    "version": 3
   },
   "file_extension": ".py",
   "mimetype": "text/x-python",
   "name": "python",
   "nbconvert_exporter": "python",
   "pygments_lexer": "ipython3",
   "version": "3.10.13"
  }
 },
 "nbformat": 4,
 "nbformat_minor": 5
}
