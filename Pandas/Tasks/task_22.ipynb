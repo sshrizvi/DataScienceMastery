{
  "cells": [
    {
      "cell_type": "markdown",
      "metadata": {},
      "source": [
        "# **Task 22 - (Article 120)** [![Static Badge](https://img.shields.io/badge/Open%20in%20Colab%20-%20orange?style=plastic&logo=googlecolab&labelColor=grey)](https://colab.research.google.com/github/sshrizvi/DataScienceMastery/blob/main/Pandas/Tasks/task_22.ipynb)\n",
        "\n",
        "|🔴 **WARNING** 🔴|\n",
        "|:-----------:|\n",
        "| If you have not studied article 120. Do checkout the articles before attempting the task. |\n",
        "| Here is [Vectorized String Operations & DateTime in Pandas](../Articles/120_vectorized_strings_datetime.md) |"
      ]
    },
    {
      "cell_type": "markdown",
      "metadata": {},
      "source": [
        "### 📦 **Importing Relevant Libraries**"
      ]
    },
    {
      "cell_type": "code",
      "execution_count": 1,
      "metadata": {
        "id": "QPuP3_a1xC74"
      },
      "outputs": [],
      "source": [
        "import pandas as pd\n",
        "import numpy as np\n",
        "import re"
      ]
    },
    {
      "cell_type": "markdown",
      "metadata": {},
      "source": [
        "### 👨🏼‍🔧 **Calibrating Settings**"
      ]
    },
    {
      "cell_type": "code",
      "execution_count": 2,
      "metadata": {},
      "outputs": [],
      "source": [
        "pd.options.display.max_columns = None"
      ]
    },
    {
      "cell_type": "markdown",
      "metadata": {},
      "source": [
        "### ⚠️ **Data Warning**\n",
        "For the questions forward, we are going to use `time_series_covid19_deaths_global.csv` and `time_series_covid19_confirmed_global.csv` datasets, which is in the [Resources](../Resources/) folder.\n",
        "\n",
        "Dataset : [Link](https://drive.google.com/drive/folders/1AP_M96SnIe985aQQp9SmDkz69AXHrs5t?usp=share_link)"
      ]
    },
    {
      "cell_type": "markdown",
      "metadata": {
        "id": "BdvJoBkDxKMT"
      },
      "source": [
        "### `Question-1:`\n",
        "\n",
        "The dataset is based on NFTs. This is quite large. So, when you will read the dataset, you have to wait. The link of the dataset: https://tinyurl.com/2pfhncqw\n",
        "\n",
        "Your task is to make a pivote table by using the columns \"verification_status\", \"contract_type\", \"rarity_score\" and \"last_sale_price\" to find out the total values."
      ]
    },
    {
      "cell_type": "code",
      "execution_count": null,
      "metadata": {
        "id": "5XXXFS5zxHEu"
      },
      "outputs": [],
      "source": [
        "# code here"
      ]
    },
    {
      "cell_type": "markdown",
      "metadata": {
        "id": "W2TiKcFJxP9i"
      },
      "source": [
        "### `Question-2:`\n",
        "\n",
        "You are given a dataset about the cars' price and miles driven of different cars throughout the different years. The link of the dataset: https://tinyurl.com/2r24n45l. Your tasks are\n",
        "- make a pivot table of the brands (the required brands are given below) from the \"Year\" 2018 to the year 2022 in which the \"Price\" is shown as average values and \"Miles\" are in median values. In this pivote table, every row represents a particular brand and each column represents either average \"Price\" of a partucular year or median values of \"Miles\" of a particular year.\n",
        "- At the end plot a kde chart for the \"Price\" and \"Miles\" by using your pivot table.\n",
        "\n",
        "There are some challenges to solve this task:\n",
        "- There is no column that is represented to the brand name of the car. You have to find out on your own.\n",
        "- Some values of \"Years\" column are misleading. You have to reset this column too that every value should tell a valid meaning."
      ]
    },
    {
      "cell_type": "code",
      "execution_count": null,
      "metadata": {
        "id": "hno_bmvXxSFf"
      },
      "outputs": [],
      "source": [
        "# code here"
      ]
    },
    {
      "cell_type": "markdown",
      "metadata": {
        "id": "DUPv5GVPxXRW"
      },
      "source": [
        "### `Question-3:`\n",
        "\n",
        "You are given a dataset of **Daily Power Generation in India** of regional wise of all Power Stations. Link of the dataset: https://tinyurl.com/2nq6kugt\n",
        "\n",
        "Task\n",
        "- In this dataset, there are many columns. Two of them are `Actual(MU)` and `Excess(+) / Shortfall (-)`. `Actual(MU)` represents the actual power generation. `Excess(+) / Shortfall (-)` tells is that generated power is excess or shortfall for that particular day of a power station. You have to find out what should be the actual power generation required for that day by the power stations that there would not be any excess or shorfall power. For the result, make a new column.\n",
        "- Find out the month of the day and store it as a new column.\n",
        "- Find out top 10 frequently appeared power stations in this dataframe.\n",
        "- Next create a pivot table of which every row represents a power station and every column represents a month in a order. Like January, February, March...\n",
        "- It is hard to get inside if you look through the only pivot table. So plot the pivot table."
      ]
    },
    {
      "cell_type": "code",
      "execution_count": null,
      "metadata": {
        "id": "hh_8bg1DxXyX"
      },
      "outputs": [],
      "source": [
        "# code here"
      ]
    },
    {
      "cell_type": "markdown",
      "metadata": {
        "id": "B97WK4fHxY9Q"
      },
      "source": [
        "###`Q-4` You are given a file `question-answer.csv`. Your task is to make a dataframe from it with two columns - `question` and `answers`.\n",
        "\n",
        "* Questions in the file start from `Q<number>`; E.g.  `Q1` denotes question no. `1`\n",
        "* Answers starts from `Ans<number>`; Eg. `Ans1` denotes answer of question no `1`\n",
        "* MAke sure you look at columns name carefully\n",
        "\n",
        "CSV File - \"https://drive.google.com/file/d/10rmV3XrVtzpDTtYZF3UtCdcU0ajBJjGY/view?usp=share_link\""
      ]
    },
    {
      "cell_type": "code",
      "execution_count": null,
      "metadata": {
        "id": "K1nTk0VZxcrE"
      },
      "outputs": [],
      "source": [
        "# code here"
      ]
    },
    {
      "cell_type": "markdown",
      "metadata": {
        "id": "zldnMnhixjA2"
      },
      "source": [
        "###`Q-5`: Print Question and answer of those questions which does not contains any question mark (`?`).\n"
      ]
    },
    {
      "cell_type": "code",
      "execution_count": null,
      "metadata": {
        "id": "r0D4gTPVxlWA"
      },
      "outputs": [],
      "source": [
        "# code here"
      ]
    },
    {
      "cell_type": "markdown",
      "metadata": {
        "id": "1-kn-7G-xv66"
      },
      "source": [
        "###`Q 6-10` LOG and EMPLOYEE\n",
        "6. Show `activity` details month wise. Show count for each `activity`\n",
        "7. Find employee who did most `activity` in January month.\n",
        "8. Employee who have worked most no of times on Weekends.\n",
        "9. Which activity is logged most on buisness days.\n",
        "10. Week Days wise activity table.\n",
        "```\n",
        "log_file = pd.read_csv(\"https://docs.google.com/spreadsheets/d/e/2PACX-1vT-OMrmmNdOTM-B5f5F1EpCutMVG230UZiLvqlsg0NIKUKR3yrqiI2r1pEX-LvSEk-3WwySPYtvbBC-/pub?gid=1937029224&single=true&output=csv\")\n",
        "employee = pd.read_csv(\"https://docs.google.com/spreadsheets/d/e/2PACX-1vQ5AuFqRjSZVBKm5zyDxquX6utubq1DJKkYDI70vjeidAnyAu70KMSYpMYzeVSNVTeUIJBpfF6jU5E6/pub?gid=798824749&single=true&output=csv\")\n",
        "\n",
        "```\n",
        "\n",
        "Note(for common field):- Employee file has `EMPLOYEE_ID` and LOG file has `emp_id`"
      ]
    },
    {
      "cell_type": "code",
      "execution_count": null,
      "metadata": {
        "id": "QJHlf8HSxzON"
      },
      "outputs": [],
      "source": [
        "# code here"
      ]
    },
    {
      "cell_type": "markdown",
      "metadata": {
        "id": "-YWS10wpx_2O"
      },
      "source": [
        "### `Q-11`:\n",
        "\n",
        "1. There are missing value in first name of employee. Fill it using email and last name field.\n",
        "\n",
        "> E.g- `email` -> JMURMAN and `last_name` -> 'Urman' -> so make it's first name as 'JM', Sort of (Email- lastname).\n",
        "\n",
        "> Email is constructed from initials of first name concate with lastname. Your Task is to fill first name initials in missing data.\n",
        "\n",
        "2. You can see email field don't have any domain name. Change this to full email addreess with domain as 'campusx.com'.\n",
        "E.g- Email field -> `JMURMAN`  result -> `JMURMAN@CAMPUSX.COM`\n",
        "\n",
        "3. Show Full Name of all the employees whose name starts with 'A' and has done any of these activity ['Incpection', 'Cleaning', 'Checking]"
      ]
    },
    {
      "cell_type": "code",
      "execution_count": null,
      "metadata": {
        "id": "IJTb_O9ryAf-"
      },
      "outputs": [],
      "source": [
        "# code here"
      ]
    }
  ],
  "metadata": {
    "colab": {
      "provenance": []
    },
    "kernelspec": {
      "display_name": "learningenv",
      "language": "python",
      "name": "python3"
    },
    "language_info": {
      "codemirror_mode": {
        "name": "ipython",
        "version": 3
      },
      "file_extension": ".py",
      "mimetype": "text/x-python",
      "name": "python",
      "nbconvert_exporter": "python",
      "pygments_lexer": "ipython3",
      "version": "3.10.13"
    }
  },
  "nbformat": 4,
  "nbformat_minor": 0
}
