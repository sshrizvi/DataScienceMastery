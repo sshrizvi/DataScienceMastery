{
  "cells": [
    {
      "cell_type": "markdown",
      "metadata": {},
      "source": [
        "# **Task 21 - (Article 119)** [![Static Badge](https://img.shields.io/badge/Open%20in%20Colab%20-%20orange?style=plastic&logo=googlecolab&labelColor=grey)](https://colab.research.google.com/github/sshrizvi/DS-Python/blob/main/Pandas/Tasks/task_21.ipynb)\n",
        "\n",
        "|🔴 **WARNING** 🔴|\n",
        "|:-----------:|\n",
        "|If you have not studied article 119. Do checkout the articles before attempting the task.|\n",
        "| Here is [MultiIndex Series and DataFrames](../Articles/119_multiindex_series_and_dataframes.md) |"
      ]
    },
    {
      "cell_type": "markdown",
      "metadata": {},
      "source": [
        "### 📦 **Importing Relevant Libraries**"
      ]
    },
    {
      "cell_type": "code",
      "execution_count": 2,
      "metadata": {},
      "outputs": [],
      "source": [
        "import pandas as pd\n",
        "import matplotlib.pyplot as plt"
      ]
    },
    {
      "cell_type": "markdown",
      "metadata": {},
      "source": [
        "### 🎯 **Q01 : Transform MultiIndex DataFrame — Swap Index and Column Levels**\n",
        "\n",
        "1. **Task Objective:**\n",
        "\n",
        "    You are given a **MultiIndex DataFrame** with:\n",
        "\n",
        "    * A two-level **row index**: `('Branch', 'Year')` — e.g., `('cse', 2019)`, `('ece', 2020)`\n",
        "    * A two-level **column index**: `('City', 'Metric')` — e.g., `('delhi', 'avg_package')`, `('mumbai', 'students')`\n",
        "\n",
        "    Your task is to:\n",
        "\n",
        "    1. **Swap the level-0 index (`Branch`) with the level-0 column (`City`)**\n",
        "\n",
        "    * i.e., make `'cse'` and `'ece'` into **columns** at level-0\n",
        "    * make `'delhi'` and `'mumbai'` into the new **level-0 index**\n",
        "\n",
        "    2. **Sort the row index** based on the new **level-0 index (City)**\n",
        "\n",
        "1. 📦 **Given Code Snippet:**\n",
        "\n",
        "    ```python\n",
        "    index_val = [('cse',2019),('cse',2020),('cse',2021),('cse',2022),\n",
        "                ('ece',2019),('ece',2020),('ece',2021),('ece',2022)]\n",
        "\n",
        "    multiindex = pd.MultiIndex.from_tuples(index_val)\n",
        "\n",
        "    df = pd.DataFrame(\n",
        "        [\n",
        "            [1,2,0,0],\n",
        "            [3,4,0,0],\n",
        "            [5,6,0,0],\n",
        "            [7,8,0,0],\n",
        "            [9,10,0,0],\n",
        "            [11,12,0,0],\n",
        "            [13,14,0,0],\n",
        "            [15,16,0,0],\n",
        "        ],\n",
        "        index = multiindex,\n",
        "        columns = pd.MultiIndex.from_product([['delhi','mumbai'],['avg_package','students']])\n",
        "    )\n",
        "\n",
        "    df\n",
        "    ```\n",
        "\n",
        "3. Make sure that after transformation, your DataFrame has:\n",
        "\n",
        "   * **Level-0 index:** `'delhi'`, `'mumbai'`\n",
        "   * **Level-0 columns:** `'cse'`, `'ece'`\n",
        "   * **Sorted row index** based on level-0 (`City`)"
      ]
    },
    {
      "cell_type": "code",
      "execution_count": 3,
      "metadata": {
        "id": "KFu4-dIFNNxa"
      },
      "outputs": [
        {
          "data": {
            "text/html": [
              "<div>\n",
              "<style scoped>\n",
              "    .dataframe tbody tr th:only-of-type {\n",
              "        vertical-align: middle;\n",
              "    }\n",
              "\n",
              "    .dataframe tbody tr th {\n",
              "        vertical-align: top;\n",
              "    }\n",
              "\n",
              "    .dataframe thead tr th {\n",
              "        text-align: left;\n",
              "    }\n",
              "</style>\n",
              "<table border=\"1\" class=\"dataframe\">\n",
              "  <thead>\n",
              "    <tr>\n",
              "      <th></th>\n",
              "      <th></th>\n",
              "      <th colspan=\"2\" halign=\"left\">delhi</th>\n",
              "      <th colspan=\"2\" halign=\"left\">mumbai</th>\n",
              "    </tr>\n",
              "    <tr>\n",
              "      <th></th>\n",
              "      <th></th>\n",
              "      <th>avg_package</th>\n",
              "      <th>students</th>\n",
              "      <th>avg_package</th>\n",
              "      <th>students</th>\n",
              "    </tr>\n",
              "  </thead>\n",
              "  <tbody>\n",
              "    <tr>\n",
              "      <th rowspan=\"4\" valign=\"top\">cse</th>\n",
              "      <th>2019</th>\n",
              "      <td>1</td>\n",
              "      <td>2</td>\n",
              "      <td>0</td>\n",
              "      <td>0</td>\n",
              "    </tr>\n",
              "    <tr>\n",
              "      <th>2020</th>\n",
              "      <td>3</td>\n",
              "      <td>4</td>\n",
              "      <td>0</td>\n",
              "      <td>0</td>\n",
              "    </tr>\n",
              "    <tr>\n",
              "      <th>2021</th>\n",
              "      <td>5</td>\n",
              "      <td>6</td>\n",
              "      <td>0</td>\n",
              "      <td>0</td>\n",
              "    </tr>\n",
              "    <tr>\n",
              "      <th>2022</th>\n",
              "      <td>7</td>\n",
              "      <td>8</td>\n",
              "      <td>0</td>\n",
              "      <td>0</td>\n",
              "    </tr>\n",
              "    <tr>\n",
              "      <th rowspan=\"4\" valign=\"top\">ece</th>\n",
              "      <th>2019</th>\n",
              "      <td>9</td>\n",
              "      <td>10</td>\n",
              "      <td>0</td>\n",
              "      <td>0</td>\n",
              "    </tr>\n",
              "    <tr>\n",
              "      <th>2020</th>\n",
              "      <td>11</td>\n",
              "      <td>12</td>\n",
              "      <td>0</td>\n",
              "      <td>0</td>\n",
              "    </tr>\n",
              "    <tr>\n",
              "      <th>2021</th>\n",
              "      <td>13</td>\n",
              "      <td>14</td>\n",
              "      <td>0</td>\n",
              "      <td>0</td>\n",
              "    </tr>\n",
              "    <tr>\n",
              "      <th>2022</th>\n",
              "      <td>15</td>\n",
              "      <td>16</td>\n",
              "      <td>0</td>\n",
              "      <td>0</td>\n",
              "    </tr>\n",
              "  </tbody>\n",
              "</table>\n",
              "</div>"
            ],
            "text/plain": [
              "               delhi               mumbai         \n",
              "         avg_package students avg_package students\n",
              "cse 2019           1        2           0        0\n",
              "    2020           3        4           0        0\n",
              "    2021           5        6           0        0\n",
              "    2022           7        8           0        0\n",
              "ece 2019           9       10           0        0\n",
              "    2020          11       12           0        0\n",
              "    2021          13       14           0        0\n",
              "    2022          15       16           0        0"
            ]
          },
          "execution_count": 3,
          "metadata": {},
          "output_type": "execute_result"
        }
      ],
      "source": [
        "index_val = [('cse',2019),('cse',2020),('cse',2021),('cse',2022),\n",
        "            ('ece',2019),('ece',2020),('ece',2021),('ece',2022)]\n",
        "\n",
        "multiindex = pd.MultiIndex.from_tuples(index_val)\n",
        "\n",
        "df = pd.DataFrame(\n",
        "    [\n",
        "        [1,2,0,0],\n",
        "        [3,4,0,0],\n",
        "        [5,6,0,0],\n",
        "        [7,8,0,0],\n",
        "        [9,10,0,0],\n",
        "        [11,12,0,0],\n",
        "        [13,14,0,0],\n",
        "        [15,16,0,0],\n",
        "    ],\n",
        "    index = multiindex,\n",
        "    columns = pd.MultiIndex.from_product([['delhi','mumbai'],['avg_package','students']])\n",
        ")\n",
        "\n",
        "df"
      ]
    },
    {
      "cell_type": "code",
      "execution_count": 4,
      "metadata": {},
      "outputs": [
        {
          "data": {
            "text/html": [
              "<div>\n",
              "<style scoped>\n",
              "    .dataframe tbody tr th:only-of-type {\n",
              "        vertical-align: middle;\n",
              "    }\n",
              "\n",
              "    .dataframe tbody tr th {\n",
              "        vertical-align: top;\n",
              "    }\n",
              "\n",
              "    .dataframe thead tr th {\n",
              "        text-align: left;\n",
              "    }\n",
              "</style>\n",
              "<table border=\"1\" class=\"dataframe\">\n",
              "  <thead>\n",
              "    <tr>\n",
              "      <th></th>\n",
              "      <th></th>\n",
              "      <th>cse</th>\n",
              "      <th>ece</th>\n",
              "      <th>cse</th>\n",
              "      <th>ece</th>\n",
              "    </tr>\n",
              "    <tr>\n",
              "      <th></th>\n",
              "      <th></th>\n",
              "      <th>avg_package</th>\n",
              "      <th>avg_package</th>\n",
              "      <th>students</th>\n",
              "      <th>students</th>\n",
              "    </tr>\n",
              "  </thead>\n",
              "  <tbody>\n",
              "    <tr>\n",
              "      <th rowspan=\"4\" valign=\"top\">delhi</th>\n",
              "      <th>2019</th>\n",
              "      <td>1</td>\n",
              "      <td>9</td>\n",
              "      <td>2</td>\n",
              "      <td>10</td>\n",
              "    </tr>\n",
              "    <tr>\n",
              "      <th>2020</th>\n",
              "      <td>3</td>\n",
              "      <td>11</td>\n",
              "      <td>4</td>\n",
              "      <td>12</td>\n",
              "    </tr>\n",
              "    <tr>\n",
              "      <th>2021</th>\n",
              "      <td>5</td>\n",
              "      <td>13</td>\n",
              "      <td>6</td>\n",
              "      <td>14</td>\n",
              "    </tr>\n",
              "    <tr>\n",
              "      <th>2022</th>\n",
              "      <td>7</td>\n",
              "      <td>15</td>\n",
              "      <td>8</td>\n",
              "      <td>16</td>\n",
              "    </tr>\n",
              "    <tr>\n",
              "      <th rowspan=\"4\" valign=\"top\">mumbai</th>\n",
              "      <th>2019</th>\n",
              "      <td>0</td>\n",
              "      <td>0</td>\n",
              "      <td>0</td>\n",
              "      <td>0</td>\n",
              "    </tr>\n",
              "    <tr>\n",
              "      <th>2020</th>\n",
              "      <td>0</td>\n",
              "      <td>0</td>\n",
              "      <td>0</td>\n",
              "      <td>0</td>\n",
              "    </tr>\n",
              "    <tr>\n",
              "      <th>2021</th>\n",
              "      <td>0</td>\n",
              "      <td>0</td>\n",
              "      <td>0</td>\n",
              "      <td>0</td>\n",
              "    </tr>\n",
              "    <tr>\n",
              "      <th>2022</th>\n",
              "      <td>0</td>\n",
              "      <td>0</td>\n",
              "      <td>0</td>\n",
              "      <td>0</td>\n",
              "    </tr>\n",
              "  </tbody>\n",
              "</table>\n",
              "</div>"
            ],
            "text/plain": [
              "                    cse         ece      cse      ece\n",
              "            avg_package avg_package students students\n",
              "delhi  2019           1           9        2       10\n",
              "       2020           3          11        4       12\n",
              "       2021           5          13        6       14\n",
              "       2022           7          15        8       16\n",
              "mumbai 2019           0           0        0        0\n",
              "       2020           0           0        0        0\n",
              "       2021           0           0        0        0\n",
              "       2022           0           0        0        0"
            ]
          },
          "execution_count": 4,
          "metadata": {},
          "output_type": "execute_result"
        }
      ],
      "source": [
        "df.stack(\n",
        "    level = 0,\n",
        "    future_stack = True\n",
        ").unstack(\n",
        "    level = 0\n",
        ").swaplevel(\n",
        "    axis = 0\n",
        ").swaplevel(\n",
        "    axis = 1\n",
        ").sort_index(\n",
        "    level = 0,\n",
        "    axis = 0\n",
        ")"
      ]
    },
    {
      "cell_type": "markdown",
      "metadata": {},
      "source": [
        "### ⚠️ **Data Warning**\n",
        "For the questions forward, we are going to use `time_series_covid19_deaths_global.csv` and `time_series_covid19_confirmed_global.csv` datasets, which is in the [Resources](../Resources/) folder.\n",
        "\n",
        "Dataset : [Link](https://drive.google.com/drive/folders/1AP_M96SnIe985aQQp9SmDkz69AXHrs5t?usp=share_link)"
      ]
    },
    {
      "cell_type": "markdown",
      "metadata": {},
      "source": [
        "#### **Reading Data into DataFrames**"
      ]
    },
    {
      "cell_type": "code",
      "execution_count": 5,
      "metadata": {},
      "outputs": [],
      "source": [
        "covid19_confirmed = pd.read_csv(\n",
        "    filepath_or_buffer = '../Resources/Data/time_series_covid19_confirmed_global.csv'\n",
        ")"
      ]
    },
    {
      "cell_type": "code",
      "execution_count": 6,
      "metadata": {},
      "outputs": [],
      "source": [
        "covid19_deaths = pd.read_csv(\n",
        "    filepath_or_buffer = '../Resources/Data/time_series_covid19_deaths_global.csv'\n",
        ")"
      ]
    },
    {
      "cell_type": "markdown",
      "metadata": {
        "id": "hG2FVM5yNfky"
      },
      "source": [
        "### 🎯 **Q02 : Covid Cases Dataset – Create Hierarchical DataFrame**\n",
        "\n",
        "\n",
        "1. **Task Objective:**\n",
        "\n",
        "    You are given **two separate datasets** related to Covid statistics:\n",
        "\n",
        "    * **covid19_confirmed:** Contains **number of confirmed cases**\n",
        "    * **covid19_deaths:** Contains **number of deaths**\n",
        "\n",
        "    Each dataset includes:\n",
        "\n",
        "    * `Province/State` (can be `NaN` if not applicable)\n",
        "    * `Country/Region`\n",
        "    * Date-wise counts for either **cases** or **deaths**\n",
        "\n",
        "\n",
        "2. **Your Tasks:**\n",
        "\n",
        "   1. **Merge both datasets** into a **single DataFrame**.\n",
        "   2. Create a **MultiIndex** DataFrame with:\n",
        "\n",
        "      * **Level-0 Index:** `Country/Region`\n",
        "      * **Level-1 Index:** `Province/State`\n",
        "   3. The final DataFrame should contain:\n",
        "\n",
        "      * `Date`\n",
        "      * `Number of Cases`\n",
        "      * `Number of Deaths`\n",
        "\n",
        "\n",
        "3. **Output Requirements:**\n",
        "\n",
        "   * A **well-structured DataFrame** where:\n",
        "\n",
        "     * The rows represent `(Country, Province/State)`\n",
        "     * The columns represent date-wise:\n",
        "\n",
        "       * Total cases\n",
        "       * Total deaths\n",
        "   * All dates should be preserved from the original datasets.\n",
        "   * Handle `NaN` values where `Province/State` is missing (i.e., some countries do not have subdivisions)."
      ]
    },
    {
      "cell_type": "code",
      "execution_count": 7,
      "metadata": {},
      "outputs": [],
      "source": [
        "unpivoted_covid19_confirmed = covid19_confirmed.melt(\n",
        "    id_vars = ['Province/State', 'Country/Region', 'Lat', 'Long'],\n",
        "    var_name = 'Date',\n",
        "    value_name = 'Num_of_Confirmed_Cases'\n",
        ")"
      ]
    },
    {
      "cell_type": "code",
      "execution_count": 8,
      "metadata": {},
      "outputs": [],
      "source": [
        "unpivoted_covid19_deaths = covid19_deaths.melt(\n",
        "    id_vars = ['Province/State', 'Country/Region', 'Lat', 'Long'],\n",
        "    var_name = 'Date',\n",
        "    value_name = 'Num_of_Deaths'\n",
        ")"
      ]
    },
    {
      "cell_type": "code",
      "execution_count": 9,
      "metadata": {},
      "outputs": [],
      "source": [
        "merged_covid19_df = pd.merge(\n",
        "    left = unpivoted_covid19_confirmed,\n",
        "    right = unpivoted_covid19_deaths,\n",
        "    how = 'inner',\n",
        "    on = ['Province/State', 'Country/Region', 'Lat', 'Long', 'Date']\n",
        ")[['Province/State', 'Country/Region', 'Date', 'Num_of_Confirmed_Cases', 'Num_of_Deaths']]"
      ]
    },
    {
      "cell_type": "code",
      "execution_count": 10,
      "metadata": {},
      "outputs": [
        {
          "data": {
            "text/html": [
              "<div>\n",
              "<style scoped>\n",
              "    .dataframe tbody tr th:only-of-type {\n",
              "        vertical-align: middle;\n",
              "    }\n",
              "\n",
              "    .dataframe tbody tr th {\n",
              "        vertical-align: top;\n",
              "    }\n",
              "\n",
              "    .dataframe thead th {\n",
              "        text-align: right;\n",
              "    }\n",
              "</style>\n",
              "<table border=\"1\" class=\"dataframe\">\n",
              "  <thead>\n",
              "    <tr style=\"text-align: right;\">\n",
              "      <th></th>\n",
              "      <th></th>\n",
              "      <th>Date</th>\n",
              "      <th>Num_of_Confirmed_Cases</th>\n",
              "      <th>Num_of_Deaths</th>\n",
              "    </tr>\n",
              "    <tr>\n",
              "      <th>Province/State</th>\n",
              "      <th>Country/Region</th>\n",
              "      <th></th>\n",
              "      <th></th>\n",
              "      <th></th>\n",
              "    </tr>\n",
              "  </thead>\n",
              "  <tbody>\n",
              "    <tr>\n",
              "      <th rowspan=\"11\" valign=\"top\">NaN</th>\n",
              "      <th>Afghanistan</th>\n",
              "      <td>1/22/20</td>\n",
              "      <td>0</td>\n",
              "      <td>0</td>\n",
              "    </tr>\n",
              "    <tr>\n",
              "      <th>Albania</th>\n",
              "      <td>1/22/20</td>\n",
              "      <td>0</td>\n",
              "      <td>0</td>\n",
              "    </tr>\n",
              "    <tr>\n",
              "      <th>Algeria</th>\n",
              "      <td>1/22/20</td>\n",
              "      <td>0</td>\n",
              "      <td>0</td>\n",
              "    </tr>\n",
              "    <tr>\n",
              "      <th>Andorra</th>\n",
              "      <td>1/22/20</td>\n",
              "      <td>0</td>\n",
              "      <td>0</td>\n",
              "    </tr>\n",
              "    <tr>\n",
              "      <th>Angola</th>\n",
              "      <td>1/22/20</td>\n",
              "      <td>0</td>\n",
              "      <td>0</td>\n",
              "    </tr>\n",
              "    <tr>\n",
              "      <th>...</th>\n",
              "      <td>...</td>\n",
              "      <td>...</td>\n",
              "      <td>...</td>\n",
              "    </tr>\n",
              "    <tr>\n",
              "      <th>West Bank and Gaza</th>\n",
              "      <td>1/2/23</td>\n",
              "      <td>703228</td>\n",
              "      <td>5708</td>\n",
              "    </tr>\n",
              "    <tr>\n",
              "      <th>Winter Olympics 2022</th>\n",
              "      <td>1/2/23</td>\n",
              "      <td>535</td>\n",
              "      <td>0</td>\n",
              "    </tr>\n",
              "    <tr>\n",
              "      <th>Yemen</th>\n",
              "      <td>1/2/23</td>\n",
              "      <td>11945</td>\n",
              "      <td>2159</td>\n",
              "    </tr>\n",
              "    <tr>\n",
              "      <th>Zambia</th>\n",
              "      <td>1/2/23</td>\n",
              "      <td>334661</td>\n",
              "      <td>4024</td>\n",
              "    </tr>\n",
              "    <tr>\n",
              "      <th>Zimbabwe</th>\n",
              "      <td>1/2/23</td>\n",
              "      <td>259981</td>\n",
              "      <td>5637</td>\n",
              "    </tr>\n",
              "  </tbody>\n",
              "</table>\n",
              "<p>311253 rows × 3 columns</p>\n",
              "</div>"
            ],
            "text/plain": [
              "                                        Date  Num_of_Confirmed_Cases  \\\n",
              "Province/State Country/Region                                          \n",
              "NaN            Afghanistan           1/22/20                       0   \n",
              "               Albania               1/22/20                       0   \n",
              "               Algeria               1/22/20                       0   \n",
              "               Andorra               1/22/20                       0   \n",
              "               Angola                1/22/20                       0   \n",
              "...                                      ...                     ...   \n",
              "               West Bank and Gaza     1/2/23                  703228   \n",
              "               Winter Olympics 2022   1/2/23                     535   \n",
              "               Yemen                  1/2/23                   11945   \n",
              "               Zambia                 1/2/23                  334661   \n",
              "               Zimbabwe               1/2/23                  259981   \n",
              "\n",
              "                                     Num_of_Deaths  \n",
              "Province/State Country/Region                       \n",
              "NaN            Afghanistan                       0  \n",
              "               Albania                           0  \n",
              "               Algeria                           0  \n",
              "               Andorra                           0  \n",
              "               Angola                            0  \n",
              "...                                            ...  \n",
              "               West Bank and Gaza             5708  \n",
              "               Winter Olympics 2022              0  \n",
              "               Yemen                          2159  \n",
              "               Zambia                         4024  \n",
              "               Zimbabwe                       5637  \n",
              "\n",
              "[311253 rows x 3 columns]"
            ]
          },
          "execution_count": 10,
          "metadata": {},
          "output_type": "execute_result"
        }
      ],
      "source": [
        "merged_covid19_df.set_index(\n",
        "    keys = ['Province/State', 'Country/Region']\n",
        ")"
      ]
    },
    {
      "cell_type": "markdown",
      "metadata": {
        "id": "YT7H3papNuNv"
      },
      "source": [
        "### 🎯 **Q03 : Identify the Country with the Highest Death Percentage Relative to Confirmed Cases** \n",
        "\n",
        "1. **Task Objective:**\n",
        "\n",
        "    Using the **Covid dataset** that contains:\n",
        "\n",
        "    * Total confirmed cases\n",
        "    * Total deaths\n",
        "    * Country/Region information\n",
        "\n",
        "2. **Your Tasks:**\n",
        "\n",
        "   1. **Group the data** by `Country/Region`.\n",
        "\n",
        "   2. For each country, **calculate the total number of confirmed cases** and the **total number of deaths**.\n",
        "\n",
        "   3. Compute the **death percentage** for each country using the formula:\n",
        "\n",
        "      $$\n",
        "      \\text{Death Percentage} = \\left( \\frac{\\text{Total Deaths}}{\\text{Total Confirmed Cases}} \\right) \\times 100\n",
        "      $$\n",
        "\n",
        "   4. Identify the **country with the highest death percentage**.\n",
        "\n",
        "3. **Output Requirements:**\n",
        "\n",
        "   * Display the **name of the country** with the highest death percentage.\n",
        "   * Also show the **calculated death percentage** rounded off to two decimal places.\n",
        "\n",
        "Make sure to handle cases where confirmed cases might be zero to avoid division by zero errors."
      ]
    },
    {
      "cell_type": "code",
      "execution_count": 11,
      "metadata": {},
      "outputs": [],
      "source": [
        "covid19_country_group = merged_covid19_df.groupby(\n",
        "    by = 'Country/Region'\n",
        ")"
      ]
    },
    {
      "cell_type": "code",
      "execution_count": 12,
      "metadata": {
        "id": "6mifl5RtNlTt"
      },
      "outputs": [
        {
          "data": {
            "text/plain": [
              "Country/Region\n",
              "Korea, North    600.0\n",
              "dtype: float64"
            ]
          },
          "execution_count": 12,
          "metadata": {},
          "output_type": "execute_result"
        }
      ],
      "source": [
        "covid19_country_group.apply(\n",
        "    func = lambda group: \n",
        "        (group['Num_of_Deaths'].sum() / \n",
        "         group['Num_of_Confirmed_Cases'].sum()) * 100,\n",
        "    include_groups = False\n",
        ").sort_values(\n",
        "    ascending = False\n",
        ").head(1)"
      ]
    },
    {
      "cell_type": "markdown",
      "metadata": {
        "id": "ujM8q7h3Nwhr"
      },
      "source": [
        "### 🎯 **Q04 : Generate a DataFrame for India with Daily New Covid Cases**\n",
        "\n",
        "1. **Objective:**\n",
        "\n",
        "    You are provided with a **Covid dataset** that includes daily records of the number of confirmed cases for various countries, including India.\n",
        "\n",
        "2. **Your Tasks:**\n",
        "\n",
        "   1. **Filter the data** to only include records corresponding to **India**.\n",
        "\n",
        "   2. Create a new column named **`No of New Cases`** that shows the number of new confirmed cases reported each day.\n",
        "\n",
        "   3. Use the difference between the number of cases on the current day and the previous day to calculate the new cases:\n",
        "\n",
        "      $$\n",
        "      \\text{New Cases}_{\\text{day i}} = \\text{Total Cases}_{\\text{day i}} - \\text{Total Cases}_{\\text{day (i - 1)}}\n",
        "      $$\n",
        "\n",
        "      * For the **first day**, the new cases should be shown as `NaN` or equal to the number of total cases on that day.\n",
        "\n",
        "   4. Hint: Consider using the **`shift()`** function to align values from the previous day.\n",
        "\n",
        "3. **Output:**\n",
        "\n",
        "    Your final DataFrame should include the following columns (in order):\n",
        "\n",
        "    * **Date**\n",
        "    * **Total Cases**\n",
        "    * **No of New Cases**\n",
        "\n",
        "    Ensure the date-wise data is **sorted in ascending order**.\n",
        "\n",
        "Make sure your result accurately reflects the day-to-day progression of Covid cases in India.\n"
      ]
    },
    {
      "cell_type": "code",
      "execution_count": 13,
      "metadata": {
        "id": "WFsdHfFhODAM"
      },
      "outputs": [
        {
          "data": {
            "text/html": [
              "<div>\n",
              "<style scoped>\n",
              "    .dataframe tbody tr th:only-of-type {\n",
              "        vertical-align: middle;\n",
              "    }\n",
              "\n",
              "    .dataframe tbody tr th {\n",
              "        vertical-align: top;\n",
              "    }\n",
              "\n",
              "    .dataframe thead th {\n",
              "        text-align: right;\n",
              "    }\n",
              "</style>\n",
              "<table border=\"1\" class=\"dataframe\">\n",
              "  <thead>\n",
              "    <tr style=\"text-align: right;\">\n",
              "      <th></th>\n",
              "      <th>Province/State</th>\n",
              "      <th>Country/Region</th>\n",
              "      <th>Date</th>\n",
              "      <th>New_Cases</th>\n",
              "    </tr>\n",
              "  </thead>\n",
              "  <tbody>\n",
              "    <tr>\n",
              "      <th>148</th>\n",
              "      <td>NaN</td>\n",
              "      <td>India</td>\n",
              "      <td>1/22/20</td>\n",
              "      <td>0</td>\n",
              "    </tr>\n",
              "    <tr>\n",
              "      <th>437</th>\n",
              "      <td>NaN</td>\n",
              "      <td>India</td>\n",
              "      <td>1/23/20</td>\n",
              "      <td>0</td>\n",
              "    </tr>\n",
              "    <tr>\n",
              "      <th>726</th>\n",
              "      <td>NaN</td>\n",
              "      <td>India</td>\n",
              "      <td>1/24/20</td>\n",
              "      <td>0</td>\n",
              "    </tr>\n",
              "    <tr>\n",
              "      <th>1015</th>\n",
              "      <td>NaN</td>\n",
              "      <td>India</td>\n",
              "      <td>1/25/20</td>\n",
              "      <td>0</td>\n",
              "    </tr>\n",
              "    <tr>\n",
              "      <th>1304</th>\n",
              "      <td>NaN</td>\n",
              "      <td>India</td>\n",
              "      <td>1/26/20</td>\n",
              "      <td>0</td>\n",
              "    </tr>\n",
              "    <tr>\n",
              "      <th>...</th>\n",
              "      <td>...</td>\n",
              "      <td>...</td>\n",
              "      <td>...</td>\n",
              "      <td>...</td>\n",
              "    </tr>\n",
              "    <tr>\n",
              "      <th>309956</th>\n",
              "      <td>NaN</td>\n",
              "      <td>India</td>\n",
              "      <td>12/29/22</td>\n",
              "      <td>243</td>\n",
              "    </tr>\n",
              "    <tr>\n",
              "      <th>310245</th>\n",
              "      <td>NaN</td>\n",
              "      <td>India</td>\n",
              "      <td>12/30/22</td>\n",
              "      <td>226</td>\n",
              "    </tr>\n",
              "    <tr>\n",
              "      <th>310534</th>\n",
              "      <td>NaN</td>\n",
              "      <td>India</td>\n",
              "      <td>12/31/22</td>\n",
              "      <td>265</td>\n",
              "    </tr>\n",
              "    <tr>\n",
              "      <th>310823</th>\n",
              "      <td>NaN</td>\n",
              "      <td>India</td>\n",
              "      <td>1/1/23</td>\n",
              "      <td>173</td>\n",
              "    </tr>\n",
              "    <tr>\n",
              "      <th>311112</th>\n",
              "      <td>NaN</td>\n",
              "      <td>India</td>\n",
              "      <td>1/2/23</td>\n",
              "      <td>134</td>\n",
              "    </tr>\n",
              "  </tbody>\n",
              "</table>\n",
              "<p>1077 rows × 4 columns</p>\n",
              "</div>"
            ],
            "text/plain": [
              "       Province/State Country/Region      Date  New_Cases\n",
              "148               NaN          India   1/22/20          0\n",
              "437               NaN          India   1/23/20          0\n",
              "726               NaN          India   1/24/20          0\n",
              "1015              NaN          India   1/25/20          0\n",
              "1304              NaN          India   1/26/20          0\n",
              "...               ...            ...       ...        ...\n",
              "309956            NaN          India  12/29/22        243\n",
              "310245            NaN          India  12/30/22        226\n",
              "310534            NaN          India  12/31/22        265\n",
              "310823            NaN          India    1/1/23        173\n",
              "311112            NaN          India    1/2/23        134\n",
              "\n",
              "[1077 rows x 4 columns]"
            ]
          },
          "execution_count": 13,
          "metadata": {},
          "output_type": "execute_result"
        }
      ],
      "source": [
        "india_mask = merged_covid19_df['Country/Region'] == 'India'\n",
        "covid19_india = merged_covid19_df.copy()[india_mask]\n",
        "covid19_india['Previous_Day_Confirmed_Cases'] = covid19_india['Num_of_Confirmed_Cases'].shift(1, fill_value = 0)\n",
        "covid19_india['New_Cases'] = covid19_india['Num_of_Confirmed_Cases'] - covid19_india['Previous_Day_Confirmed_Cases']\n",
        "covid19_india.drop(\n",
        "    labels = ['Previous_Day_Confirmed_Cases', 'Num_of_Confirmed_Cases', 'Num_of_Deaths'],\n",
        "    axis = 1\n",
        ")"
      ]
    },
    {
      "cell_type": "markdown",
      "metadata": {},
      "source": [
        "### ⚠️ **Data Warning**\n",
        "For the questions forward, we are going to use `list_of_most_polluted_cities_by_particulate_matter_concentration.csv` datasets, which is in the [Resources](../Resources/) folder.\n",
        "\n",
        "Dataset : [Link](https://tinyurl.com/2fe6vz4u)"
      ]
    },
    {
      "cell_type": "markdown",
      "metadata": {},
      "source": [
        "#### **Reading Data into DataFrames**"
      ]
    },
    {
      "cell_type": "code",
      "execution_count": 14,
      "metadata": {},
      "outputs": [],
      "source": [
        "pollution_df = pd.read_csv(\n",
        "    filepath_or_buffer = '../Resources/Data/list_of_most_polluted_cities_by_particulate_matter_concentration.csv'\n",
        ")"
      ]
    },
    {
      "cell_type": "markdown",
      "metadata": {},
      "source": [
        "### 🎯 **Q05 : Analyze Pollution Data Using MultiIndex DataFrame**\n",
        "\n",
        "\n",
        "1. **Objective:**\n",
        "\n",
        "    You are given a dataset containing information about air pollution levels across countries and cities. Your task is to perform multi-level indexing and answer specific queries using data manipulations and visualizations.\n",
        "\n",
        "\n",
        "1. **Dataset Access:**\n",
        "\n",
        "    Use the link below to directly read the dataset into a DataFrame:\n",
        "    **[Download Dataset](https://tinyurl.com/2fe6vz4u)**  \n",
        "    This dataset is about the most polluted cities in the world. You can get details from [here](https://www.kaggle.com/datasets/rajkumarpandey02/worlds-most-air-polluted-countries-cities).\n",
        "\n",
        "\n",
        "1. **Tasks to Perform:**\n",
        "\n",
        "   1. **Create a MultiIndex DataFrame**\n",
        "      Set `\"Country\"` as the Level-0 index and `\"City/Town\"` as the Level-1 index.\n",
        "\n",
        "   2. **Query-Based Tasks**\n",
        "      Perform the following operations based on the `\"PM10\"` column:\n",
        "\n",
        "      * Find the city in **India** with the **highest PM10** value.\n",
        "      * Find the city in **India** with the **lowest PM10** value.\n",
        "      * Find the city in **China** with the **highest PM10** value.\n",
        "      * Find the city in **China** with the **lowest PM10** value.\n",
        "\n",
        "   3. **Visualization Tasks**\n",
        "\n",
        "      * Create a **Pie Chart** using the `\"PM10\"` values for all cities in **Poland**.\n",
        "      * Create a **Bar Chart** comparing both `\"PM2.5\"` and `\"PM10\"` values for the countries **Israel** and **Qatar**.\n",
        "\n",
        "   4. **Convert the MultiIndex DataFrame to a Series**\n",
        "      Ensure that all the information is retained while converting the MultiIndex DataFrame to a Series.\n",
        "\n",
        "\n",
        "**Note:** Focus on filtering by index levels and making your visualizations clean and readable.\n"
      ]
    },
    {
      "cell_type": "code",
      "execution_count": 15,
      "metadata": {
        "id": "GGxjITQPOf3n"
      },
      "outputs": [],
      "source": [
        "pollution_df.set_index(\n",
        "    keys = ['Country', 'City/Town'],\n",
        "    inplace = True\n",
        ")"
      ]
    },
    {
      "cell_type": "code",
      "execution_count": 16,
      "metadata": {},
      "outputs": [
        {
          "data": {
            "text/plain": [
              "City/Town\n",
              "Kanpur    319\n",
              "Name: PM10, dtype: int64"
            ]
          },
          "execution_count": 16,
          "metadata": {},
          "output_type": "execute_result"
        }
      ],
      "source": [
        "pollution_df.loc['India']['PM10'].sort_values(ascending = False).head(1)"
      ]
    },
    {
      "cell_type": "code",
      "execution_count": 17,
      "metadata": {},
      "outputs": [
        {
          "data": {
            "text/plain": [
              "City/Town\n",
              "Aizawl    44\n",
              "Name: PM10, dtype: int64"
            ]
          },
          "execution_count": 17,
          "metadata": {},
          "output_type": "execute_result"
        }
      ],
      "source": [
        "pollution_df.loc['India']['PM10'].sort_values(ascending = True).head(1)"
      ]
    },
    {
      "cell_type": "code",
      "execution_count": 18,
      "metadata": {},
      "outputs": [
        {
          "data": {
            "text/plain": [
              "City/Town\n",
              "Jinan    192\n",
              "Name: PM10, dtype: int64"
            ]
          },
          "execution_count": 18,
          "metadata": {},
          "output_type": "execute_result"
        }
      ],
      "source": [
        "pollution_df.loc['China']['PM10'].sort_values(ascending = False).head(1)"
      ]
    },
    {
      "cell_type": "code",
      "execution_count": 19,
      "metadata": {},
      "outputs": [
        {
          "data": {
            "text/plain": [
              "City/Town\n",
              "Anshun    38\n",
              "Name: PM10, dtype: int64"
            ]
          },
          "execution_count": 19,
          "metadata": {},
          "output_type": "execute_result"
        }
      ],
      "source": [
        "pollution_df.loc['China']['PM10'].sort_values(ascending = True).head(1)"
      ]
    },
    {
      "cell_type": "code",
      "execution_count": 20,
      "metadata": {},
      "outputs": [
        {
          "data": {
            "text/plain": [
              "<Axes: title={'center': 'PM10 Values of Cities in Poland'}, ylabel='PM10'>"
            ]
          },
          "execution_count": 20,
          "metadata": {},
          "output_type": "execute_result"
        },
        {
          "data": {
            "image/png": "[encoded data removed]",
            "text/plain": [
              "<Figure size 640x480 with 1 Axes>"
            ]
          },
          "metadata": {},
          "output_type": "display_data"
        }
      ],
      "source": [
        "pollution_df.loc['Poland']['PM10'].plot(\n",
        "    kind = 'pie',\n",
        "    title = 'PM10 Values of Cities in Poland'\n",
        ")"
      ]
    },
    {
      "cell_type": "code",
      "execution_count": 21,
      "metadata": {},
      "outputs": [
        {
          "data": {
            "text/plain": [
              "<Axes: xlabel='Country,City/Town'>"
            ]
          },
          "execution_count": 21,
          "metadata": {},
          "output_type": "execute_result"
        },
        {
          "data": {
            "image/png": "[encoded data removed]",
            "text/plain": [
              "<Figure size 640x480 with 1 Axes>"
            ]
          },
          "metadata": {},
          "output_type": "display_data"
        }
      ],
      "source": [
        "pollution_df.loc[[\"Israel\", \"Qatar\"], [\"PM2.5\", \"PM10\"]].plot(kind = 'bar')"
      ]
    },
    {
      "cell_type": "code",
      "execution_count": 22,
      "metadata": {},
      "outputs": [
        {
          "data": {
            "image/png": "[encoded data removed]",
            "text/plain": [
              "<Figure size 800x600 with 1 Axes>"
            ]
          },
          "metadata": {},
          "output_type": "display_data"
        }
      ],
      "source": [
        "country_avg = pollution_df.loc[[\"Israel\", \"Qatar\"], [\"PM2.5\", \"PM10\"]].groupby(level=0).mean()\n",
        "\n",
        "country_avg.plot(kind='bar', figsize=(8, 6), color=[\"#1f77b4\", \"#ff7f0e\"])\n",
        "plt.title(\"Average PM2.5 and PM10 Levels in Israel and Qatar\")\n",
        "plt.ylabel(\"Pollution Level (μg/m³)\")\n",
        "plt.xticks(rotation=0)\n",
        "plt.grid(axis='y', linestyle='--', alpha=0.6)\n",
        "plt.tight_layout()\n",
        "plt.show()\n"
      ]
    }
  ],
  "metadata": {
    "colab": {
      "provenance": []
    },
    "kernelspec": {
      "display_name": "learningenv",
      "language": "python",
      "name": "python3"
    },
    "language_info": {
      "codemirror_mode": {
        "name": "ipython",
        "version": 3
      },
      "file_extension": ".py",
      "mimetype": "text/x-python",
      "name": "python",
      "nbconvert_exporter": "python",
      "pygments_lexer": "ipython3",
      "version": "3.10.13"
    }
  },
  "nbformat": 4,
  "nbformat_minor": 0
}
