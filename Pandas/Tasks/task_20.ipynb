{
  "cells": [
    {
      "cell_type": "markdown",
      "metadata": {},
      "source": [
        "# **Task 20 - (Article 117)** [![Static Badge](https://img.shields.io/badge/Open%20in%20Colab%20-%20orange?style=plastic&logo=googlecolab&labelColor=grey)](https://colab.research.google.com/github/sshrizvi/DS-Python/blob/main/Pandas/Tasks/task_20.ipynb)\n",
        "\n",
        "|🔴 **WARNING** 🔴|\n",
        "|:-----------:|\n",
        "|If you have not studied article 117. Do checkout the articles before attempting the task.|\n",
        "| Here is [Merging, Concatenating and Joining](../Articles/117_merging.md) |"
      ]
    },
    {
      "cell_type": "markdown",
      "metadata": {},
      "source": [
        "### 📦 **Importing Relevant Libraries**"
      ]
    },
    {
      "cell_type": "code",
      "execution_count": 1,
      "metadata": {},
      "outputs": [],
      "source": [
        "import numpy as np\n",
        "import pandas as pd\n",
        "import matplotlib.pyplot as plt"
      ]
    },
    {
      "cell_type": "markdown",
      "metadata": {},
      "source": [
        "### ⚠️ **Data Warning**\n",
        "For the questions forward, we are going to use `quarter-1.csv`, `quarter-2.csv`, `quarter-3.csv` and `items-only.csv` datasets, which is in the [Resources](../Resources/) folder.\n",
        "\n",
        "**DATA DESCRIPTION**\n",
        "\n",
        "|File Name | Columns | \n",
        "|:------:|:------:|\n",
        "|quater-1.csv | ['order_id', 'quantity', 'item_id', 'choice_description_id' 'item_price']|\n",
        "|quater-2.csv | ['order_id', 'quantity', 'item_id', 'choice_description_id' 'item_price']|\n",
        "|quater-3.csv | ['order_id', 'quantity', 'item_id', 'choice_description_id' 'item_price']|\n",
        "|items.csv | ['item_id', 'item_name']|\n",
        "\n",
        "\n",
        "Dataset : [Link](https://drive.google.com/drive/folders/1Z0kaFybvgFeczeUj4dldUnhTdloLqLsL?usp=share_link)"
      ]
    },
    {
      "cell_type": "markdown",
      "metadata": {},
      "source": [
        "#### **Reading Data into DataFrames**"
      ]
    },
    {
      "cell_type": "code",
      "execution_count": 2,
      "metadata": {},
      "outputs": [],
      "source": [
        "q1 = pd.read_csv(\n",
        "    filepath_or_buffer = '../Resources/Data/quarter-1.csv'\n",
        ")"
      ]
    },
    {
      "cell_type": "code",
      "execution_count": 3,
      "metadata": {},
      "outputs": [],
      "source": [
        "q2 = pd.read_csv(\n",
        "    filepath_or_buffer = '../Resources/Data/quarter-2.csv'\n",
        ")"
      ]
    },
    {
      "cell_type": "code",
      "execution_count": 4,
      "metadata": {},
      "outputs": [],
      "source": [
        "q3 = pd.read_csv(\n",
        "    filepath_or_buffer = '../Resources/Data/quarter-3.csv'\n",
        ")"
      ]
    },
    {
      "cell_type": "code",
      "execution_count": 5,
      "metadata": {},
      "outputs": [],
      "source": [
        "items = pd.read_csv(\n",
        "    filepath_or_buffer = '../Resources/Data/items-only.csv'\n",
        ")"
      ]
    },
    {
      "cell_type": "code",
      "execution_count": 6,
      "metadata": {},
      "outputs": [],
      "source": [
        "items_price = pd.read_csv(\n",
        "    filepath_or_buffer = '../Resources/Data/items.csv'\n",
        ")"
      ]
    },
    {
      "cell_type": "markdown",
      "metadata": {
        "id": "zEhub0BcW1Ma"
      },
      "source": [
        "### **🎯 Q1 to Q4 - Quarter-Wise Sales Analysis**  \n",
        "\n",
        "1. **📌 Merge Quarterly Data:**  \n",
        "   - You are given **three quarter files**. Your first task is to **append these files** and create a **single DataFrame**.  \n",
        "   - Each quarter's data should have an **index label**:  \n",
        "     - `\"Q-1\"` for Quarter 1  \n",
        "     - `\"Q-2\"` for Quarter 2  \n",
        "     - `\"Q-3\"` for Quarter 3  \n",
        "\n",
        "2. **📌 Identify Most Sold Items (Per Quarter):**  \n",
        "   - You are provided with an **items-only.csv** file, which contains `item_id` and `item_name`.  \n",
        "   - Use this file to **map item IDs to their names**.  \n",
        "   - Find **the most sold item in each quarter** based on the total quantity sold.  \n",
        "\n",
        "3. **📌 Identify Highest Revenue-Generating Items (Per Quarter):**  \n",
        "   - **Revenue Calculation:** `Revenue = Quantity Sold × Item Price`  \n",
        "   - Find out which **item generated the highest revenue** in each quarter.  \n",
        "\n",
        "4. **📌 Compute Average Order Price (Per Quarter):**  \n",
        "   - Calculate the **average order price** for each quarter.  \n",
        "   - **Note:** The `item_price` column is given as a **string with a `$` sign**. Convert it to **rupees** before performing calculations.  \n",
        "\n",
        "5. **Notes:**  \n",
        "   - **Convert `item_price` to rupees** before performing any calculations.  \n",
        "   - **Each quarter's data should remain separate**, so ensure grouping by the quarter index.  \n",
        "   - **Sort results properly** (e.g., highest sold items and revenue should be ranked correctly)."
      ]
    },
    {
      "cell_type": "markdown",
      "metadata": {},
      "source": [
        "**Converting Dollar to Indian Rupees**"
      ]
    },
    {
      "cell_type": "code",
      "execution_count": 7,
      "metadata": {},
      "outputs": [],
      "source": [
        "def dollar_to_inr(dollar):\n",
        "    if isinstance(dollar, str):\n",
        "        dollar = float(dollar[1:])\n",
        "    return dollar * 85.39 "
      ]
    },
    {
      "cell_type": "code",
      "execution_count": 8,
      "metadata": {},
      "outputs": [],
      "source": [
        "q1.item_price = q1.item_price.apply(\n",
        "    func = dollar_to_inr\n",
        ")\n",
        "q2.item_price = q2.item_price.apply(\n",
        "    func = dollar_to_inr\n",
        ")\n",
        "q3.item_price = q3.item_price.apply(\n",
        "    func = dollar_to_inr\n",
        ")"
      ]
    },
    {
      "cell_type": "markdown",
      "metadata": {},
      "source": [
        "**1. Merge Quarterly Data**  "
      ]
    },
    {
      "cell_type": "code",
      "execution_count": 9,
      "metadata": {
        "id": "nwICqy-RWyEf"
      },
      "outputs": [
        {
          "name": "stderr",
          "output_type": "stream",
          "text": [
            "C:\\Users\\Abbas\\AppData\\Local\\Temp\\ipykernel_4468\\322776325.py:1: FutureWarning: The behavior of DataFrame concatenation with empty or all-NA entries is deprecated. In a future version, this will no longer exclude empty or all-NA columns when determining the result dtypes. To retain the old behavior, exclude the relevant entries before the concat operation.\n",
            "  year_data = pd.concat(\n"
          ]
        },
        {
          "data": {
            "application/vnd.microsoft.datawrangler.viewer.v0+json": {
              "columns": [
                {
                  "name": "(None, None)",
                  "rawType": "object",
                  "type": "unknown"
                },
                {
                  "name": "order_id",
                  "rawType": "object",
                  "type": "unknown"
                },
                {
                  "name": "quantity",
                  "rawType": "object",
                  "type": "unknown"
                },
                {
                  "name": "item_id",
                  "rawType": "object",
                  "type": "unknown"
                },
                {
                  "name": "choice_description_id",
                  "rawType": "object",
                  "type": "unknown"
                },
                {
                  "name": "item_price",
                  "rawType": "float64",
                  "type": "float"
                }
              ],
              "conversionMethod": "pd.DataFrame",
              "ref": "22badf19-99c3-415d-b78f-07bd707c46b1",
              "rows": [
                [
                  "('Q1', np.int64(0))",
                  "1",
                  "1",
                  "1",
                  "1",
                  "289.4721"
                ],
                [
                  "('Q1', np.int64(1))",
                  "1",
                  "1",
                  "2",
                  "2",
                  "289.4721"
                ],
                [
                  "('Q1', np.int64(2))",
                  "2",
                  "2",
                  "4",
                  "3",
                  "1449.9222"
                ],
                [
                  "('Q1', np.int64(3))",
                  "4",
                  "1",
                  "7",
                  "6",
                  "789.8575"
                ],
                [
                  "('Q1', np.int64(4))",
                  "6",
                  "1",
                  "9",
                  "8",
                  "747.1625"
                ],
                [
                  "('Q1', np.int64(5))",
                  "6",
                  "1",
                  "10",
                  "9",
                  "747.1625"
                ],
                [
                  "('Q1', np.int64(6))",
                  "7",
                  "1",
                  "4",
                  "10",
                  "960.6375"
                ],
                [
                  "('Q1', np.int64(7))",
                  "9",
                  "1",
                  "11",
                  "12",
                  "724.9611"
                ],
                [
                  "('Q1', np.int64(8))",
                  "10",
                  "1",
                  "8",
                  "0",
                  "379.9855"
                ],
                [
                  "('Q1', np.int64(9))",
                  "11",
                  "1",
                  "2",
                  "16",
                  "289.4721"
                ],
                [
                  "('Q1', np.int64(10))",
                  "12",
                  "1",
                  "1",
                  "18",
                  "289.4721"
                ],
                [
                  "('Q1', np.int64(11))",
                  "13",
                  "1",
                  "0",
                  "0",
                  "204.08210000000003"
                ],
                [
                  "('Q1', np.int64(12))",
                  "13",
                  "1",
                  "4",
                  "19",
                  "724.9611"
                ],
                [
                  "('Q1', np.int64(13))",
                  "15",
                  "1",
                  "11",
                  "22",
                  "724.9611"
                ],
                [
                  "('Q1', np.int64(14))",
                  "15",
                  "1",
                  "3",
                  "0",
                  "204.08210000000003"
                ],
                [
                  "('Q1', np.int64(15))",
                  "16",
                  "1",
                  "5",
                  "0",
                  "144.3091"
                ],
                [
                  "('Q1', np.int64(16))",
                  "17",
                  "1",
                  "15",
                  "24",
                  "767.6561"
                ],
                [
                  "('Q1', np.int64(17))",
                  "17",
                  "1",
                  "16",
                  "0",
                  "93.0751"
                ],
                [
                  "('Q1', np.int64(18))",
                  "18",
                  "1",
                  "17",
                  "0",
                  "251.90050000000002"
                ],
                [
                  "('Q1', np.int64(19))",
                  "19",
                  "1",
                  "18",
                  "27",
                  "1003.3325"
                ],
                [
                  "('Q1', np.int64(20))",
                  "20",
                  "1",
                  "8",
                  "0",
                  "379.9855"
                ],
                [
                  "('Q1', np.int64(21))",
                  "20",
                  "1",
                  "4",
                  "28",
                  "960.6375"
                ],
                [
                  "('Q1', np.int64(22))",
                  "20",
                  "1",
                  "6",
                  "29",
                  "1003.3325"
                ],
                [
                  "('Q1', np.int64(23))",
                  "20",
                  "1",
                  "20",
                  "30",
                  "747.1625"
                ],
                [
                  "('Q1', np.int64(24))",
                  "21",
                  "1",
                  "6",
                  "32",
                  "767.6561"
                ],
                [
                  "('Q1', np.int64(25))",
                  "21",
                  "1",
                  "1",
                  "33",
                  "289.4721"
                ],
                [
                  "('Q1', np.int64(26))",
                  "22",
                  "1",
                  "6",
                  "34",
                  "767.6561"
                ],
                [
                  "('Q1', np.int64(27))",
                  "23",
                  "2",
                  "12",
                  "36",
                  "186.1502"
                ],
                [
                  "('Q1', np.int64(28))",
                  "24",
                  "1",
                  "11",
                  "37",
                  "937.5822000000001"
                ],
                [
                  "('Q1', np.int64(29))",
                  "26",
                  "1",
                  "22",
                  "39",
                  "789.8575"
                ],
                [
                  "('Q1', np.int64(30))",
                  "27",
                  "1",
                  "18",
                  "27",
                  "1003.3325"
                ],
                [
                  "('Q1', np.int64(31))",
                  "27",
                  "1",
                  "19",
                  "0",
                  "183.58849999999998"
                ],
                [
                  "('Q1', np.int64(32))",
                  "28",
                  "1",
                  "8",
                  "0",
                  "379.9855"
                ],
                [
                  "('Q1', np.int64(33))",
                  "29",
                  "1",
                  "6",
                  "24",
                  "767.6561"
                ],
                [
                  "('Q1', np.int64(34))",
                  "30",
                  "1",
                  "1",
                  "33",
                  "289.4721"
                ],
                [
                  "('Q1', np.int64(35))",
                  "30",
                  "1",
                  "6",
                  "45",
                  "767.6561"
                ],
                [
                  "('Q1', np.int64(36))",
                  "31",
                  "1",
                  "6",
                  "46",
                  "767.6561"
                ],
                [
                  "('Q1', np.int64(37))",
                  "33",
                  "1",
                  "8",
                  "0",
                  "379.9855"
                ],
                [
                  "('Q1', np.int64(38))",
                  "34",
                  "1",
                  "10",
                  "49",
                  "747.1625"
                ],
                [
                  "('Q1', np.int64(39))",
                  "34",
                  "1",
                  "4",
                  "50",
                  "747.1625"
                ],
                [
                  "('Q1', np.int64(40))",
                  "35",
                  "1",
                  "19",
                  "0",
                  "183.58849999999998"
                ],
                [
                  "('Q1', np.int64(41))",
                  "38",
                  "1",
                  "16",
                  "0",
                  "93.0751"
                ],
                [
                  "('Q1', np.int64(42))",
                  "40",
                  "1",
                  "21",
                  "59",
                  "1003.3325"
                ],
                [
                  "('Q1', np.int64(43))",
                  "40",
                  "1",
                  "21",
                  "60",
                  "1003.3325"
                ],
                [
                  "('Q1', np.int64(44))",
                  "41",
                  "1",
                  "14",
                  "62",
                  "1003.3325"
                ],
                [
                  "('Q1', np.int64(45))",
                  "43",
                  "1",
                  "15",
                  "64",
                  "1003.3325"
                ],
                [
                  "('Q1', np.int64(46))",
                  "44",
                  "1",
                  "4",
                  "66",
                  "747.1625"
                ],
                [
                  "('Q1', np.int64(47))",
                  "44",
                  "1",
                  "8",
                  "0",
                  "379.9855"
                ],
                [
                  "('Q1', np.int64(48))",
                  "45",
                  "1",
                  "6",
                  "67",
                  "767.6561"
                ],
                [
                  "('Q1', np.int64(49))",
                  "46",
                  "1",
                  "23",
                  "68",
                  "724.9611"
                ]
              ],
              "shape": {
                "columns": 5,
                "rows": 4622
              }
            },
            "text/html": [
              "<div>\n",
              "<style scoped>\n",
              "    .dataframe tbody tr th:only-of-type {\n",
              "        vertical-align: middle;\n",
              "    }\n",
              "\n",
              "    .dataframe tbody tr th {\n",
              "        vertical-align: top;\n",
              "    }\n",
              "\n",
              "    .dataframe thead th {\n",
              "        text-align: right;\n",
              "    }\n",
              "</style>\n",
              "<table border=\"1\" class=\"dataframe\">\n",
              "  <thead>\n",
              "    <tr style=\"text-align: right;\">\n",
              "      <th></th>\n",
              "      <th></th>\n",
              "      <th>order_id</th>\n",
              "      <th>quantity</th>\n",
              "      <th>item_id</th>\n",
              "      <th>choice_description_id</th>\n",
              "      <th>item_price</th>\n",
              "    </tr>\n",
              "  </thead>\n",
              "  <tbody>\n",
              "    <tr>\n",
              "      <th rowspan=\"5\" valign=\"top\">Q1</th>\n",
              "      <th>0</th>\n",
              "      <td>1</td>\n",
              "      <td>1</td>\n",
              "      <td>1</td>\n",
              "      <td>1</td>\n",
              "      <td>289.4721</td>\n",
              "    </tr>\n",
              "    <tr>\n",
              "      <th>1</th>\n",
              "      <td>1</td>\n",
              "      <td>1</td>\n",
              "      <td>2</td>\n",
              "      <td>2</td>\n",
              "      <td>289.4721</td>\n",
              "    </tr>\n",
              "    <tr>\n",
              "      <th>2</th>\n",
              "      <td>2</td>\n",
              "      <td>2</td>\n",
              "      <td>4</td>\n",
              "      <td>3</td>\n",
              "      <td>1449.9222</td>\n",
              "    </tr>\n",
              "    <tr>\n",
              "      <th>3</th>\n",
              "      <td>4</td>\n",
              "      <td>1</td>\n",
              "      <td>7</td>\n",
              "      <td>6</td>\n",
              "      <td>789.8575</td>\n",
              "    </tr>\n",
              "    <tr>\n",
              "      <th>4</th>\n",
              "      <td>6</td>\n",
              "      <td>1</td>\n",
              "      <td>9</td>\n",
              "      <td>8</td>\n",
              "      <td>747.1625</td>\n",
              "    </tr>\n",
              "    <tr>\n",
              "      <th>...</th>\n",
              "      <th>...</th>\n",
              "      <td>...</td>\n",
              "      <td>...</td>\n",
              "      <td>...</td>\n",
              "      <td>...</td>\n",
              "      <td>...</td>\n",
              "    </tr>\n",
              "    <tr>\n",
              "      <th rowspan=\"5\" valign=\"top\">Q2</th>\n",
              "      <th>2342</th>\n",
              "      <td>1829</td>\n",
              "      <td>1</td>\n",
              "      <td>23</td>\n",
              "      <td>92</td>\n",
              "      <td>960.6375</td>\n",
              "    </tr>\n",
              "    <tr>\n",
              "      <th>2343</th>\n",
              "      <td>1830</td>\n",
              "      <td>1</td>\n",
              "      <td>23</td>\n",
              "      <td>1043</td>\n",
              "      <td>960.6375</td>\n",
              "    </tr>\n",
              "    <tr>\n",
              "      <th>2344</th>\n",
              "      <td>1832</td>\n",
              "      <td>1</td>\n",
              "      <td>10</td>\n",
              "      <td>116</td>\n",
              "      <td>747.1625</td>\n",
              "    </tr>\n",
              "    <tr>\n",
              "      <th>2345</th>\n",
              "      <td>1832</td>\n",
              "      <td>1</td>\n",
              "      <td>8</td>\n",
              "      <td>0</td>\n",
              "      <td>379.9855</td>\n",
              "    </tr>\n",
              "    <tr>\n",
              "      <th>2346</th>\n",
              "      <td>1834</td>\n",
              "      <td>1</td>\n",
              "      <td>20</td>\n",
              "      <td>515</td>\n",
              "      <td>960.6375</td>\n",
              "    </tr>\n",
              "  </tbody>\n",
              "</table>\n",
              "<p>4622 rows × 5 columns</p>\n",
              "</div>"
            ],
            "text/plain": [
              "        order_id quantity item_id choice_description_id  item_price\n",
              "Q1 0           1        1       1                     1    289.4721\n",
              "   1           1        1       2                     2    289.4721\n",
              "   2           2        2       4                     3   1449.9222\n",
              "   3           4        1       7                     6    789.8575\n",
              "   4           6        1       9                     8    747.1625\n",
              "...          ...      ...     ...                   ...         ...\n",
              "Q2 2342     1829        1      23                    92    960.6375\n",
              "   2343     1830        1      23                  1043    960.6375\n",
              "   2344     1832        1      10                   116    747.1625\n",
              "   2345     1832        1       8                     0    379.9855\n",
              "   2346     1834        1      20                   515    960.6375\n",
              "\n",
              "[4622 rows x 5 columns]"
            ]
          },
          "execution_count": 9,
          "metadata": {},
          "output_type": "execute_result"
        }
      ],
      "source": [
        "year_data = pd.concat(\n",
        "    objs = [\n",
        "        q1, \n",
        "        q2,\n",
        "        q3\n",
        "    ],\n",
        "    keys = [\n",
        "        'Q1',\n",
        "        'Q2',\n",
        "        'Q3'\n",
        "    ]\n",
        ")\n",
        "year_data"
      ]
    },
    {
      "cell_type": "markdown",
      "metadata": {},
      "source": [
        "**2. Identify Most Sold Items (Per Quarter)**  "
      ]
    },
    {
      "cell_type": "code",
      "execution_count": 10,
      "metadata": {},
      "outputs": [
        {
          "data": {
            "text/plain": [
              "'Chicken Bowl is the most sold item in Quarter 1'"
            ]
          },
          "execution_count": 10,
          "metadata": {},
          "output_type": "execute_result"
        }
      ],
      "source": [
        "year_data.loc['Q1'].groupby(\n",
        "    by = 'item_id'\n",
        ")['quantity'].sum().sort_values(\n",
        "    ascending = False\n",
        ").head(1).reset_index().merge(\n",
        "    right = items,\n",
        "    on = 'item_id'\n",
        ")['item_name'][0] + ' is the most sold item in Quarter 1'"
      ]
    },
    {
      "cell_type": "code",
      "execution_count": 11,
      "metadata": {},
      "outputs": [
        {
          "data": {
            "text/plain": [
              "'Chicken Bowl is the most sold item in Quarter 2'"
            ]
          },
          "execution_count": 11,
          "metadata": {},
          "output_type": "execute_result"
        }
      ],
      "source": [
        "year_data.loc['Q2'].groupby(\n",
        "    by = 'item_id'\n",
        ")['quantity'].sum().sort_values(\n",
        "    ascending = False\n",
        ").head(1).reset_index().merge(\n",
        "    right = items,\n",
        "    on = 'item_id'\n",
        ")['item_name'][0] + ' is the most sold item in Quarter 2'"
      ]
    },
    {
      "cell_type": "markdown",
      "metadata": {},
      "source": [
        "**3. Identify Highest Revenue-Generating Items (Per Quarter)**  "
      ]
    },
    {
      "cell_type": "code",
      "execution_count": 12,
      "metadata": {},
      "outputs": [
        {
          "data": {
            "text/plain": [
              "4    Chicken Bowl\n",
              "Name: item_name, dtype: object"
            ]
          },
          "execution_count": 12,
          "metadata": {},
          "output_type": "execute_result"
        }
      ],
      "source": [
        "items_price['item_price'] = items_price['item_price'].apply(\n",
        "    func = dollar_to_inr\n",
        ")\n",
        "\n",
        "items_price = items_price.sort_values(\n",
        "    by = [\n",
        "        'item_name',\n",
        "        'item_price'\n",
        "    ],\n",
        "    ascending = False\n",
        ").drop_duplicates(\n",
        "    subset = 'item_name',\n",
        "    keep = 'first'\n",
        ").merge(\n",
        "    right = items,\n",
        "    on = 'item_name'\n",
        ")\n",
        "\n",
        "temp = year_data.loc['Q1'].groupby(\n",
        "    by = 'item_id'\n",
        ")['quantity'].sum().reset_index().merge(\n",
        "    right = items_price,\n",
        "    on = 'item_id'\n",
        ")\n",
        "\n",
        "temp['item_sales'] = temp['quantity'] * temp['item_price']\n",
        "\n",
        "temp.sort_values(\n",
        "    by = 'item_sales',\n",
        "    ascending = False\n",
        ").head(1)['item_name']"
      ]
    },
    {
      "cell_type": "code",
      "execution_count": 13,
      "metadata": {},
      "outputs": [
        {
          "data": {
            "text/plain": [
              "4    Chicken Bowl\n",
              "Name: item_name, dtype: object"
            ]
          },
          "execution_count": 13,
          "metadata": {},
          "output_type": "execute_result"
        }
      ],
      "source": [
        "temp = year_data.loc['Q2'].groupby(\n",
        "    by = 'item_id'\n",
        ")['quantity'].sum().reset_index().merge(\n",
        "    right = items_price,\n",
        "    on = 'item_id'\n",
        ")\n",
        "\n",
        "temp['item_sales'] = temp['quantity'] * temp['item_price']\n",
        "\n",
        "temp.sort_values(\n",
        "    by = 'item_sales',\n",
        "    ascending = False\n",
        ").head(1)['item_name']"
      ]
    },
    {
      "cell_type": "code",
      "execution_count": 14,
      "metadata": {},
      "outputs": [
        {
          "data": {
            "text/plain": [
              "np.float64(647.0118532307691)"
            ]
          },
          "execution_count": 14,
          "metadata": {},
          "output_type": "execute_result"
        }
      ],
      "source": [
        "year_data.loc['Q1'].item_price.mean()"
      ]
    },
    {
      "cell_type": "code",
      "execution_count": 15,
      "metadata": {},
      "outputs": [
        {
          "data": {
            "text/plain": [
              "np.float64(628.0429042607584)"
            ]
          },
          "execution_count": 15,
          "metadata": {},
          "output_type": "execute_result"
        }
      ],
      "source": [
        "year_data.loc['Q2'].item_price.mean()"
      ]
    },
    {
      "cell_type": "markdown",
      "metadata": {},
      "source": [
        "### ⚠️ **Data Warning**\n",
        "For the questions forward, we are going to use IPL Deliveries dataset, which is in the [Resources](../Resources/) folder."
      ]
    },
    {
      "cell_type": "markdown",
      "metadata": {},
      "source": [
        "#### **Reading Data into DataFrame**"
      ]
    },
    {
      "cell_type": "code",
      "execution_count": 16,
      "metadata": {},
      "outputs": [],
      "source": [
        "deliveries = pd.read_csv(\n",
        "    filepath_or_buffer = '../Resources/Data/ipl_deliveries.csv'\n",
        ")"
      ]
    },
    {
      "cell_type": "code",
      "execution_count": 17,
      "metadata": {},
      "outputs": [],
      "source": [
        "ipl_matches = pd.read_csv(\n",
        "    filepath_or_buffer = '../Resources/Data/IPL_Matches_2008_2022.csv'\n",
        ")"
      ]
    },
    {
      "cell_type": "markdown",
      "metadata": {
        "id": "IRg-rNsDW-Ca"
      },
      "source": [
        "### 🎯 **Q5: Purple Cap Holder of Each IPL Season**\n",
        "\n",
        "1. 📌 **Task:**\n",
        "    Find the **Purple Cap holder** for **each IPL season** using the IPL dataset.\n",
        "\n",
        "2. 🏏 **Conditions:**\n",
        "   - Purple Cap is awarded to the **bowler with the most wickets** in a season.\n",
        "   - If multiple bowlers have the **same number of wickets**, the bowler with the **lowest economy rate** should be selected.\n",
        "   - Only consider valid dismissals as wickets (exclude run-outs and other non-bowler dismissals).\n",
        "   - Use the following formula for **Economy Rate**:  \n",
        "     $$\n",
        "     \\text{Economy} = \\frac{\\text{Runs Conceded}}{\\text{Balls Bowled} / 6}\n",
        "     $$\n",
        "\n",
        "3. 📊 **Final Output DataFrame Should Include:**\n",
        "   - `Season`\n",
        "   - `Bowler Name`\n",
        "   - `Wickets`\n",
        "   - `Economy`"
      ]
    },
    {
      "cell_type": "code",
      "execution_count": 18,
      "metadata": {
        "id": "yQeUfliHXKJm"
      },
      "outputs": [],
      "source": [
        "ipl = pd.merge(\n",
        "    left = deliveries,\n",
        "    right = ipl_matches,\n",
        "    on = 'ID'\n",
        ")"
      ]
    },
    {
      "cell_type": "code",
      "execution_count": 19,
      "metadata": {},
      "outputs": [],
      "source": [
        "season_group = ipl.groupby(\n",
        "    by = 'Season'\n",
        ")"
      ]
    },
    {
      "cell_type": "code",
      "execution_count": 20,
      "metadata": {},
      "outputs": [
        {
          "name": "stderr",
          "output_type": "stream",
          "text": [
            "C:\\Users\\Abbas\\AppData\\Local\\Temp\\ipykernel_4468\\2992741785.py:34: FutureWarning: The behavior of DataFrame concatenation with empty or all-NA entries is deprecated. In a future version, this will no longer exclude empty or all-NA columns when determining the result dtypes. To retain the old behavior, exclude the relevant entries before the concat operation.\n",
            "  purple_cap_df = pd.concat(\n"
          ]
        },
        {
          "data": {
            "application/vnd.microsoft.datawrangler.viewer.v0+json": {
              "columns": [
                {
                  "name": "index",
                  "rawType": "int64",
                  "type": "integer"
                },
                {
                  "name": "Season",
                  "rawType": "object",
                  "type": "string"
                },
                {
                  "name": "Bowler",
                  "rawType": "object",
                  "type": "string"
                },
                {
                  "name": "Wicket",
                  "rawType": "object",
                  "type": "unknown"
                },
                {
                  "name": "Economy",
                  "rawType": "float64",
                  "type": "float"
                }
              ],
              "conversionMethod": "pd.DataFrame",
              "ref": "92795c13-076a-4706-af8d-73566cc35b70",
              "rows": [
                [
                  "0",
                  "2021",
                  "HV Patel",
                  "35",
                  "7.662049861495845"
                ],
                [
                  "1",
                  "2013",
                  "DJ Bravo",
                  "34",
                  "7.729591836734694"
                ],
                [
                  "2",
                  "2020/21",
                  "K Rabada",
                  "32",
                  "8.18840579710145"
                ],
                [
                  "3",
                  "2011",
                  "SL Malinga",
                  "30",
                  "5.9395465994962215"
                ],
                [
                  "4",
                  "2012",
                  "M Morkel",
                  "30",
                  "7.187660668380463"
                ],
                [
                  "5",
                  "2022",
                  "YS Chahal",
                  "29",
                  "7.496503496503497"
                ],
                [
                  "6",
                  "2019",
                  "K Rabada",
                  "29",
                  "7.691275167785236"
                ],
                [
                  "7",
                  "2017",
                  "B Kumar",
                  "28",
                  "7.111111111111111"
                ],
                [
                  "8",
                  "2018",
                  "AJ Tye",
                  "28",
                  "7.80169971671388"
                ],
                [
                  "9",
                  "2015",
                  "DJ Bravo",
                  "28",
                  "8.185185185185185"
                ],
                [
                  "10",
                  "2009",
                  "RP Singh",
                  "26",
                  "6.7539267015706805"
                ],
                [
                  "11",
                  "2014",
                  "MM Sharma",
                  "26",
                  "8.462962962962964"
                ],
                [
                  "12",
                  "2007/08",
                  "Sohail Tanvir",
                  "24",
                  "6.226415094339623"
                ],
                [
                  "13",
                  "2016",
                  "B Kumar",
                  "24",
                  "7.2898550724637685"
                ],
                [
                  "14",
                  "2009/10",
                  "PP Ojha",
                  "22",
                  "7.316666666666666"
                ]
              ],
              "shape": {
                "columns": 4,
                "rows": 15
              }
            },
            "text/html": [
              "<div>\n",
              "<style scoped>\n",
              "    .dataframe tbody tr th:only-of-type {\n",
              "        vertical-align: middle;\n",
              "    }\n",
              "\n",
              "    .dataframe tbody tr th {\n",
              "        vertical-align: top;\n",
              "    }\n",
              "\n",
              "    .dataframe thead th {\n",
              "        text-align: right;\n",
              "    }\n",
              "</style>\n",
              "<table border=\"1\" class=\"dataframe\">\n",
              "  <thead>\n",
              "    <tr style=\"text-align: right;\">\n",
              "      <th></th>\n",
              "      <th>Season</th>\n",
              "      <th>Bowler</th>\n",
              "      <th>Wicket</th>\n",
              "      <th>Economy</th>\n",
              "    </tr>\n",
              "  </thead>\n",
              "  <tbody>\n",
              "    <tr>\n",
              "      <th>0</th>\n",
              "      <td>2021</td>\n",
              "      <td>HV Patel</td>\n",
              "      <td>35</td>\n",
              "      <td>7.662050</td>\n",
              "    </tr>\n",
              "    <tr>\n",
              "      <th>1</th>\n",
              "      <td>2013</td>\n",
              "      <td>DJ Bravo</td>\n",
              "      <td>34</td>\n",
              "      <td>7.729592</td>\n",
              "    </tr>\n",
              "    <tr>\n",
              "      <th>2</th>\n",
              "      <td>2020/21</td>\n",
              "      <td>K Rabada</td>\n",
              "      <td>32</td>\n",
              "      <td>8.188406</td>\n",
              "    </tr>\n",
              "    <tr>\n",
              "      <th>3</th>\n",
              "      <td>2011</td>\n",
              "      <td>SL Malinga</td>\n",
              "      <td>30</td>\n",
              "      <td>5.939547</td>\n",
              "    </tr>\n",
              "    <tr>\n",
              "      <th>4</th>\n",
              "      <td>2012</td>\n",
              "      <td>M Morkel</td>\n",
              "      <td>30</td>\n",
              "      <td>7.187661</td>\n",
              "    </tr>\n",
              "    <tr>\n",
              "      <th>5</th>\n",
              "      <td>2022</td>\n",
              "      <td>YS Chahal</td>\n",
              "      <td>29</td>\n",
              "      <td>7.496503</td>\n",
              "    </tr>\n",
              "    <tr>\n",
              "      <th>6</th>\n",
              "      <td>2019</td>\n",
              "      <td>K Rabada</td>\n",
              "      <td>29</td>\n",
              "      <td>7.691275</td>\n",
              "    </tr>\n",
              "    <tr>\n",
              "      <th>7</th>\n",
              "      <td>2017</td>\n",
              "      <td>B Kumar</td>\n",
              "      <td>28</td>\n",
              "      <td>7.111111</td>\n",
              "    </tr>\n",
              "    <tr>\n",
              "      <th>8</th>\n",
              "      <td>2018</td>\n",
              "      <td>AJ Tye</td>\n",
              "      <td>28</td>\n",
              "      <td>7.801700</td>\n",
              "    </tr>\n",
              "    <tr>\n",
              "      <th>9</th>\n",
              "      <td>2015</td>\n",
              "      <td>DJ Bravo</td>\n",
              "      <td>28</td>\n",
              "      <td>8.185185</td>\n",
              "    </tr>\n",
              "    <tr>\n",
              "      <th>10</th>\n",
              "      <td>2009</td>\n",
              "      <td>RP Singh</td>\n",
              "      <td>26</td>\n",
              "      <td>6.753927</td>\n",
              "    </tr>\n",
              "    <tr>\n",
              "      <th>11</th>\n",
              "      <td>2014</td>\n",
              "      <td>MM Sharma</td>\n",
              "      <td>26</td>\n",
              "      <td>8.462963</td>\n",
              "    </tr>\n",
              "    <tr>\n",
              "      <th>12</th>\n",
              "      <td>2007/08</td>\n",
              "      <td>Sohail Tanvir</td>\n",
              "      <td>24</td>\n",
              "      <td>6.226415</td>\n",
              "    </tr>\n",
              "    <tr>\n",
              "      <th>13</th>\n",
              "      <td>2016</td>\n",
              "      <td>B Kumar</td>\n",
              "      <td>24</td>\n",
              "      <td>7.289855</td>\n",
              "    </tr>\n",
              "    <tr>\n",
              "      <th>14</th>\n",
              "      <td>2009/10</td>\n",
              "      <td>PP Ojha</td>\n",
              "      <td>22</td>\n",
              "      <td>7.316667</td>\n",
              "    </tr>\n",
              "  </tbody>\n",
              "</table>\n",
              "</div>"
            ],
            "text/plain": [
              "     Season         Bowler Wicket   Economy\n",
              "0      2021       HV Patel     35  7.662050\n",
              "1      2013       DJ Bravo     34  7.729592\n",
              "2   2020/21       K Rabada     32  8.188406\n",
              "3      2011     SL Malinga     30  5.939547\n",
              "4      2012       M Morkel     30  7.187661\n",
              "5      2022      YS Chahal     29  7.496503\n",
              "6      2019       K Rabada     29  7.691275\n",
              "7      2017        B Kumar     28  7.111111\n",
              "8      2018         AJ Tye     28  7.801700\n",
              "9      2015       DJ Bravo     28  8.185185\n",
              "10     2009       RP Singh     26  6.753927\n",
              "11     2014      MM Sharma     26  8.462963\n",
              "12  2007/08  Sohail Tanvir     24  6.226415\n",
              "13     2016        B Kumar     24  7.289855\n",
              "14  2009/10        PP Ojha     22  7.316667"
            ]
          },
          "execution_count": 20,
          "metadata": {},
          "output_type": "execute_result"
        }
      ],
      "source": [
        "purple_cap_df = pd.DataFrame(\n",
        "    columns = [\n",
        "        'Season',\n",
        "        'Bowler',\n",
        "        'Wicket',\n",
        "        'Economy'\n",
        "    ]\n",
        ")\n",
        "for season, season_df  in season_group:\n",
        "    bowler_group = season_df.groupby(\n",
        "        by = 'bowler'\n",
        "    )\n",
        "    for bowler, bowler_df in bowler_group:\n",
        "        wickets = bowler_df['isWicketDelivery'].sum()\n",
        "        runs_conceded = bowler_df['total_run'].sum()\n",
        "        total_balls = bowler_df.shape[0]\n",
        "        economy = runs_conceded / (total_balls / 6)\n",
        "        bowler_df = pd.DataFrame(\n",
        "            data = [\n",
        "                [\n",
        "                    season,\n",
        "                    bowler,\n",
        "                    wickets,\n",
        "                    economy\n",
        "                ]\n",
        "            ],\n",
        "            columns = [\n",
        "                'Season',\n",
        "                'Bowler',\n",
        "                'Wicket',\n",
        "                'Economy'\n",
        "            ]\n",
        "        )\n",
        "        purple_cap_df = pd.concat(\n",
        "            objs = [purple_cap_df, bowler_df]\n",
        "        )\n",
        "\n",
        "purple_cap_df.sort_values(\n",
        "    by = [\n",
        "        'Wicket',\n",
        "        'Economy'\n",
        "    ],\n",
        "    ascending = [False, True]\n",
        ").drop_duplicates(\n",
        "    subset = 'Season',\n",
        "    keep = 'first',\n",
        "    ignore_index = True\n",
        ")"
      ]
    },
    {
      "cell_type": "markdown",
      "metadata": {
        "id": "pmJJB0Q6XMWy"
      },
      "source": [
        "### 🎯 **Q6: Best Bowler in Death Overs**\n",
        "\n",
        "1. 📌 **Task:**\n",
        "    Identify the **best bowler in death overs** across all IPL matches using the IPL dataset.\n",
        "\n",
        "2. 🏏 **Definition:**\n",
        "   - **Death Overs:** Overs between **16 to 20** (inclusive).\n",
        "\n",
        "\n",
        "3. 🧮 **Evaluation Criteria:**\n",
        "   - The **bowler with the most number of wickets** in death overs.\n",
        "   - In case of a **tie** on wickets:\n",
        "     - Select the bowler with the **lowest economy rate**.\n",
        "\n",
        "\n",
        "4. 🔢 **Economy Rate Formula:**\n",
        "    $$\n",
        "    \\text{Economy} = \\frac{\\text{Runs Conceded}}{\\text{Balls Bowled} / 6}\n",
        "    $$\n",
        "\n",
        "5. ✅ **Output Should Contain:**\n",
        "   - `Bowler Name`\n",
        "   - `Wickets in Death Overs`\n",
        "   - `Economy in Death Overs`"
      ]
    },
    {
      "cell_type": "code",
      "execution_count": 21,
      "metadata": {
        "id": "s2t1IXf-XLak"
      },
      "outputs": [],
      "source": [
        "death_overs_deliveries = ipl[ipl['overs'] >= 15]\n",
        "bowler_group = death_overs_deliveries.groupby(\n",
        "    by = 'bowler'\n",
        ")"
      ]
    },
    {
      "cell_type": "code",
      "execution_count": 22,
      "metadata": {},
      "outputs": [
        {
          "name": "stderr",
          "output_type": "stream",
          "text": [
            "C:\\Users\\Abbas\\AppData\\Local\\Temp\\ipykernel_4468\\3762214176.py:28: FutureWarning: The behavior of DataFrame concatenation with empty or all-NA entries is deprecated. In a future version, this will no longer exclude empty or all-NA columns when determining the result dtypes. To retain the old behavior, exclude the relevant entries before the concat operation.\n",
            "  best_bowlers = pd.concat(\n"
          ]
        },
        {
          "data": {
            "application/vnd.microsoft.datawrangler.viewer.v0+json": {
              "columns": [
                {
                  "name": "index",
                  "rawType": "int64",
                  "type": "integer"
                },
                {
                  "name": "Bowler",
                  "rawType": "object",
                  "type": "string"
                },
                {
                  "name": "Wicket",
                  "rawType": "object",
                  "type": "unknown"
                },
                {
                  "name": "Economy",
                  "rawType": "float64",
                  "type": "float"
                }
              ],
              "conversionMethod": "pd.DataFrame",
              "ref": "66d439bb-9641-42c1-be72-7454cb1f98f7",
              "rows": [
                [
                  "0",
                  "DJ Bravo",
                  "130",
                  "9.014354066985646"
                ],
                [
                  "0",
                  "SL Malinga",
                  "122",
                  "7.798977853492334"
                ],
                [
                  "0",
                  "B Kumar",
                  "95",
                  "8.80195599022005"
                ],
                [
                  "0",
                  "JJ Bumrah",
                  "90",
                  "8.309623430962343"
                ],
                [
                  "0",
                  "SP Narine",
                  "77",
                  "7.342268041237114"
                ],
                [
                  "0",
                  "Mohammed Shami",
                  "68",
                  "10.308724832214766"
                ],
                [
                  "0",
                  "CH Morris",
                  "64",
                  "8.5625"
                ],
                [
                  "0",
                  "A Nehra",
                  "63",
                  "8.725274725274724"
                ],
                [
                  "0",
                  "UT Yadav",
                  "63",
                  "10.063492063492063"
                ],
                [
                  "0",
                  "R Vinay Kumar",
                  "62",
                  "10.25072886297376"
                ],
                [
                  "0",
                  "K Rabada",
                  "60",
                  "9.07865168539326"
                ],
                [
                  "0",
                  "DW Steyn",
                  "55",
                  "8.11178247734139"
                ],
                [
                  "0",
                  "RP Singh",
                  "55",
                  "9.032374100719425"
                ],
                [
                  "0",
                  "SR Watson",
                  "55",
                  "9.137876386687797"
                ],
                [
                  "0",
                  "JD Unadkat",
                  "52",
                  "10.675862068965516"
                ],
                [
                  "0",
                  "HV Patel",
                  "51",
                  "9.248120300751879"
                ],
                [
                  "0",
                  "AD Russell",
                  "47",
                  "10.54945054945055"
                ],
                [
                  "0",
                  "Z Khan",
                  "46",
                  "9.15483870967742"
                ],
                [
                  "0",
                  "MM Sharma",
                  "46",
                  "9.865921787709498"
                ],
                [
                  "0",
                  "YS Chahal",
                  "45",
                  "8.819742489270386"
                ],
                [
                  "0",
                  "TA Boult",
                  "45",
                  "10.457446808510639"
                ],
                [
                  "0",
                  "P Kumar",
                  "43",
                  "10.173076923076923"
                ],
                [
                  "0",
                  "A Mishra",
                  "42",
                  "9.162162162162163"
                ],
                [
                  "0",
                  "JP Faulkner",
                  "42",
                  "9.760649087221095"
                ],
                [
                  "0",
                  "Sandeep Sharma",
                  "42",
                  "9.878048780487806"
                ],
                [
                  "0",
                  "IK Pathan",
                  "41",
                  "9.219801980198019"
                ],
                [
                  "0",
                  "SN Thakur",
                  "41",
                  "9.65979381443299"
                ],
                [
                  "0",
                  "M Morkel",
                  "40",
                  "9.0"
                ],
                [
                  "0",
                  "PP Chawla",
                  "39",
                  "8.857142857142858"
                ],
                [
                  "0",
                  "JA Morkel",
                  "39",
                  "9.088757396449704"
                ],
                [
                  "0",
                  "L Balaji",
                  "39",
                  "10.061185468451242"
                ],
                [
                  "0",
                  "R Ashwin",
                  "37",
                  "7.673394495412844"
                ],
                [
                  "0",
                  "AB Dinda",
                  "35",
                  "10.75233644859813"
                ],
                [
                  "0",
                  "S Kaul",
                  "34",
                  "8.781176470588235"
                ],
                [
                  "0",
                  "MJ McClenaghan",
                  "34",
                  "9.045"
                ],
                [
                  "0",
                  "RA Jadeja",
                  "32",
                  "8.439688715953308"
                ],
                [
                  "0",
                  "Mustafizur Rahman",
                  "31",
                  "8.578833693304535"
                ],
                [
                  "0",
                  "JO Holder",
                  "30",
                  "8.866396761133604"
                ],
                [
                  "0",
                  "MG Johnson",
                  "30",
                  "9.18867924528302"
                ],
                [
                  "0",
                  "KA Pollard",
                  "30",
                  "10.076712328767123"
                ],
                [
                  "0",
                  "DE Bollinger",
                  "28",
                  "7.363636363636363"
                ],
                [
                  "0",
                  "Harbhajan Singh",
                  "28",
                  "8.127659574468085"
                ],
                [
                  "0",
                  "JH Kallis",
                  "28",
                  "9.97843665768194"
                ],
                [
                  "0",
                  "MM Patel",
                  "28",
                  "10.356687898089172"
                ],
                [
                  "0",
                  "AJ Tye",
                  "27",
                  "9.108196721311476"
                ],
                [
                  "0",
                  "RJ Harris",
                  "27",
                  "9.266903914590747"
                ],
                [
                  "0",
                  "M Prasidh Krishna",
                  "27",
                  "9.649769585253457"
                ],
                [
                  "0",
                  "Rashid Khan",
                  "26",
                  "7.387012987012986"
                ],
                [
                  "0",
                  "Imran Tahir",
                  "26",
                  "9.07361963190184"
                ],
                [
                  "0",
                  "NM Coulter-Nile",
                  "26",
                  "9.22007722007722"
                ]
              ],
              "shape": {
                "columns": 3,
                "rows": 400
              }
            },
            "text/html": [
              "<div>\n",
              "<style scoped>\n",
              "    .dataframe tbody tr th:only-of-type {\n",
              "        vertical-align: middle;\n",
              "    }\n",
              "\n",
              "    .dataframe tbody tr th {\n",
              "        vertical-align: top;\n",
              "    }\n",
              "\n",
              "    .dataframe thead th {\n",
              "        text-align: right;\n",
              "    }\n",
              "</style>\n",
              "<table border=\"1\" class=\"dataframe\">\n",
              "  <thead>\n",
              "    <tr style=\"text-align: right;\">\n",
              "      <th></th>\n",
              "      <th>Bowler</th>\n",
              "      <th>Wicket</th>\n",
              "      <th>Economy</th>\n",
              "    </tr>\n",
              "  </thead>\n",
              "  <tbody>\n",
              "    <tr>\n",
              "      <th>0</th>\n",
              "      <td>DJ Bravo</td>\n",
              "      <td>130</td>\n",
              "      <td>9.014354</td>\n",
              "    </tr>\n",
              "    <tr>\n",
              "      <th>0</th>\n",
              "      <td>SL Malinga</td>\n",
              "      <td>122</td>\n",
              "      <td>7.798978</td>\n",
              "    </tr>\n",
              "    <tr>\n",
              "      <th>0</th>\n",
              "      <td>B Kumar</td>\n",
              "      <td>95</td>\n",
              "      <td>8.801956</td>\n",
              "    </tr>\n",
              "    <tr>\n",
              "      <th>0</th>\n",
              "      <td>JJ Bumrah</td>\n",
              "      <td>90</td>\n",
              "      <td>8.309623</td>\n",
              "    </tr>\n",
              "    <tr>\n",
              "      <th>0</th>\n",
              "      <td>SP Narine</td>\n",
              "      <td>77</td>\n",
              "      <td>7.342268</td>\n",
              "    </tr>\n",
              "    <tr>\n",
              "      <th>...</th>\n",
              "      <td>...</td>\n",
              "      <td>...</td>\n",
              "      <td>...</td>\n",
              "    </tr>\n",
              "    <tr>\n",
              "      <th>0</th>\n",
              "      <td>P Ray Barman</td>\n",
              "      <td>0</td>\n",
              "      <td>20.000000</td>\n",
              "    </tr>\n",
              "    <tr>\n",
              "      <th>0</th>\n",
              "      <td>LPC Silva</td>\n",
              "      <td>0</td>\n",
              "      <td>21.000000</td>\n",
              "    </tr>\n",
              "    <tr>\n",
              "      <th>0</th>\n",
              "      <td>Ankit Soni</td>\n",
              "      <td>0</td>\n",
              "      <td>24.000000</td>\n",
              "    </tr>\n",
              "    <tr>\n",
              "      <th>0</th>\n",
              "      <td>DG Nalkande</td>\n",
              "      <td>0</td>\n",
              "      <td>36.000000</td>\n",
              "    </tr>\n",
              "    <tr>\n",
              "      <th>0</th>\n",
              "      <td>YBK Jaiswal</td>\n",
              "      <td>0</td>\n",
              "      <td>36.000000</td>\n",
              "    </tr>\n",
              "  </tbody>\n",
              "</table>\n",
              "<p>400 rows × 3 columns</p>\n",
              "</div>"
            ],
            "text/plain": [
              "          Bowler Wicket    Economy\n",
              "0       DJ Bravo    130   9.014354\n",
              "0     SL Malinga    122   7.798978\n",
              "0        B Kumar     95   8.801956\n",
              "0      JJ Bumrah     90   8.309623\n",
              "0      SP Narine     77   7.342268\n",
              "..           ...    ...        ...\n",
              "0   P Ray Barman      0  20.000000\n",
              "0      LPC Silva      0  21.000000\n",
              "0     Ankit Soni      0  24.000000\n",
              "0    DG Nalkande      0  36.000000\n",
              "0    YBK Jaiswal      0  36.000000\n",
              "\n",
              "[400 rows x 3 columns]"
            ]
          },
          "execution_count": 22,
          "metadata": {},
          "output_type": "execute_result"
        }
      ],
      "source": [
        "best_bowlers = pd.DataFrame(\n",
        "    columns = [\n",
        "        'Bowler',\n",
        "        'Wicket',\n",
        "        'Economy'\n",
        "    ]\n",
        ")\n",
        "\n",
        "for bowler, bowler_df in bowler_group:\n",
        "    wickets = bowler_df['isWicketDelivery'].sum()\n",
        "    runs_conceded = bowler_df['total_run'].sum()\n",
        "    total_balls = bowler_df.shape[0]\n",
        "    economy = runs_conceded / (total_balls / 6)\n",
        "    bowler_df = pd.DataFrame(\n",
        "        data = [\n",
        "            [\n",
        "                bowler,\n",
        "                wickets,\n",
        "                economy\n",
        "            ]\n",
        "        ],\n",
        "        columns = [\n",
        "            'Bowler',\n",
        "            'Wicket',\n",
        "            'Economy'\n",
        "        ]\n",
        "    )\n",
        "    best_bowlers = pd.concat(\n",
        "        objs = [best_bowlers, bowler_df]\n",
        "    )\n",
        "\n",
        "best_bowlers.sort_values(\n",
        "    by = [\n",
        "        'Wicket',\n",
        "        'Economy'\n",
        "    ],\n",
        "    ascending = [False, True]\n",
        ")"
      ]
    },
    {
      "cell_type": "markdown",
      "metadata": {
        "id": "BHU3PYRTXbPc"
      },
      "source": [
        "### 🎯 **Q7: Batsman Record Season-Wise**\n",
        "\n",
        "1. 📌 **Task:**\n",
        "    Write a function that returns a season-wise batting summary for a given batsman.\n",
        "\n",
        "2. 🧠 **Function Requirements:**\n",
        "    - Function **input**: `batsman_name` (string)\n",
        "    - Function **output**: A `DataFrame` with the following columns:\n",
        "\n",
        "    ```bash\n",
        "        ['Season', 'Innings', 'TotalRuns', 'Avg', 'HighestScore', 'StrikeRate']\n",
        "    ```\n",
        "\n",
        "    - Set the **`Season` column as the index** of the resulting DataFrame.\n",
        "\n",
        "3. 🧾 **Column Definitions & Rules:**\n",
        "   - **Innings**: Count of distinct innings played by the batsman per season.\n",
        "   - **TotalRuns**: Total runs scored by the batsman in that season.\n",
        "   - **Avg (Average)**:  \n",
        "     $$\n",
        "     \\text{Avg} = \\frac{\\text{Total Runs}}{\\text{Number of times the batsman got out}}\n",
        "     $$\n",
        "\n",
        "   - **HighestScore**: Maximum score in a single innings.\n",
        "   - **StrikeRate**:  \n",
        "     $$\n",
        "     \\text{StrikeRate} = \\left(\\frac{\\text{Total Runs}}{\\text{Balls Faced}}\\right) \\times 100\n",
        "     $$\n",
        "     - **Balls faced rules:**\n",
        "       - Do **not count** **wide balls** as faced.\n",
        "       - **Count no balls** as valid deliveries.\n",
        "       - Use the `extra_type` column to exclude `'wides'`.\n",
        "\n",
        "4. ⚠️ **Important Considerations:**\n",
        "   - A batsman can:\n",
        "     - **Score runs** off **no balls**.\n",
        "     - **Get out** on **no balls** and **wide balls**.\n",
        "     - **Be dismissed** while at the **non-striker's end** (ensure you match the batsman correctly in dismissals)."
      ]
    },
    {
      "cell_type": "code",
      "execution_count": 23,
      "metadata": {},
      "outputs": [],
      "source": [
        "def batsman_record(batsman_name, ipl):\n",
        "\n",
        "    bat = ipl[ipl['batter'] == batsman_name].copy()\n",
        "\n",
        "    bat['valid_ball'] = bat['extra_type'].fillna('') != 'wides'\n",
        "    inns = (\n",
        "        bat.groupby(['Season', 'ID', 'innings'])\n",
        "           .agg(\n",
        "               runs = ('batsman_run', 'sum'),\n",
        "               balls = ('valid_ball', 'sum'),\n",
        "               out   = ('player_out', lambda s: int((s == batsman_name).sum()))\n",
        "           )\n",
        "           .reset_index()\n",
        "    )\n",
        "    \n",
        "    season_stats = inns.groupby('Season').agg(\n",
        "        Innings      = ('innings', 'count'),\n",
        "        TotalRuns    = ('runs', 'sum'),\n",
        "        HighestScore = ('runs', 'max'),\n",
        "        BallsFaced   = ('balls', 'sum'),\n",
        "        Dismissals   = ('out', 'sum')\n",
        "    )\n",
        "    \n",
        "    season_stats['Avg'] = np.where(\n",
        "        season_stats['Dismissals'] > 0,\n",
        "        season_stats['TotalRuns'] / season_stats['Dismissals'],\n",
        "        season_stats['TotalRuns']\n",
        "    )\n",
        "    season_stats['StrikeRate'] = (season_stats['TotalRuns'] / season_stats['BallsFaced']) * 100\n",
        "    \n",
        "    return (\n",
        "        season_stats\n",
        "        .drop(columns=['BallsFaced','Dismissals'])\n",
        "        .sort_index()\n",
        "    )"
      ]
    },
    {
      "cell_type": "code",
      "execution_count": 24,
      "metadata": {},
      "outputs": [
        {
          "data": {
            "application/vnd.microsoft.datawrangler.viewer.v0+json": {
              "columns": [
                {
                  "name": "Season",
                  "rawType": "object",
                  "type": "string"
                },
                {
                  "name": "Innings",
                  "rawType": "int64",
                  "type": "integer"
                },
                {
                  "name": "TotalRuns",
                  "rawType": "int64",
                  "type": "integer"
                },
                {
                  "name": "HighestScore",
                  "rawType": "int64",
                  "type": "integer"
                },
                {
                  "name": "Avg",
                  "rawType": "float64",
                  "type": "float"
                },
                {
                  "name": "StrikeRate",
                  "rawType": "float64",
                  "type": "float"
                }
              ],
              "conversionMethod": "pd.DataFrame",
              "ref": "3e14bd01-896a-404c-a580-db618fa27959",
              "rows": [
                [
                  "2007/08",
                  "14",
                  "414",
                  "65",
                  "41.4",
                  "133.54838709677418"
                ],
                [
                  "2009",
                  "13",
                  "332",
                  "58",
                  "41.5",
                  "127.20306513409963"
                ],
                [
                  "2009/10",
                  "11",
                  "287",
                  "66",
                  "31.88888888888889",
                  "136.66666666666666"
                ],
                [
                  "2011",
                  "13",
                  "392",
                  "70",
                  "43.55555555555556",
                  "158.70445344129556"
                ],
                [
                  "2012",
                  "17",
                  "358",
                  "51",
                  "32.54545454545455",
                  "128.77697841726618"
                ],
                [
                  "2013",
                  "16",
                  "461",
                  "67",
                  "46.1",
                  "162.89752650176678"
                ],
                [
                  "2014",
                  "15",
                  "371",
                  "57",
                  "74.2",
                  "148.4"
                ],
                [
                  "2015",
                  "17",
                  "372",
                  "53",
                  "31.0",
                  "121.96721311475409"
                ],
                [
                  "2016",
                  "12",
                  "284",
                  "64",
                  "40.57142857142857",
                  "135.23809523809524"
                ],
                [
                  "2017",
                  "15",
                  "290",
                  "61",
                  "26.363636363636363",
                  "115.99999999999999"
                ],
                [
                  "2018",
                  "15",
                  "455",
                  "79",
                  "75.83333333333333",
                  "150.66225165562915"
                ],
                [
                  "2019",
                  "12",
                  "416",
                  "84",
                  "104.0",
                  "134.62783171521036"
                ],
                [
                  "2020/21",
                  "12",
                  "200",
                  "47",
                  "25.0",
                  "116.27906976744187"
                ],
                [
                  "2021",
                  "11",
                  "114",
                  "18",
                  "16.285714285714285",
                  "106.54205607476635"
                ],
                [
                  "2022",
                  "12",
                  "232",
                  "50",
                  "33.142857142857146",
                  "123.40425531914893"
                ]
              ],
              "shape": {
                "columns": 5,
                "rows": 15
              }
            },
            "text/html": [
              "<div>\n",
              "<style scoped>\n",
              "    .dataframe tbody tr th:only-of-type {\n",
              "        vertical-align: middle;\n",
              "    }\n",
              "\n",
              "    .dataframe tbody tr th {\n",
              "        vertical-align: top;\n",
              "    }\n",
              "\n",
              "    .dataframe thead th {\n",
              "        text-align: right;\n",
              "    }\n",
              "</style>\n",
              "<table border=\"1\" class=\"dataframe\">\n",
              "  <thead>\n",
              "    <tr style=\"text-align: right;\">\n",
              "      <th></th>\n",
              "      <th>Innings</th>\n",
              "      <th>TotalRuns</th>\n",
              "      <th>HighestScore</th>\n",
              "      <th>Avg</th>\n",
              "      <th>StrikeRate</th>\n",
              "    </tr>\n",
              "    <tr>\n",
              "      <th>Season</th>\n",
              "      <th></th>\n",
              "      <th></th>\n",
              "      <th></th>\n",
              "      <th></th>\n",
              "      <th></th>\n",
              "    </tr>\n",
              "  </thead>\n",
              "  <tbody>\n",
              "    <tr>\n",
              "      <th>2007/08</th>\n",
              "      <td>14</td>\n",
              "      <td>414</td>\n",
              "      <td>65</td>\n",
              "      <td>41.400000</td>\n",
              "      <td>133.548387</td>\n",
              "    </tr>\n",
              "    <tr>\n",
              "      <th>2009</th>\n",
              "      <td>13</td>\n",
              "      <td>332</td>\n",
              "      <td>58</td>\n",
              "      <td>41.500000</td>\n",
              "      <td>127.203065</td>\n",
              "    </tr>\n",
              "    <tr>\n",
              "      <th>2009/10</th>\n",
              "      <td>11</td>\n",
              "      <td>287</td>\n",
              "      <td>66</td>\n",
              "      <td>31.888889</td>\n",
              "      <td>136.666667</td>\n",
              "    </tr>\n",
              "    <tr>\n",
              "      <th>2011</th>\n",
              "      <td>13</td>\n",
              "      <td>392</td>\n",
              "      <td>70</td>\n",
              "      <td>43.555556</td>\n",
              "      <td>158.704453</td>\n",
              "    </tr>\n",
              "    <tr>\n",
              "      <th>2012</th>\n",
              "      <td>17</td>\n",
              "      <td>358</td>\n",
              "      <td>51</td>\n",
              "      <td>32.545455</td>\n",
              "      <td>128.776978</td>\n",
              "    </tr>\n",
              "    <tr>\n",
              "      <th>2013</th>\n",
              "      <td>16</td>\n",
              "      <td>461</td>\n",
              "      <td>67</td>\n",
              "      <td>46.100000</td>\n",
              "      <td>162.897527</td>\n",
              "    </tr>\n",
              "    <tr>\n",
              "      <th>2014</th>\n",
              "      <td>15</td>\n",
              "      <td>371</td>\n",
              "      <td>57</td>\n",
              "      <td>74.200000</td>\n",
              "      <td>148.400000</td>\n",
              "    </tr>\n",
              "    <tr>\n",
              "      <th>2015</th>\n",
              "      <td>17</td>\n",
              "      <td>372</td>\n",
              "      <td>53</td>\n",
              "      <td>31.000000</td>\n",
              "      <td>121.967213</td>\n",
              "    </tr>\n",
              "    <tr>\n",
              "      <th>2016</th>\n",
              "      <td>12</td>\n",
              "      <td>284</td>\n",
              "      <td>64</td>\n",
              "      <td>40.571429</td>\n",
              "      <td>135.238095</td>\n",
              "    </tr>\n",
              "    <tr>\n",
              "      <th>2017</th>\n",
              "      <td>15</td>\n",
              "      <td>290</td>\n",
              "      <td>61</td>\n",
              "      <td>26.363636</td>\n",
              "      <td>116.000000</td>\n",
              "    </tr>\n",
              "    <tr>\n",
              "      <th>2018</th>\n",
              "      <td>15</td>\n",
              "      <td>455</td>\n",
              "      <td>79</td>\n",
              "      <td>75.833333</td>\n",
              "      <td>150.662252</td>\n",
              "    </tr>\n",
              "    <tr>\n",
              "      <th>2019</th>\n",
              "      <td>12</td>\n",
              "      <td>416</td>\n",
              "      <td>84</td>\n",
              "      <td>104.000000</td>\n",
              "      <td>134.627832</td>\n",
              "    </tr>\n",
              "    <tr>\n",
              "      <th>2020/21</th>\n",
              "      <td>12</td>\n",
              "      <td>200</td>\n",
              "      <td>47</td>\n",
              "      <td>25.000000</td>\n",
              "      <td>116.279070</td>\n",
              "    </tr>\n",
              "    <tr>\n",
              "      <th>2021</th>\n",
              "      <td>11</td>\n",
              "      <td>114</td>\n",
              "      <td>18</td>\n",
              "      <td>16.285714</td>\n",
              "      <td>106.542056</td>\n",
              "    </tr>\n",
              "    <tr>\n",
              "      <th>2022</th>\n",
              "      <td>12</td>\n",
              "      <td>232</td>\n",
              "      <td>50</td>\n",
              "      <td>33.142857</td>\n",
              "      <td>123.404255</td>\n",
              "    </tr>\n",
              "  </tbody>\n",
              "</table>\n",
              "</div>"
            ],
            "text/plain": [
              "         Innings  TotalRuns  HighestScore         Avg  StrikeRate\n",
              "Season                                                           \n",
              "2007/08       14        414            65   41.400000  133.548387\n",
              "2009          13        332            58   41.500000  127.203065\n",
              "2009/10       11        287            66   31.888889  136.666667\n",
              "2011          13        392            70   43.555556  158.704453\n",
              "2012          17        358            51   32.545455  128.776978\n",
              "2013          16        461            67   46.100000  162.897527\n",
              "2014          15        371            57   74.200000  148.400000\n",
              "2015          17        372            53   31.000000  121.967213\n",
              "2016          12        284            64   40.571429  135.238095\n",
              "2017          15        290            61   26.363636  116.000000\n",
              "2018          15        455            79   75.833333  150.662252\n",
              "2019          12        416            84  104.000000  134.627832\n",
              "2020/21       12        200            47   25.000000  116.279070\n",
              "2021          11        114            18   16.285714  106.542056\n",
              "2022          12        232            50   33.142857  123.404255"
            ]
          },
          "execution_count": 24,
          "metadata": {},
          "output_type": "execute_result"
        }
      ],
      "source": [
        "batsman_record(\n",
        "    batsman_name = 'MS Dhoni',\n",
        "    ipl = ipl\n",
        ")"
      ]
    },
    {
      "cell_type": "markdown",
      "metadata": {
        "id": "jMyy5LcUXjUA"
      },
      "source": [
        "### 🎯 **Q8: Player of the Match Performance Summary**\n",
        "\n",
        "1. 📌 **Objective:**\n",
        "    Using both datasets (match-level and ball-by-ball), create a DataFrame with the following columns:\n",
        "\n",
        "    ```bash\n",
        "    ['PlayerOfThematch', 'BattingFigure', 'BowlingFigure']\n",
        "    ```\n",
        "\n",
        "2. 🧾 **Column Definitions:**\n",
        "\n",
        "   1. **`PlayerOfThematch`**:\n",
        "      - Name of the player who received the \"Player of the Match\" award for each match.\n",
        "\n",
        "   2. **`BattingFigure`**:\n",
        "      - Format: `<runs>/<balls>`\n",
        "      - Total runs scored and balls faced by the Player of the Match in that match.\n",
        "      - **Note**: Wide balls are **not** counted in balls faced.\n",
        "\n",
        "   3. **`BowlingFigure`**:\n",
        "      - Format: `<wickets>/<runs-conceded>`\n",
        "      - Wickets taken and runs conceded by the player in that match if they bowled.\n",
        "      - If the player did **not bowl**, the field should be `NaN`.\n",
        "\n",
        "3. 🧠 **Rules & Considerations:**\n",
        "\n",
        "   - Each row should correspond to one match.\n",
        "   - Pull **batting and bowling performance** of the Player of the Match **only from that specific match**.\n",
        "   - Use ball-by-ball data to:\n",
        "     - Calculate runs and balls faced.\n",
        "     - Compute wickets and runs conceded if the player bowled.\n",
        "   - Do not include extras (like wides, leg-byes, etc.) in the **runs scored** by batsman.\n",
        "   - Use `extra_type` column to filter wide balls out from ball count.\n",
        "\n",
        "4. ✅ **Example Output Format:**\n",
        "\n",
        "    | PlayerOfThematch | BattingFigure | BowlingFigure |\n",
        "    |------------------|----------------|----------------|\n",
        "    | V Kohli          | 112/76         | NaN            |\n",
        "    | Rashid Khan      | 34/17          | 3/24           |\n"
      ]
    },
    {
      "cell_type": "code",
      "execution_count": 57,
      "metadata": {},
      "outputs": [],
      "source": [
        "def batting_figure(batsman_name, match_deliveries):\n",
        "    '''\n",
        "    It Returns the batting figure of a batsman in a particular match.\n",
        "    '''\n",
        "    match_deliveries = match_deliveries[match_deliveries['batter'] == batsman_name].copy()\n",
        "    match_deliveries['ValidBall'] = match_deliveries['extra_type'] != 'wides'\n",
        "    total_runs = match_deliveries['batsman_run'].sum()\n",
        "    balls_faced = match_deliveries['ValidBall'].sum()\n",
        "    return f\"{total_runs}/{balls_faced}\" if balls_faced > 0 else np.nan"
      ]
    },
    {
      "cell_type": "code",
      "execution_count": 58,
      "metadata": {},
      "outputs": [],
      "source": [
        "def bowling_figure(bowler_name, match_deliveries):\n",
        "    '''\n",
        "    It returns the bowling figure of a bowler in a particular match.\n",
        "    '''\n",
        "    match_deliveries = match_deliveries[match_deliveries['bowler'] == bowler_name]\n",
        "    if match_deliveries.empty:\n",
        "        return np.nan\n",
        "    total_runs = match_deliveries['total_run'].sum()\n",
        "    wickets = match_deliveries['isWicketDelivery'].sum()\n",
        "    return f\"{wickets}/{total_runs}\""
      ]
    },
    {
      "cell_type": "code",
      "execution_count": 62,
      "metadata": {
        "id": "uh36R6AZXn82"
      },
      "outputs": [],
      "source": [
        "ipl_df = ipl.copy()\n",
        "matches_df = ipl_matches.copy()\n",
        "\n",
        "match_group = ipl_df.groupby(\n",
        "    by = 'ID'\n",
        ")\n",
        "\n",
        "potm_summary = pd.DataFrame()\n",
        "\n",
        "for match_id, match_df in match_group:\n",
        "    potm = matches_df[matches_df.ID == match_id]['Player_of_Match'].values[0]\n",
        "    bat_fig = batting_figure(potm, match_df)\n",
        "    bow_fig = bowling_figure(potm, match_df)\n",
        "    potm_record = pd.DataFrame(\n",
        "        data = [\n",
        "            [\n",
        "                potm,\n",
        "                bat_fig,\n",
        "                bow_fig\n",
        "            ]\n",
        "        ],\n",
        "        columns = [\n",
        "            'PlayerOfTheMatch',\n",
        "            'BattingFigure',\n",
        "            'BowlingFigure'\n",
        "        ]\n",
        "    )\n",
        "    potm_summary = pd.concat(\n",
        "        objs = [potm_summary, potm_record],\n",
        "        ignore_index = True\n",
        "    )"
      ]
    },
    {
      "cell_type": "code",
      "execution_count": 63,
      "metadata": {},
      "outputs": [],
      "source": [
        "potm_summary.dropna(\n",
        "    subset=['BattingFigure'],\n",
        "    inplace=True\n",
        ")"
      ]
    },
    {
      "cell_type": "code",
      "execution_count": 64,
      "metadata": {},
      "outputs": [
        {
          "data": {
            "application/vnd.microsoft.datawrangler.viewer.v0+json": {
              "columns": [
                {
                  "name": "index",
                  "rawType": "int64",
                  "type": "integer"
                },
                {
                  "name": "PlayerOfTheMatch",
                  "rawType": "object",
                  "type": "string"
                },
                {
                  "name": "BattingFigure",
                  "rawType": "object",
                  "type": "string"
                },
                {
                  "name": "BowlingFigure",
                  "rawType": "object",
                  "type": "unknown"
                }
              ],
              "conversionMethod": "pd.DataFrame",
              "ref": "9008d7cc-41d7-40d3-99bb-4c0429c737a4",
              "rows": [
                [
                  "0",
                  "BB McCullum",
                  "158/73",
                  null
                ],
                [
                  "1",
                  "MEK Hussey",
                  "116/54",
                  null
                ],
                [
                  "3",
                  "MV Boucher",
                  "39/19",
                  null
                ],
                [
                  "4",
                  "DJ Hussey",
                  "38/43",
                  "1/35"
                ],
                [
                  "5",
                  "SR Watson",
                  "76/49",
                  "0/39"
                ],
                [
                  "6",
                  "V Sehwag",
                  "94/41",
                  null
                ],
                [
                  "7",
                  "ML Hayden",
                  "81/46",
                  null
                ],
                [
                  "8",
                  "YK Pathan",
                  "61/28",
                  "2/20"
                ],
                [
                  "9",
                  "KC Sangakkara",
                  "94/56",
                  null
                ],
                [
                  "10",
                  "SR Watson",
                  "61/41",
                  "3/20"
                ],
                [
                  "12",
                  "AC Gilchrist",
                  "109/47",
                  null
                ],
                [
                  "13",
                  "SM Katich",
                  "75/52",
                  null
                ],
                [
                  "14",
                  "MS Dhoni",
                  "65/30",
                  null
                ],
                [
                  "15",
                  "ST Jayasuriya",
                  "18/10",
                  "4/14"
                ],
                [
                  "17",
                  "SE Marsh",
                  "84/62",
                  null
                ],
                [
                  "18",
                  "SA Asnodkar",
                  "60/34",
                  null
                ],
                [
                  "19",
                  "V Sehwag",
                  "71/41",
                  "1/21"
                ],
                [
                  "21",
                  "IK Pathan",
                  "24/26",
                  "2/19"
                ],
                [
                  "22",
                  "SM Pollock",
                  "33/15",
                  "2/16"
                ],
                [
                  "25",
                  "AC Gilchrist",
                  "54/36",
                  null
                ],
                [
                  "27",
                  "MS Dhoni",
                  "33/33",
                  null
                ],
                [
                  "28",
                  "SC Ganguly",
                  "20/22",
                  "1/8"
                ],
                [
                  "29",
                  "YK Pathan",
                  "68/37",
                  "1/19"
                ],
                [
                  "32",
                  "SC Ganguly",
                  "91/57",
                  "2/26"
                ],
                [
                  "33",
                  "SR Watson",
                  "74/40",
                  "2/24"
                ],
                [
                  "34",
                  "SE Marsh",
                  "74/51",
                  null
                ],
                [
                  "36",
                  "ST Jayasuriya",
                  "114/48",
                  null
                ],
                [
                  "37",
                  "SE Marsh",
                  "115/69",
                  null
                ],
                [
                  "40",
                  "DPMD Jayawardene",
                  "36/17",
                  null
                ],
                [
                  "41",
                  "GC Smith",
                  "75/49",
                  null
                ],
                [
                  "42",
                  "DJ Bravo",
                  "30/17",
                  "3/24"
                ],
                [
                  "44",
                  "SP Goswami",
                  "52/42",
                  null
                ],
                [
                  "45",
                  "YK Pathan",
                  "48/18",
                  "1/14"
                ],
                [
                  "46",
                  "SE Marsh",
                  "81/56",
                  null
                ],
                [
                  "47",
                  "A Kumble",
                  "2/1",
                  "3/15"
                ],
                [
                  "48",
                  "SE Marsh",
                  "60/46",
                  null
                ],
                [
                  "49",
                  "KD Karthik",
                  "56/32",
                  null
                ],
                [
                  "50",
                  "JA Morkel",
                  "71/40",
                  "2/35"
                ],
                [
                  "51",
                  "P Kumar",
                  "8/4",
                  "3/24"
                ],
                [
                  "52",
                  "Umar Gul",
                  "24/11",
                  "4/24"
                ],
                [
                  "54",
                  "SK Raina",
                  "54/43",
                  null
                ],
                [
                  "55",
                  "SR Watson",
                  "52/29",
                  "3/10"
                ],
                [
                  "57",
                  "YK Pathan",
                  "56/39",
                  "3/22"
                ],
                [
                  "58",
                  "SR Tendulkar",
                  "59/49",
                  null
                ],
                [
                  "59",
                  "R Dravid",
                  "66/48",
                  null
                ],
                [
                  "63",
                  "CH Gayle",
                  "44/26",
                  "0/14"
                ],
                [
                  "64",
                  "AC Gilchrist",
                  "71/45",
                  null
                ],
                [
                  "65",
                  "AB de Villiers",
                  "105/54",
                  null
                ],
                [
                  "66",
                  "YK Pathan",
                  "60/25",
                  "0/29"
                ],
                [
                  "67",
                  "RS Bopara",
                  "84/59",
                  "0/4"
                ]
              ],
              "shape": {
                "columns": 3,
                "rows": 726
              }
            },
            "text/html": [
              "<div>\n",
              "<style scoped>\n",
              "    .dataframe tbody tr th:only-of-type {\n",
              "        vertical-align: middle;\n",
              "    }\n",
              "\n",
              "    .dataframe tbody tr th {\n",
              "        vertical-align: top;\n",
              "    }\n",
              "\n",
              "    .dataframe thead th {\n",
              "        text-align: right;\n",
              "    }\n",
              "</style>\n",
              "<table border=\"1\" class=\"dataframe\">\n",
              "  <thead>\n",
              "    <tr style=\"text-align: right;\">\n",
              "      <th></th>\n",
              "      <th>PlayerOfTheMatch</th>\n",
              "      <th>BattingFigure</th>\n",
              "      <th>BowlingFigure</th>\n",
              "    </tr>\n",
              "  </thead>\n",
              "  <tbody>\n",
              "    <tr>\n",
              "      <th>0</th>\n",
              "      <td>BB McCullum</td>\n",
              "      <td>158/73</td>\n",
              "      <td>NaN</td>\n",
              "    </tr>\n",
              "    <tr>\n",
              "      <th>1</th>\n",
              "      <td>MEK Hussey</td>\n",
              "      <td>116/54</td>\n",
              "      <td>NaN</td>\n",
              "    </tr>\n",
              "    <tr>\n",
              "      <th>3</th>\n",
              "      <td>MV Boucher</td>\n",
              "      <td>39/19</td>\n",
              "      <td>NaN</td>\n",
              "    </tr>\n",
              "    <tr>\n",
              "      <th>4</th>\n",
              "      <td>DJ Hussey</td>\n",
              "      <td>38/43</td>\n",
              "      <td>1/35</td>\n",
              "    </tr>\n",
              "    <tr>\n",
              "      <th>5</th>\n",
              "      <td>SR Watson</td>\n",
              "      <td>76/49</td>\n",
              "      <td>0/39</td>\n",
              "    </tr>\n",
              "    <tr>\n",
              "      <th>...</th>\n",
              "      <td>...</td>\n",
              "      <td>...</td>\n",
              "      <td>...</td>\n",
              "    </tr>\n",
              "    <tr>\n",
              "      <th>943</th>\n",
              "      <td>R Ashwin</td>\n",
              "      <td>40/23</td>\n",
              "      <td>1/28</td>\n",
              "    </tr>\n",
              "    <tr>\n",
              "      <th>946</th>\n",
              "      <td>DA Miller</td>\n",
              "      <td>68/38</td>\n",
              "      <td>NaN</td>\n",
              "    </tr>\n",
              "    <tr>\n",
              "      <th>947</th>\n",
              "      <td>RM Patidar</td>\n",
              "      <td>112/54</td>\n",
              "      <td>NaN</td>\n",
              "    </tr>\n",
              "    <tr>\n",
              "      <th>948</th>\n",
              "      <td>JC Buttler</td>\n",
              "      <td>106/60</td>\n",
              "      <td>NaN</td>\n",
              "    </tr>\n",
              "    <tr>\n",
              "      <th>949</th>\n",
              "      <td>HH Pandya</td>\n",
              "      <td>34/30</td>\n",
              "      <td>3/18</td>\n",
              "    </tr>\n",
              "  </tbody>\n",
              "</table>\n",
              "<p>726 rows × 3 columns</p>\n",
              "</div>"
            ],
            "text/plain": [
              "    PlayerOfTheMatch BattingFigure BowlingFigure\n",
              "0        BB McCullum        158/73           NaN\n",
              "1         MEK Hussey        116/54           NaN\n",
              "3         MV Boucher         39/19           NaN\n",
              "4          DJ Hussey         38/43          1/35\n",
              "5          SR Watson         76/49          0/39\n",
              "..               ...           ...           ...\n",
              "943         R Ashwin         40/23          1/28\n",
              "946        DA Miller         68/38           NaN\n",
              "947       RM Patidar        112/54           NaN\n",
              "948       JC Buttler        106/60           NaN\n",
              "949        HH Pandya         34/30          3/18\n",
              "\n",
              "[726 rows x 3 columns]"
            ]
          },
          "execution_count": 64,
          "metadata": {},
          "output_type": "execute_result"
        }
      ],
      "source": [
        "potm_summary"
      ]
    },
    {
      "cell_type": "markdown",
      "metadata": {},
      "source": [
        "### ⚠️ **Data Warning**\n",
        "For the questions forward, we are going to use IRIS dataset, which is in the [Resources](../Resources/) folder.  \n",
        "\n",
        "\n",
        "\n",
        "- **Sepal All:** [Link to Download](https://docs.google.com/spreadsheets/d/e/2PACX-1vT58ekmHTwptX7Bs4QOy6YByA1HMvYTACeeIjrKhHE0Pg1K_3egewHMKMh02zN9D5-yHVXfvuaa3s5u/pub?gid=2028782809&single=true&output=csv)\n",
        "    - **Unnamed: 0:** Unused column. This column is created when creating this sub-dataset.\n",
        "    - **Id:** Id of the records.\n",
        "    - **SepalLengthCm:** Sepal length of flowers in cm\n",
        "    - **SepalWidthCm:** Sepal width of flowers in cm\n",
        "\n",
        "- **Petal All:** [Link to Download](https://docs.google.com/spreadsheets/d/e/2PACX-1vQinLXShrOz4ExNaW1bSQVuvbbhIzJW7G0kkkD2SvqSD6STjLrQQiftgI7BGe10sBZi0CNr2_sJpQAz/pub?gid=1580010789&single=true&output=csv)\n",
        "    - **Unnamed: 0:** Unused column. This column is created when creating this sub-dataset.\n",
        "    - **Id:** Id of the records.\n",
        "    - **PetalLengthCm:** Petal length of flowers in cm\n",
        "    - **PetalWidthCm:** Petal width of flowers in cm\n",
        "\n",
        "- **Iris Virginica:** [Link to Download](https://docs.google.com/spreadsheets/d/e/2PACX-1vSK39MwduGPHYNgw5yViezoLYCVDKMCWIHzjnt3GZNaxHPFOQLr2q6no_tyqTsOk-VfXleslfGVe9eJ/pub?gid=314231613&single=true&output=csv)\n",
        "    - **Unnamed: 0:** Unused column. This column is created when creating the sub-dataset.\n",
        "    - **Id:** Id of the records.\n",
        "    - **Species:** Name of this species.\n",
        "\n",
        "- **Iris Versicolor:** [Link to Download](https://docs.google.com/spreadsheets/d/e/2PACX-1vTcSFgLnabqIrgIc5WlwvnbbvyyJsgZjR-0E0-4TR-5aHgv_0EP6yNWglkkls3AXM2qHCR5VYzWCoTM/pub?gid=715607857&single=true&output=csv)\n",
        "    - **Unnamed: 0:** Unused column. This column is created when creating the sub-dataset.\n",
        "    - **Id:** Id of the records.\n",
        "    - **Species:** Name of this species.\n",
        "\n",
        "- **Iris Setosa:** [Link to Download](https://docs.google.com/spreadsheets/d/e/2PACX-1vSjqJpdgy2X_oDUUqQ0sSaFKqnnf8MYU4KgJSYgHaHmq0Wb1weMOsJXh-rICHmkLcaTkOwzMYLeh959/pub?gid=2003684803&single=true&output=csv)\n",
        "    - **Unnamed 0:** Unused column. This column is created when creating the sub-dataset.\n",
        "    - **Id:** Id of the records.\n",
        "    - **Species:** Name of this species."
      ]
    },
    {
      "cell_type": "markdown",
      "metadata": {},
      "source": [
        "#### **Reading Data into DataFrames**"
      ]
    },
    {
      "cell_type": "code",
      "execution_count": 30,
      "metadata": {
        "id": "nY1khG0XXp1X"
      },
      "outputs": [],
      "source": [
        "sepal_all = pd.read_csv(\n",
        "    filepath_or_buffer = '../Resources/Data/sepal_all.csv'\n",
        ")\n",
        "sepal_all.drop(\n",
        "    columns = 'Unnamed: 0',\n",
        "    inplace = True\n",
        ")"
      ]
    },
    {
      "cell_type": "code",
      "execution_count": 31,
      "metadata": {},
      "outputs": [],
      "source": [
        "petal_all = pd.read_csv(\n",
        "    filepath_or_buffer = '../Resources/Data/petal_all.csv'\n",
        ")\n",
        "petal_all.drop(\n",
        "    columns = 'Unnamed: 0',\n",
        "    inplace = True\n",
        ")"
      ]
    },
    {
      "cell_type": "code",
      "execution_count": 32,
      "metadata": {},
      "outputs": [],
      "source": [
        "virginica = pd.read_csv(\n",
        "    filepath_or_buffer = '../Resources/Data/virginica.csv'\n",
        ")\n",
        "virginica.drop(\n",
        "    columns = 'Unnamed: 0',\n",
        "    inplace = True\n",
        ")"
      ]
    },
    {
      "cell_type": "code",
      "execution_count": 33,
      "metadata": {},
      "outputs": [],
      "source": [
        "versicolor = pd.read_csv(\n",
        "    filepath_or_buffer = '../Resources/Data/versicolor.csv'\n",
        ")\n",
        "versicolor.drop(\n",
        "    columns = 'Unnamed: 0',\n",
        "    inplace = True\n",
        ")"
      ]
    },
    {
      "cell_type": "code",
      "execution_count": 34,
      "metadata": {},
      "outputs": [],
      "source": [
        "setosa = pd.read_csv(\n",
        "    filepath_or_buffer = '../Resources/Data/setosa.csv'\n",
        ")\n",
        "setosa.drop(\n",
        "    columns = 'Unnamed: 0',\n",
        "    inplace = True\n",
        ")"
      ]
    },
    {
      "cell_type": "markdown",
      "metadata": {
        "id": "R6jqy4GQX4RI"
      },
      "source": [
        "### 🎯 **Q9: Plotting Flower Feature Averages from Iris Dataset**\n",
        "\n",
        "1. 📌 **Objective:**\n",
        "    Generate a **bar chart** that compares the following two values from the Iris dataset:  \n",
        "    1. **Average Sepal Length** of the *Virginica* species.  \n",
        "    2. **Average Petal Length** of the *Setosa* species.\n",
        "\n",
        "2. 📝 **Instructions:**\n",
        "   - Use the Iris dataset.\n",
        "   - Filter the dataset to:\n",
        "     - Calculate the **mean Sepal Length** for all records where `species == \"virginica\"`.\n",
        "     - Calculate the **mean Petal Length** for all records where `species == \"setosa\"`.\n",
        "   - Plot a **bar chart** showing **both values**.\n",
        "     - Label the bars appropriately (e.g., `\"Virginica - Sepal Length\"`, `\"Setosa - Petal Length\"`).\n",
        "     - Add a meaningful **title**, and **label the axes**."
      ]
    },
    {
      "cell_type": "code",
      "execution_count": 35,
      "metadata": {
        "id": "zTx5S3yiX15D"
      },
      "outputs": [
        {
          "data": {
            "image/png": "[encoded data removed]",
            "text/plain": [
              "<Figure size 640x480 with 1 Axes>"
            ]
          },
          "metadata": {},
          "output_type": "display_data"
        }
      ],
      "source": [
        "averages = np.array(\n",
        "    object = [\n",
        "        pd.merge(\n",
        "            left = sepal_all,\n",
        "            right = virginica,\n",
        "            on = 'Id'\n",
        "        )['SepalLengthCm'].mean(),\n",
        "        pd.merge(\n",
        "            left = petal_all,\n",
        "            right = setosa,\n",
        "            on = 'Id'\n",
        "        )['PetalLengthCm'].mean()\n",
        "    ]\n",
        ")\n",
        "labels = np.array(['Average Sepal Length - Virginica', 'Average Petal Length - Setosa'])\n",
        "plt.bar(\n",
        "    x = labels,\n",
        "    height = averages\n",
        ")\n",
        "plt.title('Average Features Values of Flowers')\n",
        "plt.show()"
      ]
    },
    {
      "cell_type": "markdown",
      "metadata": {
        "id": "ecWHo_gsYAT2"
      },
      "source": [
        "### 🎯 **Q10: Constructing the Complete Iris Dataset from Individual Subsets**\n",
        "\n",
        "1. 📌 **Objective:**\n",
        "Merge multiple datasets into one **complete, shuffled Iris dataset** with standardized column structure.\n",
        "\n",
        "2. 🗂️ **Given Datasets:**\n",
        "\n",
        "    You are provided with the following individual datasets:\n",
        "\n",
        "    - `virginica`\n",
        "    - `versicolor`\n",
        "    - `setosa`\n",
        "    - `sepal_all`\n",
        "    - `petal_all`\n",
        "\n",
        "2. 🛠️ **Tasks:**\n",
        "\n",
        "   1. Combine all the given datasets to create a single, unified DataFrame.\n",
        "   2. Ensure the final dataset has the following columns in the exact order:\n",
        "      ```\n",
        "      1. Id\n",
        "      2. Species\n",
        "      3. SepalLengthCm\n",
        "      4. SepalWidthCm\n",
        "      5. PetalLengthCm\n",
        "      6. PetalWidthCm\n",
        "      ```\n",
        "   3. Shuffle the resulting DataFrame so that the `Id` values appear in a **random order**, not in increasing or decreasing sequence.\n",
        "      - Use the `DataFrame.sample()` method for shuffling.\n",
        "      - Make sure to **reset the index** after shuffling."
      ]
    },
    {
      "cell_type": "code",
      "execution_count": 49,
      "metadata": {
        "id": "PsWBn7g3YDRZ"
      },
      "outputs": [
        {
          "data": {
            "application/vnd.microsoft.datawrangler.viewer.v0+json": {
              "columns": [
                {
                  "name": "index",
                  "rawType": "int64",
                  "type": "integer"
                },
                {
                  "name": "Id",
                  "rawType": "int64",
                  "type": "integer"
                },
                {
                  "name": "SepalLengthCm",
                  "rawType": "float64",
                  "type": "float"
                },
                {
                  "name": "SepalWidthCm",
                  "rawType": "float64",
                  "type": "float"
                },
                {
                  "name": "PetalLengthCm",
                  "rawType": "float64",
                  "type": "float"
                },
                {
                  "name": "PetalWidthCm",
                  "rawType": "float64",
                  "type": "float"
                },
                {
                  "name": "Species",
                  "rawType": "object",
                  "type": "string"
                }
              ],
              "conversionMethod": "pd.DataFrame",
              "ref": "b2ed85b9-3211-418b-ad2b-69fa2b4157d0",
              "rows": [
                [
                  "0",
                  "74",
                  "6.1",
                  "2.8",
                  "4.7",
                  "1.2",
                  "Iris-versicolor"
                ],
                [
                  "1",
                  "19",
                  "5.7",
                  "3.8",
                  "1.7",
                  "0.3",
                  "Iris-setosa"
                ],
                [
                  "2",
                  "119",
                  "7.7",
                  "2.6",
                  "6.9",
                  "2.3",
                  "Iris-virginica"
                ],
                [
                  "3",
                  "79",
                  "6.0",
                  "2.9",
                  "4.5",
                  "1.5",
                  "Iris-versicolor"
                ],
                [
                  "4",
                  "77",
                  "6.8",
                  "2.8",
                  "4.8",
                  "1.4",
                  "Iris-versicolor"
                ],
                [
                  "5",
                  "32",
                  "5.4",
                  "3.4",
                  "1.5",
                  "0.4",
                  "Iris-setosa"
                ],
                [
                  "6",
                  "65",
                  "5.6",
                  "2.9",
                  "3.6",
                  "1.3",
                  "Iris-versicolor"
                ],
                [
                  "7",
                  "142",
                  "6.9",
                  "3.1",
                  "5.1",
                  "2.3",
                  "Iris-virginica"
                ],
                [
                  "8",
                  "69",
                  "6.2",
                  "2.2",
                  "4.5",
                  "1.5",
                  "Iris-versicolor"
                ],
                [
                  "9",
                  "83",
                  "5.8",
                  "2.7",
                  "3.9",
                  "1.2",
                  "Iris-versicolor"
                ],
                [
                  "10",
                  "111",
                  "6.5",
                  "3.2",
                  "5.1",
                  "2.0",
                  "Iris-virginica"
                ],
                [
                  "11",
                  "13",
                  "4.8",
                  "3.0",
                  "1.4",
                  "0.1",
                  "Iris-setosa"
                ],
                [
                  "12",
                  "37",
                  "5.5",
                  "3.5",
                  "1.3",
                  "0.2",
                  "Iris-setosa"
                ],
                [
                  "13",
                  "10",
                  "4.9",
                  "3.1",
                  "1.5",
                  "0.1",
                  "Iris-setosa"
                ],
                [
                  "14",
                  "20",
                  "5.1",
                  "3.8",
                  "1.5",
                  "0.3",
                  "Iris-setosa"
                ],
                [
                  "15",
                  "57",
                  "6.3",
                  "3.3",
                  "4.7",
                  "1.6",
                  "Iris-versicolor"
                ],
                [
                  "16",
                  "105",
                  "6.5",
                  "3.0",
                  "5.8",
                  "2.2",
                  "Iris-virginica"
                ],
                [
                  "17",
                  "70",
                  "5.6",
                  "2.5",
                  "3.9",
                  "1.1",
                  "Iris-versicolor"
                ],
                [
                  "18",
                  "56",
                  "5.7",
                  "2.8",
                  "4.5",
                  "1.3",
                  "Iris-versicolor"
                ],
                [
                  "19",
                  "133",
                  "6.4",
                  "2.8",
                  "5.6",
                  "2.2",
                  "Iris-virginica"
                ],
                [
                  "20",
                  "30",
                  "4.7",
                  "3.2",
                  "1.6",
                  "0.2",
                  "Iris-setosa"
                ],
                [
                  "21",
                  "128",
                  "6.1",
                  "3.0",
                  "4.9",
                  "1.8",
                  "Iris-virginica"
                ],
                [
                  "22",
                  "27",
                  "5.0",
                  "3.4",
                  "1.6",
                  "0.4",
                  "Iris-setosa"
                ],
                [
                  "23",
                  "129",
                  "6.4",
                  "2.8",
                  "5.6",
                  "2.1",
                  "Iris-virginica"
                ],
                [
                  "24",
                  "132",
                  "7.9",
                  "3.8",
                  "6.4",
                  "2.0",
                  "Iris-virginica"
                ],
                [
                  "25",
                  "146",
                  "6.7",
                  "3.0",
                  "5.2",
                  "2.3",
                  "Iris-virginica"
                ],
                [
                  "26",
                  "109",
                  "6.7",
                  "2.5",
                  "5.8",
                  "1.8",
                  "Iris-virginica"
                ],
                [
                  "27",
                  "144",
                  "6.8",
                  "3.2",
                  "5.9",
                  "2.3",
                  "Iris-virginica"
                ],
                [
                  "28",
                  "46",
                  "4.8",
                  "3.0",
                  "1.4",
                  "0.3",
                  "Iris-setosa"
                ],
                [
                  "29",
                  "31",
                  "4.8",
                  "3.1",
                  "1.6",
                  "0.2",
                  "Iris-setosa"
                ],
                [
                  "30",
                  "23",
                  "4.6",
                  "3.6",
                  "1.0",
                  "0.2",
                  "Iris-setosa"
                ],
                [
                  "31",
                  "16",
                  "5.7",
                  "4.4",
                  "1.5",
                  "0.4",
                  "Iris-setosa"
                ],
                [
                  "32",
                  "66",
                  "6.7",
                  "3.1",
                  "4.4",
                  "1.4",
                  "Iris-versicolor"
                ],
                [
                  "33",
                  "12",
                  "4.8",
                  "3.4",
                  "1.6",
                  "0.2",
                  "Iris-setosa"
                ],
                [
                  "34",
                  "43",
                  "4.4",
                  "3.2",
                  "1.3",
                  "0.2",
                  "Iris-setosa"
                ],
                [
                  "35",
                  "147",
                  "6.3",
                  "2.5",
                  "5.0",
                  "1.9",
                  "Iris-virginica"
                ],
                [
                  "36",
                  "52",
                  "6.4",
                  "3.2",
                  "4.5",
                  "1.5",
                  "Iris-versicolor"
                ],
                [
                  "37",
                  "28",
                  "5.2",
                  "3.5",
                  "1.5",
                  "0.2",
                  "Iris-setosa"
                ],
                [
                  "38",
                  "5",
                  "5.0",
                  "3.6",
                  "1.4",
                  "0.2",
                  "Iris-setosa"
                ],
                [
                  "39",
                  "33",
                  "5.2",
                  "4.1",
                  "1.5",
                  "0.1",
                  "Iris-setosa"
                ],
                [
                  "40",
                  "143",
                  "5.8",
                  "2.7",
                  "5.1",
                  "1.9",
                  "Iris-virginica"
                ],
                [
                  "41",
                  "86",
                  "6.0",
                  "3.4",
                  "4.5",
                  "1.6",
                  "Iris-versicolor"
                ],
                [
                  "42",
                  "87",
                  "6.7",
                  "3.1",
                  "4.7",
                  "1.5",
                  "Iris-versicolor"
                ],
                [
                  "43",
                  "17",
                  "5.4",
                  "3.9",
                  "1.3",
                  "0.4",
                  "Iris-setosa"
                ],
                [
                  "44",
                  "11",
                  "5.4",
                  "3.7",
                  "1.5",
                  "0.2",
                  "Iris-setosa"
                ],
                [
                  "45",
                  "82",
                  "5.5",
                  "2.4",
                  "3.7",
                  "1.0",
                  "Iris-versicolor"
                ],
                [
                  "46",
                  "134",
                  "6.3",
                  "2.8",
                  "5.1",
                  "1.5",
                  "Iris-virginica"
                ],
                [
                  "47",
                  "138",
                  "6.4",
                  "3.1",
                  "5.5",
                  "1.8",
                  "Iris-virginica"
                ],
                [
                  "48",
                  "76",
                  "6.6",
                  "3.0",
                  "4.4",
                  "1.4",
                  "Iris-versicolor"
                ],
                [
                  "49",
                  "110",
                  "7.2",
                  "3.6",
                  "6.1",
                  "2.5",
                  "Iris-virginica"
                ]
              ],
              "shape": {
                "columns": 6,
                "rows": 150
              }
            },
            "text/html": [
              "<div>\n",
              "<style scoped>\n",
              "    .dataframe tbody tr th:only-of-type {\n",
              "        vertical-align: middle;\n",
              "    }\n",
              "\n",
              "    .dataframe tbody tr th {\n",
              "        vertical-align: top;\n",
              "    }\n",
              "\n",
              "    .dataframe thead th {\n",
              "        text-align: right;\n",
              "    }\n",
              "</style>\n",
              "<table border=\"1\" class=\"dataframe\">\n",
              "  <thead>\n",
              "    <tr style=\"text-align: right;\">\n",
              "      <th></th>\n",
              "      <th>Id</th>\n",
              "      <th>SepalLengthCm</th>\n",
              "      <th>SepalWidthCm</th>\n",
              "      <th>PetalLengthCm</th>\n",
              "      <th>PetalWidthCm</th>\n",
              "      <th>Species</th>\n",
              "    </tr>\n",
              "  </thead>\n",
              "  <tbody>\n",
              "    <tr>\n",
              "      <th>0</th>\n",
              "      <td>74</td>\n",
              "      <td>6.1</td>\n",
              "      <td>2.8</td>\n",
              "      <td>4.7</td>\n",
              "      <td>1.2</td>\n",
              "      <td>Iris-versicolor</td>\n",
              "    </tr>\n",
              "    <tr>\n",
              "      <th>1</th>\n",
              "      <td>19</td>\n",
              "      <td>5.7</td>\n",
              "      <td>3.8</td>\n",
              "      <td>1.7</td>\n",
              "      <td>0.3</td>\n",
              "      <td>Iris-setosa</td>\n",
              "    </tr>\n",
              "    <tr>\n",
              "      <th>2</th>\n",
              "      <td>119</td>\n",
              "      <td>7.7</td>\n",
              "      <td>2.6</td>\n",
              "      <td>6.9</td>\n",
              "      <td>2.3</td>\n",
              "      <td>Iris-virginica</td>\n",
              "    </tr>\n",
              "    <tr>\n",
              "      <th>3</th>\n",
              "      <td>79</td>\n",
              "      <td>6.0</td>\n",
              "      <td>2.9</td>\n",
              "      <td>4.5</td>\n",
              "      <td>1.5</td>\n",
              "      <td>Iris-versicolor</td>\n",
              "    </tr>\n",
              "    <tr>\n",
              "      <th>4</th>\n",
              "      <td>77</td>\n",
              "      <td>6.8</td>\n",
              "      <td>2.8</td>\n",
              "      <td>4.8</td>\n",
              "      <td>1.4</td>\n",
              "      <td>Iris-versicolor</td>\n",
              "    </tr>\n",
              "    <tr>\n",
              "      <th>...</th>\n",
              "      <td>...</td>\n",
              "      <td>...</td>\n",
              "      <td>...</td>\n",
              "      <td>...</td>\n",
              "      <td>...</td>\n",
              "      <td>...</td>\n",
              "    </tr>\n",
              "    <tr>\n",
              "      <th>145</th>\n",
              "      <td>72</td>\n",
              "      <td>6.1</td>\n",
              "      <td>2.8</td>\n",
              "      <td>4.0</td>\n",
              "      <td>1.3</td>\n",
              "      <td>Iris-versicolor</td>\n",
              "    </tr>\n",
              "    <tr>\n",
              "      <th>146</th>\n",
              "      <td>107</td>\n",
              "      <td>4.9</td>\n",
              "      <td>2.5</td>\n",
              "      <td>4.5</td>\n",
              "      <td>1.7</td>\n",
              "      <td>Iris-virginica</td>\n",
              "    </tr>\n",
              "    <tr>\n",
              "      <th>147</th>\n",
              "      <td>15</td>\n",
              "      <td>5.8</td>\n",
              "      <td>4.0</td>\n",
              "      <td>1.2</td>\n",
              "      <td>0.2</td>\n",
              "      <td>Iris-setosa</td>\n",
              "    </tr>\n",
              "    <tr>\n",
              "      <th>148</th>\n",
              "      <td>93</td>\n",
              "      <td>5.8</td>\n",
              "      <td>2.6</td>\n",
              "      <td>4.0</td>\n",
              "      <td>1.2</td>\n",
              "      <td>Iris-versicolor</td>\n",
              "    </tr>\n",
              "    <tr>\n",
              "      <th>149</th>\n",
              "      <td>103</td>\n",
              "      <td>7.1</td>\n",
              "      <td>3.0</td>\n",
              "      <td>5.9</td>\n",
              "      <td>2.1</td>\n",
              "      <td>Iris-virginica</td>\n",
              "    </tr>\n",
              "  </tbody>\n",
              "</table>\n",
              "<p>150 rows × 6 columns</p>\n",
              "</div>"
            ],
            "text/plain": [
              "      Id  SepalLengthCm  SepalWidthCm  PetalLengthCm  PetalWidthCm  \\\n",
              "0     74            6.1           2.8            4.7           1.2   \n",
              "1     19            5.7           3.8            1.7           0.3   \n",
              "2    119            7.7           2.6            6.9           2.3   \n",
              "3     79            6.0           2.9            4.5           1.5   \n",
              "4     77            6.8           2.8            4.8           1.4   \n",
              "..   ...            ...           ...            ...           ...   \n",
              "145   72            6.1           2.8            4.0           1.3   \n",
              "146  107            4.9           2.5            4.5           1.7   \n",
              "147   15            5.8           4.0            1.2           0.2   \n",
              "148   93            5.8           2.6            4.0           1.2   \n",
              "149  103            7.1           3.0            5.9           2.1   \n",
              "\n",
              "             Species  \n",
              "0    Iris-versicolor  \n",
              "1        Iris-setosa  \n",
              "2     Iris-virginica  \n",
              "3    Iris-versicolor  \n",
              "4    Iris-versicolor  \n",
              "..               ...  \n",
              "145  Iris-versicolor  \n",
              "146   Iris-virginica  \n",
              "147      Iris-setosa  \n",
              "148  Iris-versicolor  \n",
              "149   Iris-virginica  \n",
              "\n",
              "[150 rows x 6 columns]"
            ]
          },
          "execution_count": 49,
          "metadata": {},
          "output_type": "execute_result"
        }
      ],
      "source": [
        "species = pd.concat(\n",
        "    objs = [\n",
        "        virginica,\n",
        "        versicolor,\n",
        "        setosa\n",
        "    ]\n",
        ")\n",
        "iris_df = pd.merge(\n",
        "    left = sepal_all,\n",
        "    right = petal_all,\n",
        "    on = 'Id',\n",
        "    how = 'inner'\n",
        ").merge(\n",
        "    right = species,\n",
        "    on = 'Id',\n",
        "    how = 'inner'\n",
        ").sample(\n",
        "    n = 150,\n",
        "    replace = False,\n",
        "    random_state = 42\n",
        ").reset_index().drop(columns = 'index')\n",
        "\n",
        "iris_df"
      ]
    },
    {
      "cell_type": "markdown",
      "metadata": {
        "id": "FLlBdChyYHtw"
      },
      "source": [
        "### 🎯 **Q11: Analyze Sepal and Petal Width Ranges for Setosa and Versicolor**\n",
        "\n",
        "1. 📌 **Objective:**\n",
        "    Identify the **minimum and maximum values** of *Sepal Width* and *Petal Width* for the **Setosa** and **Versicolor** species using grouping and aggregation.\n",
        "\n",
        "2. 🛠️ **Instructions:**\n",
        "\n",
        "   1. **Merge the Required Datasets:**\n",
        "      - Combine datasets related to Setosa and Versicolor into a single DataFrame.\n",
        "\n",
        "   2. **Group the Data:**\n",
        "      - Use the `groupby()` function to create groups based on the `\"Species\"` column.\n",
        "\n",
        "   3. **Extract Key Statistics:**\n",
        "      - For each group (Setosa and Versicolor), compute:\n",
        "        - **Minimum Sepal Width**\n",
        "        - **Maximum Sepal Width**\n",
        "        - **Minimum Petal Width**\n",
        "        - **Maximum Petal Width**\n",
        "\n",
        "3. ✅ **Expected Output Format:**\n",
        "\n",
        "    ```bash\n",
        "    Minimum Sepal width of Setosa is 2.3\n",
        "    Maximum Sepal width of Setosa is 4.4\n",
        "\n",
        "    Minimum Petal width of Setosa is 0.1\n",
        "    Maximum Petal width of Setosa is 0.6\n",
        "\n",
        "    Minimum Sepal width of Versicolor is 2.0\n",
        "    Maximum Sepal width of Versicolor is 3.4\n",
        "\n",
        "    Minimum Petal width of Versicolor is 1.0\n",
        "    Maximum Petal width of Versicolor is 1.8\n",
        "    ```"
      ]
    },
    {
      "cell_type": "code",
      "execution_count": 51,
      "metadata": {
        "id": "T7toJgSkYIIF"
      },
      "outputs": [
        {
          "name": "stdout",
          "output_type": "stream",
          "text": [
            "Minimum Sepal Width of Iris-setosa is 2.3\n",
            "Maximum Sepal Width of Iris-setosa is 4.4\n",
            "Minimum Petal Width of Iris-setosa is 0.1\n",
            "Maximum Petal Width of Iris-setosa is 0.6\n",
            "Minimum Sepal Width of Iris-versicolor is 2.0\n",
            "Maximum Sepal Width of Iris-versicolor is 3.4\n",
            "Minimum Petal Width of Iris-versicolor is 1.0\n",
            "Maximum Petal Width of Iris-versicolor is 1.8\n"
          ]
        }
      ],
      "source": [
        "species = pd.concat(\n",
        "    objs = [\n",
        "        setosa,\n",
        "        versicolor\n",
        "    ]\n",
        ")\n",
        "\n",
        "temp_df = pd.merge(\n",
        "    left = sepal_all,\n",
        "    right = petal_all,\n",
        "    on = 'Id',\n",
        "    how = 'inner'\n",
        ").merge(\n",
        "    right = species,\n",
        "    on = 'Id',\n",
        "    how = 'right'\n",
        ")\n",
        "\n",
        "temp_df_group = temp_df.groupby(\n",
        "    by = 'Species'\n",
        ")\n",
        "\n",
        "for species, species_df in temp_df_group:\n",
        "    print(\n",
        "        'Minimum Sepal Width of {} is {}'.format(\n",
        "            species, species_df.SepalWidthCm.min()\n",
        "        )\n",
        "    )\n",
        "    print(\n",
        "        'Maximum Sepal Width of {} is {}'.format(\n",
        "            species, species_df.SepalWidthCm.max()\n",
        "        )\n",
        "    )\n",
        "    print(\n",
        "        'Minimum Petal Width of {} is {}'.format(\n",
        "            species, species_df.PetalWidthCm.min()\n",
        "        )\n",
        "    )\n",
        "    print(\n",
        "        'Maximum Petal Width of {} is {}'.format(\n",
        "            species, species_df.PetalWidthCm.max()\n",
        "        )\n",
        "    )"
      ]
    }
  ],
  "metadata": {
    "colab": {
      "provenance": []
    },
    "kernelspec": {
      "display_name": "Python 3",
      "name": "python3"
    },
    "language_info": {
      "codemirror_mode": {
        "name": "ipython",
        "version": 3
      },
      "file_extension": ".py",
      "mimetype": "text/x-python",
      "name": "python",
      "nbconvert_exporter": "python",
      "pygments_lexer": "ipython3",
      "version": "3.12.5"
    }
  },
  "nbformat": 4,
  "nbformat_minor": 0
}
