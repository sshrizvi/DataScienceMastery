{
  "cells": [
    {
      "cell_type": "markdown",
      "metadata": {
        "id": "zxrbXftDYalU"
      },
      "source": [
        "# **Task 16 - (Article 101 to 109)** [![Static Badge](https://img.shields.io/badge/Open%20in%20Colab%20-%20orange?style=plastic&logo=googlecolab&labelColor=grey)](https://colab.research.google.com/github/sshrizvi/DS-Python/blob/main/Pandas/Tasks/task_16.ipynb)\n",
        "\n",
        "|🔴 **WARNING** 🔴|\n",
        "|:-----------:|\n",
        "|If you have not studied article 101 to 109. Do checkout the articles before attempting the task.|\n",
        "| Here is [Introduction to Pandas](../Articles/101_pandas_introduction.md) |"
      ]
    },
    {
      "cell_type": "markdown",
      "metadata": {},
      "source": [
        "### 📦 **Importing Relevant Libraries**"
      ]
    },
    {
      "cell_type": "code",
      "execution_count": 1,
      "metadata": {},
      "outputs": [],
      "source": [
        "import numpy as np\n",
        "import pandas as pd"
      ]
    },
    {
      "cell_type": "markdown",
      "metadata": {
        "id": "MetYTZJpYfdz"
      },
      "source": [
        "### 🎯 **Q1: Create an Empty Pandas Series**\n",
        "\n",
        "1. **Problem Statement**:  \n",
        "   - You need to write a program to create an **empty Pandas Series**.\n",
        "\n",
        "2. **Expected Output**:  \n",
        "   - The output should display an **empty** series with appropriate metadata.\n",
        "\n",
        "3. **Requirements**:  \n",
        "   - Use **Pandas** to create the series.  \n",
        "   - Ensure that the series has no elements initially.  \n",
        "   - Print the created series to verify the output.\n",
        "\n",
        "4. **Example Output**:  \n",
        "   ```\n",
        "   Series([], dtype: <data_type>)\n",
        "   ```\n",
        "\n",
        "5. **Additional Notes**:  \n",
        "   - The output should specify the data type (`dtype`) of the series.  \n",
        "   - If a **default dtype warning** appears, handle it accordingly."
      ]
    },
    {
      "cell_type": "code",
      "execution_count": 2,
      "metadata": {
        "id": "KUcgT935YgC5"
      },
      "outputs": [
        {
          "data": {
            "text/plain": [
              "Series([], dtype: object)"
            ]
          },
          "execution_count": 2,
          "metadata": {},
          "output_type": "execute_result"
        }
      ],
      "source": [
        "# Solution - Question 01\n",
        "\n",
        "empty_series = pd.Series([])\n",
        "\n",
        "empty_series"
      ]
    },
    {
      "cell_type": "markdown",
      "metadata": {
        "id": "jw5ybzU6YhOo"
      },
      "source": [
        "### 🎯 **Q2: Perform Arithmetic Operations on Two Pandas Series**  \n",
        "\n",
        "1. **Problem Statement**:  \n",
        "   - Write a **Pandas program** to perform the following arithmetic operations between two Pandas Series:  \n",
        "     - **Addition** (`+`)  \n",
        "     - **Subtraction** (`-`)  \n",
        "     - **Multiplication** (`*`)  \n",
        "     - **Division** (`/`)  \n",
        "\n",
        "2. **Inputs**:  \n",
        "   - Two Pandas Series with numeric values.  \n",
        "\n",
        "3. **Task**:  \n",
        "   - Perform element-wise **addition**, **subtraction**, **multiplication**, and **division** on the given series.  \n",
        "   - Print the results for each operation separately.  \n",
        "\n",
        "4. **Expected Output Format**:  \n",
        "   - Display the result of each operation as a separate Pandas Series.  \n",
        "\n",
        "5. **Example Input & Output**:  \n",
        "   ```\n",
        "   Series 1:  \n",
        "   0    10  \n",
        "   1    20  \n",
        "   2    30  \n",
        "   3    40  \n",
        "\n",
        "   Series 2:  \n",
        "   0    5  \n",
        "   1    2  \n",
        "   2    3  \n",
        "   3    4  \n",
        "\n",
        "   Addition:  \n",
        "   0    15  \n",
        "   1    22  \n",
        "   2    33  \n",
        "   3    44  \n",
        "\n",
        "   Subtraction:  \n",
        "   0    5  \n",
        "   1    18  \n",
        "   2    27  \n",
        "   3    36  \n",
        "\n",
        "   Multiplication:  \n",
        "   0    50  \n",
        "   1    40  \n",
        "   2    90  \n",
        "   3    160  \n",
        "\n",
        "   Division:  \n",
        "   0    2.0  \n",
        "   1    10.0  \n",
        "   2    10.0  \n",
        "   3    10.0  \n",
        "   ```\n",
        "\n",
        "6. **Additional Notes**:  \n",
        "   - Handle cases where division by **zero** occurs.  \n",
        "   - Ensure both series are of **equal length** before performing operations.  \n",
        "   - Use Pandas' built-in operators for element-wise computation."
      ]
    },
    {
      "cell_type": "code",
      "execution_count": 4,
      "metadata": {
        "id": "EF3GgVFjYjwG"
      },
      "outputs": [
        {
          "name": "stdout",
          "output_type": "stream",
          "text": [
            "--------------Addition of s1 and s2---------------\n",
            "0    15\n",
            "1    22\n",
            "2    33\n",
            "3    44\n",
            "dtype: int64\n",
            "-------------Subtraction of s1 and s2-------------\n",
            "0     5\n",
            "1    18\n",
            "2    27\n",
            "3    36\n",
            "dtype: int64\n",
            "-----------Multiplication of s1 and s2------------\n",
            "0     50\n",
            "1     40\n",
            "2     90\n",
            "3    160\n",
            "dtype: int64\n",
            "--------------Division of s1 and s2---------------\n",
            "0     2.0\n",
            "1    10.0\n",
            "2    10.0\n",
            "3    10.0\n",
            "dtype: float64\n"
          ]
        }
      ],
      "source": [
        "# Solution - Question 02\n",
        "\n",
        "s1 = pd.Series([10, 20, 30, 40])\n",
        "s2 = pd.Series([5, 2, 3, 4])\n",
        "\n",
        "print('Addition of s1 and s2'.center(50, '-'))\n",
        "print(s1 + s2)\n",
        "print('Subtraction of s1 and s2'.center(50, '-'))\n",
        "print(s1 - s2)\n",
        "print('Multiplication of s1 and s2'.center(50, '-'))\n",
        "print(s1 * s2)\n",
        "print('Division of s1 and s2'.center(50, '-'))\n",
        "print(s1 / s2)"
      ]
    },
    {
      "cell_type": "markdown",
      "metadata": {
        "id": "TZDp25jeYlB6"
      },
      "source": [
        "### 🎯 **Q3: Compare Elements of Two Pandas Series**  \n",
        "\n",
        "1. **Problem Statement**:  \n",
        "   - Write a **Pandas program** to compare the elements of two given Pandas Series.  \n",
        "\n",
        "2. **Inputs**:  \n",
        "   - Two Pandas Series with numeric values.  \n",
        "\n",
        "3. **Task**:  \n",
        "   - Perform **element-wise comparisons** between the two series and determine:  \n",
        "     - Which elements are **equal** (`==`).  \n",
        "     - Which elements are **greater** (`>`).  \n",
        "     - Which elements are **less** (`<`).  \n",
        "   - Print the results for each comparison separately.  \n",
        "\n",
        "4. **Given Sample Series**:  \n",
        "   ```\n",
        "   Series 1: [2, 4, 6, 8, 10]  \n",
        "   Series 2: [1, 3, 5, 7, 10]  \n",
        "   ```\n",
        "\n",
        "5. **Expected Output Format**:  \n",
        "   ```\n",
        "   Equal Elements:  \n",
        "   0    False  \n",
        "   1    False  \n",
        "   2    False  \n",
        "   3    False  \n",
        "   4    True  \n",
        "\n",
        "   Greater Elements:  \n",
        "   0    True  \n",
        "   1    True  \n",
        "   2    True  \n",
        "   3    True  \n",
        "   4    False  \n",
        "\n",
        "   Less Elements:  \n",
        "   0    False  \n",
        "   1    False  \n",
        "   2    False  \n",
        "   3    False  \n",
        "   4    False  \n",
        "   ```\n",
        "\n",
        "6. **Additional Notes**:  \n",
        "   - Ensure both Series have the **same length** before comparing.  \n",
        "   - Use Pandas' built-in comparison operators for element-wise operations.  \n",
        "   - The output should be a Pandas Series containing Boolean values (`True` or `False`)."
      ]
    },
    {
      "cell_type": "code",
      "execution_count": 6,
      "metadata": {
        "id": "gFNil8ruYp1y"
      },
      "outputs": [
        {
          "name": "stdout",
          "output_type": "stream",
          "text": [
            "----------------- Equal Elements -----------------\n",
            "0    False\n",
            "1    False\n",
            "2    False\n",
            "3    False\n",
            "4     True\n",
            "dtype: bool\n",
            "---------------- Lesser Elements -----------------\n",
            "0    False\n",
            "1    False\n",
            "2    False\n",
            "3    False\n",
            "4    False\n",
            "dtype: bool\n",
            "---------------- Greater Elements ----------------\n",
            "0     True\n",
            "1     True\n",
            "2     True\n",
            "3     True\n",
            "4    False\n",
            "dtype: bool\n"
          ]
        }
      ],
      "source": [
        "# Solution - Question 03\n",
        "\n",
        "s1 = pd.Series([2, 4, 6, 8, 10])\n",
        "s2 = pd.Series([1, 3, 5, 7, 10])\n",
        "\n",
        "print(' Equal Elements '.center(50, '-'))\n",
        "print(s1 == s2)\n",
        "print(' Lesser Elements '.center(50, '-'))\n",
        "print(s1 < s2)\n",
        "print(' Greater Elements '.center(50, '-'))\n",
        "print(s1 > s2)"
      ]
    },
    {
      "cell_type": "markdown",
      "metadata": {
        "id": "HlOBn_N6YrZz"
      },
      "source": [
        "### 🎯 **Q4: Change Data Type of a Pandas Series**  \n",
        "\n",
        "1. **Problem Statement**:  \n",
        "   - Write a **Python function** to change the **data type** of a given **Pandas Series**.  \n",
        "\n",
        "2. **Function Requirements**:  \n",
        "   - The function should **accept**:  \n",
        "     - A **Pandas Series**.  \n",
        "     - A **data type** to convert the Series into.  \n",
        "   - The function should **return** the converted Series.  \n",
        "\n",
        "3. **Input Example**:  \n",
        "   ```\n",
        "   series = pd.Series([1, 2, 'Python', 2.0, True, 100])\n",
        "   Target Data Type: float\n",
        "   ```\n",
        "\n",
        "4. **Expected Output Format**:  \n",
        "   ```\n",
        "   Converted Series (float type):\n",
        "   0      1.0  \n",
        "   1      2.0  \n",
        "   2      NaN  \n",
        "   3      2.0  \n",
        "   4      1.0  \n",
        "   5    100.0  \n",
        "   dtype: float64\n",
        "   ```\n",
        "\n",
        "5. **Additional Notes**:  \n",
        "   - **Non-convertible values** should be handled properly (e.g., `\"Python\"` should become `NaN`).  \n",
        "   - Use **Pandas' built-in functions** for type conversion.  \n",
        "   - Read about **`pd.to_numeric()`** and how it handles errors.  \n",
        "   - Ensure the function works for different data types (`int`, `float`, `bool`, etc.)."
      ]
    },
    {
      "cell_type": "code",
      "execution_count": 7,
      "metadata": {
        "id": "_SWQJCUJYwXm"
      },
      "outputs": [
        {
          "data": {
            "text/plain": [
              "0      1.0\n",
              "1      2.0\n",
              "2      NaN\n",
              "3      2.0\n",
              "4      1.0\n",
              "5    100.0\n",
              "dtype: float32"
            ]
          },
          "execution_count": 7,
          "metadata": {},
          "output_type": "execute_result"
        }
      ],
      "source": [
        "# Solution - Question 04\n",
        "\n",
        "def convert_datatype(series, dtype):\n",
        "    return pd.to_numeric(series, errors='coerce', downcast=dtype)\n",
        "\n",
        "series = pd.Series([1, 2, 'Python', 2.0, True, 100])\n",
        "target_dtype = 'float'\n",
        "convert_datatype(series, target_dtype)"
      ]
    },
    {
      "cell_type": "markdown",
      "metadata": {
        "id": "PGp3OqRIY0Va"
      },
      "source": [
        "### ⚠️ **Data Warning**\n",
        "For the questions forward, use `batsman_runs_series.csv` in [Resources](../Resources/) folder."
      ]
    },
    {
      "cell_type": "markdown",
      "metadata": {},
      "source": [
        "#### **Reading Data into Series**"
      ]
    },
    {
      "cell_type": "code",
      "execution_count": 9,
      "metadata": {},
      "outputs": [
        {
          "data": {
            "text/plain": [
              "batter\n",
              "A Ashish Reddy     280\n",
              "A Badoni           161\n",
              "A Chandila           4\n",
              "A Chopra            53\n",
              "A Choudhary         25\n",
              "                  ... \n",
              "Yash Dayal           0\n",
              "Yashpal Singh       47\n",
              "Younis Khan          3\n",
              "Yuvraj Singh      2754\n",
              "Z Khan             117\n",
              "Name: batsman_run, Length: 605, dtype: int64"
            ]
          },
          "execution_count": 9,
          "metadata": {},
          "output_type": "execute_result"
        }
      ],
      "source": [
        "runs = pd.read_csv('../Resources/Data/batsman_runs_series.csv', index_col='batter').squeeze()\n",
        "runs"
      ]
    },
    {
      "cell_type": "markdown",
      "metadata": {
        "id": "TxFkp-L4Y23d"
      },
      "source": [
        "### 🎯 **Q5: Find the Top 10 Highest Run Scorers**  \n",
        "\n",
        "1. **Problem Statement**:  \n",
        "   - You are given a dataset (`batsman_runs_series.csv`) containing **runs scored by different batsmen**.  \n",
        "   - Your task is to **find the top 10 batsmen** who have scored the most runs.  \n",
        "\n",
        "2. **Steps to Follow**:  \n",
        "   - Load the dataset into a **Pandas Series**.  \n",
        "   - Aggregate the total runs scored by each batsman.  \n",
        "   - Sort the batsmen based on their total runs in **descending order**.  \n",
        "   - Retrieve the **top 10 highest run scorers**.  \n",
        "\n",
        "3. **Expected Output Format**:  \n",
        "   ```\n",
        "   Batsman Name    Total Runs  \n",
        "   1. Player_1      XXXX  \n",
        "   2. Player_2      XXXX  \n",
        "   3. Player_3      XXXX  \n",
        "   ...\n",
        "   10. Player_10    XXXX  \n",
        "   ```\n",
        "\n",
        "4. **Additional Notes**:  \n",
        "   - Ensure that the **column names and data structure** are correctly handled.  \n",
        "   - If there are ties in runs, keep all players with the same score in the ranking.  \n",
        "   - Consider cases where player names might be duplicated and need aggregation.  "
      ]
    },
    {
      "cell_type": "code",
      "execution_count": 14,
      "metadata": {
        "id": "muBgocA6Y2Bg"
      },
      "outputs": [
        {
          "name": "stdout",
          "output_type": "stream",
          "text": [
            "Here are the top 10 batters...\n"
          ]
        },
        {
          "data": {
            "text/plain": [
              "batter\n",
              "V Kohli           6634\n",
              "S Dhawan          6244\n",
              "DA Warner         5883\n",
              "RG Sharma         5881\n",
              "SK Raina          5536\n",
              "AB de Villiers    5181\n",
              "CH Gayle          4997\n",
              "MS Dhoni          4978\n",
              "RV Uthappa        4954\n",
              "KD Karthik        4377\n",
              "Name: batsman_run, dtype: int64"
            ]
          },
          "execution_count": 14,
          "metadata": {},
          "output_type": "execute_result"
        }
      ],
      "source": [
        "# Solution - Question 05\n",
        "\n",
        "sorted_runs = runs.sort_values(inplace=False, ascending=False)\n",
        "print('Here are the top 10 batters...')\n",
        "sorted_runs.head(10)"
      ]
    },
    {
      "cell_type": "markdown",
      "metadata": {
        "id": "GzlCFBM_Y83g"
      },
      "source": [
        "### 🎯 **Q6: Count the Number of Players with Runs Above 3000**  \n",
        "\n",
        "1. **Problem Statement**:  \n",
        "   - You are given a dataset (`batsman_runs_series.csv`) containing **runs scored by different batsmen**.  \n",
        "   - Your task is to determine **how many players have scored more than 3000 runs in total**.  \n",
        "\n",
        "2. **Steps to Follow**:  \n",
        "   - Load the dataset into a **Pandas Series**.  \n",
        "   - Aggregate the total runs scored by each batsman.  \n",
        "   - Filter out players whose total runs **exceed 3000**.  \n",
        "   - Count the number of such players.  \n",
        "\n",
        "3. **Expected Output Format**:  \n",
        "   ```\n",
        "   Number of players with runs above 3000: XX\n",
        "   ```\n",
        "\n",
        "4. **Additional Notes**:  \n",
        "   - Ensure that player names are properly handled to **avoid duplication**.  \n",
        "   - If no player has more than 3000 runs, return **zero**.  \n",
        "   - Consider **edge cases** like a player having exactly 3000 runs."
      ]
    },
    {
      "cell_type": "code",
      "execution_count": 26,
      "metadata": {
        "id": "JdNchHRWY1B-"
      },
      "outputs": [
        {
          "name": "stdout",
          "output_type": "stream",
          "text": [
            "Number of players with runs above 3000 : 20\n"
          ]
        }
      ],
      "source": [
        "# Solution - Question 06\n",
        "\n",
        "number = (runs > 3000).sum()\n",
        "print('Number of players with runs above 3000 :', number)"
      ]
    },
    {
      "cell_type": "markdown",
      "metadata": {
        "id": "pMBEoCL1Y-vh"
      },
      "source": [
        "### 🎯 **Q7: Count the Number of Players with Runs Above the Mean Value**  \n",
        "\n",
        "1. **Problem Statement**:  \n",
        "   - You are given a dataset (`batsman_runs_series.csv`) containing **runs scored by different batsmen**.  \n",
        "   - Your task is to determine **how many players have scored more runs than the average (mean) total runs of all players**.  \n",
        "\n",
        "2. **Steps to Follow**:  \n",
        "   - Load the dataset into a **Pandas Series**.  \n",
        "   - Compute the **mean** of total runs scored by all players.  \n",
        "   - Filter out players whose total runs **exceed this mean value**.  \n",
        "   - Count the number of such players.  \n",
        "\n",
        "3. **Expected Output Format**:  \n",
        "   ```\n",
        "   Number of players with runs above mean: XX\n",
        "   ```\n",
        "\n",
        "4. **Additional Notes**:  \n",
        "   - Ensure that player names are correctly grouped to **avoid duplication**.  \n",
        "   - If no player has runs above the mean, return **zero**.  \n",
        "   - Consider **edge cases**, such as all players having the same runs or very few players above the mean."
      ]
    },
    {
      "cell_type": "code",
      "execution_count": 28,
      "metadata": {
        "id": "LgtViVFZZBIu"
      },
      "outputs": [
        {
          "name": "stdout",
          "output_type": "stream",
          "text": [
            "Number of players with runs above mean : 128\n"
          ]
        }
      ],
      "source": [
        "# Solution - Question 07\n",
        "\n",
        "number = (runs > runs.mean()).sum()\n",
        "print('Number of players with runs above mean :', number)"
      ]
    },
    {
      "cell_type": "markdown",
      "metadata": {
        "id": "OAB1CgdgZEqE"
      },
      "source": [
        "### ⚠️ **Data Warning**\n",
        "For the questions forward, use `items.csv` in [Resources](../Resources/) folder."
      ]
    },
    {
      "cell_type": "markdown",
      "metadata": {},
      "source": [
        "#### **Reading Data into Series**"
      ]
    },
    {
      "cell_type": "code",
      "execution_count": 63,
      "metadata": {},
      "outputs": [
        {
          "data": {
            "text/plain": [
              "item_name\n",
              "Chips and Fresh Tomato Salsa              $2.39 \n",
              "Izze                                      $3.39 \n",
              "Nantucket Nectar                          $3.39 \n",
              "Chips and Tomatillo-Green Chili Salsa     $2.39 \n",
              "Chicken Bowl                             $16.98 \n",
              "                                          ...   \n",
              "Steak Burrito                            $11.75 \n",
              "Steak Burrito                            $11.75 \n",
              "Chicken Salad Bowl                       $11.25 \n",
              "Chicken Salad Bowl                        $8.75 \n",
              "Chicken Salad Bowl                        $8.75 \n",
              "Name: item_price, Length: 4622, dtype: object"
            ]
          },
          "execution_count": 63,
          "metadata": {},
          "output_type": "execute_result"
        }
      ],
      "source": [
        "items = pd.read_csv('../Resources/Data/items.csv', index_col='item_name').squeeze()\n",
        "items"
      ]
    },
    {
      "cell_type": "markdown",
      "metadata": {
        "id": "1UTQQImxZGLu"
      },
      "source": [
        "### 🎯 **Q8: Process and Clean the `items.csv` Dataset**  \n",
        "\n",
        "#### **Problem Statement:**  \n",
        "You are given a dataset (`items.csv`) containing **items and their prices in dollars ($)**. Your task is to:  \n",
        "\n",
        "1. **Load the Dataset**  \n",
        "   - Read `items.csv` into a Pandas DataFrame.  \n",
        "   - Set `item_name` as the index.  \n",
        "\n",
        "2. **Handle Missing Values**  \n",
        "   - Find the total **number of NaN (missing)** values in the dataset.  \n",
        "\n",
        "3. **Convert Prices to Rupees**  \n",
        "   - The `item_price` column contains prices **in dollars with a `$` symbol**.  \n",
        "   - Convert the prices to **Indian Rupees (₹)** without the `$` symbol.  \n",
        "   - Assume a **conversion rate** of **1 USD = 83 INR**.  \n",
        "\n",
        "4. **Ensure Correct Data Type**  \n",
        "   - Convert the `item_price` column **to a float type** after removing the currency symbol.  \n",
        "\n",
        "5. **Fill Missing Values**  \n",
        "   - Replace any **NaN values** in `item_price` with the **mean of the column**.  \n",
        "\n",
        "#### **Expected Output Example:**  \n",
        "```\n",
        "No. of NaN values in the dataset: X\n",
        "Converted Prices from $ to ₹\n",
        "Missing values filled with mean\n",
        "Final Series:\n",
        "-----------------------------------\n",
        "item_name                          item_price (₹)\n",
        "-------------------------------------------------\n",
        "Chips and Fresh Tomato Salsa       198.37\n",
        "Izze                               281.37\n",
        "Nantucket Nectar                   281.37\n",
        "Chips and Tomatillo-Green Salsa    198.37\n",
        "Chicken Bowl                      1409.34\n",
        "-------------------------------------------------\n",
        "```\n",
        "\n",
        "#### **Additional Notes:**  \n",
        "- Ensure **no `$` signs remain** after conversion.  \n",
        "- Print **the total number of missing values before and after filling**.  \n",
        "- Handle edge cases, such as **all values being NaN or already being in INR**."
      ]
    },
    {
      "cell_type": "code",
      "execution_count": 64,
      "metadata": {
        "id": "1xaWkoMJZFNK"
      },
      "outputs": [
        {
          "name": "stdout",
          "output_type": "stream",
          "text": [
            "No. of NaN values in the dataset : 50\n",
            "Converted prices from Dollar to Rupee\n",
            "Missing values filled with Mean\n",
            "Final Series\n"
          ]
        },
        {
          "data": {
            "text/plain": [
              "item_name\n",
              "Chips and Fresh Tomato Salsa              198.37\n",
              "Izze                                      281.37\n",
              "Nantucket Nectar                          281.37\n",
              "Chips and Tomatillo-Green Chili Salsa     198.37\n",
              "Chicken Bowl                             1409.34\n",
              "                                          ...   \n",
              "Steak Burrito                             975.25\n",
              "Steak Burrito                             975.25\n",
              "Chicken Salad Bowl                        933.75\n",
              "Chicken Salad Bowl                        726.25\n",
              "Chicken Salad Bowl                        726.25\n",
              "Name: item_price, Length: 4622, dtype: float64"
            ]
          },
          "execution_count": 64,
          "metadata": {},
          "output_type": "execute_result"
        }
      ],
      "source": [
        "# Solution - Question 08\n",
        "\n",
        "null_count = items.isnull().sum()\n",
        "print('No. of NaN values in the dataset :', null_count)\n",
        "\n",
        "def usd_to_inr(x):\n",
        "    if type(x) != float:\n",
        "        return float(str(x)[1:]) * 83\n",
        "items = items.apply(usd_to_inr)\n",
        "print('Converted prices from Dollar to Rupee')\n",
        "\n",
        "items.fillna(items.mean(), inplace=True)\n",
        "print('Missing values filled with Mean')\n",
        "\n",
        "print('Final Series')\n",
        "items"
      ]
    },
    {
      "cell_type": "markdown",
      "metadata": {
        "id": "UHc_4e9cZK8r"
      },
      "source": [
        "### 🎯 **Q9: Statistical Analysis & Visualization of `items.csv`**  \n",
        "\n",
        "#### **Problem Statement:**  \n",
        "You are given a dataset (`items.csv`) containing **items and their prices**. Perform the following tasks on the `item_price` column:  \n",
        "\n",
        "1. **Find Mean Price**  \n",
        "   - Compute the **average price** of all items.  \n",
        "\n",
        "2. **Find Percentiles**  \n",
        "   - Calculate the **30th percentile** value.  \n",
        "   - Calculate the **6th percentile** value.  \n",
        "\n",
        "3. **Visualize Price Distribution**  \n",
        "   - Plot a **histogram** for `item_price` using a **bin size of 50**.  \n",
        "\n",
        "4. **Filter Price Range**  \n",
        "   - Count how many **items have prices between ₹1000 and ₹2000**.  \n",
        "\n",
        "#### **Expected Output Example:**  \n",
        "```\n",
        "Mean Price: XXXX.XX\n",
        "30th Percentile Value: XXXX.XX\n",
        "6th Percentile Value: XXXX.XX\n",
        "Histogram plotted successfully.\n",
        "Number of items with price in range [1000, 2000]: XX\n",
        "```\n",
        "\n",
        "#### **Additional Notes:**  \n",
        "- Ensure `item_price` is in **float format** (₹, without the `$` symbol).  \n",
        "- **Choose an appropriate histogram range** for meaningful distribution visualization.  \n",
        "- Handle **missing or invalid values** gracefully before performing calculations."
      ]
    },
    {
      "cell_type": "code",
      "execution_count": 65,
      "metadata": {
        "id": "Eh3xX9FpZNmE"
      },
      "outputs": [
        {
          "name": "stdout",
          "output_type": "stream",
          "text": [
            "Mean Price : 619.4316141732284\n",
            "30th Percentile Value : 369.35\n",
            "6th Percentile Value : 103.75\n",
            "Histogram Plotted Successfully.\n",
            "Number of items with price in range [1000, 2000] : 116\n"
          ]
        },
        {
          "data": {
            "image/png": "[encoded data removed]",
            "text/plain": [
              "<Figure size 640x480 with 1 Axes>"
            ]
          },
          "metadata": {},
          "output_type": "display_data"
        }
      ],
      "source": [
        "# Solution - Question 09\n",
        "\n",
        "mean_price = items.mean()\n",
        "print('Mean Price :', mean_price)\n",
        "\n",
        "percentile_30 = items.quantile(0.3)\n",
        "print('30th Percentile Value :', percentile_30)\n",
        "\n",
        "percentile_6 = items.quantile(0.06)\n",
        "print('6th Percentile Value :', percentile_6)\n",
        "\n",
        "items.plot(kind='hist')\n",
        "print('Histogram Plotted Successfully.')\n",
        "\n",
        "number_of_items = items.between(1000, 2000).sum()\n",
        "print('Number of items with price in range [1000, 2000] :', number_of_items)"
      ]
    }
  ],
  "metadata": {
    "colab": {
      "provenance": []
    },
    "kernelspec": {
      "display_name": "Python 3",
      "name": "python3"
    },
    "language_info": {
      "codemirror_mode": {
        "name": "ipython",
        "version": 3
      },
      "file_extension": ".py",
      "mimetype": "text/x-python",
      "name": "python",
      "nbconvert_exporter": "python",
      "pygments_lexer": "ipython3",
      "version": "3.12.5"
    }
  },
  "nbformat": 4,
  "nbformat_minor": 0
}
