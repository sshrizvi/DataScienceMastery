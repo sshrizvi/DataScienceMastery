{
 "cells": [
  {
   "cell_type": "markdown",
   "id": "2af3aeb4",
   "metadata": {},
   "source": [
    "# **Indian Startup Funding** [![Static Badge](https://img.shields.io/badge/Open%20in%20Colab%20-%20orange?style=plastic&logo=googlecolab&labelColor=grey)](https://colab.research.google.com/github/sshrizvi/DS-Python/blob/main/Pandas/CaseStudies/IndianStartupFunding/Notebooks/data_preprocessing.ipynb)\n",
    "\n"
   ]
  },
  {
   "cell_type": "markdown",
   "id": "f9411d6f",
   "metadata": {},
   "source": [
    "### 📦 **Importing Relevant Libraries**"
   ]
  },
  {
   "cell_type": "code",
   "execution_count": 1,
   "id": "4b0ecee9",
   "metadata": {},
   "outputs": [
    {
     "ename": "ModuleNotFoundError",
     "evalue": "No module named 'rapidfuzz'",
     "output_type": "error",
     "traceback": [
      "\u001b[1;31m---------------------------------------------------------------------------\u001b[0m",
      "\u001b[1;31mModuleNotFoundError\u001b[0m                       Traceback (most recent call last)",
      "Cell \u001b[1;32mIn[1], line 3\u001b[0m\n\u001b[0;32m      1\u001b[0m \u001b[38;5;28;01mimport\u001b[39;00m\u001b[38;5;250m \u001b[39m\u001b[38;5;21;01mpandas\u001b[39;00m\u001b[38;5;250m \u001b[39m\u001b[38;5;28;01mas\u001b[39;00m\u001b[38;5;250m \u001b[39m\u001b[38;5;21;01mpd\u001b[39;00m\n\u001b[0;32m      2\u001b[0m \u001b[38;5;28;01mimport\u001b[39;00m\u001b[38;5;250m \u001b[39m\u001b[38;5;21;01mre\u001b[39;00m\n\u001b[1;32m----> 3\u001b[0m \u001b[38;5;28;01mfrom\u001b[39;00m\u001b[38;5;250m \u001b[39m\u001b[38;5;21;01mrapidfuzz\u001b[39;00m\u001b[38;5;250m \u001b[39m\u001b[38;5;28;01mimport\u001b[39;00m fuzz, process\n",
      "\u001b[1;31mModuleNotFoundError\u001b[0m: No module named 'rapidfuzz'"
     ]
    }
   ],
   "source": [
    "import pandas as pd\n",
    "import re\n",
    "from rapidfuzz import fuzz, process"
   ]
  },
  {
   "cell_type": "markdown",
   "id": "ac968547",
   "metadata": {},
   "source": [
    "### ⚠️ **Data Warning**\n",
    "The data is in the [Data](../Data/indian_startup_funding.csv) folder."
   ]
  },
  {
   "cell_type": "markdown",
   "id": "05c4b35b",
   "metadata": {},
   "source": [
    "#### **Reading Data into DataFrames**"
   ]
  },
  {
   "cell_type": "code",
   "execution_count": 61,
   "id": "9c79427a",
   "metadata": {},
   "outputs": [],
   "source": [
    "funding_df = pd.read_csv(\n",
    "    filepath_or_buffer = '../Data/indian_startup_funding.csv'\n",
    ")"
   ]
  },
  {
   "cell_type": "markdown",
   "id": "349657a4",
   "metadata": {},
   "source": [
    "### ⚠️ **Constant Warning**\n",
    "Update the constants according to current conditions."
   ]
  },
  {
   "cell_type": "code",
   "execution_count": 62,
   "id": "faa0a676",
   "metadata": {},
   "outputs": [],
   "source": [
    "DOLLAR_RATE = 86.06"
   ]
  },
  {
   "cell_type": "markdown",
   "id": "e6eb7e2f",
   "metadata": {},
   "source": [
    "### **⚙️ Data Preprocessing**"
   ]
  },
  {
   "cell_type": "code",
   "execution_count": 63,
   "id": "b15ebb6f",
   "metadata": {},
   "outputs": [
    {
     "data": {
      "application/vnd.microsoft.datawrangler.viewer.v0+json": {
       "columns": [
        {
         "name": "index",
         "rawType": "int64",
         "type": "integer"
        },
        {
         "name": "Date",
         "rawType": "object",
         "type": "string"
        },
        {
         "name": "Startup Name",
         "rawType": "object",
         "type": "string"
        },
        {
         "name": "Industry",
         "rawType": "object",
         "type": "string"
        },
        {
         "name": "Sub-vertical",
         "rawType": "object",
         "type": "string"
        },
        {
         "name": "Location",
         "rawType": "object",
         "type": "string"
        },
        {
         "name": "Investors",
         "rawType": "object",
         "type": "string"
        },
        {
         "name": "Investment Type",
         "rawType": "object",
         "type": "string"
        },
        {
         "name": "Amount in USD",
         "rawType": "float64",
         "type": "float"
        },
        {
         "name": "Website URL",
         "rawType": "object",
         "type": "string"
        }
       ],
       "conversionMethod": "pd.DataFrame",
       "ref": "bfc2e2dd-5f62-4668-8761-0ddc6af77965",
       "rows": [
        [
         "0",
         "2021-04-14",
         "Swiggy",
         "Online Food Delivery",
         "Online Food Delivery",
         "Bengaluru",
         "Amansa Holdings, Carmignac, Falcon Edge Capital, Goldman Sachs, Think Investments",
         "Series J",
         "343000000.0",
         "https://www.swiggy.com/"
        ],
        [
         "1",
         "2021-04-14",
         "Beldara",
         "E-commerce",
         "Global B2B marketplace",
         "Mumbai",
         "Hindustan Media Ventures",
         "Venture",
         "7400000.0",
         "https://beldara.com/"
        ],
        [
         "2",
         "2021-04-07",
         "Groww",
         "FinTech",
         "Investment platform",
         "Bengaluru",
         "MC Global Edtech, B Capital, Baron, others",
         "Series D",
         "83000000.0",
         "https://groww.in/"
        ],
        [
         "3",
         "2021-04-05",
         "Meesho",
         "E-commerce",
         "Online reselling platform",
         "Bengaluru",
         "SoftBank Vision Fund 2",
         "Series E",
         "300000000.0",
         "http://www.meesho.com/"
        ],
        [
         "4",
         "2021-04-01",
         "BYJU’S",
         "Edu-tech",
         "Online tutoring",
         "Bengaluru",
         "Innoven Capital",
         "Series F",
         "460000000.0",
         "http://www.byjus.com/"
        ]
       ],
       "shape": {
        "columns": 9,
        "rows": 5
       }
      },
      "text/html": [
       "<div>\n",
       "<style scoped>\n",
       "    .dataframe tbody tr th:only-of-type {\n",
       "        vertical-align: middle;\n",
       "    }\n",
       "\n",
       "    .dataframe tbody tr th {\n",
       "        vertical-align: top;\n",
       "    }\n",
       "\n",
       "    .dataframe thead th {\n",
       "        text-align: right;\n",
       "    }\n",
       "</style>\n",
       "<table border=\"1\" class=\"dataframe\">\n",
       "  <thead>\n",
       "    <tr style=\"text-align: right;\">\n",
       "      <th></th>\n",
       "      <th>Date</th>\n",
       "      <th>Startup Name</th>\n",
       "      <th>Industry</th>\n",
       "      <th>Sub-vertical</th>\n",
       "      <th>Location</th>\n",
       "      <th>Investors</th>\n",
       "      <th>Investment Type</th>\n",
       "      <th>Amount in USD</th>\n",
       "      <th>Website URL</th>\n",
       "    </tr>\n",
       "  </thead>\n",
       "  <tbody>\n",
       "    <tr>\n",
       "      <th>0</th>\n",
       "      <td>2021-04-14</td>\n",
       "      <td>Swiggy</td>\n",
       "      <td>Online Food Delivery</td>\n",
       "      <td>Online Food Delivery</td>\n",
       "      <td>Bengaluru</td>\n",
       "      <td>Amansa Holdings, Carmignac, Falcon Edge Capita...</td>\n",
       "      <td>Series J</td>\n",
       "      <td>343000000.0</td>\n",
       "      <td>https://www.swiggy.com/</td>\n",
       "    </tr>\n",
       "    <tr>\n",
       "      <th>1</th>\n",
       "      <td>2021-04-14</td>\n",
       "      <td>Beldara</td>\n",
       "      <td>E-commerce</td>\n",
       "      <td>Global B2B marketplace</td>\n",
       "      <td>Mumbai</td>\n",
       "      <td>Hindustan Media Ventures</td>\n",
       "      <td>Venture</td>\n",
       "      <td>7400000.0</td>\n",
       "      <td>https://beldara.com/</td>\n",
       "    </tr>\n",
       "    <tr>\n",
       "      <th>2</th>\n",
       "      <td>2021-04-07</td>\n",
       "      <td>Groww</td>\n",
       "      <td>FinTech</td>\n",
       "      <td>Investment platform</td>\n",
       "      <td>Bengaluru</td>\n",
       "      <td>MC Global Edtech, B Capital, Baron, others</td>\n",
       "      <td>Series D</td>\n",
       "      <td>83000000.0</td>\n",
       "      <td>https://groww.in/</td>\n",
       "    </tr>\n",
       "    <tr>\n",
       "      <th>3</th>\n",
       "      <td>2021-04-05</td>\n",
       "      <td>Meesho</td>\n",
       "      <td>E-commerce</td>\n",
       "      <td>Online reselling platform</td>\n",
       "      <td>Bengaluru</td>\n",
       "      <td>SoftBank Vision Fund 2</td>\n",
       "      <td>Series E</td>\n",
       "      <td>300000000.0</td>\n",
       "      <td>http://www.meesho.com/</td>\n",
       "    </tr>\n",
       "    <tr>\n",
       "      <th>4</th>\n",
       "      <td>2021-04-01</td>\n",
       "      <td>BYJU’S</td>\n",
       "      <td>Edu-tech</td>\n",
       "      <td>Online tutoring</td>\n",
       "      <td>Bengaluru</td>\n",
       "      <td>Innoven Capital</td>\n",
       "      <td>Series F</td>\n",
       "      <td>460000000.0</td>\n",
       "      <td>http://www.byjus.com/</td>\n",
       "    </tr>\n",
       "  </tbody>\n",
       "</table>\n",
       "</div>"
      ],
      "text/plain": [
       "         Date Startup Name              Industry               Sub-vertical  \\\n",
       "0  2021-04-14       Swiggy  Online Food Delivery       Online Food Delivery   \n",
       "1  2021-04-14      Beldara            E-commerce     Global B2B marketplace   \n",
       "2  2021-04-07        Groww               FinTech        Investment platform   \n",
       "3  2021-04-05       Meesho            E-commerce  Online reselling platform   \n",
       "4  2021-04-01       BYJU’S              Edu-tech            Online tutoring   \n",
       "\n",
       "    Location                                          Investors  \\\n",
       "0  Bengaluru  Amansa Holdings, Carmignac, Falcon Edge Capita...   \n",
       "1     Mumbai                           Hindustan Media Ventures   \n",
       "2  Bengaluru         MC Global Edtech, B Capital, Baron, others   \n",
       "3  Bengaluru                             SoftBank Vision Fund 2   \n",
       "4  Bengaluru                                    Innoven Capital   \n",
       "\n",
       "  Investment Type  Amount in USD              Website URL  \n",
       "0        Series J    343000000.0  https://www.swiggy.com/  \n",
       "1         Venture      7400000.0     https://beldara.com/  \n",
       "2        Series D     83000000.0        https://groww.in/  \n",
       "3        Series E    300000000.0   http://www.meesho.com/  \n",
       "4        Series F    460000000.0    http://www.byjus.com/  "
      ]
     },
     "execution_count": 63,
     "metadata": {},
     "output_type": "execute_result"
    }
   ],
   "source": [
    "funding_df.head()"
   ]
  },
  {
   "cell_type": "code",
   "execution_count": 64,
   "id": "d6799ff9",
   "metadata": {},
   "outputs": [
    {
     "name": "stdout",
     "output_type": "stream",
     "text": [
      "<class 'pandas.core.frame.DataFrame'>\n",
      "RangeIndex: 3212 entries, 0 to 3211\n",
      "Data columns (total 9 columns):\n",
      " #   Column           Non-Null Count  Dtype  \n",
      "---  ------           --------------  -----  \n",
      " 0   Date             3210 non-null   object \n",
      " 1   Startup Name     3212 non-null   object \n",
      " 2   Industry         2276 non-null   object \n",
      " 3   Sub-vertical     3041 non-null   object \n",
      " 4   Location         3032 non-null   object \n",
      " 5   Investors        3177 non-null   object \n",
      " 6   Investment Type  3205 non-null   object \n",
      " 7   Amount in USD    2222 non-null   float64\n",
      " 8   Website URL      2670 non-null   object \n",
      "dtypes: float64(1), object(8)\n",
      "memory usage: 226.0+ KB\n"
     ]
    }
   ],
   "source": [
    "funding_df.info()"
   ]
  },
  {
   "cell_type": "markdown",
   "id": "f671a286",
   "metadata": {},
   "source": [
    "#### **Preprocessing Tasks**\n",
    "\n",
    "1. Rename columns to something convenient.  \n",
    "   \n",
    "    ```bash\n",
    "        'Startup Name' -> 'Startup',\n",
    "        'Sub-vertical' -> 'SubVertical',\n",
    "        'Investment Type' -> 'Round',\n",
    "        'Amount in USD' -> 'AmountInCrores',\n",
    "        'Website URL' -> 'URL'\n",
    "    ```\n",
    "\n",
    "2. Convert datatype of column *Date* from `object` to `datetime`.  \n",
    "\n",
    "    **Reason :** `datetime` gives us more flexibilty while performing analysis on the basis of months and years.\n",
    "\n",
    "3. Convert Amount from *USD* to *INR* and then in *Crores*.\n",
    "4. Process *Startup* column to remove ambiguity in startup names.\n",
    "5. Process *Investors* column so that you can extract all individual investors.\n",
    "6. Prepare a new column *Year* for better analysis."
   ]
  },
  {
   "cell_type": "markdown",
   "id": "5df9d5a7",
   "metadata": {},
   "source": [
    "##### **1. Renaming Columns**"
   ]
  },
  {
   "cell_type": "code",
   "execution_count": 65,
   "id": "cb659f43",
   "metadata": {},
   "outputs": [],
   "source": [
    "funding_df.rename(\n",
    "    columns = {\n",
    "        'Startup Name' : 'Startup',\n",
    "        'Sub-vertical' : 'SubVertical',\n",
    "        'Investment Type' : 'Round',\n",
    "        'Amount in USD' : 'AmountInCrores',\n",
    "        'Website URL' : 'URL'\n",
    "    },\n",
    "    inplace = True\n",
    ")"
   ]
  },
  {
   "cell_type": "markdown",
   "id": "4cdcce84",
   "metadata": {},
   "source": [
    "##### **2. Converting Data Type of Column *Date***"
   ]
  },
  {
   "cell_type": "code",
   "execution_count": 66,
   "id": "76e15d99",
   "metadata": {},
   "outputs": [],
   "source": [
    "funding_df.Date = pd.to_datetime(\n",
    "    arg = funding_df.Date\n",
    ")"
   ]
  },
  {
   "cell_type": "markdown",
   "id": "cb2f4d2e",
   "metadata": {},
   "source": [
    "##### **3. Converting *Amount* from USD to INR (Crores)**"
   ]
  },
  {
   "cell_type": "code",
   "execution_count": 67,
   "id": "6406cdb0",
   "metadata": {},
   "outputs": [],
   "source": [
    "funding_df.AmountInCrores = (funding_df.AmountInCrores * DOLLAR_RATE) / 10000000"
   ]
  },
  {
   "cell_type": "markdown",
   "id": "ebba2278",
   "metadata": {},
   "source": [
    "##### **4. Processing *Startup* Column**"
   ]
  },
  {
   "cell_type": "code",
   "execution_count": 68,
   "id": "95d016dd",
   "metadata": {},
   "outputs": [],
   "source": [
    "def clean_startup_name(name):\n",
    "    \"\"\"\n",
    "    For a given name, it cleans and normalize it.\n",
    "    \"\"\"\n",
    "\n",
    "    name = str(name).strip().lower()\n",
    "    name = re.sub(r'[^\\w\\s]', '', name)\n",
    "    name = re.sub(r'\\s+', ' ', name)\n",
    "\n",
    "    for suffix in ['inc', 'llc', 'ltd', 'co', 'corp']:\n",
    "        name = re.sub(r'\\b' + suffix + r'\\b', '', name)\n",
    "\n",
    "    return name.strip()"
   ]
  },
  {
   "cell_type": "code",
   "execution_count": 69,
   "id": "00121660",
   "metadata": {},
   "outputs": [],
   "source": [
    "def get_best_match(name, unique_names, threshold=90):\n",
    "    \"\"\"\n",
    "    For a given name, find the best match from the list of unique names.\n",
    "    If the similarity score exceeds the threshold, return the matching name;\n",
    "    otherwise, return the original name.\n",
    "    \"\"\"\n",
    "\n",
    "    match = process.extractOne(name, unique_names, scorer=fuzz.token_sort_ratio)\n",
    "    \n",
    "    if match and match[1] >= threshold:\n",
    "        return match[0]\n",
    "    else:\n",
    "        return name"
   ]
  },
  {
   "cell_type": "code",
   "execution_count": 70,
   "id": "76e0f0f3",
   "metadata": {},
   "outputs": [],
   "source": [
    "funding_df['CleanedStartup'] = funding_df['Startup'].apply(clean_startup_name)\n",
    "unique_clean_names = list(funding_df['CleanedStartup'].unique())\n",
    "\n",
    "funding_df['StandardizedStartup'] = funding_df['CleanedStartup'].apply(\n",
    "    lambda x: get_best_match(x, unique_clean_names)\n",
    ")"
   ]
  },
  {
   "cell_type": "markdown",
   "id": "62044b08",
   "metadata": {},
   "source": [
    "##### **5. Process *Investors* Column**"
   ]
  },
  {
   "cell_type": "code",
   "execution_count": 71,
   "id": "75b12c4a",
   "metadata": {},
   "outputs": [],
   "source": [
    "def clean_investor_name(name):\n",
    "    '''\n",
    "    It cleans and normalize Investor Names\n",
    "    '''\n",
    "    \n",
    "    name = str(name).strip().lower()\n",
    "    name = re.sub(r'[^\\w\\s]', '', name)\n",
    "    name = re.sub(r'\\s+', ' ', name)\n",
    "\n",
    "    return name.strip()"
   ]
  },
  {
   "cell_type": "code",
   "execution_count": 72,
   "id": "b896f1d7",
   "metadata": {},
   "outputs": [],
   "source": [
    "funding_df['Investors'] = funding_df['Investors'].fillna('')\n",
    "\n",
    "funding_df['InvestorsCleaned'] = funding_df['Investors'].apply(\n",
    "    func = lambda x: [clean_investor_name(inv) for inv in x.split(',')] if x else []\n",
    ")"
   ]
  },
  {
   "cell_type": "markdown",
   "id": "dfa36081",
   "metadata": {},
   "source": [
    "##### **6. Adding *Year* Column to File**"
   ]
  },
  {
   "cell_type": "code",
   "execution_count": 73,
   "id": "f2eb25d8",
   "metadata": {},
   "outputs": [],
   "source": [
    "funding_df['Year'] = funding_df.Date.dt.year"
   ]
  },
  {
   "cell_type": "markdown",
   "id": "7b40fdaf",
   "metadata": {},
   "source": [
    "### **📄 Exporting Processed Data**"
   ]
  },
  {
   "cell_type": "code",
   "execution_count": 74,
   "id": "16570119",
   "metadata": {},
   "outputs": [],
   "source": [
    "funding_df.to_csv(\n",
    "    path_or_buf = '../Data/processed_indian_startup_funding.csv',\n",
    "    index = False\n",
    ")"
   ]
  },
  {
   "cell_type": "markdown",
   "id": "edba45c1",
   "metadata": {},
   "source": [
    "### **📄 Exporting Investors List**"
   ]
  },
  {
   "cell_type": "code",
   "execution_count": 75,
   "id": "81e7bbf1",
   "metadata": {},
   "outputs": [],
   "source": [
    "pd.Series(\n",
    "    data = sorted(set(funding_df.InvestorsCleaned.sum()))\n",
    ").to_csv(\n",
    "    path_or_buf = '../Data/investors.csv',\n",
    "    index = False\n",
    ")"
   ]
  },
  {
   "cell_type": "markdown",
   "id": "87471fe7",
   "metadata": {},
   "source": []
  },
  {
   "cell_type": "code",
   "execution_count": 76,
   "id": "42fec109",
   "metadata": {},
   "outputs": [],
   "source": [
    "inv_mask = funding_df.Investors.str.lower().str.contains('softbank', na=False)\n",
    "filtered_df = funding_df[inv_mask]"
   ]
  }
 ],
 "metadata": {
  "kernelspec": {
   "display_name": "learningenv",
   "language": "python",
   "name": "python3"
  },
  "language_info": {
   "codemirror_mode": {
    "name": "ipython",
    "version": 3
   },
   "file_extension": ".py",
   "mimetype": "text/x-python",
   "name": "python",
   "nbconvert_exporter": "python",
   "pygments_lexer": "ipython3",
   "version": "3.10.13"
  }
 },
 "nbformat": 4,
 "nbformat_minor": 5
}
